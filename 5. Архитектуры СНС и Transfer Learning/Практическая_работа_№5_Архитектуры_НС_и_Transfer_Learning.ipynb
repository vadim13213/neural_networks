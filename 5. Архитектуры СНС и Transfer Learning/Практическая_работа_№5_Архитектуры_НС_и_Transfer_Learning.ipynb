{
  "nbformat": 4,
  "nbformat_minor": 0,
  "metadata": {
    "colab": {
      "provenance": [],
      "collapsed_sections": [
        "5BrXVv2VxhmO"
      ],
      "gpuType": "T4",
      "include_colab_link": true
    },
    "kernelspec": {
      "name": "python3",
      "display_name": "Python 3"
    },
    "language_info": {
      "name": "python"
    },
    "accelerator": "GPU"
  },
  "cells": [
    {
      "cell_type": "markdown",
      "metadata": {
        "id": "view-in-github",
        "colab_type": "text"
      },
      "source": [
        "<a href=\"https://colab.research.google.com/github/vadim13213/neural_networks/blob/main/5.%20%D0%90%D1%80%D1%85%D0%B8%D1%82%D0%B5%D0%BA%D1%82%D1%83%D1%80%D1%8B%20%D0%A1%D0%9D%D0%A1%20%D0%B8%20Transfer%20Learning/%D0%9F%D1%80%D0%B0%D0%BA%D1%82%D0%B8%D1%87%D0%B5%D1%81%D0%BA%D0%B0%D1%8F_%D1%80%D0%B0%D0%B1%D0%BE%D1%82%D0%B0_%E2%84%965_%D0%90%D1%80%D1%85%D0%B8%D1%82%D0%B5%D0%BA%D1%82%D1%83%D1%80%D1%8B_%D0%9D%D0%A1_%D0%B8_Transfer_Learning.ipynb\" target=\"_parent\"><img src=\"https://colab.research.google.com/assets/colab-badge.svg\" alt=\"Open In Colab\"/></a>"
      ]
    },
    {
      "cell_type": "markdown",
      "source": [
        "# Задание 1. Использование предобученной модели"
      ],
      "metadata": {
        "id": "5BrXVv2VxhmO"
      }
    },
    {
      "cell_type": "markdown",
      "source": [
        "### 1.1. Выберите и импортируйте предобученную модель СНС для решения задач классификации из имеющихся в Keras: https://keras.io/api/applications/"
      ],
      "metadata": {
        "id": "sLqK_i6vyUYC"
      }
    },
    {
      "cell_type": "code",
      "execution_count": null,
      "metadata": {
        "id": "8DQf2nQXxapJ"
      },
      "outputs": [],
      "source": [
        "import matplotlib.pyplot as plt\n",
        "import numpy as np\n",
        "import os\n",
        "import cv2\n",
        "from google.colab.patches import cv2_imshow\n",
        "import tensorflow as tf\n",
        "from tensorflow import keras\n",
        "from tensorflow.keras import layers\n",
        "from tensorflow.python.keras.layers import Dense, Flatten\n",
        "from tensorflow.keras.models import Sequential\n",
        "from tensorflow.keras.optimizers import Adam"
      ]
    },
    {
      "cell_type": "code",
      "source": [
        "model = keras.applications.ResNet50V2(\n",
        "    include_top=True,\n",
        "    weights=\"imagenet\",\n",
        "    input_tensor=None,\n",
        "    input_shape=None,\n",
        "    pooling=None,\n",
        "    classes=1000,\n",
        "    classifier_activation=\"softmax\",\n",
        "    name=\"resnet50v2\",\n",
        ")\n",
        "\n",
        "model.summary()"
      ],
      "metadata": {
        "id": "8gHvxYjcc704"
      },
      "execution_count": null,
      "outputs": []
    },
    {
      "cell_type": "markdown",
      "source": [
        "### 1.2. Загрузите из сети Интернет 5 изображений с разными классами, из тех, что приведены в [списке](https://gist.github.com/yrevar/942d3a0ac09ec9e5eb3a), и сохраните их представление в список images"
      ],
      "metadata": {
        "id": "ApjYOesMy4eY"
      }
    },
    {
      "cell_type": "code",
      "execution_count": null,
      "metadata": {
        "id": "p1JMUwq3zZnJ"
      },
      "outputs": [],
      "source": [
        "images = []\n",
        "\n",
        "img_1 = cv2.imread('/content/agama.jpg')\n",
        "img_1 = cv2.resize(img_1, (320, 320))\n",
        "\n",
        "img_2 = cv2.imread('/content/brain coral.jpg')\n",
        "img_2 = cv2.resize(img_2, (320, 320))\n",
        "\n",
        "img_3 = cv2.imread('/content/hen.jpg')\n",
        "img_3 = cv2.resize(img_3, (320, 320))\n",
        "\n",
        "img_4 = cv2.imread('/content/toy terrier.jpg')\n",
        "img_4 = cv2.resize(img_4, (320, 320))\n",
        "\n",
        "img_5 = cv2.imread('/content/weevil.JPG')\n",
        "img_5 = cv2.resize(img_5, (320, 320))\n",
        "\n",
        "images.append(img_1)\n",
        "images.append(img_2)\n",
        "images.append(img_3)\n",
        "images.append(img_4)\n",
        "images.append(img_5)\n",
        "images = np.array(images)\n",
        "\n",
        "images.shape"
      ]
    },
    {
      "cell_type": "markdown",
      "source": [
        "### 1.3. Напишите функцию, принимающую на вход список с исходными изображениями и возвращающую список с преобразованными изображениями под формат входных данных выбранной Вами модели СНС (нормализация)."
      ],
      "metadata": {
        "id": "f1j5fAr2y4s9"
      }
    },
    {
      "cell_type": "markdown",
      "source": [
        "(Не забудьте создать независимую копию исходного списка в теле функции, для обработки именно независимой копии, а не оригинального списка)"
      ],
      "metadata": {
        "id": "BqXyvEzH1q4F"
      }
    },
    {
      "cell_type": "code",
      "execution_count": null,
      "metadata": {
        "id": "fSJPTsIazZ7Z"
      },
      "outputs": [],
      "source": [
        "def normalize(images, shape):\n",
        "  proc_images = []\n",
        "  for image in images:\n",
        "    proc_image = cv2.resize(image, (shape[0], shape[1]))\n",
        "    proc_image = proc_image.reshape(shape[0], shape[1], shape[2])\n",
        "    proc_images.append(proc_image)\n",
        "  proc_images = np.array(proc_images)\n",
        "\n",
        "  return proc_images\n",
        "\n",
        "input_images = normalize(images, (224, 224, 3))\n",
        "\n",
        "input_images = keras.applications.resnet_v2.preprocess_input(input_images)\n",
        "\n",
        "input_images.shape"
      ]
    },
    {
      "cell_type": "markdown",
      "source": [
        "### 1.5. Выведите изображения и соответствующие им классы (как в примере из теории)"
      ],
      "metadata": {
        "id": "rdwMPqNh0z6j"
      }
    },
    {
      "cell_type": "code",
      "execution_count": null,
      "metadata": {
        "id": "VG_Ded0x0z6j"
      },
      "outputs": [],
      "source": [
        "class_name = ['agama', 'brain coral', 'hen', 'toy terrier', 'weevil']\n",
        "\n",
        "plt.figure(figsize=(8, 8))\n",
        "for i in range(5):\n",
        "  image = images[i]\n",
        "  ax = plt.subplot(3, 3, i + 1)\n",
        "  plt.imshow(image[:, :, ::-1])\n",
        "  plt.title(class_name[i])\n",
        "  plt.axis(\"off\")"
      ]
    },
    {
      "cell_type": "code",
      "source": [
        "\n",
        "res = model.predict(input_images)\n",
        "for i in res:\n",
        "  print(np.argmax(i))"
      ],
      "metadata": {
        "id": "958vBix1qgnM"
      },
      "execution_count": null,
      "outputs": []
    },
    {
      "cell_type": "code",
      "source": [
        "res.shape"
      ],
      "metadata": {
        "id": "rjNFUIGYqiX6"
      },
      "execution_count": null,
      "outputs": []
    },
    {
      "cell_type": "code",
      "source": [
        "true_res = keras.applications.resnet_v2.decode_predictions(res, top=3)\n",
        "for i in range(5):\n",
        "  print(true_res[i])"
      ],
      "metadata": {
        "id": "e4pNF__fqkNC"
      },
      "execution_count": null,
      "outputs": []
    },
    {
      "cell_type": "markdown",
      "source": [
        "# Задание 2. Использование обученной модели для работы со своим датасетом"
      ],
      "metadata": {
        "id": "dvOnWAY2Gplw"
      }
    },
    {
      "cell_type": "markdown",
      "source": [
        "### 2.1. Выберите и импортируйте предобученную модель СНС для решения задач классификации из имеющихся в Keras: https://keras.io/api/applications/"
      ],
      "metadata": {
        "id": "68mMU7AaGpl4"
      }
    },
    {
      "cell_type": "code",
      "execution_count": null,
      "metadata": {
        "id": "gRn8SOiLGpl4"
      },
      "outputs": [],
      "source": [
        "basic_model = keras.applications.ResNet50V2(\n",
        "    include_top=False,\n",
        "    weights=\"imagenet\",\n",
        "    input_shape=(128, 128, 3),\n",
        "    pooling='avg',\n",
        ")\n",
        "\n",
        "basic_model.summary()"
      ]
    },
    {
      "cell_type": "markdown",
      "metadata": {
        "id": "Ir0q0GyfgmSI"
      },
      "source": [
        "### 2.2. Подготовка тренировочных данных. Разделение на обучающую и тестовую выборку"
      ]
    },
    {
      "cell_type": "code",
      "execution_count": null,
      "metadata": {
        "id": "aaoN-NebJSDB"
      },
      "outputs": [],
      "source": [
        "from google.colab import drive\n",
        "drive.mount('/content/drive')"
      ]
    },
    {
      "cell_type": "code",
      "source": [
        "'''\n",
        "from imutils import paths\n",
        "import random\n",
        "\n",
        "imagesPath = sorted(list(paths.list_images('/content/animals/')))\n",
        "random.shuffle(imagesPath)\n",
        "'''\n",
        "\n",
        "import pathlib\n",
        "\n",
        "imagesPath = pathlib.Path('/content/drive/MyDrive/Test/training_set')"
      ],
      "metadata": {
        "id": "ZL8zijFerBCr"
      },
      "execution_count": null,
      "outputs": []
    },
    {
      "cell_type": "code",
      "source": [
        "img_h, img_w = 128, 128\n",
        "batch_size = 54\n",
        "\n",
        "def preprocess(ds):\n",
        "    return ds.map(lambda x, y: (keras.applications.resnet_v2.preprocess_input(x), y))\n",
        "\n",
        "train_ds = tf.keras.preprocessing.image_dataset_from_directory(\n",
        "    imagesPath,\n",
        "    validation_split=0.2,\n",
        "    subset='training',\n",
        "    seed=420,\n",
        "    image_size=(img_h, img_w),\n",
        "    batch_size=batch_size\n",
        ")\n",
        "class_names = train_ds.class_names\n",
        "\n",
        "val_ds = tf.keras.preprocessing.image_dataset_from_directory(\n",
        "    imagesPath,\n",
        "    validation_split=0.2,\n",
        "    subset='validation',\n",
        "    seed=420,\n",
        "    image_size=(img_h, img_w),\n",
        "    batch_size=batch_size\n",
        ")\n",
        "\n",
        "train_ds = preprocess(train_ds)\n",
        "val_ds = preprocess(val_ds)"
      ],
      "metadata": {
        "id": "iFFlRrNGsX-z"
      },
      "execution_count": null,
      "outputs": []
    },
    {
      "cell_type": "code",
      "source": [
        "print(class_names)"
      ],
      "metadata": {
        "id": "b0H7Dg__scv7"
      },
      "execution_count": null,
      "outputs": []
    },
    {
      "cell_type": "markdown",
      "metadata": {
        "id": "jK5tHnEpggbu"
      },
      "source": [
        "### 2.3. Обучение своей модели на основе предобученной модели \"*название модели, выбранной в п.2.1.*\""
      ]
    },
    {
      "cell_type": "code",
      "execution_count": null,
      "metadata": {
        "id": "6hB-FMlZJSdZ"
      },
      "outputs": [],
      "source": [
        "for layer in basic_model.layers:\n",
        "  layer.trainable = False"
      ]
    },
    {
      "cell_type": "code",
      "source": [
        "from tensorflow.keras.models import Model\n",
        "from tensorflow.keras.layers import Flatten, Dense, Input\n",
        "\n",
        "input_tensor = basic_model.input\n",
        "x = basic_model.output\n",
        "\n",
        "x = Flatten()(x)\n",
        "x = Dense(512, activation='relu')(x)\n",
        "output_tensor = Dense(3, activation='softmax')(x)\n",
        "\n",
        "my_new_model = Model(inputs=input_tensor, outputs=output_tensor)\n",
        "\n",
        "my_new_model.summary()"
      ],
      "metadata": {
        "id": "UowBA7ZesmcD"
      },
      "execution_count": null,
      "outputs": []
    },
    {
      "cell_type": "code",
      "source": [
        "my_new_model.compile(optimizer=Adam(learning_rate=0.001),\n",
        "                     loss='sparse_categorical_crossentropy',\n",
        "                     metrics=['accuracy'])"
      ],
      "metadata": {
        "id": "vbGJLIHisy7U"
      },
      "execution_count": null,
      "outputs": []
    },
    {
      "cell_type": "code",
      "source": [
        "from keras.callbacks import EarlyStopping, ModelCheckpoint\n",
        "\n",
        "early_stopping = EarlyStopping(patience=5)\n",
        "checkpoint = ModelCheckpoint(filepath=\"resnet50v2_best.keras\", monitor=\"val_accuracy\", save_best_only=True, verbose=0)"
      ],
      "metadata": {
        "id": "Uwq40hK1s1nM"
      },
      "execution_count": null,
      "outputs": []
    },
    {
      "cell_type": "code",
      "source": [
        "history = my_new_model.fit(\n",
        "    train_ds,\n",
        "    validation_data=val_ds,\n",
        "    epochs=10,\n",
        "    callbacks=[early_stopping, checkpoint]\n",
        ")"
      ],
      "metadata": {
        "id": "6gIEYTpCs3Qj"
      },
      "execution_count": null,
      "outputs": []
    },
    {
      "cell_type": "markdown",
      "metadata": {
        "id": "ggs5y5NcgcAH"
      },
      "source": [
        "### 2.4. Визуализация процесса обучения модели"
      ]
    },
    {
      "cell_type": "code",
      "execution_count": null,
      "metadata": {
        "id": "McEVBEDNJTBX"
      },
      "outputs": [],
      "source": [
        "plt.figure(figsize=(20, 6))\n",
        "\n",
        "ax = plt.subplot(1,2,1)\n",
        "plt.plot(history.history['accuracy'])\n",
        "plt.plot(history.history['val_accuracy'])\n",
        "plt.axis(ymin=0.4,ymax=1)\n",
        "plt.grid()\n",
        "plt.title('Model Accuracy')\n",
        "plt.ylabel('Accuracy')\n",
        "plt.xlabel('Epochs')\n",
        "plt.legend(['train', 'validation'])\n",
        "\n",
        "ax = plt.subplot(1,2,2)\n",
        "plt.plot(history.history['loss'])\n",
        "plt.plot(history.history['val_loss'])\n",
        "plt.grid()\n",
        "plt.title('Model Loss')\n",
        "plt.ylabel('Loss')\n",
        "plt.xlabel('Epochs')\n",
        "plt.legend(['train', 'validation'])\n",
        "\n",
        "plt.show()"
      ]
    },
    {
      "cell_type": "markdown",
      "metadata": {
        "id": "dE5MsVdegXVj"
      },
      "source": [
        "### 2.5. Подготовьте набор проверочных данных (examples)"
      ]
    },
    {
      "cell_type": "code",
      "execution_count": null,
      "metadata": {
        "id": "3dIj9cRAJTmd"
      },
      "outputs": [],
      "source": [
        "# Ваш код"
      ]
    },
    {
      "cell_type": "markdown",
      "metadata": {
        "id": "uze5snC5KU1g"
      },
      "source": [
        "### 2.6. Реализуйте графический интерфейс для взаимодействия с обученной моделью, используя [Gradio](https://www.gradio.app/guides/image-classification-in-tensorflow). В качестве примеров (параметр examples в Gradio), используйте изображения из списка images (п.1.2.)"
      ]
    },
    {
      "cell_type": "code",
      "execution_count": null,
      "metadata": {
        "id": "c9T3tqh5KU1g"
      },
      "outputs": [],
      "source": [
        "# Ваш код"
      ]
    },
    {
      "cell_type": "markdown",
      "source": [
        "# Задание 3. Классификация набора пространственных данных EuroSat (для магистров)"
      ],
      "metadata": {
        "id": "qXvOfM3LsO8t"
      }
    },
    {
      "cell_type": "markdown",
      "source": [
        "- Ссылка на датасет: https://github.com/phelber/eurosat"
      ],
      "metadata": {
        "id": "AMD2EaACtGul"
      }
    },
    {
      "cell_type": "markdown",
      "source": [
        "- Описание на kaggle: https://www.kaggle.com/datasets/apollo2506/eurosat-dataset"
      ],
      "metadata": {
        "id": "bso0UfzEtUMP"
      }
    },
    {
      "cell_type": "markdown",
      "source": [
        "В этом задании Вам будет предоставлен набор данных EuroSat, который содержит снимки земной поверхности, снятые спутником Sentinel-2. Вам нужно будет обучить модель для классификации этих изображений на 10 классов, представляющих различные типы земного покрова."
      ],
      "metadata": {
        "id": "IsbNo_c7tl-Q"
      }
    },
    {
      "cell_type": "markdown",
      "source": [
        "### **3.1. Загрузка данных:**\n",
        "  * [Скачайте](https://madm.dfki.de/files/sentinel/EuroSAT.zip) набор данных EuroSat\n",
        "  * Разделите данные на обучающую, валидационную и тестовую выборки.\n",
        "\n"
      ],
      "metadata": {
        "id": "ABZXaTrTuNK3"
      }
    },
    {
      "cell_type": "code",
      "source": [
        "# Ваш код"
      ],
      "metadata": {
        "id": "ss5NC9XUvndt"
      },
      "execution_count": null,
      "outputs": []
    },
    {
      "cell_type": "markdown",
      "source": [
        "### **3.2. Выбор архитектуры нейронной сети:**\n",
        "  * Выберите архитектуру нейронной сети, основанную на трансферном обучении, например, ResNet50, VGG16 или InceptionV3 ([полный список](https://keras.io/api/applications/)).\n",
        "  * Загрузите предобученную модель выбранной архитектуры.\n"
      ],
      "metadata": {
        "id": "DYRnjsn-ur4S"
      }
    },
    {
      "cell_type": "code",
      "source": [
        "# Ваш код"
      ],
      "metadata": {
        "id": "Szsddhy6vqqo"
      },
      "execution_count": null,
      "outputs": []
    },
    {
      "cell_type": "markdown",
      "source": [
        "### **3.3. Дообучение модели:**\n",
        "  * Добавьте к предобученной модели несколько слоев для классификации изображений EuroSat.\n",
        "  * Обучите модель на обучающей выборке."
      ],
      "metadata": {
        "id": "E65auJMhutfW"
      }
    },
    {
      "cell_type": "code",
      "source": [
        "# Ваш код"
      ],
      "metadata": {
        "id": "MVt7cwIuvrGS"
      },
      "execution_count": null,
      "outputs": []
    },
    {
      "cell_type": "markdown",
      "source": [
        "\n",
        "\n",
        "### **3.4. Оценка модели:**\n",
        "  * Оцените производительность модели на валидационной и тестовой выборках.\n",
        "  * Сравните результаты с другими архитектурами нейронных сетей.\n",
        "\n"
      ],
      "metadata": {
        "id": "fx9cMww9ut7d"
      }
    },
    {
      "cell_type": "code",
      "source": [
        "# Ваш код"
      ],
      "metadata": {
        "id": "ICsYHX-5vrkl"
      },
      "execution_count": null,
      "outputs": []
    },
    {
      "cell_type": "markdown",
      "source": [
        "### **3.5. Анализ результатов:**\n",
        "  * Проанализируйте влияние различных параметров на производительность модели, таких как:\n",
        "      * Количество эпох обучения\n",
        "      * Размер пакета\n",
        "      * Функция активации\n",
        "      * Оптимизатор\n",
        "      * Регуляризация"
      ],
      "metadata": {
        "id": "SiNt9de-uynO"
      }
    },
    {
      "cell_type": "markdown",
      "source": [
        "-----------------------------------------\n",
        "**Ваш вывод**\n",
        "-----------------------------------------\n"
      ],
      "metadata": {
        "id": "Gk-J_JDjvtEV"
      }
    }
  ]
}