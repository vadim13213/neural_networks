{
  "nbformat": 4,
  "nbformat_minor": 0,
  "metadata": {
    "colab": {
      "provenance": [],
      "include_colab_link": true
    },
    "kernelspec": {
      "name": "python3",
      "display_name": "Python 3"
    },
    "language_info": {
      "name": "python"
    }
  },
  "cells": [
    {
      "cell_type": "markdown",
      "metadata": {
        "id": "view-in-github",
        "colab_type": "text"
      },
      "source": [
        "<a href=\"https://colab.research.google.com/github/vadim13213/neural_networks/blob/main/%D0%9F%D1%80%D0%B0%D0%BA%D1%82%D0%B8%D1%87%D0%B5%D1%81%D0%BA%D0%B0%D1%8F_%D1%80%D0%B0%D0%B1%D0%BE%D1%82%D0%B0_%E2%84%962_%D0%98%D1%81%D0%BF%D0%BE%D0%BB%D1%8C%D0%B7%D0%BE%D0%B2%D0%B0%D0%BD%D0%B8%D0%B5_%D0%B3%D0%BB%D1%83%D0%B1%D0%BE%D0%BA%D0%B8%D1%85_%D0%BD%D0%B5%D0%B9%D1%80%D0%BE%D0%BD%D0%BD%D1%8B%D1%85_%D1%81%D0%B5%D1%82%D0%B5%D0%B9_%D0%B4%D0%BB%D1%8F_%D1%80%D0%B5%D1%88%D0%B5%D0%BD%D0%B8%D1%8F_%D0%B7%D0%B0%D0%B4%D0%B0%D1%87_%D1%80%D0%B5%D0%B3%D1%80%D0%B5%D1%81%D1%81%D0%B8%D0%B8_%D0%B8_%D0%BA%D0%BB%D0%B0%D1%81%D1%81%D0%B8%D1%84%D0%B8%D0%BA%D0%B0%D1%86%D0%B8%D0%B8.ipynb\" target=\"_parent\"><img src=\"https://colab.research.google.com/assets/colab-badge.svg\" alt=\"Open In Colab\"/></a>"
      ]
    },
    {
      "cell_type": "markdown",
      "source": [
        "# Практическая работа №2. Использование глубоких нейронных сетей для решения задач регрессии и классификации\n",
        "\n"
      ],
      "metadata": {
        "id": "jVOridAYaoD_"
      }
    },
    {
      "cell_type": "markdown",
      "source": [
        "**Ссылка на код с пары:**\n",
        "https://colab.research.google.com/drive/18EM8mrpURStkmbxWjZybWbWh23Si5b4A?usp=sharing\n"
      ],
      "metadata": {
        "id": "xfLS4L8wbf5M"
      }
    },
    {
      "cell_type": "markdown",
      "source": [
        "## Задание №1. Обучение модели ИНС для решения задачи регрессии\n",
        "\n"
      ],
      "metadata": {
        "id": "ChzaEMuFavMw"
      }
    },
    {
      "cell_type": "markdown",
      "source": [
        "Постройте глубокую нейронную сеть для предсказания цен на недвижимость в городе Бостон, используя датасет датасет boston_housing_price"
      ],
      "metadata": {
        "id": "_AW7ypoN3qSi"
      }
    },
    {
      "cell_type": "markdown",
      "source": [
        "[Описание датасета](https://www.hackersrealm.net/post/boston-house-price-prediction-analysis-using-python)"
      ],
      "metadata": {
        "id": "O1PDCog53nrg"
      }
    },
    {
      "cell_type": "markdown",
      "source": [
        "#### 1.1. Загружаем исходные данные:"
      ],
      "metadata": {
        "id": "QWLURy8z0u3k"
      }
    },
    {
      "cell_type": "code",
      "source": [
        "import pandas as pd\n",
        "import numpy as np\n",
        "\n",
        "data_url = \"http://lib.stat.cmu.edu/datasets/boston\"\n",
        "raw_df = pd.read_csv(data_url, sep=\"\\s+\", skiprows=22, header=None)\n",
        "data = np.hstack([raw_df.values[::2, :], raw_df.values[1::2, :2]])\n",
        "target = raw_df.values[1::2, 2]"
      ],
      "metadata": {
        "id": "vGAIXw8gzpLL"
      },
      "execution_count": 1,
      "outputs": []
    },
    {
      "cell_type": "code",
      "source": [
        "df = pd.DataFrame(data, columns=['CRIM', 'ZN', 'INDUS', 'CHAS', 'NOX', 'RM',\n",
        "                                 'AGE', 'DIS', 'RAD', 'TAX', 'PTRATIO', 'B', 'LSTAT'])"
      ],
      "metadata": {
        "id": "7PdTmOSw35tq"
      },
      "execution_count": 2,
      "outputs": []
    },
    {
      "cell_type": "code",
      "source": [
        "print(df.describe())"
      ],
      "metadata": {
        "colab": {
          "base_uri": "https://localhost:8080/"
        },
        "id": "j466JeJ-3FoG",
        "outputId": "d35400f4-9ffa-48be-cffa-729a91d7f049"
      },
      "execution_count": 3,
      "outputs": [
        {
          "output_type": "stream",
          "name": "stdout",
          "text": [
            "             CRIM          ZN       INDUS        CHAS         NOX          RM  \\\n",
            "count  506.000000  506.000000  506.000000  506.000000  506.000000  506.000000   \n",
            "mean     3.613524   11.363636   11.136779    0.069170    0.554695    6.284634   \n",
            "std      8.601545   23.322453    6.860353    0.253994    0.115878    0.702617   \n",
            "min      0.006320    0.000000    0.460000    0.000000    0.385000    3.561000   \n",
            "25%      0.082045    0.000000    5.190000    0.000000    0.449000    5.885500   \n",
            "50%      0.256510    0.000000    9.690000    0.000000    0.538000    6.208500   \n",
            "75%      3.677083   12.500000   18.100000    0.000000    0.624000    6.623500   \n",
            "max     88.976200  100.000000   27.740000    1.000000    0.871000    8.780000   \n",
            "\n",
            "              AGE         DIS         RAD         TAX     PTRATIO           B  \\\n",
            "count  506.000000  506.000000  506.000000  506.000000  506.000000  506.000000   \n",
            "mean    68.574901    3.795043    9.549407  408.237154   18.455534  356.674032   \n",
            "std     28.148861    2.105710    8.707259  168.537116    2.164946   91.294864   \n",
            "min      2.900000    1.129600    1.000000  187.000000   12.600000    0.320000   \n",
            "25%     45.025000    2.100175    4.000000  279.000000   17.400000  375.377500   \n",
            "50%     77.500000    3.207450    5.000000  330.000000   19.050000  391.440000   \n",
            "75%     94.075000    5.188425   24.000000  666.000000   20.200000  396.225000   \n",
            "max    100.000000   12.126500   24.000000  711.000000   22.000000  396.900000   \n",
            "\n",
            "            LSTAT  \n",
            "count  506.000000  \n",
            "mean    12.653063  \n",
            "std      7.141062  \n",
            "min      1.730000  \n",
            "25%      6.950000  \n",
            "50%     11.360000  \n",
            "75%     16.955000  \n",
            "max     37.970000  \n"
          ]
        }
      ]
    },
    {
      "cell_type": "markdown",
      "source": [
        "Разделяем на обучающую и тестовую"
      ],
      "metadata": {
        "id": "GVO-Sh9di1LA"
      }
    },
    {
      "cell_type": "code",
      "source": [
        "from sklearn.model_selection import train_test_split\n",
        "\n",
        "X_train, X_test, y_train, y_test = train_test_split(data, target, test_size=0.2, random_state=0)\n",
        "X_train.shape, X_test.shape"
      ],
      "metadata": {
        "colab": {
          "base_uri": "https://localhost:8080/"
        },
        "id": "xAINPan-inHd",
        "outputId": "14249dcb-38ff-4c58-f9b4-11ddc8349e14"
      },
      "execution_count": 4,
      "outputs": [
        {
          "output_type": "execute_result",
          "data": {
            "text/plain": [
              "((404, 13), (102, 13))"
            ]
          },
          "metadata": {},
          "execution_count": 4
        }
      ]
    },
    {
      "cell_type": "code",
      "source": [
        "y_train.shape, y_test.shape"
      ],
      "metadata": {
        "colab": {
          "base_uri": "https://localhost:8080/"
        },
        "id": "lUKkNqtDtMJs",
        "outputId": "007988a3-59c4-4604-b142-833fc42f6199"
      },
      "execution_count": 5,
      "outputs": [
        {
          "output_type": "execute_result",
          "data": {
            "text/plain": [
              "((404,), (102,))"
            ]
          },
          "metadata": {},
          "execution_count": 5
        }
      ]
    },
    {
      "cell_type": "markdown",
      "source": [
        "Нормализируем обучающие и тестовые данные (не ответы)"
      ],
      "metadata": {
        "id": "Vs5bHgjykuN_"
      }
    },
    {
      "cell_type": "code",
      "source": [
        "from sklearn.preprocessing import MinMaxScaler\n",
        "\n",
        "\n",
        "mms = MinMaxScaler()\n",
        "\n",
        "X_train_n = mms.fit_transform(X_train)\n",
        "X_test_n = mms.transform(X_test)"
      ],
      "metadata": {
        "id": "c4d9_B9hktiS"
      },
      "execution_count": 6,
      "outputs": []
    },
    {
      "cell_type": "code",
      "source": [
        "import pickle\n",
        "\n",
        "with open(\"mms.pkl\", \"wb\") as f:\n",
        "    pickle.dump(mms, f)"
      ],
      "metadata": {
        "id": "Jo1LcR7C0Ari"
      },
      "execution_count": 7,
      "outputs": []
    },
    {
      "cell_type": "markdown",
      "metadata": {
        "id": "815ut8JJTIM7"
      },
      "source": [
        "#### 1.2. Проектируем архитектуру для этой задачи"
      ]
    },
    {
      "cell_type": "code",
      "source": [
        "# Ваш код\n",
        "from tensorflow.keras.layers import Dense\n",
        "from tensorflow.keras.models import Sequential\n",
        "\n",
        "\n",
        "model = Sequential([\n",
        "    Dense(26, input_shape=(13,), activation='relu'),\n",
        "    Dense(1, activation='relu')\n",
        "])\n",
        "\n",
        "model.summary()"
      ],
      "metadata": {
        "id": "alrRyjbs1c8s",
        "colab": {
          "base_uri": "https://localhost:8080/",
          "height": 237
        },
        "outputId": "0f25ddbd-0fa9-4a32-944a-077253c1e952"
      },
      "execution_count": 8,
      "outputs": [
        {
          "output_type": "stream",
          "name": "stderr",
          "text": [
            "/usr/local/lib/python3.11/dist-packages/keras/src/layers/core/dense.py:87: UserWarning: Do not pass an `input_shape`/`input_dim` argument to a layer. When using Sequential models, prefer using an `Input(shape)` object as the first layer in the model instead.\n",
            "  super().__init__(activity_regularizer=activity_regularizer, **kwargs)\n"
          ]
        },
        {
          "output_type": "display_data",
          "data": {
            "text/plain": [
              "\u001b[1mModel: \"sequential\"\u001b[0m\n"
            ],
            "text/html": [
              "<pre style=\"white-space:pre;overflow-x:auto;line-height:normal;font-family:Menlo,'DejaVu Sans Mono',consolas,'Courier New',monospace\"><span style=\"font-weight: bold\">Model: \"sequential\"</span>\n",
              "</pre>\n"
            ]
          },
          "metadata": {}
        },
        {
          "output_type": "display_data",
          "data": {
            "text/plain": [
              "┏━━━━━━━━━━━━━━━━━━━━━━━━━━━━━━━━━━━━━━┳━━━━━━━━━━━━━━━━━━━━━━━━━━━━━┳━━━━━━━━━━━━━━━━━┓\n",
              "┃\u001b[1m \u001b[0m\u001b[1mLayer (type)                        \u001b[0m\u001b[1m \u001b[0m┃\u001b[1m \u001b[0m\u001b[1mOutput Shape               \u001b[0m\u001b[1m \u001b[0m┃\u001b[1m \u001b[0m\u001b[1m        Param #\u001b[0m\u001b[1m \u001b[0m┃\n",
              "┡━━━━━━━━━━━━━━━━━━━━━━━━━━━━━━━━━━━━━━╇━━━━━━━━━━━━━━━━━━━━━━━━━━━━━╇━━━━━━━━━━━━━━━━━┩\n",
              "│ dense (\u001b[38;5;33mDense\u001b[0m)                        │ (\u001b[38;5;45mNone\u001b[0m, \u001b[38;5;34m26\u001b[0m)                  │             \u001b[38;5;34m364\u001b[0m │\n",
              "├──────────────────────────────────────┼─────────────────────────────┼─────────────────┤\n",
              "│ dense_1 (\u001b[38;5;33mDense\u001b[0m)                      │ (\u001b[38;5;45mNone\u001b[0m, \u001b[38;5;34m1\u001b[0m)                   │              \u001b[38;5;34m27\u001b[0m │\n",
              "└──────────────────────────────────────┴─────────────────────────────┴─────────────────┘\n"
            ],
            "text/html": [
              "<pre style=\"white-space:pre;overflow-x:auto;line-height:normal;font-family:Menlo,'DejaVu Sans Mono',consolas,'Courier New',monospace\">┏━━━━━━━━━━━━━━━━━━━━━━━━━━━━━━━━━━━━━━┳━━━━━━━━━━━━━━━━━━━━━━━━━━━━━┳━━━━━━━━━━━━━━━━━┓\n",
              "┃<span style=\"font-weight: bold\"> Layer (type)                         </span>┃<span style=\"font-weight: bold\"> Output Shape                </span>┃<span style=\"font-weight: bold\">         Param # </span>┃\n",
              "┡━━━━━━━━━━━━━━━━━━━━━━━━━━━━━━━━━━━━━━╇━━━━━━━━━━━━━━━━━━━━━━━━━━━━━╇━━━━━━━━━━━━━━━━━┩\n",
              "│ dense (<span style=\"color: #0087ff; text-decoration-color: #0087ff\">Dense</span>)                        │ (<span style=\"color: #00d7ff; text-decoration-color: #00d7ff\">None</span>, <span style=\"color: #00af00; text-decoration-color: #00af00\">26</span>)                  │             <span style=\"color: #00af00; text-decoration-color: #00af00\">364</span> │\n",
              "├──────────────────────────────────────┼─────────────────────────────┼─────────────────┤\n",
              "│ dense_1 (<span style=\"color: #0087ff; text-decoration-color: #0087ff\">Dense</span>)                      │ (<span style=\"color: #00d7ff; text-decoration-color: #00d7ff\">None</span>, <span style=\"color: #00af00; text-decoration-color: #00af00\">1</span>)                   │              <span style=\"color: #00af00; text-decoration-color: #00af00\">27</span> │\n",
              "└──────────────────────────────────────┴─────────────────────────────┴─────────────────┘\n",
              "</pre>\n"
            ]
          },
          "metadata": {}
        },
        {
          "output_type": "display_data",
          "data": {
            "text/plain": [
              "\u001b[1m Total params: \u001b[0m\u001b[38;5;34m391\u001b[0m (1.53 KB)\n"
            ],
            "text/html": [
              "<pre style=\"white-space:pre;overflow-x:auto;line-height:normal;font-family:Menlo,'DejaVu Sans Mono',consolas,'Courier New',monospace\"><span style=\"font-weight: bold\"> Total params: </span><span style=\"color: #00af00; text-decoration-color: #00af00\">391</span> (1.53 KB)\n",
              "</pre>\n"
            ]
          },
          "metadata": {}
        },
        {
          "output_type": "display_data",
          "data": {
            "text/plain": [
              "\u001b[1m Trainable params: \u001b[0m\u001b[38;5;34m391\u001b[0m (1.53 KB)\n"
            ],
            "text/html": [
              "<pre style=\"white-space:pre;overflow-x:auto;line-height:normal;font-family:Menlo,'DejaVu Sans Mono',consolas,'Courier New',monospace\"><span style=\"font-weight: bold\"> Trainable params: </span><span style=\"color: #00af00; text-decoration-color: #00af00\">391</span> (1.53 KB)\n",
              "</pre>\n"
            ]
          },
          "metadata": {}
        },
        {
          "output_type": "display_data",
          "data": {
            "text/plain": [
              "\u001b[1m Non-trainable params: \u001b[0m\u001b[38;5;34m0\u001b[0m (0.00 B)\n"
            ],
            "text/html": [
              "<pre style=\"white-space:pre;overflow-x:auto;line-height:normal;font-family:Menlo,'DejaVu Sans Mono',consolas,'Courier New',monospace\"><span style=\"font-weight: bold\"> Non-trainable params: </span><span style=\"color: #00af00; text-decoration-color: #00af00\">0</span> (0.00 B)\n",
              "</pre>\n"
            ]
          },
          "metadata": {}
        }
      ]
    },
    {
      "cell_type": "markdown",
      "metadata": {
        "id": "F9E1W4yCT0YC"
      },
      "source": [
        "#### 1.3. Компилируем модель ИНС\n",
        "\n",
        "Подберите нужную функцию потерь и метрику."
      ]
    },
    {
      "cell_type": "code",
      "source": [
        "# Ваш код\n",
        "model.compile(optimizer='sgd', loss='mse', metrics=['mae'])"
      ],
      "metadata": {
        "id": "Fu8VHdqV1gqy"
      },
      "execution_count": 9,
      "outputs": []
    },
    {
      "cell_type": "markdown",
      "metadata": {
        "id": "ebac-dNAUBtX"
      },
      "source": [
        "#### 1.4. Обучаем модель ИНС"
      ]
    },
    {
      "cell_type": "code",
      "source": [
        "# Ваш код\n",
        "history = model.fit(X_train_n, y_train, epochs=20, validation_data=(X_test_n, y_test))"
      ],
      "metadata": {
        "id": "LcVz6t601hFI",
        "colab": {
          "base_uri": "https://localhost:8080/"
        },
        "outputId": "a7fb1a26-24ae-43e7-abef-42303b8f52ba"
      },
      "execution_count": 10,
      "outputs": [
        {
          "output_type": "stream",
          "name": "stdout",
          "text": [
            "Epoch 1/20\n",
            "\u001b[1m13/13\u001b[0m \u001b[32m━━━━━━━━━━━━━━━━━━━━\u001b[0m\u001b[37m\u001b[0m \u001b[1m1s\u001b[0m 32ms/step - loss: 295.8593 - mae: 13.7107 - val_loss: 66.9128 - val_mae: 5.5465\n",
            "Epoch 2/20\n",
            "\u001b[1m13/13\u001b[0m \u001b[32m━━━━━━━━━━━━━━━━━━━━\u001b[0m\u001b[37m\u001b[0m \u001b[1m0s\u001b[0m 14ms/step - loss: 80.9413 - mae: 6.4905 - val_loss: 61.9315 - val_mae: 5.4271\n",
            "Epoch 3/20\n",
            "\u001b[1m13/13\u001b[0m \u001b[32m━━━━━━━━━━━━━━━━━━━━\u001b[0m\u001b[37m\u001b[0m \u001b[1m0s\u001b[0m 13ms/step - loss: 43.6849 - mae: 4.6976 - val_loss: 61.7650 - val_mae: 5.0211\n",
            "Epoch 4/20\n",
            "\u001b[1m13/13\u001b[0m \u001b[32m━━━━━━━━━━━━━━━━━━━━\u001b[0m\u001b[37m\u001b[0m \u001b[1m0s\u001b[0m 14ms/step - loss: 52.2673 - mae: 5.1416 - val_loss: 53.5892 - val_mae: 5.1716\n",
            "Epoch 5/20\n",
            "\u001b[1m13/13\u001b[0m \u001b[32m━━━━━━━━━━━━━━━━━━━━\u001b[0m\u001b[37m\u001b[0m \u001b[1m0s\u001b[0m 9ms/step - loss: 32.0936 - mae: 3.9292 - val_loss: 68.1124 - val_mae: 6.9234\n",
            "Epoch 6/20\n",
            "\u001b[1m13/13\u001b[0m \u001b[32m━━━━━━━━━━━━━━━━━━━━\u001b[0m\u001b[37m\u001b[0m \u001b[1m0s\u001b[0m 7ms/step - loss: 41.7032 - mae: 4.9459 - val_loss: 74.7061 - val_mae: 6.0199\n",
            "Epoch 7/20\n",
            "\u001b[1m13/13\u001b[0m \u001b[32m━━━━━━━━━━━━━━━━━━━━\u001b[0m\u001b[37m\u001b[0m \u001b[1m0s\u001b[0m 7ms/step - loss: 29.7246 - mae: 3.9719 - val_loss: 50.6450 - val_mae: 5.4617\n",
            "Epoch 8/20\n",
            "\u001b[1m13/13\u001b[0m \u001b[32m━━━━━━━━━━━━━━━━━━━━\u001b[0m\u001b[37m\u001b[0m \u001b[1m0s\u001b[0m 8ms/step - loss: 39.5195 - mae: 5.2367 - val_loss: 40.9031 - val_mae: 4.2034\n",
            "Epoch 9/20\n",
            "\u001b[1m13/13\u001b[0m \u001b[32m━━━━━━━━━━━━━━━━━━━━\u001b[0m\u001b[37m\u001b[0m \u001b[1m0s\u001b[0m 7ms/step - loss: 20.3447 - mae: 3.2425 - val_loss: 42.6201 - val_mae: 4.8139\n",
            "Epoch 10/20\n",
            "\u001b[1m13/13\u001b[0m \u001b[32m━━━━━━━━━━━━━━━━━━━━\u001b[0m\u001b[37m\u001b[0m \u001b[1m0s\u001b[0m 7ms/step - loss: 24.0208 - mae: 3.6212 - val_loss: 58.5638 - val_mae: 6.5492\n",
            "Epoch 11/20\n",
            "\u001b[1m13/13\u001b[0m \u001b[32m━━━━━━━━━━━━━━━━━━━━\u001b[0m\u001b[37m\u001b[0m \u001b[1m0s\u001b[0m 7ms/step - loss: 52.2969 - mae: 5.5627 - val_loss: 41.8874 - val_mae: 4.0301\n",
            "Epoch 12/20\n",
            "\u001b[1m13/13\u001b[0m \u001b[32m━━━━━━━━━━━━━━━━━━━━\u001b[0m\u001b[37m\u001b[0m \u001b[1m0s\u001b[0m 10ms/step - loss: 34.7879 - mae: 4.3392 - val_loss: 39.5568 - val_mae: 4.5332\n",
            "Epoch 13/20\n",
            "\u001b[1m13/13\u001b[0m \u001b[32m━━━━━━━━━━━━━━━━━━━━\u001b[0m\u001b[37m\u001b[0m \u001b[1m0s\u001b[0m 7ms/step - loss: 35.5916 - mae: 4.7708 - val_loss: 35.6122 - val_mae: 3.9919\n",
            "Epoch 14/20\n",
            "\u001b[1m13/13\u001b[0m \u001b[32m━━━━━━━━━━━━━━━━━━━━\u001b[0m\u001b[37m\u001b[0m \u001b[1m0s\u001b[0m 7ms/step - loss: 24.9210 - mae: 3.5573 - val_loss: 37.4942 - val_mae: 4.3118\n",
            "Epoch 15/20\n",
            "\u001b[1m13/13\u001b[0m \u001b[32m━━━━━━━━━━━━━━━━━━━━\u001b[0m\u001b[37m\u001b[0m \u001b[1m0s\u001b[0m 7ms/step - loss: 19.0945 - mae: 3.2020 - val_loss: 34.0652 - val_mae: 3.9868\n",
            "Epoch 16/20\n",
            "\u001b[1m13/13\u001b[0m \u001b[32m━━━━━━━━━━━━━━━━━━━━\u001b[0m\u001b[37m\u001b[0m \u001b[1m0s\u001b[0m 8ms/step - loss: 19.1942 - mae: 3.2242 - val_loss: 33.8916 - val_mae: 3.6058\n",
            "Epoch 17/20\n",
            "\u001b[1m13/13\u001b[0m \u001b[32m━━━━━━━━━━━━━━━━━━━━\u001b[0m\u001b[37m\u001b[0m \u001b[1m0s\u001b[0m 8ms/step - loss: 16.8808 - mae: 2.9241 - val_loss: 46.3779 - val_mae: 4.4753\n",
            "Epoch 18/20\n",
            "\u001b[1m13/13\u001b[0m \u001b[32m━━━━━━━━━━━━━━━━━━━━\u001b[0m\u001b[37m\u001b[0m \u001b[1m0s\u001b[0m 8ms/step - loss: 25.5743 - mae: 3.7168 - val_loss: 36.2126 - val_mae: 3.6876\n",
            "Epoch 19/20\n",
            "\u001b[1m13/13\u001b[0m \u001b[32m━━━━━━━━━━━━━━━━━━━━\u001b[0m\u001b[37m\u001b[0m \u001b[1m0s\u001b[0m 9ms/step - loss: 18.7098 - mae: 3.1467 - val_loss: 48.0106 - val_mae: 5.6472\n",
            "Epoch 20/20\n",
            "\u001b[1m13/13\u001b[0m \u001b[32m━━━━━━━━━━━━━━━━━━━━\u001b[0m\u001b[37m\u001b[0m \u001b[1m0s\u001b[0m 7ms/step - loss: 30.6451 - mae: 4.3802 - val_loss: 44.0598 - val_mae: 4.2640\n"
          ]
        }
      ]
    },
    {
      "cell_type": "markdown",
      "metadata": {
        "id": "mvlGXR3yVMYo"
      },
      "source": [
        "#### 1.6. Делаем предсказания на тестовых данных"
      ]
    },
    {
      "cell_type": "code",
      "source": [
        "# Ваш код\n",
        "preds = model.predict(X_test_n)"
      ],
      "metadata": {
        "id": "Rui6kjT01jEA",
        "colab": {
          "base_uri": "https://localhost:8080/"
        },
        "outputId": "c9816449-739f-4716-e8a4-fdaf9ce9a914"
      },
      "execution_count": 11,
      "outputs": [
        {
          "output_type": "stream",
          "name": "stdout",
          "text": [
            "\u001b[1m4/4\u001b[0m \u001b[32m━━━━━━━━━━━━━━━━━━━━\u001b[0m\u001b[37m\u001b[0m \u001b[1m0s\u001b[0m 20ms/step\n"
          ]
        }
      ]
    },
    {
      "cell_type": "markdown",
      "metadata": {
        "id": "NLsmmLVkVhkL"
      },
      "source": [
        "#### 1.7. Вычисляем метрику качества на тестовых данных"
      ]
    },
    {
      "cell_type": "code",
      "source": [
        "# Ваш код\n",
        "from sklearn.metrics import mean_absolute_error\n",
        "\n",
        "mean_absolute_error(preds, y_test)"
      ],
      "metadata": {
        "id": "V8cpkQnr1jcS",
        "colab": {
          "base_uri": "https://localhost:8080/"
        },
        "outputId": "03c1434c-a3db-41d8-a151-f21c0595cdc9"
      },
      "execution_count": 12,
      "outputs": [
        {
          "output_type": "execute_result",
          "data": {
            "text/plain": [
              "4.263979462081311"
            ]
          },
          "metadata": {},
          "execution_count": 12
        }
      ]
    },
    {
      "cell_type": "markdown",
      "metadata": {
        "id": "d4eyitaoKx_E"
      },
      "source": [
        "#### 1.8. Строим график обучения"
      ]
    },
    {
      "cell_type": "code",
      "source": [
        "# Ваш код\n",
        "import matplotlib.pyplot as plt\n",
        "\n",
        "plt.plot(history.history['loss'], label='Train loss')\n",
        "plt.plot(history.history['val_loss'], label='Val loss')\n",
        "plt.legend()\n",
        "plt.show()"
      ],
      "metadata": {
        "id": "tw-JEpqm1jyK",
        "colab": {
          "base_uri": "https://localhost:8080/",
          "height": 432
        },
        "outputId": "a0dfa662-b249-4868-8d8f-9fe3a5a1fa94"
      },
      "execution_count": 13,
      "outputs": [
        {
          "output_type": "display_data",
          "data": {
            "text/plain": [
              "<Figure size 640x480 with 1 Axes>"
            ],
            "image/png": "[encoded data removed]"
          },
          "metadata": {}
        }
      ]
    },
    {
      "cell_type": "markdown",
      "metadata": {
        "id": "XYMsbjaoMEqT"
      },
      "source": [
        "#### 1.9. Построение графического интерфейса в Gradio Проверка обученной модели пользовательскими данными"
      ]
    },
    {
      "cell_type": "code",
      "source": [
        "!pip install gradio"
      ],
      "metadata": {
        "colab": {
          "base_uri": "https://localhost:8080/"
        },
        "collapsed": true,
        "id": "IBL6eMCh1K-u",
        "outputId": "f8302cb0-7337-47b0-8ffd-6c10ed89ea2b"
      },
      "execution_count": 14,
      "outputs": [
        {
          "output_type": "stream",
          "name": "stdout",
          "text": [
            "Collecting gradio\n",
            "  Downloading gradio-5.20.0-py3-none-any.whl.metadata (16 kB)\n",
            "Collecting aiofiles<24.0,>=22.0 (from gradio)\n",
            "  Downloading aiofiles-23.2.1-py3-none-any.whl.metadata (9.7 kB)\n",
            "Requirement already satisfied: anyio<5.0,>=3.0 in /usr/local/lib/python3.11/dist-packages (from gradio) (3.7.1)\n",
            "Collecting fastapi<1.0,>=0.115.2 (from gradio)\n",
            "  Downloading fastapi-0.115.11-py3-none-any.whl.metadata (27 kB)\n",
            "Collecting ffmpy (from gradio)\n",
            "  Downloading ffmpy-0.5.0-py3-none-any.whl.metadata (3.0 kB)\n",
            "Collecting gradio-client==1.7.2 (from gradio)\n",
            "  Downloading gradio_client-1.7.2-py3-none-any.whl.metadata (7.1 kB)\n",
            "Collecting groovy~=0.1 (from gradio)\n",
            "  Downloading groovy-0.1.2-py3-none-any.whl.metadata (6.1 kB)\n",
            "Requirement already satisfied: httpx>=0.24.1 in /usr/local/lib/python3.11/dist-packages (from gradio) (0.28.1)\n",
            "Requirement already satisfied: huggingface-hub>=0.28.1 in /usr/local/lib/python3.11/dist-packages (from gradio) (0.28.1)\n",
            "Requirement already satisfied: jinja2<4.0 in /usr/local/lib/python3.11/dist-packages (from gradio) (3.1.5)\n",
            "Collecting markupsafe~=2.0 (from gradio)\n",
            "  Downloading MarkupSafe-2.1.5-cp311-cp311-manylinux_2_17_x86_64.manylinux2014_x86_64.whl.metadata (3.0 kB)\n",
            "Requirement already satisfied: numpy<3.0,>=1.0 in /usr/local/lib/python3.11/dist-packages (from gradio) (1.26.4)\n",
            "Requirement already satisfied: orjson~=3.0 in /usr/local/lib/python3.11/dist-packages (from gradio) (3.10.15)\n",
            "Requirement already satisfied: packaging in /usr/local/lib/python3.11/dist-packages (from gradio) (24.2)\n",
            "Requirement already satisfied: pandas<3.0,>=1.0 in /usr/local/lib/python3.11/dist-packages (from gradio) (2.2.2)\n",
            "Requirement already satisfied: pillow<12.0,>=8.0 in /usr/local/lib/python3.11/dist-packages (from gradio) (11.1.0)\n",
            "Requirement already satisfied: pydantic>=2.0 in /usr/local/lib/python3.11/dist-packages (from gradio) (2.10.6)\n",
            "Collecting pydub (from gradio)\n",
            "  Downloading pydub-0.25.1-py2.py3-none-any.whl.metadata (1.4 kB)\n",
            "Collecting python-multipart>=0.0.18 (from gradio)\n",
            "  Downloading python_multipart-0.0.20-py3-none-any.whl.metadata (1.8 kB)\n",
            "Requirement already satisfied: pyyaml<7.0,>=5.0 in /usr/local/lib/python3.11/dist-packages (from gradio) (6.0.2)\n",
            "Collecting ruff>=0.9.3 (from gradio)\n",
            "  Downloading ruff-0.9.9-py3-none-manylinux_2_17_x86_64.manylinux2014_x86_64.whl.metadata (25 kB)\n",
            "Collecting safehttpx<0.2.0,>=0.1.6 (from gradio)\n",
            "  Downloading safehttpx-0.1.6-py3-none-any.whl.metadata (4.2 kB)\n",
            "Collecting semantic-version~=2.0 (from gradio)\n",
            "  Downloading semantic_version-2.10.0-py2.py3-none-any.whl.metadata (9.7 kB)\n",
            "Collecting starlette<1.0,>=0.40.0 (from gradio)\n",
            "  Downloading starlette-0.46.0-py3-none-any.whl.metadata (6.2 kB)\n",
            "Collecting tomlkit<0.14.0,>=0.12.0 (from gradio)\n",
            "  Downloading tomlkit-0.13.2-py3-none-any.whl.metadata (2.7 kB)\n",
            "Requirement already satisfied: typer<1.0,>=0.12 in /usr/local/lib/python3.11/dist-packages (from gradio) (0.15.1)\n",
            "Requirement already satisfied: typing-extensions~=4.0 in /usr/local/lib/python3.11/dist-packages (from gradio) (4.12.2)\n",
            "Collecting uvicorn>=0.14.0 (from gradio)\n",
            "  Downloading uvicorn-0.34.0-py3-none-any.whl.metadata (6.5 kB)\n",
            "Requirement already satisfied: fsspec in /usr/local/lib/python3.11/dist-packages (from gradio-client==1.7.2->gradio) (2024.10.0)\n",
            "Requirement already satisfied: websockets<16.0,>=10.0 in /usr/local/lib/python3.11/dist-packages (from gradio-client==1.7.2->gradio) (14.2)\n",
            "Requirement already satisfied: idna>=2.8 in /usr/local/lib/python3.11/dist-packages (from anyio<5.0,>=3.0->gradio) (3.10)\n",
            "Requirement already satisfied: sniffio>=1.1 in /usr/local/lib/python3.11/dist-packages (from anyio<5.0,>=3.0->gradio) (1.3.1)\n",
            "Requirement already satisfied: certifi in /usr/local/lib/python3.11/dist-packages (from httpx>=0.24.1->gradio) (2025.1.31)\n",
            "Requirement already satisfied: httpcore==1.* in /usr/local/lib/python3.11/dist-packages (from httpx>=0.24.1->gradio) (1.0.7)\n",
            "Requirement already satisfied: h11<0.15,>=0.13 in /usr/local/lib/python3.11/dist-packages (from httpcore==1.*->httpx>=0.24.1->gradio) (0.14.0)\n",
            "Requirement already satisfied: filelock in /usr/local/lib/python3.11/dist-packages (from huggingface-hub>=0.28.1->gradio) (3.17.0)\n",
            "Requirement already satisfied: requests in /usr/local/lib/python3.11/dist-packages (from huggingface-hub>=0.28.1->gradio) (2.32.3)\n",
            "Requirement already satisfied: tqdm>=4.42.1 in /usr/local/lib/python3.11/dist-packages (from huggingface-hub>=0.28.1->gradio) (4.67.1)\n",
            "Requirement already satisfied: python-dateutil>=2.8.2 in /usr/local/lib/python3.11/dist-packages (from pandas<3.0,>=1.0->gradio) (2.8.2)\n",
            "Requirement already satisfied: pytz>=2020.1 in /usr/local/lib/python3.11/dist-packages (from pandas<3.0,>=1.0->gradio) (2025.1)\n",
            "Requirement already satisfied: tzdata>=2022.7 in /usr/local/lib/python3.11/dist-packages (from pandas<3.0,>=1.0->gradio) (2025.1)\n",
            "Requirement already satisfied: annotated-types>=0.6.0 in /usr/local/lib/python3.11/dist-packages (from pydantic>=2.0->gradio) (0.7.0)\n",
            "Requirement already satisfied: pydantic-core==2.27.2 in /usr/local/lib/python3.11/dist-packages (from pydantic>=2.0->gradio) (2.27.2)\n",
            "Requirement already satisfied: click>=8.0.0 in /usr/local/lib/python3.11/dist-packages (from typer<1.0,>=0.12->gradio) (8.1.8)\n",
            "Requirement already satisfied: shellingham>=1.3.0 in /usr/local/lib/python3.11/dist-packages (from typer<1.0,>=0.12->gradio) (1.5.4)\n",
            "Requirement already satisfied: rich>=10.11.0 in /usr/local/lib/python3.11/dist-packages (from typer<1.0,>=0.12->gradio) (13.9.4)\n",
            "Requirement already satisfied: six>=1.5 in /usr/local/lib/python3.11/dist-packages (from python-dateutil>=2.8.2->pandas<3.0,>=1.0->gradio) (1.17.0)\n",
            "Requirement already satisfied: markdown-it-py>=2.2.0 in /usr/local/lib/python3.11/dist-packages (from rich>=10.11.0->typer<1.0,>=0.12->gradio) (3.0.0)\n",
            "Requirement already satisfied: pygments<3.0.0,>=2.13.0 in /usr/local/lib/python3.11/dist-packages (from rich>=10.11.0->typer<1.0,>=0.12->gradio) (2.18.0)\n",
            "Requirement already satisfied: charset-normalizer<4,>=2 in /usr/local/lib/python3.11/dist-packages (from requests->huggingface-hub>=0.28.1->gradio) (3.4.1)\n",
            "Requirement already satisfied: urllib3<3,>=1.21.1 in /usr/local/lib/python3.11/dist-packages (from requests->huggingface-hub>=0.28.1->gradio) (2.3.0)\n",
            "Requirement already satisfied: mdurl~=0.1 in /usr/local/lib/python3.11/dist-packages (from markdown-it-py>=2.2.0->rich>=10.11.0->typer<1.0,>=0.12->gradio) (0.1.2)\n",
            "Downloading gradio-5.20.0-py3-none-any.whl (62.3 MB)\n",
            "\u001b[2K   \u001b[90m━━━━━━━━━━━━━━━━━━━━━━━━━━━━━━━━━━━━━━━━\u001b[0m \u001b[32m62.3/62.3 MB\u001b[0m \u001b[31m11.7 MB/s\u001b[0m eta \u001b[36m0:00:00\u001b[0m\n",
            "\u001b[?25hDownloading gradio_client-1.7.2-py3-none-any.whl (322 kB)\n",
            "\u001b[2K   \u001b[90m━━━━━━━━━━━━━━━━━━━━━━━━━━━━━━━━━━━━━━━━\u001b[0m \u001b[32m322.1/322.1 kB\u001b[0m \u001b[31m21.1 MB/s\u001b[0m eta \u001b[36m0:00:00\u001b[0m\n",
            "\u001b[?25hDownloading aiofiles-23.2.1-py3-none-any.whl (15 kB)\n",
            "Downloading fastapi-0.115.11-py3-none-any.whl (94 kB)\n",
            "\u001b[2K   \u001b[90m━━━━━━━━━━━━━━━━━━━━━━━━━━━━━━━━━━━━━━━━\u001b[0m \u001b[32m94.9/94.9 kB\u001b[0m \u001b[31m7.0 MB/s\u001b[0m eta \u001b[36m0:00:00\u001b[0m\n",
            "\u001b[?25hDownloading groovy-0.1.2-py3-none-any.whl (14 kB)\n",
            "Downloading MarkupSafe-2.1.5-cp311-cp311-manylinux_2_17_x86_64.manylinux2014_x86_64.whl (28 kB)\n",
            "Downloading python_multipart-0.0.20-py3-none-any.whl (24 kB)\n",
            "Downloading ruff-0.9.9-py3-none-manylinux_2_17_x86_64.manylinux2014_x86_64.whl (11.2 MB)\n",
            "\u001b[2K   \u001b[90m━━━━━━━━━━━━━━━━━━━━━━━━━━━━━━━━━━━━━━━━\u001b[0m \u001b[32m11.2/11.2 MB\u001b[0m \u001b[31m66.6 MB/s\u001b[0m eta \u001b[36m0:00:00\u001b[0m\n",
            "\u001b[?25hDownloading safehttpx-0.1.6-py3-none-any.whl (8.7 kB)\n",
            "Downloading semantic_version-2.10.0-py2.py3-none-any.whl (15 kB)\n",
            "Downloading starlette-0.46.0-py3-none-any.whl (71 kB)\n",
            "\u001b[2K   \u001b[90m━━━━━━━━━━━━━━━━━━━━━━━━━━━━━━━━━━━━━━━━\u001b[0m \u001b[32m72.0/72.0 kB\u001b[0m \u001b[31m5.2 MB/s\u001b[0m eta \u001b[36m0:00:00\u001b[0m\n",
            "\u001b[?25hDownloading tomlkit-0.13.2-py3-none-any.whl (37 kB)\n",
            "Downloading uvicorn-0.34.0-py3-none-any.whl (62 kB)\n",
            "\u001b[2K   \u001b[90m━━━━━━━━━━━━━━━━━━━━━━━━━━━━━━━━━━━━━━━━\u001b[0m \u001b[32m62.3/62.3 kB\u001b[0m \u001b[31m4.1 MB/s\u001b[0m eta \u001b[36m0:00:00\u001b[0m\n",
            "\u001b[?25hDownloading ffmpy-0.5.0-py3-none-any.whl (6.0 kB)\n",
            "Downloading pydub-0.25.1-py2.py3-none-any.whl (32 kB)\n",
            "Installing collected packages: pydub, uvicorn, tomlkit, semantic-version, ruff, python-multipart, markupsafe, groovy, ffmpy, aiofiles, starlette, safehttpx, gradio-client, fastapi, gradio\n",
            "  Attempting uninstall: markupsafe\n",
            "    Found existing installation: MarkupSafe 3.0.2\n",
            "    Uninstalling MarkupSafe-3.0.2:\n",
            "      Successfully uninstalled MarkupSafe-3.0.2\n",
            "Successfully installed aiofiles-23.2.1 fastapi-0.115.11 ffmpy-0.5.0 gradio-5.20.0 gradio-client-1.7.2 groovy-0.1.2 markupsafe-2.1.5 pydub-0.25.1 python-multipart-0.0.20 ruff-0.9.9 safehttpx-0.1.6 semantic-version-2.10.0 starlette-0.46.0 tomlkit-0.13.2 uvicorn-0.34.0\n"
          ]
        }
      ]
    },
    {
      "cell_type": "code",
      "source": [
        "# Ваш код\n",
        "import gradio as gr\n",
        "\n",
        "# Интерфейс Gradio\n",
        "interface = gr.Interface(\n",
        "    fn=predict_price,\n",
        "    inputs=[\n",
        "        gr.Slider(label=\"CRIM\", minimum=0.006, maximum=89.000, step=0.1, value=0.02985),\n",
        "        gr.Slider(label=\"ZN\", minimum=0.0, maximum=100.0, step=1, value=0.0),\n",
        "        gr.Slider(label=\"INDUS\", minimum=0.4, maximum=28.0, step=0.1, value=2.180),\n",
        "        gr.Slider(label=\"CHAS\", minimum=0.0, maximum=1.0, step=0.1, value=0),\n",
        "        gr.Slider(label=\"NOX\", minimum=0.3, maximum=0.9, step=0.01, value=0.4580),\n",
        "        gr.Slider(label=\"RM\", minimum=3.6, maximum=8.8, step=0.1, value=6.4300),\n",
        "        gr.Slider(label=\"AGE\", minimum=2.9, maximum=100.0, step=0.1, value=58.70),\n",
        "        gr.Slider(label=\"DIS\", minimum=1.0, maximum=12.2, step=0.1, value=6.062),\n",
        "        gr.Slider(label=\"RAD\", minimum=1, maximum=24, step=1, value=3),\n",
        "        gr.Slider(label=\"TAX\", minimum=180, maximum=720, step=1, value=222.0),\n",
        "        gr.Slider(label=\"PTRATIO\", minimum=2, maximum=22, step=0.1, value=18.70),\n",
        "        gr.Slider(label=\"B\", minimum=0.3, maximum=397.0, step=0.1, value=394.12),\n",
        "        gr.Slider(label=\"LSTAT\", minimum=1.7, maximum=38.0, step=0.1, value=5.21),\n",
        "    ],\n",
        "    # Обновление при каждом изменении\n",
        "    # live=True,\n",
        "    outputs=gr.Text(label=\"Predicted Price ($)\"),\n",
        ")\n",
        "\n",
        "# Запуск интерфейса\n",
        "interface.launch(debug=False, share=True)"
      ],
      "metadata": {
        "id": "x-dyoItx2JN_",
        "colab": {
          "base_uri": "https://localhost:8080/",
          "height": 211
        },
        "outputId": "9115c931-e418-4574-9141-27b606405f9f"
      },
      "execution_count": 16,
      "outputs": [
        {
          "output_type": "error",
          "ename": "NameError",
          "evalue": "name 'predict_price' is not defined",
          "traceback": [
            "\u001b[0;31m---------------------------------------------------------------------------\u001b[0m",
            "\u001b[0;31mNameError\u001b[0m                                 Traceback (most recent call last)",
            "\u001b[0;32m<ipython-input-16-94fc50946862>\u001b[0m in \u001b[0;36m<cell line: 0>\u001b[0;34m()\u001b[0m\n\u001b[1;32m      4\u001b[0m \u001b[0;31m# Интерфейс Gradio\u001b[0m\u001b[0;34m\u001b[0m\u001b[0;34m\u001b[0m\u001b[0m\n\u001b[1;32m      5\u001b[0m interface = gr.Interface(\n\u001b[0;32m----> 6\u001b[0;31m     \u001b[0mfn\u001b[0m\u001b[0;34m=\u001b[0m\u001b[0mpredict_price\u001b[0m\u001b[0;34m,\u001b[0m\u001b[0;34m\u001b[0m\u001b[0;34m\u001b[0m\u001b[0m\n\u001b[0m\u001b[1;32m      7\u001b[0m     inputs=[\n\u001b[1;32m      8\u001b[0m         \u001b[0mgr\u001b[0m\u001b[0;34m.\u001b[0m\u001b[0mSlider\u001b[0m\u001b[0;34m(\u001b[0m\u001b[0mlabel\u001b[0m\u001b[0;34m=\u001b[0m\u001b[0;34m\"CRIM\"\u001b[0m\u001b[0;34m,\u001b[0m \u001b[0mminimum\u001b[0m\u001b[0;34m=\u001b[0m\u001b[0;36m0.006\u001b[0m\u001b[0;34m,\u001b[0m \u001b[0mmaximum\u001b[0m\u001b[0;34m=\u001b[0m\u001b[0;36m89.000\u001b[0m\u001b[0;34m,\u001b[0m \u001b[0mstep\u001b[0m\u001b[0;34m=\u001b[0m\u001b[0;36m0.1\u001b[0m\u001b[0;34m,\u001b[0m \u001b[0mvalue\u001b[0m\u001b[0;34m=\u001b[0m\u001b[0;36m0.02985\u001b[0m\u001b[0;34m)\u001b[0m\u001b[0;34m,\u001b[0m\u001b[0;34m\u001b[0m\u001b[0;34m\u001b[0m\u001b[0m\n",
            "\u001b[0;31mNameError\u001b[0m: name 'predict_price' is not defined"
          ]
        }
      ]
    },
    {
      "cell_type": "markdown",
      "source": [
        "#### 2. Проверка обученной модели пользовательскими данными"
      ],
      "metadata": {
        "id": "8UQpi9te2D4J"
      }
    },
    {
      "cell_type": "code",
      "source": [
        "# Ваш код\n",
        "def preprocess_input(features, scale_model=\"mms.pkl\"):\n",
        "\n",
        "  \"\"\"\n",
        "  Функция преобразует входные данные в формат,\n",
        "  подходящий для модели машинного обучения.\n",
        "\n",
        "  Args:\n",
        "      features: Список или массив с входными признаками.\n",
        "      scale_model: Путь к файлу с сохраненной моделью масштабирования.\n",
        "\n",
        "  Returns:\n",
        "      Преобразованный массив признаков.\n",
        "  \"\"\"\n",
        "\n",
        "  try:\n",
        "    # Преобразование в NumPy массив\n",
        "    features = np.array(features)\n",
        "\n",
        "    # Проверка на пустой массив\n",
        "    if not features.size:\n",
        "      raise ValueError(\"Пустой массив признаков!\")\n",
        "\n",
        "    # Изменение размерности массива (8,) -> (1, 8)\n",
        "    features = features.reshape(1, -1)\n",
        "\n",
        "    # Загрузка модели масштабирования\n",
        "    with open(scale_model, \"rb\") as f:\n",
        "      scaler = pickle.load(f)\n",
        "\n",
        "    # Масштабирование признаков\n",
        "    features = scaler.transform(features)\n",
        "\n",
        "  except Exception as e:\n",
        "    raise ValueError(f\"Ошибка при предобработке: {e}\")\n",
        "\n",
        "  return features"
      ],
      "metadata": {
        "id": "9aohXWhb2Jjh"
      },
      "execution_count": 17,
      "outputs": []
    },
    {
      "cell_type": "code",
      "source": [
        "def predict_price(*features):\n",
        "\n",
        "  \"\"\"\n",
        "  Функция прогнозирует цену на основе предобработанных\n",
        "  входных признаков.\n",
        "\n",
        "  Args:\n",
        "      features: Список или массив с входными признаками.\n",
        "\n",
        "  Returns:\n",
        "      Прогнозируемая цена (в долларах).\n",
        "  \"\"\"\n",
        "\n",
        "  try:\n",
        "    # Предобработка входных признаков\n",
        "    features = preprocess_input(features)\n",
        "\n",
        "    # Прогнозирование цены\n",
        "    prediction = model.predict(features, verbose=0)\n",
        "\n",
        "    # Проверка на ошибки прогнозирования\n",
        "    if np.isnan(prediction).any():\n",
        "      raise ValueError(\"Ошибка при прогнозировании: NaN\")\n",
        "\n",
        "  except Exception as e:\n",
        "    raise ValueError(f\"Ошибка при прогнозировании: {e}\")\n",
        "\n",
        "  # Возвращение прогнозируемой цены\n",
        "  # (умножение на 1000 для отображения в тысячах долларов)\n",
        "  return f\"{prediction[0][0] * 1000}\""
      ],
      "metadata": {
        "id": "IqEqnG_h0LhM"
      },
      "execution_count": 18,
      "outputs": []
    },
    {
      "cell_type": "code",
      "source": [
        "predict_price([0.02985, 0.00, 2.180, 0, 0.4580,\n",
        "               6.4300, 58.70, 6.0622, 3, 222.0, 18.70, 394.12, 5.21]) # 28 700 $"
      ],
      "metadata": {
        "colab": {
          "base_uri": "https://localhost:8080/",
          "height": 35
        },
        "id": "m2Qlm4a-0PHy",
        "outputId": "b3182d47-5e1d-4d81-87cd-cdd681712f34"
      },
      "execution_count": 19,
      "outputs": [
        {
          "output_type": "execute_result",
          "data": {
            "text/plain": [
              "'24222.984313964844'"
            ],
            "application/vnd.google.colaboratory.intrinsic+json": {
              "type": "string"
            }
          },
          "metadata": {},
          "execution_count": 19
        }
      ]
    },
    {
      "cell_type": "markdown",
      "source": [
        "## Задание №2.Обучение модели ИНС для решения задачи классификации\n",
        "\n"
      ],
      "metadata": {
        "id": "DQQMXC8garr3"
      }
    },
    {
      "cell_type": "markdown",
      "source": [
        "Порядок работы:"
      ],
      "metadata": {
        "id": "1OAwSdaG36Ip"
      }
    },
    {
      "cell_type": "markdown",
      "source": [
        "* 1. Собрать датасет из изображений, соответствующих не менее, чем 3 классам объектов (в\n",
        "примере с пары были кошки, собаки и панды).\n"
      ],
      "metadata": {
        "id": "q8COT3YubK-X"
      }
    },
    {
      "cell_type": "markdown",
      "source": [
        "- 2. Для каждого класса должно быть собрано не менее 1000 изображений. Количество\n",
        "изображений для каждого класса должно быть одинаковым.\n",
        "Готовые датасеты можно скачать отсюда: https://www.kaggle.com/\n"
      ],
      "metadata": {
        "id": "YstDH7J2bM5F"
      }
    },
    {
      "cell_type": "markdown",
      "source": [
        "- 3. Обучить модель глубокой нейронной сети для решения задачи классификации\n",
        "изображений, по выбранным Вами классам. (В качестве примера приведён код с пары)\n",
        "В конечном итоге Вы должны сохранить обученную модель для классификации\n",
        "изображений, соответствующих тем классам, которые Вы выбрали, а затем воспользоваться этой моделью для предсказания классов на пользовательских изображениях.\n",
        "\n"
      ],
      "metadata": {
        "id": "9aTvc3A4bN_h"
      }
    },
    {
      "cell_type": "markdown",
      "source": [
        "> При выполнении заданий пробуйте использовать разные функции потерь,\n",
        "методы оптимизации, функции активации и метрики ошибок."
      ],
      "metadata": {
        "id": "yKU34aHabUfp"
      }
    },
    {
      "cell_type": "markdown",
      "source": [
        "### 1. Устанавливаем зависимости:"
      ],
      "metadata": {
        "id": "l8zEG_g8O-Ge"
      }
    },
    {
      "cell_type": "code",
      "execution_count": 20,
      "metadata": {
        "id": "sh6kN7IMO8de"
      },
      "outputs": [],
      "source": [
        "# Импортируем LabelBinarizer для преобразования текстовых меток в векторы\n",
        "# (например, \"кошка\" -> [1, 0, 0], \"собака\" -> [0, 1, 0], \"панда\" -> [0, 0, 1])\n",
        "from sklearn.preprocessing import LabelBinarizer\n",
        "\n",
        "# Импортируем train_test_split для разделения данных на обучающую и тестовую выборки\n",
        "from sklearn.model_selection import train_test_split\n",
        "\n",
        "# Импортируем classification_report для оценки качества классификации\n",
        "from sklearn.metrics import classification_report\n",
        "\n",
        "# Импортируем Sequential для создания последовательной модели нейронной сети\n",
        "from keras.models import Sequential\n",
        "\n",
        "# Импортируем Dense для создания плотных слоев нейронной сети\n",
        "from keras.layers import Dense\n",
        "\n",
        "# Импортируем SGD и Adam для оптимизации обучения нейронной сети\n",
        "from keras.optimizers import SGD, Adam\n",
        "\n",
        "# Импортируем paths из imutils для удобной работы с путями к изображениям\n",
        "from imutils import paths\n",
        "\n",
        "# Импортируем pyplot из matplotlib для визуализации данных\n",
        "import matplotlib.pyplot as plt\n",
        "\n",
        "# Импортируем numpy для работы с массивами данных\n",
        "import numpy as np\n",
        "\n",
        "# Импортируем random для генерации случайных чисел\n",
        "import random\n",
        "\n",
        "# Импортируем pickle для сериализации и десериализации данных\n",
        "import pickle\n",
        "\n",
        "# Импортируем cv2 для работы с изображениями\n",
        "import cv2\n",
        "\n",
        "# Импортируем os для работы с файловой системой\n",
        "import os\n",
        "\n",
        "# Импортируем cv2_imshow из google.colab.patches для отображения изображений в Colab\n",
        "from google.colab.patches import cv2_imshow"
      ]
    },
    {
      "cell_type": "markdown",
      "source": [
        "### 2. Загружаем набор данных:"
      ],
      "metadata": {
        "id": "aJextk3pO8Ko"
      }
    },
    {
      "cell_type": "code",
      "source": [
        "from google.colab import drive\n",
        "drive.mount('/content/drive')"
      ],
      "metadata": {
        "colab": {
          "base_uri": "https://localhost:8080/"
        },
        "id": "th2eHEUBrHZ8",
        "outputId": "e05fe9d4-14fa-428f-82f9-21a0ec5df694"
      },
      "execution_count": 21,
      "outputs": [
        {
          "output_type": "stream",
          "name": "stdout",
          "text": [
            "Mounted at /content/drive\n"
          ]
        }
      ]
    },
    {
      "cell_type": "code",
      "source": [
        "%%capture\n",
        "!unzip animals.zip -d animals"
      ],
      "metadata": {
        "id": "YAnCizTkrKZa"
      },
      "execution_count": 22,
      "outputs": []
    },
    {
      "cell_type": "code",
      "execution_count": null,
      "metadata": {
        "id": "ZQOhPesK2-J8",
        "colab": {
          "base_uri": "https://localhost:8080/",
          "height": 340
        },
        "outputId": "4ffe19c6-94ab-4952-bb89-bb257464319c"
      },
      "outputs": [
        {
          "output_type": "execute_result",
          "data": {
            "text/plain": [
              "array([[[ 59,  65,  64],\n",
              "        [ 63,  69,  68],\n",
              "        [ 68,  74,  73],\n",
              "        ...,\n",
              "        [214, 219, 218],\n",
              "        [220, 225, 224],\n",
              "        [221, 226, 225]],\n",
              "\n",
              "       [[ 58,  64,  63],\n",
              "        [ 60,  66,  65],\n",
              "        [ 63,  69,  68],\n",
              "        ...,\n",
              "        [216, 221, 220],\n",
              "        [206, 211, 210],\n",
              "        [211, 216, 215]],\n",
              "\n",
              "       [[ 60,  66,  65],\n",
              "        [ 61,  67,  66],\n",
              "        [ 62,  68,  67],\n",
              "        ...,\n",
              "        [231, 236, 235],\n",
              "        [208, 213, 212],\n",
              "        [218, 223, 222]],\n",
              "\n",
              "       ...,\n",
              "\n",
              "       [[236, 236, 230],\n",
              "        [230, 230, 224],\n",
              "        [224, 224, 218],\n",
              "        ...,\n",
              "        [161, 169, 176],\n",
              "        [162, 170, 177],\n",
              "        [137, 145, 152]],\n",
              "\n",
              "       [[238, 238, 232],\n",
              "        [232, 232, 226],\n",
              "        [226, 226, 220],\n",
              "        ...,\n",
              "        [150, 156, 163],\n",
              "        [176, 182, 189],\n",
              "        [177, 183, 190]],\n",
              "\n",
              "       [[239, 239, 233],\n",
              "        [233, 233, 227],\n",
              "        [227, 227, 221],\n",
              "        ...,\n",
              "        [142, 148, 155],\n",
              "        [207, 213, 220],\n",
              "        [221, 227, 234]]], dtype=uint8)"
            ],
            "text/html": [
              "<style>\n",
              "      .ndarray_repr .ndarray_raw_data {\n",
              "        display: none;\n",
              "      }\n",
              "      .ndarray_repr.show_array .ndarray_raw_data {\n",
              "        display: block;\n",
              "      }\n",
              "      .ndarray_repr.show_array .ndarray_image_preview {\n",
              "        display: none;\n",
              "      }\n",
              "      </style>\n",
              "      <div id=\"id-9436fa88-9e5c-46d4-a6a5-38056c85398c\" class=\"ndarray_repr\"><pre>ndarray (300, 262, 3) <button style=\"padding: 0 2px;\">show data</button></pre><img src=\"data:image/png;base64,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\" class=\"ndarray_image_preview\" /><pre class=\"ndarray_raw_data\">array([[[ 59,  65,  64],\n",
              "        [ 63,  69,  68],\n",
              "        [ 68,  74,  73],\n",
              "        ...,\n",
              "        [214, 219, 218],\n",
              "        [220, 225, 224],\n",
              "        [221, 226, 225]],\n",
              "\n",
              "       [[ 58,  64,  63],\n",
              "        [ 60,  66,  65],\n",
              "        [ 63,  69,  68],\n",
              "        ...,\n",
              "        [216, 221, 220],\n",
              "        [206, 211, 210],\n",
              "        [211, 216, 215]],\n",
              "\n",
              "       [[ 60,  66,  65],\n",
              "        [ 61,  67,  66],\n",
              "        [ 62,  68,  67],\n",
              "        ...,\n",
              "        [231, 236, 235],\n",
              "        [208, 213, 212],\n",
              "        [218, 223, 222]],\n",
              "\n",
              "       ...,\n",
              "\n",
              "       [[236, 236, 230],\n",
              "        [230, 230, 224],\n",
              "        [224, 224, 218],\n",
              "        ...,\n",
              "        [161, 169, 176],\n",
              "        [162, 170, 177],\n",
              "        [137, 145, 152]],\n",
              "\n",
              "       [[238, 238, 232],\n",
              "        [232, 232, 226],\n",
              "        [226, 226, 220],\n",
              "        ...,\n",
              "        [150, 156, 163],\n",
              "        [176, 182, 189],\n",
              "        [177, 183, 190]],\n",
              "\n",
              "       [[239, 239, 233],\n",
              "        [233, 233, 227],\n",
              "        [227, 227, 221],\n",
              "        ...,\n",
              "        [142, 148, 155],\n",
              "        [207, 213, 220],\n",
              "        [221, 227, 234]]], dtype=uint8)</pre></div><script>\n",
              "      (() => {\n",
              "      const titles = ['show data', 'hide data'];\n",
              "      let index = 0\n",
              "      document.querySelector('#id-9436fa88-9e5c-46d4-a6a5-38056c85398c button').onclick = (e) => {\n",
              "        document.querySelector('#id-9436fa88-9e5c-46d4-a6a5-38056c85398c').classList.toggle('show_array');\n",
              "        index = (++index) % 2;\n",
              "        document.querySelector('#id-9436fa88-9e5c-46d4-a6a5-38056c85398c button').textContent = titles[index];\n",
              "        e.preventDefault();\n",
              "        e.stopPropagation();\n",
              "      }\n",
              "      })();\n",
              "    </script>"
            ]
          },
          "metadata": {},
          "execution_count": 28
        }
      ],
      "source": [
        "# Ваш код\n",
        "cv2.imread('/content/animals/chicken/OIP-Gp3iVb6wQlshSNI8KCVgugHaIf.jpeg')"
      ]
    },
    {
      "cell_type": "markdown",
      "source": [
        "### 3. Указываем путь к набору данных:"
      ],
      "metadata": {
        "id": "pX1km_kyV2Ka"
      }
    },
    {
      "cell_type": "code",
      "execution_count": null,
      "metadata": {
        "id": "hAqtXKu62-bU"
      },
      "outputs": [],
      "source": [
        "# Ваш код\n",
        "imagesPath = sorted(list(paths.list_images('/content/animals/')))\n",
        "random.shuffle(imagesPath)"
      ]
    },
    {
      "cell_type": "markdown",
      "source": [
        "### 4. Загружаем набор данных и формируем общую выборку:"
      ],
      "metadata": {
        "id": "sAYZPzKSVobq"
      }
    },
    {
      "cell_type": "code",
      "execution_count": null,
      "metadata": {
        "id": "1dqs5r-92-x7"
      },
      "outputs": [],
      "source": [
        "# Ваш код\n",
        "def load_images(imagePaths, compression_size = 32):\n",
        "  \"\"\"\n",
        "  Функция для загрузки изображений и преобразования их в векторы признаков.\n",
        "\n",
        "  Args:\n",
        "    imagePaths: список путей к изображениям.\n",
        "    compression_size: размер сжатия изображения\n",
        "\n",
        "  Returns:\n",
        "    data: список векторов признаков (сжатых изображений, преобразованных в векторы).\n",
        "    labels: список меток классов.\n",
        "  \"\"\"\n",
        "\n",
        "  data = []\n",
        "  labels = []\n",
        "\n",
        "  for imagePath in imagePaths:\n",
        "    # Загрузка изображения\n",
        "    image = cv2.imread(imagePath)\n",
        "\n",
        "    # Изменение разрешения изображения (по умолчанию 32х32х3 -> 3072,)\n",
        "    image = cv2.resize(image, (compression_size, compression_size)).flatten()\n",
        "\n",
        "    # Добавление изображения в список\n",
        "    data.append(image)\n",
        "\n",
        "    # Извлечение метки класса из пути к изображению\n",
        "    label = imagePath.split(os.path.sep)[-2]\n",
        "\n",
        "    # Добавление метки в список\n",
        "    labels.append(label)\n",
        "\n",
        "  return data, labels\n",
        "\n",
        "data, labels = load_images(imagesPath, 64)"
      ]
    },
    {
      "cell_type": "markdown",
      "source": [
        "#### 4.1. Нормализуем данные:"
      ],
      "metadata": {
        "id": "yeiILoUSXn4c"
      }
    },
    {
      "cell_type": "markdown",
      "source": [
        "Масштабируем интенсивности пикселей в диапазон [0, 1], а также преобразуем данные в массивы NumPy для повышения производительности\n"
      ],
      "metadata": {
        "id": "PceSnJBEZDPm"
      }
    },
    {
      "cell_type": "code",
      "execution_count": null,
      "metadata": {
        "id": "wejqgr9U2_hf"
      },
      "outputs": [],
      "source": [
        "# Ваш код\n",
        "data = np.array(data, dtype=\"float\") / 255.0\n",
        "labels = np.array(labels)"
      ]
    },
    {
      "cell_type": "markdown",
      "source": [
        "#### 4.2. Формируем обучающую и валидационную выборки:"
      ],
      "metadata": {
        "id": "lREm4zIRaSsx"
      }
    },
    {
      "cell_type": "markdown",
      "source": [
        "Разделяем данные на обучающую и валидационную выборки, используя 75% данных для обучения и оставшиеся 25% для валидации"
      ],
      "metadata": {
        "id": "lwTSSQkPa9oI"
      }
    },
    {
      "cell_type": "code",
      "execution_count": null,
      "metadata": {
        "id": "R23UTovQ3A7R"
      },
      "outputs": [],
      "source": [
        "# Ваш код\n",
        "(X_train, X_val, Y_train, Y_val) = train_test_split(data, labels, test_size=0.25, random_state=42)"
      ]
    },
    {
      "cell_type": "markdown",
      "source": [
        "Преобразование в OneHot Encoding"
      ],
      "metadata": {
        "id": "-JBzf-jYvp0t"
      }
    },
    {
      "cell_type": "code",
      "source": [
        "lb = LabelBinarizer()\n",
        "Y_train = lb.fit_transform(Y_train)\n",
        "Y_val = lb.transform(Y_val)"
      ],
      "metadata": {
        "id": "2ArxwvL7vpac"
      },
      "execution_count": null,
      "outputs": []
    },
    {
      "cell_type": "code",
      "source": [
        "Y_train, Y_val"
      ],
      "metadata": {
        "colab": {
          "base_uri": "https://localhost:8080/"
        },
        "id": "AD418FDOvx5_",
        "outputId": "0bec3513-65f0-4f6a-9ddb-3c336aa33b07"
      },
      "execution_count": null,
      "outputs": [
        {
          "output_type": "execute_result",
          "data": {
            "text/plain": [
              "(array([[1, 0, 0, 0],\n",
              "        [0, 0, 0, 1],\n",
              "        [0, 1, 0, 0],\n",
              "        ...,\n",
              "        [0, 0, 1, 0],\n",
              "        [1, 0, 0, 0],\n",
              "        [0, 0, 0, 1]]),\n",
              " array([[0, 0, 0, 1],\n",
              "        [0, 0, 0, 1],\n",
              "        [0, 1, 0, 0],\n",
              "        ...,\n",
              "        [0, 0, 0, 1],\n",
              "        [0, 1, 0, 0],\n",
              "        [0, 0, 0, 1]]))"
            ]
          },
          "metadata": {},
          "execution_count": 61
        }
      ]
    },
    {
      "cell_type": "markdown",
      "source": [
        "### 5. Создание модели:"
      ],
      "metadata": {
        "id": "Sz33nCuvc3Pk"
      }
    },
    {
      "cell_type": "markdown",
      "source": [
        "#### 5.1. Определим архитектуру модели с помощью Keras:"
      ],
      "metadata": {
        "id": "r2mcOGxEc-uB"
      }
    },
    {
      "cell_type": "code",
      "execution_count": null,
      "metadata": {
        "id": "nj_bAWxv3B0B",
        "colab": {
          "base_uri": "https://localhost:8080/"
        },
        "outputId": "2eec8325-3669-4939-b607-163222ca0800"
      },
      "outputs": [
        {
          "output_type": "stream",
          "name": "stderr",
          "text": [
            "/usr/local/lib/python3.11/dist-packages/keras/src/layers/core/dense.py:87: UserWarning: Do not pass an `input_shape`/`input_dim` argument to a layer. When using Sequential models, prefer using an `Input(shape)` object as the first layer in the model instead.\n",
            "  super().__init__(activity_regularizer=activity_regularizer, **kwargs)\n"
          ]
        }
      ],
      "source": [
        "# Ваш код\n",
        "model = Sequential()\n",
        "model.add(Dense(1024, input_shape=(12288,), activation='relu'))\n",
        "model.add(Dense(512, activation=\"relu\"))\n",
        "model.add(Dense(256, activation=\"relu\"))\n",
        "model.add(Dense(len(lb.classes_), activation='softmax'))"
      ]
    },
    {
      "cell_type": "code",
      "source": [
        "model.summary()"
      ],
      "metadata": {
        "colab": {
          "base_uri": "https://localhost:8080/",
          "height": 272
        },
        "id": "3Jl-3m424SVX",
        "outputId": "01a12a64-1698-49fb-bcc1-ce18b4c87d1a"
      },
      "execution_count": null,
      "outputs": [
        {
          "output_type": "display_data",
          "data": {
            "text/plain": [
              "\u001b[1mModel: \"sequential_5\"\u001b[0m\n"
            ],
            "text/html": [
              "<pre style=\"white-space:pre;overflow-x:auto;line-height:normal;font-family:Menlo,'DejaVu Sans Mono',consolas,'Courier New',monospace\"><span style=\"font-weight: bold\">Model: \"sequential_5\"</span>\n",
              "</pre>\n"
            ]
          },
          "metadata": {}
        },
        {
          "output_type": "display_data",
          "data": {
            "text/plain": [
              "┏━━━━━━━━━━━━━━━━━━━━━━━━━━━━━━━━━━━━━━┳━━━━━━━━━━━━━━━━━━━━━━━━━━━━━┳━━━━━━━━━━━━━━━━━┓\n",
              "┃\u001b[1m \u001b[0m\u001b[1mLayer (type)                        \u001b[0m\u001b[1m \u001b[0m┃\u001b[1m \u001b[0m\u001b[1mOutput Shape               \u001b[0m\u001b[1m \u001b[0m┃\u001b[1m \u001b[0m\u001b[1m        Param #\u001b[0m\u001b[1m \u001b[0m┃\n",
              "┡━━━━━━━━━━━━━━━━━━━━━━━━━━━━━━━━━━━━━━╇━━━━━━━━━━━━━━━━━━━━━━━━━━━━━╇━━━━━━━━━━━━━━━━━┩\n",
              "│ dense_13 (\u001b[38;5;33mDense\u001b[0m)                     │ (\u001b[38;5;45mNone\u001b[0m, \u001b[38;5;34m1024\u001b[0m)                │      \u001b[38;5;34m12,583,936\u001b[0m │\n",
              "├──────────────────────────────────────┼─────────────────────────────┼─────────────────┤\n",
              "│ dense_14 (\u001b[38;5;33mDense\u001b[0m)                     │ (\u001b[38;5;45mNone\u001b[0m, \u001b[38;5;34m512\u001b[0m)                 │         \u001b[38;5;34m524,800\u001b[0m │\n",
              "├──────────────────────────────────────┼─────────────────────────────┼─────────────────┤\n",
              "│ dense_15 (\u001b[38;5;33mDense\u001b[0m)                     │ (\u001b[38;5;45mNone\u001b[0m, \u001b[38;5;34m256\u001b[0m)                 │         \u001b[38;5;34m131,328\u001b[0m │\n",
              "├──────────────────────────────────────┼─────────────────────────────┼─────────────────┤\n",
              "│ dense_16 (\u001b[38;5;33mDense\u001b[0m)                     │ (\u001b[38;5;45mNone\u001b[0m, \u001b[38;5;34m4\u001b[0m)                   │           \u001b[38;5;34m1,028\u001b[0m │\n",
              "└──────────────────────────────────────┴─────────────────────────────┴─────────────────┘\n"
            ],
            "text/html": [
              "<pre style=\"white-space:pre;overflow-x:auto;line-height:normal;font-family:Menlo,'DejaVu Sans Mono',consolas,'Courier New',monospace\">┏━━━━━━━━━━━━━━━━━━━━━━━━━━━━━━━━━━━━━━┳━━━━━━━━━━━━━━━━━━━━━━━━━━━━━┳━━━━━━━━━━━━━━━━━┓\n",
              "┃<span style=\"font-weight: bold\"> Layer (type)                         </span>┃<span style=\"font-weight: bold\"> Output Shape                </span>┃<span style=\"font-weight: bold\">         Param # </span>┃\n",
              "┡━━━━━━━━━━━━━━━━━━━━━━━━━━━━━━━━━━━━━━╇━━━━━━━━━━━━━━━━━━━━━━━━━━━━━╇━━━━━━━━━━━━━━━━━┩\n",
              "│ dense_13 (<span style=\"color: #0087ff; text-decoration-color: #0087ff\">Dense</span>)                     │ (<span style=\"color: #00d7ff; text-decoration-color: #00d7ff\">None</span>, <span style=\"color: #00af00; text-decoration-color: #00af00\">1024</span>)                │      <span style=\"color: #00af00; text-decoration-color: #00af00\">12,583,936</span> │\n",
              "├──────────────────────────────────────┼─────────────────────────────┼─────────────────┤\n",
              "│ dense_14 (<span style=\"color: #0087ff; text-decoration-color: #0087ff\">Dense</span>)                     │ (<span style=\"color: #00d7ff; text-decoration-color: #00d7ff\">None</span>, <span style=\"color: #00af00; text-decoration-color: #00af00\">512</span>)                 │         <span style=\"color: #00af00; text-decoration-color: #00af00\">524,800</span> │\n",
              "├──────────────────────────────────────┼─────────────────────────────┼─────────────────┤\n",
              "│ dense_15 (<span style=\"color: #0087ff; text-decoration-color: #0087ff\">Dense</span>)                     │ (<span style=\"color: #00d7ff; text-decoration-color: #00d7ff\">None</span>, <span style=\"color: #00af00; text-decoration-color: #00af00\">256</span>)                 │         <span style=\"color: #00af00; text-decoration-color: #00af00\">131,328</span> │\n",
              "├──────────────────────────────────────┼─────────────────────────────┼─────────────────┤\n",
              "│ dense_16 (<span style=\"color: #0087ff; text-decoration-color: #0087ff\">Dense</span>)                     │ (<span style=\"color: #00d7ff; text-decoration-color: #00d7ff\">None</span>, <span style=\"color: #00af00; text-decoration-color: #00af00\">4</span>)                   │           <span style=\"color: #00af00; text-decoration-color: #00af00\">1,028</span> │\n",
              "└──────────────────────────────────────┴─────────────────────────────┴─────────────────┘\n",
              "</pre>\n"
            ]
          },
          "metadata": {}
        },
        {
          "output_type": "display_data",
          "data": {
            "text/plain": [
              "\u001b[1m Total params: \u001b[0m\u001b[38;5;34m13,241,092\u001b[0m (50.51 MB)\n"
            ],
            "text/html": [
              "<pre style=\"white-space:pre;overflow-x:auto;line-height:normal;font-family:Menlo,'DejaVu Sans Mono',consolas,'Courier New',monospace\"><span style=\"font-weight: bold\"> Total params: </span><span style=\"color: #00af00; text-decoration-color: #00af00\">13,241,092</span> (50.51 MB)\n",
              "</pre>\n"
            ]
          },
          "metadata": {}
        },
        {
          "output_type": "display_data",
          "data": {
            "text/plain": [
              "\u001b[1m Trainable params: \u001b[0m\u001b[38;5;34m13,241,092\u001b[0m (50.51 MB)\n"
            ],
            "text/html": [
              "<pre style=\"white-space:pre;overflow-x:auto;line-height:normal;font-family:Menlo,'DejaVu Sans Mono',consolas,'Courier New',monospace\"><span style=\"font-weight: bold\"> Trainable params: </span><span style=\"color: #00af00; text-decoration-color: #00af00\">13,241,092</span> (50.51 MB)\n",
              "</pre>\n"
            ]
          },
          "metadata": {}
        },
        {
          "output_type": "display_data",
          "data": {
            "text/plain": [
              "\u001b[1m Non-trainable params: \u001b[0m\u001b[38;5;34m0\u001b[0m (0.00 B)\n"
            ],
            "text/html": [
              "<pre style=\"white-space:pre;overflow-x:auto;line-height:normal;font-family:Menlo,'DejaVu Sans Mono',consolas,'Courier New',monospace\"><span style=\"font-weight: bold\"> Non-trainable params: </span><span style=\"color: #00af00; text-decoration-color: #00af00\">0</span> (0.00 B)\n",
              "</pre>\n"
            ]
          },
          "metadata": {}
        }
      ]
    },
    {
      "cell_type": "markdown",
      "source": [
        "#### 5.2. Установим значение параметров скорости обучения и общего числа эпох\n"
      ],
      "metadata": {
        "id": "HHFTdcCkg1Wr"
      }
    },
    {
      "cell_type": "code",
      "execution_count": null,
      "metadata": {
        "id": "pzlpLmGm3CMU"
      },
      "outputs": [],
      "source": [
        "# Ваш код\n",
        "INIT_LR = 0.01\n",
        "EPOCHS = 150"
      ]
    },
    {
      "cell_type": "markdown",
      "source": [
        "#### 5.3. Компилируем модель:"
      ],
      "metadata": {
        "id": "YaDdd2wphXLv"
      }
    },
    {
      "cell_type": "code",
      "execution_count": null,
      "metadata": {
        "id": "3mxDQXSc3Cc5"
      },
      "outputs": [],
      "source": [
        "# Ваш код\n",
        "opt = Adam(learning_rate=INIT_LR)\n",
        "\n",
        "model.compile(loss=\"categorical_crossentropy\", optimizer=opt, metrics=[\"accuracy\"])"
      ]
    },
    {
      "cell_type": "markdown",
      "source": [
        "### 6. Обучение модели искусственной нейронной сети:"
      ],
      "metadata": {
        "id": "EaJdxfw4hwjN"
      }
    },
    {
      "cell_type": "markdown",
      "source": [
        "#### 6.1. Добавим колбэки для сохранения лучшей модели по валидационной точности и остановки обучения, в случае, если модель перестала обучаться:"
      ],
      "metadata": {
        "id": "KAzlK96zi0dy"
      }
    },
    {
      "cell_type": "code",
      "execution_count": null,
      "metadata": {
        "id": "2d6HT9jU3C3E"
      },
      "outputs": [],
      "source": [
        "# Ваш код\n",
        "from keras.callbacks import EarlyStopping, ModelCheckpoint\n",
        "\n",
        "early_stopping = EarlyStopping(patience=10) # Остановка обучения, если валидационная точность не улучшается в течение 5 эпох\n",
        "\n",
        "checkpoint = ModelCheckpoint(filepath=\"best_model.h5\", monitor=\"val_accuracy\", save_best_only=True, verbose=0) # Сохранение модели только при улучшении валидационной точности"
      ]
    },
    {
      "cell_type": "markdown",
      "source": [
        "#### 6.2. Запустим процесс обучения модели:"
      ],
      "metadata": {
        "id": "IgakM035jDPi"
      }
    },
    {
      "cell_type": "code",
      "execution_count": null,
      "metadata": {
        "id": "YNloZiKH3DMV",
        "colab": {
          "base_uri": "https://localhost:8080/"
        },
        "outputId": "d2cd9d05-4576-4393-eda0-027493413f47"
      },
      "outputs": [
        {
          "output_type": "stream",
          "name": "stdout",
          "text": [
            "Epoch 1/150\n",
            "\u001b[1m54/54\u001b[0m \u001b[32m━━━━━━━━━━━━━━━━━━━━\u001b[0m\u001b[37m\u001b[0m \u001b[1m0s\u001b[0m 361ms/step - accuracy: 0.2518 - loss: 111.0935"
          ]
        },
        {
          "output_type": "stream",
          "name": "stderr",
          "text": [
            "WARNING:absl:You are saving your model as an HDF5 file via `model.save()` or `keras.saving.save_model(model)`. This file format is considered legacy. We recommend using instead the native Keras format, e.g. `model.save('my_model.keras')` or `keras.saving.save_model(model, 'my_model.keras')`. \n"
          ]
        },
        {
          "output_type": "stream",
          "name": "stdout",
          "text": [
            "\b\b\b\b\b\b\b\b\b\b\b\b\b\b\b\b\b\b\b\b\b\b\b\b\b\b\b\b\b\b\b\b\b\b\b\b\b\b\b\b\b\b\b\b\b\b\b\b\b\b\b\b\b\b\b\b\b\b\b\b\b\b\b\b\b\b\b\b\b\b\b\b\b\b\b\b\r\u001b[1m54/54\u001b[0m \u001b[32m━━━━━━━━━━━━━━━━━━━━\u001b[0m\u001b[37m\u001b[0m \u001b[1m25s\u001b[0m 430ms/step - accuracy: 0.2521 - loss: 109.7405 - val_accuracy: 0.3133 - val_loss: 1.4720\n",
            "Epoch 2/150\n",
            "\u001b[1m54/54\u001b[0m \u001b[32m━━━━━━━━━━━━━━━━━━━━\u001b[0m\u001b[37m\u001b[0m \u001b[1m0s\u001b[0m 355ms/step - accuracy: 0.3279 - loss: 1.3703"
          ]
        },
        {
          "output_type": "stream",
          "name": "stderr",
          "text": [
            "WARNING:absl:You are saving your model as an HDF5 file via `model.save()` or `keras.saving.save_model(model)`. This file format is considered legacy. We recommend using instead the native Keras format, e.g. `model.save('my_model.keras')` or `keras.saving.save_model(model, 'my_model.keras')`. \n"
          ]
        },
        {
          "output_type": "stream",
          "name": "stdout",
          "text": [
            "\b\b\b\b\b\b\b\b\b\b\b\b\b\b\b\b\b\b\b\b\b\b\b\b\b\b\b\b\b\b\b\b\b\b\b\b\b\b\b\b\b\b\b\b\b\b\b\b\b\b\b\b\b\b\b\b\b\b\b\b\b\b\b\b\b\b\b\b\b\b\b\b\b\b\r\u001b[1m54/54\u001b[0m \u001b[32m━━━━━━━━━━━━━━━━━━━━\u001b[0m\u001b[37m\u001b[0m \u001b[1m21s\u001b[0m 388ms/step - accuracy: 0.3282 - loss: 1.3699 - val_accuracy: 0.3372 - val_loss: 1.3393\n",
            "Epoch 3/150\n",
            "\u001b[1m54/54\u001b[0m \u001b[32m━━━━━━━━━━━━━━━━━━━━\u001b[0m\u001b[37m\u001b[0m \u001b[1m0s\u001b[0m 361ms/step - accuracy: 0.3578 - loss: 1.3197"
          ]
        },
        {
          "output_type": "stream",
          "name": "stderr",
          "text": [
            "WARNING:absl:You are saving your model as an HDF5 file via `model.save()` or `keras.saving.save_model(model)`. This file format is considered legacy. We recommend using instead the native Keras format, e.g. `model.save('my_model.keras')` or `keras.saving.save_model(model, 'my_model.keras')`. \n"
          ]
        },
        {
          "output_type": "stream",
          "name": "stdout",
          "text": [
            "\b\b\b\b\b\b\b\b\b\b\b\b\b\b\b\b\b\b\b\b\b\b\b\b\b\b\b\b\b\b\b\b\b\b\b\b\b\b\b\b\b\b\b\b\b\b\b\b\b\b\b\b\b\b\b\b\b\b\b\b\b\b\b\b\b\b\b\b\b\b\b\b\b\b\r\u001b[1m54/54\u001b[0m \u001b[32m━━━━━━━━━━━━━━━━━━━━\u001b[0m\u001b[37m\u001b[0m \u001b[1m22s\u001b[0m 409ms/step - accuracy: 0.3581 - loss: 1.3195 - val_accuracy: 0.3789 - val_loss: 1.2884\n",
            "Epoch 4/150\n",
            "\u001b[1m54/54\u001b[0m \u001b[32m━━━━━━━━━━━━━━━━━━━━\u001b[0m\u001b[37m\u001b[0m \u001b[1m0s\u001b[0m 365ms/step - accuracy: 0.4130 - loss: 1.2866"
          ]
        },
        {
          "output_type": "stream",
          "name": "stderr",
          "text": [
            "WARNING:absl:You are saving your model as an HDF5 file via `model.save()` or `keras.saving.save_model(model)`. This file format is considered legacy. We recommend using instead the native Keras format, e.g. `model.save('my_model.keras')` or `keras.saving.save_model(model, 'my_model.keras')`. \n"
          ]
        },
        {
          "output_type": "stream",
          "name": "stdout",
          "text": [
            "\b\b\b\b\b\b\b\b\b\b\b\b\b\b\b\b\b\b\b\b\b\b\b\b\b\b\b\b\b\b\b\b\b\b\b\b\b\b\b\b\b\b\b\b\b\b\b\b\b\b\b\b\b\b\b\b\b\b\b\b\b\b\b\b\b\b\b\b\b\b\b\b\b\b\r\u001b[1m54/54\u001b[0m \u001b[32m━━━━━━━━━━━━━━━━━━━━\u001b[0m\u001b[37m\u001b[0m \u001b[1m22s\u001b[0m 399ms/step - accuracy: 0.4129 - loss: 1.2867 - val_accuracy: 0.4344 - val_loss: 1.2647\n",
            "Epoch 5/150\n",
            "\u001b[1m54/54\u001b[0m \u001b[32m━━━━━━━━━━━━━━━━━━━━\u001b[0m\u001b[37m\u001b[0m \u001b[1m0s\u001b[0m 359ms/step - accuracy: 0.4281 - loss: 1.2706"
          ]
        },
        {
          "output_type": "stream",
          "name": "stderr",
          "text": [
            "WARNING:absl:You are saving your model as an HDF5 file via `model.save()` or `keras.saving.save_model(model)`. This file format is considered legacy. We recommend using instead the native Keras format, e.g. `model.save('my_model.keras')` or `keras.saving.save_model(model, 'my_model.keras')`. \n"
          ]
        },
        {
          "output_type": "stream",
          "name": "stdout",
          "text": [
            "\b\b\b\b\b\b\b\b\b\b\b\b\b\b\b\b\b\b\b\b\b\b\b\b\b\b\b\b\b\b\b\b\b\b\b\b\b\b\b\b\b\b\b\b\b\b\b\b\b\b\b\b\b\b\b\b\b\b\b\b\b\b\b\b\b\b\b\b\b\b\b\b\b\b\r\u001b[1m54/54\u001b[0m \u001b[32m━━━━━━━━━━━━━━━━━━━━\u001b[0m\u001b[37m\u001b[0m \u001b[1m21s\u001b[0m 396ms/step - accuracy: 0.4283 - loss: 1.2704 - val_accuracy: 0.4528 - val_loss: 1.2151\n",
            "Epoch 6/150\n",
            "\u001b[1m54/54\u001b[0m \u001b[32m━━━━━━━━━━━━━━━━━━━━\u001b[0m\u001b[37m\u001b[0m \u001b[1m40s\u001b[0m 379ms/step - accuracy: 0.4570 - loss: 1.2101 - val_accuracy: 0.4311 - val_loss: 1.2735\n",
            "Epoch 7/150\n",
            "\u001b[1m54/54\u001b[0m \u001b[32m━━━━━━━━━━━━━━━━━━━━\u001b[0m\u001b[37m\u001b[0m \u001b[1m0s\u001b[0m 369ms/step - accuracy: 0.4434 - loss: 1.2058"
          ]
        },
        {
          "output_type": "stream",
          "name": "stderr",
          "text": [
            "WARNING:absl:You are saving your model as an HDF5 file via `model.save()` or `keras.saving.save_model(model)`. This file format is considered legacy. We recommend using instead the native Keras format, e.g. `model.save('my_model.keras')` or `keras.saving.save_model(model, 'my_model.keras')`. \n"
          ]
        },
        {
          "output_type": "stream",
          "name": "stdout",
          "text": [
            "\b\b\b\b\b\b\b\b\b\b\b\b\b\b\b\b\b\b\b\b\b\b\b\b\b\b\b\b\b\b\b\b\b\b\b\b\b\b\b\b\b\b\b\b\b\b\b\b\b\b\b\b\b\b\b\b\b\b\b\b\b\b\b\b\b\b\b\b\b\b\b\b\b\b\r\u001b[1m54/54\u001b[0m \u001b[32m━━━━━━━━━━━━━━━━━━━━\u001b[0m\u001b[37m\u001b[0m \u001b[1m44s\u001b[0m 433ms/step - accuracy: 0.4438 - loss: 1.2055 - val_accuracy: 0.4722 - val_loss: 1.1747\n",
            "Epoch 8/150\n",
            "\u001b[1m54/54\u001b[0m \u001b[32m━━━━━━━━━━━━━━━━━━━━\u001b[0m\u001b[37m\u001b[0m \u001b[1m0s\u001b[0m 351ms/step - accuracy: 0.4846 - loss: 1.1636"
          ]
        },
        {
          "output_type": "stream",
          "name": "stderr",
          "text": [
            "WARNING:absl:You are saving your model as an HDF5 file via `model.save()` or `keras.saving.save_model(model)`. This file format is considered legacy. We recommend using instead the native Keras format, e.g. `model.save('my_model.keras')` or `keras.saving.save_model(model, 'my_model.keras')`. \n"
          ]
        },
        {
          "output_type": "stream",
          "name": "stdout",
          "text": [
            "\b\b\b\b\b\b\b\b\b\b\b\b\b\b\b\b\b\b\b\b\b\b\b\b\b\b\b\b\b\b\b\b\b\b\b\b\b\b\b\b\b\b\b\b\b\b\b\b\b\b\b\b\b\b\b\b\b\b\b\b\b\b\b\b\b\b\b\b\b\b\b\b\b\b\r\u001b[1m54/54\u001b[0m \u001b[32m━━━━━━━━━━━━━━━━━━━━\u001b[0m\u001b[37m\u001b[0m \u001b[1m38s\u001b[0m 383ms/step - accuracy: 0.4846 - loss: 1.1637 - val_accuracy: 0.4828 - val_loss: 1.1827\n",
            "Epoch 9/150\n",
            "\u001b[1m54/54\u001b[0m \u001b[32m━━━━━━━━━━━━━━━━━━━━\u001b[0m\u001b[37m\u001b[0m \u001b[1m0s\u001b[0m 384ms/step - accuracy: 0.4936 - loss: 1.1504"
          ]
        },
        {
          "output_type": "stream",
          "name": "stderr",
          "text": [
            "WARNING:absl:You are saving your model as an HDF5 file via `model.save()` or `keras.saving.save_model(model)`. This file format is considered legacy. We recommend using instead the native Keras format, e.g. `model.save('my_model.keras')` or `keras.saving.save_model(model, 'my_model.keras')`. \n"
          ]
        },
        {
          "output_type": "stream",
          "name": "stdout",
          "text": [
            "\b\b\b\b\b\b\b\b\b\b\b\b\b\b\b\b\b\b\b\b\b\b\b\b\b\b\b\b\b\b\b\b\b\b\b\b\b\b\b\b\b\b\b\b\b\b\b\b\b\b\b\b\b\b\b\b\b\b\b\b\b\b\b\b\b\b\b\b\b\b\b\b\b\b\r\u001b[1m54/54\u001b[0m \u001b[32m━━━━━━━━━━━━━━━━━━━━\u001b[0m\u001b[37m\u001b[0m \u001b[1m44s\u001b[0m 445ms/step - accuracy: 0.4937 - loss: 1.1502 - val_accuracy: 0.5083 - val_loss: 1.1400\n",
            "Epoch 10/150\n",
            "\u001b[1m54/54\u001b[0m \u001b[32m━━━━━━━━━━━━━━━━━━━━\u001b[0m\u001b[37m\u001b[0m \u001b[1m47s\u001b[0m 552ms/step - accuracy: 0.5278 - loss: 1.1125 - val_accuracy: 0.4111 - val_loss: 1.4511\n",
            "Epoch 11/150\n",
            "\u001b[1m54/54\u001b[0m \u001b[32m━━━━━━━━━━━━━━━━━━━━\u001b[0m\u001b[37m\u001b[0m \u001b[1m33s\u001b[0m 404ms/step - accuracy: 0.4938 - loss: 1.1842 - val_accuracy: 0.4956 - val_loss: 1.1531\n",
            "Epoch 12/150\n",
            "\u001b[1m54/54\u001b[0m \u001b[32m━━━━━━━━━━━━━━━━━━━━\u001b[0m\u001b[37m\u001b[0m \u001b[1m41s\u001b[0m 400ms/step - accuracy: 0.5471 - loss: 1.0724 - val_accuracy: 0.4950 - val_loss: 1.1581\n",
            "Epoch 13/150\n",
            "\u001b[1m54/54\u001b[0m \u001b[32m━━━━━━━━━━━━━━━━━━━━\u001b[0m\u001b[37m\u001b[0m \u001b[1m41s\u001b[0m 391ms/step - accuracy: 0.5383 - loss: 1.0940 - val_accuracy: 0.4317 - val_loss: 1.2835\n",
            "Epoch 14/150\n",
            "\u001b[1m54/54\u001b[0m \u001b[32m━━━━━━━━━━━━━━━━━━━━\u001b[0m\u001b[37m\u001b[0m \u001b[1m43s\u001b[0m 424ms/step - accuracy: 0.5204 - loss: 1.1113 - val_accuracy: 0.5039 - val_loss: 1.1437\n",
            "Epoch 15/150\n",
            "\u001b[1m54/54\u001b[0m \u001b[32m━━━━━━━━━━━━━━━━━━━━\u001b[0m\u001b[37m\u001b[0m \u001b[1m41s\u001b[0m 418ms/step - accuracy: 0.5822 - loss: 1.0168 - val_accuracy: 0.5078 - val_loss: 1.1380\n",
            "Epoch 16/150\n",
            "\u001b[1m54/54\u001b[0m \u001b[32m━━━━━━━━━━━━━━━━━━━━\u001b[0m\u001b[37m\u001b[0m \u001b[1m39s\u001b[0m 378ms/step - accuracy: 0.5573 - loss: 1.0623 - val_accuracy: 0.4811 - val_loss: 1.1919\n",
            "Epoch 17/150\n",
            "\u001b[1m54/54\u001b[0m \u001b[32m━━━━━━━━━━━━━━━━━━━━\u001b[0m\u001b[37m\u001b[0m \u001b[1m22s\u001b[0m 400ms/step - accuracy: 0.5986 - loss: 1.0133 - val_accuracy: 0.5056 - val_loss: 1.1677\n",
            "Epoch 18/150\n",
            "\u001b[1m54/54\u001b[0m \u001b[32m━━━━━━━━━━━━━━━━━━━━\u001b[0m\u001b[37m\u001b[0m \u001b[1m21s\u001b[0m 387ms/step - accuracy: 0.5921 - loss: 0.9914 - val_accuracy: 0.4733 - val_loss: 1.1849\n",
            "Epoch 19/150\n",
            "\u001b[1m54/54\u001b[0m \u001b[32m━━━━━━━━━━━━━━━━━━━━\u001b[0m\u001b[37m\u001b[0m \u001b[1m41s\u001b[0m 383ms/step - accuracy: 0.5677 - loss: 1.0203 - val_accuracy: 0.4978 - val_loss: 1.1600\n",
            "Epoch 20/150\n",
            "\u001b[1m54/54\u001b[0m \u001b[32m━━━━━━━━━━━━━━━━━━━━\u001b[0m\u001b[37m\u001b[0m \u001b[1m22s\u001b[0m 411ms/step - accuracy: 0.6115 - loss: 0.9572 - val_accuracy: 0.4783 - val_loss: 1.3005\n",
            "Epoch 21/150\n",
            "\u001b[1m54/54\u001b[0m \u001b[32m━━━━━━━━━━━━━━━━━━━━\u001b[0m\u001b[37m\u001b[0m \u001b[1m42s\u001b[0m 432ms/step - accuracy: 0.6018 - loss: 0.9433 - val_accuracy: 0.5028 - val_loss: 1.1960\n",
            "Epoch 22/150\n",
            "\u001b[1m54/54\u001b[0m \u001b[32m━━━━━━━━━━━━━━━━━━━━\u001b[0m\u001b[37m\u001b[0m \u001b[1m40s\u001b[0m 416ms/step - accuracy: 0.6217 - loss: 0.9405 - val_accuracy: 0.4978 - val_loss: 1.2250\n",
            "Epoch 23/150\n",
            "\u001b[1m54/54\u001b[0m \u001b[32m━━━━━━━━━━━━━━━━━━━━\u001b[0m\u001b[37m\u001b[0m \u001b[1m0s\u001b[0m 363ms/step - accuracy: 0.5891 - loss: 1.0134"
          ]
        },
        {
          "output_type": "stream",
          "name": "stderr",
          "text": [
            "WARNING:absl:You are saving your model as an HDF5 file via `model.save()` or `keras.saving.save_model(model)`. This file format is considered legacy. We recommend using instead the native Keras format, e.g. `model.save('my_model.keras')` or `keras.saving.save_model(model, 'my_model.keras')`. \n"
          ]
        },
        {
          "output_type": "stream",
          "name": "stdout",
          "text": [
            "\b\b\b\b\b\b\b\b\b\b\b\b\b\b\b\b\b\b\b\b\b\b\b\b\b\b\b\b\b\b\b\b\b\b\b\b\b\b\b\b\b\b\b\b\b\b\b\b\b\b\b\b\b\b\b\b\b\b\b\b\b\b\b\b\b\b\b\b\b\b\b\b\b\b\r\u001b[1m54/54\u001b[0m \u001b[32m━━━━━━━━━━━━━━━━━━━━\u001b[0m\u001b[37m\u001b[0m \u001b[1m42s\u001b[0m 433ms/step - accuracy: 0.5892 - loss: 1.0130 - val_accuracy: 0.5178 - val_loss: 1.1323\n",
            "Epoch 24/150\n",
            "\u001b[1m54/54\u001b[0m \u001b[32m━━━━━━━━━━━━━━━━━━━━\u001b[0m\u001b[37m\u001b[0m \u001b[1m20s\u001b[0m 377ms/step - accuracy: 0.6132 - loss: 0.9490 - val_accuracy: 0.4928 - val_loss: 1.1839\n",
            "Epoch 25/150\n",
            "\u001b[1m54/54\u001b[0m \u001b[32m━━━━━━━━━━━━━━━━━━━━\u001b[0m\u001b[37m\u001b[0m \u001b[1m21s\u001b[0m 383ms/step - accuracy: 0.5916 - loss: 0.9868 - val_accuracy: 0.4150 - val_loss: 1.3827\n",
            "Epoch 26/150\n",
            "\u001b[1m54/54\u001b[0m \u001b[32m━━━━━━━━━━━━━━━━━━━━\u001b[0m\u001b[37m\u001b[0m \u001b[1m43s\u001b[0m 415ms/step - accuracy: 0.6068 - loss: 0.9515 - val_accuracy: 0.4583 - val_loss: 1.2808\n",
            "Epoch 27/150\n",
            "\u001b[1m54/54\u001b[0m \u001b[32m━━━━━━━━━━━━━━━━━━━━\u001b[0m\u001b[37m\u001b[0m \u001b[1m21s\u001b[0m 390ms/step - accuracy: 0.6136 - loss: 0.9559 - val_accuracy: 0.4844 - val_loss: 1.2063\n",
            "Epoch 28/150\n",
            "\u001b[1m54/54\u001b[0m \u001b[32m━━━━━━━━━━━━━━━━━━━━\u001b[0m\u001b[37m\u001b[0m \u001b[1m42s\u001b[0m 404ms/step - accuracy: 0.6409 - loss: 0.8932 - val_accuracy: 0.4578 - val_loss: 1.3538\n",
            "Epoch 29/150\n",
            "\u001b[1m54/54\u001b[0m \u001b[32m━━━━━━━━━━━━━━━━━━━━\u001b[0m\u001b[37m\u001b[0m \u001b[1m40s\u001b[0m 390ms/step - accuracy: 0.6260 - loss: 0.9242 - val_accuracy: 0.5083 - val_loss: 1.2524\n",
            "Epoch 30/150\n",
            "\u001b[1m54/54\u001b[0m \u001b[32m━━━━━━━━━━━━━━━━━━━━\u001b[0m\u001b[37m\u001b[0m \u001b[1m42s\u001b[0m 413ms/step - accuracy: 0.6641 - loss: 0.8517 - val_accuracy: 0.5089 - val_loss: 1.1734\n",
            "Epoch 31/150\n",
            "\u001b[1m54/54\u001b[0m \u001b[32m━━━━━━━━━━━━━━━━━━━━\u001b[0m\u001b[37m\u001b[0m \u001b[1m39s\u001b[0m 384ms/step - accuracy: 0.6468 - loss: 0.9004 - val_accuracy: 0.5017 - val_loss: 1.2064\n",
            "Epoch 32/150\n",
            "\u001b[1m54/54\u001b[0m \u001b[32m━━━━━━━━━━━━━━━━━━━━\u001b[0m\u001b[37m\u001b[0m \u001b[1m41s\u001b[0m 376ms/step - accuracy: 0.6547 - loss: 0.8774 - val_accuracy: 0.4817 - val_loss: 1.3457\n",
            "Epoch 33/150\n",
            "\u001b[1m54/54\u001b[0m \u001b[32m━━━━━━━━━━━━━━━━━━━━\u001b[0m\u001b[37m\u001b[0m \u001b[1m0s\u001b[0m 400ms/step - accuracy: 0.6367 - loss: 0.8927"
          ]
        },
        {
          "output_type": "stream",
          "name": "stderr",
          "text": [
            "WARNING:absl:You are saving your model as an HDF5 file via `model.save()` or `keras.saving.save_model(model)`. This file format is considered legacy. We recommend using instead the native Keras format, e.g. `model.save('my_model.keras')` or `keras.saving.save_model(model, 'my_model.keras')`. \n"
          ]
        },
        {
          "output_type": "stream",
          "name": "stdout",
          "text": [
            "\b\b\b\b\b\b\b\b\b\b\b\b\b\b\b\b\b\b\b\b\b\b\b\b\b\b\b\b\b\b\b\b\b\b\b\b\b\b\b\b\b\b\b\b\b\b\b\b\b\b\b\b\b\b\b\b\b\b\b\b\b\b\b\b\b\b\b\b\b\b\b\b\b\b\r\u001b[1m54/54\u001b[0m \u001b[32m━━━━━━━━━━━━━━━━━━━━\u001b[0m\u001b[37m\u001b[0m \u001b[1m24s\u001b[0m 440ms/step - accuracy: 0.6368 - loss: 0.8931 - val_accuracy: 0.5239 - val_loss: 1.1736\n"
          ]
        }
      ],
      "source": [
        "# Ваш код\n",
        "H = model.fit(X_train, Y_train, validation_data=(X_val, Y_val), epochs=EPOCHS, batch_size=100, callbacks=[early_stopping, checkpoint])"
      ]
    },
    {
      "cell_type": "markdown",
      "source": [
        "#### 6.3. Загружаем лучшую модель:"
      ],
      "metadata": {
        "id": "-dESH383noKz"
      }
    },
    {
      "cell_type": "code",
      "execution_count": null,
      "metadata": {
        "id": "_ZOMBkJk3Dgk",
        "colab": {
          "base_uri": "https://localhost:8080/"
        },
        "outputId": "fa661b42-29e8-4286-c52c-3cb00ef61843"
      },
      "outputs": [
        {
          "output_type": "stream",
          "name": "stderr",
          "text": [
            "WARNING:absl:Compiled the loaded model, but the compiled metrics have yet to be built. `model.compile_metrics` will be empty until you train or evaluate the model.\n"
          ]
        }
      ],
      "source": [
        "# Ваш код\n",
        "from keras.models import load_model\n",
        "\n",
        "model = load_model(\"/content/best_model.h5\")"
      ]
    },
    {
      "cell_type": "markdown",
      "source": [
        "### 7. Оценка точности:"
      ],
      "metadata": {
        "id": "CLv-TknOoQ8l"
      }
    },
    {
      "cell_type": "markdown",
      "source": [
        "#### 7.1. Выведем отчет классификации"
      ],
      "metadata": {
        "id": "J16c8i49o2Kq"
      }
    },
    {
      "cell_type": "code",
      "execution_count": null,
      "metadata": {
        "id": "cqmQz4mO3D5s",
        "colab": {
          "base_uri": "https://localhost:8080/"
        },
        "outputId": "4a781540-e325-46c8-e75a-b71be73c431e"
      },
      "outputs": [
        {
          "output_type": "stream",
          "name": "stdout",
          "text": [
            "\u001b[1m57/57\u001b[0m \u001b[32m━━━━━━━━━━━━━━━━━━━━\u001b[0m\u001b[37m\u001b[0m \u001b[1m3s\u001b[0m 49ms/step\n",
            "              precision    recall  f1-score   support\n",
            "\n",
            "     chicken       0.60      0.55      0.57       474\n",
            "         cow       0.48      0.47      0.47       453\n",
            "       horse       0.61      0.45      0.52       449\n",
            "       sheep       0.45      0.64      0.53       424\n",
            "\n",
            "    accuracy                           0.52      1800\n",
            "   macro avg       0.54      0.53      0.52      1800\n",
            "weighted avg       0.54      0.52      0.52      1800\n",
            "\n"
          ]
        }
      ],
      "source": [
        "# Ваш код\n",
        "predictions = model.predict(X_val, batch_size=32)\n",
        "print(classification_report(Y_val.argmax(axis=1), predictions.argmax(axis=1), target_names=lb.classes_))"
      ]
    },
    {
      "cell_type": "markdown",
      "source": [
        "#### 7.2. Выведем матрицу ошибок"
      ],
      "metadata": {
        "id": "YwbFnynjpKYS"
      }
    },
    {
      "cell_type": "code",
      "execution_count": null,
      "metadata": {
        "id": "77_vkdSk3EOd",
        "colab": {
          "base_uri": "https://localhost:8080/",
          "height": 447
        },
        "outputId": "0276486a-5239-4db7-843a-374c452182d5"
      },
      "outputs": [
        {
          "output_type": "stream",
          "name": "stdout",
          "text": [
            "\u001b[1m57/57\u001b[0m \u001b[32m━━━━━━━━━━━━━━━━━━━━\u001b[0m\u001b[37m\u001b[0m \u001b[1m4s\u001b[0m 77ms/step\n"
          ]
        },
        {
          "output_type": "display_data",
          "data": {
            "text/plain": [
              "<Figure size 640x480 with 2 Axes>"
            ],
            "image/png": "[encoded data removed]"
          },
          "metadata": {}
        }
      ],
      "source": [
        "# Ваш код\n",
        "from sklearn.metrics import confusion_matrix\n",
        "import seaborn as sns\n",
        "\n",
        "# Получим прогнозы по валидационным даннным\n",
        "Y_pred = model.predict(X_val, batch_size=32)\n",
        "\n",
        "# Преобразуем вероятности в метки классов\n",
        "Y_pred = Y_pred.argmax(axis=1)\n",
        "Y_val = Y_val.argmax(axis=1)\n",
        "\n",
        "# Вычисляем матрицу ошибок\n",
        "conf_mat = confusion_matrix(Y_val, Y_pred)\n",
        "\n",
        "# Визуализируем матрицу ошибок\n",
        "sns.heatmap(conf_mat, annot=True, fmt=\"d\", cmap=\"YlGnBu\")\n",
        "plt.show()"
      ]
    },
    {
      "cell_type": "markdown",
      "source": [
        "#### 7.3. Отобразим график обучения"
      ],
      "metadata": {
        "id": "oqoaYCciugwi"
      }
    },
    {
      "cell_type": "code",
      "execution_count": null,
      "metadata": {
        "id": "ALa4XomM3EmL",
        "colab": {
          "base_uri": "https://localhost:8080/",
          "height": 477
        },
        "outputId": "c81e8af2-d1ea-420b-ea6b-062d12098a6f"
      },
      "outputs": [
        {
          "output_type": "display_data",
          "data": {
            "text/plain": [
              "<Figure size 640x480 with 1 Axes>"
            ],
            "image/png": "[encoded data removed]"
          },
          "metadata": {}
        }
      ],
      "source": [
        "# Ваш код\n",
        "# строим графики потерь и точности\n",
        "N = np.arange(0, 33)\n",
        "plt.style.use(\"ggplot\")\n",
        "plt.figure()\n",
        "plt.plot(N, H.history[\"loss\"], label=\"train_loss\")\n",
        "plt.plot(N, H.history[\"val_loss\"], label=\"val_loss\")\n",
        "plt.plot(N, H.history[\"accuracy\"], label=\"train_acc\")\n",
        "plt.plot(N, H.history[\"val_accuracy\"], label=\"val_acc\")\n",
        "plt.title(\"Training Loss and Accuracy (Simple NN)\")\n",
        "plt.xlabel(\"Epoch #\")\n",
        "plt.ylabel(\"Loss/Accuracy\")\n",
        "plt.legend()\n",
        "plt.savefig('plot.png')"
      ]
    },
    {
      "cell_type": "markdown",
      "source": [
        "### 8. Сохранение модели и меток классов:"
      ],
      "metadata": {
        "id": "RZfpw-xQu3Q8"
      }
    },
    {
      "cell_type": "code",
      "execution_count": null,
      "metadata": {
        "id": "mGlt9K8N3E7D"
      },
      "outputs": [],
      "source": [
        "# Ваш код\n",
        "def save_model_and_labels(model, lb, model_path = \"model.h5\", labels_path = \"label_bin\"):\n",
        "    \"\"\"\n",
        "    Сохраняет модель машинного обучения и метки классов в бинарном формате на диск.\n",
        "\n",
        "    Args:\n",
        "        model: Модель машинного обучения.\n",
        "        lb: Метки классов.\n",
        "        model_path: Путь к файлу модели.\n",
        "        labels_path: Путь к файлу меток.\n",
        "\n",
        "    Returns:\n",
        "        None.\n",
        "    \"\"\"\n",
        "\n",
        "    # Сохранение модели\n",
        "    model.save(model_path, save_format=\"h5\")\n",
        "\n",
        "    # Сохранение меток\n",
        "    with open(labels_path, \"wb\") as f:\n",
        "        f.write(pickle.dumps(lb))"
      ]
    },
    {
      "cell_type": "code",
      "source": [
        "model_path = \"model.h5\"\n",
        "labels_path = \"label_bin\"\n",
        "\n",
        "save_model_and_labels(model, lb, model_path, labels_path)"
      ],
      "metadata": {
        "colab": {
          "base_uri": "https://localhost:8080/"
        },
        "id": "Y0BX0WolFASS",
        "outputId": "9cf8a1fe-762a-40b8-b40e-323fa24ca79d"
      },
      "execution_count": null,
      "outputs": [
        {
          "output_type": "stream",
          "name": "stderr",
          "text": [
            "WARNING:absl:The `save_format` argument is deprecated in Keras 3. We recommend removing this argument as it can be inferred from the file path. Received: save_format=h5\n",
            "WARNING:absl:You are saving your model as an HDF5 file via `model.save()` or `keras.saving.save_model(model)`. This file format is considered legacy. We recommend using instead the native Keras format, e.g. `model.save('my_model.keras')` or `keras.saving.save_model(model, 'my_model.keras')`. \n"
          ]
        }
      ]
    },
    {
      "cell_type": "markdown",
      "metadata": {
        "id": "YjyCuhw1aeti"
      },
      "source": [
        "### 9. Проверка обученной модели пользовательскими данными:"
      ]
    },
    {
      "cell_type": "markdown",
      "source": [
        "#### 9.1. Импортируем необходимые библиотеки"
      ],
      "metadata": {
        "id": "yfUIW800wuyu"
      }
    },
    {
      "cell_type": "code",
      "execution_count": null,
      "metadata": {
        "id": "wk1qihbS3FR1"
      },
      "outputs": [],
      "source": [
        "# Ваш код\n",
        "from keras.models import load_model\n",
        "import gradio as gr  # Библиотека для создания веб-интерфейсов\n",
        "import pickle\n",
        "import cv2"
      ]
    },
    {
      "cell_type": "markdown",
      "source": [
        "#### 9.2. Реализуем функцию для предобработки входных данных в той же последовательности, что и при формировании обучающей выборки:"
      ],
      "metadata": {
        "id": "PM2dadCBwzES"
      }
    },
    {
      "cell_type": "code",
      "execution_count": null,
      "metadata": {
        "id": "P4KLc85A3FkU"
      },
      "outputs": [],
      "source": [
        "# Ваш код\n",
        "# Функция для предобработки изображения\n",
        "def preprocess_image(img, compression_size = 64):\n",
        "\n",
        "    \"\"\"\n",
        "    Функция для изменения размера, \"выравнивания\" и масштабирования изображения.\n",
        "\n",
        "    Args:\n",
        "    img: Изображение.\n",
        "\n",
        "    Returns:\n",
        "    Предобработанное изображение.\n",
        "    \"\"\"\n",
        "\n",
        "    image = img.copy()  # Создаем копию изображения\n",
        "    # Изменяем размер изображения до compression_size x compression_size пикселей\n",
        "    image = cv2.resize(image, (compression_size, compression_size))\n",
        "    # Преобразуем изображение в одномерный массив (вектор)\n",
        "    image = image.flatten()\n",
        "    # Масштабируем значения пикселей к диапазону [0, 1]\n",
        "    image = image.astype(\"float\") / 255.0\n",
        "    # Преобразуем массив в формат, совместимый с нашей моделью Keras\n",
        "    image = image.reshape((1, image.shape[0]))\n",
        "\n",
        "    return image"
      ]
    },
    {
      "cell_type": "markdown",
      "source": [
        "#### 9.3. Определим функцию для осуществления прогноза по загруженной модели:"
      ],
      "metadata": {
        "id": "UXPI1dAIxvPz"
      }
    },
    {
      "cell_type": "code",
      "execution_count": null,
      "metadata": {
        "id": "LO4Ty_t0anmv"
      },
      "outputs": [],
      "source": [
        "# Ваш код\n",
        "def predict_image(img, preprocess_func = preprocess_image, model_path = \"model.h5\", label_path = \"label_bin\"):\n",
        "\n",
        "    \"\"\"\n",
        "    Функция для выполнения предсказания класса, возвращает\n",
        "    словарь с вероятностями для каждого класса.\n",
        "\n",
        "    Args:\n",
        "    img: Изображение.\n",
        "    preprocess_funk: Функция для предобработки изображения.\n",
        "    model_path: Путь к файлу модели.\n",
        "    label_path: Путь к файлу с метками.\n",
        "\n",
        "    Returns:\n",
        "    Словарь с метками и вероятностями для каждого класса.\n",
        "    \"\"\"\n",
        "\n",
        "    # Загружаем модель и метки\n",
        "    model = load_model(model_path)  # Загрузка модели Keras\n",
        "    lb = pickle.loads(open(label_path, \"rb\").read())  # Загрузка словаря с метками\n",
        "\n",
        "    # Делаем предсказание на изображении\n",
        "    image = preprocess_func(img.copy())  # Предобработка изображения\n",
        "    preds = model.predict(image).flatten()  # Выполнение предсказания\n",
        "\n",
        "    # Возвращаем словарь с метками и вероятностями для каждого класса\n",
        "    confidences = {lb.classes_[i]: float(preds[i]) for i in range(len(preds))}\n",
        "\n",
        "    return confidences"
      ]
    },
    {
      "cell_type": "markdown",
      "source": [
        "### 10. Визуализируем интерфейс и произведем классификацию:"
      ],
      "metadata": {
        "id": "acXaOZ_z3dDq"
      }
    },
    {
      "cell_type": "code",
      "execution_count": null,
      "metadata": {
        "id": "5wW8xYEB3dDr",
        "colab": {
          "base_uri": "https://localhost:8080/",
          "height": 591
        },
        "outputId": "e09c08d5-a3fe-4463-945c-fe35a45f3719"
      },
      "outputs": [
        {
          "output_type": "stream",
          "name": "stdout",
          "text": [
            "Colab notebook detected. To show errors in colab notebook, set debug=True in launch()\n",
            "* Running on public URL: https://ef767804f301161f35.gradio.live\n",
            "\n",
            "This share link expires in 72 hours. For free permanent hosting and GPU upgrades, run `gradio deploy` from the terminal in the working directory to deploy to Hugging Face Spaces (https://huggingface.co/spaces)\n"
          ]
        },
        {
          "output_type": "display_data",
          "data": {
            "text/plain": [
              "<IPython.core.display.HTML object>"
            ],
            "text/html": [
              "<div><iframe src=\"https://ef767804f301161f35.gradio.live\" width=\"100%\" height=\"500\" allow=\"autoplay; camera; microphone; clipboard-read; clipboard-write;\" frameborder=\"0\" allowfullscreen></iframe></div>"
            ]
          },
          "metadata": {}
        },
        {
          "output_type": "execute_result",
          "data": {
            "text/plain": []
          },
          "metadata": {},
          "execution_count": 85
        }
      ],
      "source": [
        "# Ваш код\n",
        "# Создаем интерфейс Gradio\n",
        "interface = gr.Interface(\n",
        "    fn=predict_image,  # Функция, которая будет вызываться при загрузке изображения\n",
        "    inputs=gr.Image(label=\"Загрузите изображение\"),  # Входные данные: изображение\n",
        "    outputs= gr.Label(num_top_classes=len(lb.classes_)), # Выходные данные: топ-N классов с наибольшей вероятностью\n",
        "    examples=[\"/content/animals/chicken/OIP-HE7FDpcfoN9t6ugniCItwwHaE6.jpeg\",\n",
        "              \"/content/animals/cow/OIP-1dcLlGo-oFc6UqTUl6yeHwHaEt.jpeg\",\n",
        "              \"/content/animals/horse/OIP-0k_R3Nyg6o3p42oKJ_Y0sQAAAA.jpeg\",\n",
        "              \"/content/animals/sheep/OIP-5K-RBqkPeoxQq_gSdfHadwAAAA.jpeg\"])\n",
        "\n",
        "# Запускаем интерфейс\n",
        "interface.launch(share=True)"
      ]
    }
  ]
}