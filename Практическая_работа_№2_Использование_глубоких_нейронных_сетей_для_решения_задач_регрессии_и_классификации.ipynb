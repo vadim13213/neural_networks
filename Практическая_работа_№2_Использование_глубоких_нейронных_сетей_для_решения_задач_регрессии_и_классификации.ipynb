{
  "nbformat": 4,
  "nbformat_minor": 0,
  "metadata": {
    "colab": {
      "provenance": [],
      "include_colab_link": true
    },
    "kernelspec": {
      "name": "python3",
      "display_name": "Python 3"
    },
    "language_info": {
      "name": "python"
    }
  },
  "cells": [
    {
      "cell_type": "markdown",
      "metadata": {
        "id": "view-in-github",
        "colab_type": "text"
      },
      "source": [
        "<a href=\"https://colab.research.google.com/github/vadim13213/neural_networks/blob/main/%D0%9F%D1%80%D0%B0%D0%BA%D1%82%D0%B8%D1%87%D0%B5%D1%81%D0%BA%D0%B0%D1%8F_%D1%80%D0%B0%D0%B1%D0%BE%D1%82%D0%B0_%E2%84%962_%D0%98%D1%81%D0%BF%D0%BE%D0%BB%D1%8C%D0%B7%D0%BE%D0%B2%D0%B0%D0%BD%D0%B8%D0%B5_%D0%B3%D0%BB%D1%83%D0%B1%D0%BE%D0%BA%D0%B8%D1%85_%D0%BD%D0%B5%D0%B9%D1%80%D0%BE%D0%BD%D0%BD%D1%8B%D1%85_%D1%81%D0%B5%D1%82%D0%B5%D0%B9_%D0%B4%D0%BB%D1%8F_%D1%80%D0%B5%D1%88%D0%B5%D0%BD%D0%B8%D1%8F_%D0%B7%D0%B0%D0%B4%D0%B0%D1%87_%D1%80%D0%B5%D0%B3%D1%80%D0%B5%D1%81%D1%81%D0%B8%D0%B8_%D0%B8_%D0%BA%D0%BB%D0%B0%D1%81%D1%81%D0%B8%D1%84%D0%B8%D0%BA%D0%B0%D1%86%D0%B8%D0%B8.ipynb\" target=\"_parent\"><img src=\"https://colab.research.google.com/assets/colab-badge.svg\" alt=\"Open In Colab\"/></a>"
      ]
    },
    {
      "cell_type": "markdown",
      "source": [
        "# Практическая работа №2. Использование глубоких нейронных сетей для решения задач регрессии и классификации\n",
        "\n"
      ],
      "metadata": {
        "id": "jVOridAYaoD_"
      }
    },
    {
      "cell_type": "markdown",
      "source": [
        "**Ссылка на код с пары:**\n",
        "https://colab.research.google.com/drive/18EM8mrpURStkmbxWjZybWbWh23Si5b4A?usp=sharing\n"
      ],
      "metadata": {
        "id": "xfLS4L8wbf5M"
      }
    },
    {
      "cell_type": "markdown",
      "source": [
        "## Задание №1. Обучение модели ИНС для решения задачи регрессии\n",
        "\n"
      ],
      "metadata": {
        "id": "ChzaEMuFavMw"
      }
    },
    {
      "cell_type": "markdown",
      "source": [
        "Постройте глубокую нейронную сеть для предсказания цен на недвижимость в городе Бостон, используя датасет датасет boston_housing_price"
      ],
      "metadata": {
        "id": "_AW7ypoN3qSi"
      }
    },
    {
      "cell_type": "markdown",
      "source": [
        "[Описание датасета](https://www.hackersrealm.net/post/boston-house-price-prediction-analysis-using-python)"
      ],
      "metadata": {
        "id": "O1PDCog53nrg"
      }
    },
    {
      "cell_type": "markdown",
      "source": [
        "#### 1.1. Загружаем исходные данные:"
      ],
      "metadata": {
        "id": "QWLURy8z0u3k"
      }
    },
    {
      "cell_type": "code",
      "source": [
        "import pandas as pd\n",
        "import numpy as np\n",
        "\n",
        "data_url = \"http://lib.stat.cmu.edu/datasets/boston\"\n",
        "raw_df = pd.read_csv(data_url, sep=\"\\s+\", skiprows=22, header=None)\n",
        "data = np.hstack([raw_df.values[::2, :], raw_df.values[1::2, :2]])\n",
        "target = raw_df.values[1::2, 2]"
      ],
      "metadata": {
        "id": "vGAIXw8gzpLL"
      },
      "execution_count": 1,
      "outputs": []
    },
    {
      "cell_type": "code",
      "source": [
        "df = pd.DataFrame(data, columns=['CRIM', 'ZN', 'INDUS', 'CHAS', 'NOX', 'RM',\n",
        "                                 'AGE', 'DIS', 'RAD', 'TAX', 'PTRATIO', 'B', 'LSTAT'])"
      ],
      "metadata": {
        "id": "7PdTmOSw35tq"
      },
      "execution_count": 2,
      "outputs": []
    },
    {
      "cell_type": "code",
      "source": [
        "print(df.describe())"
      ],
      "metadata": {
        "colab": {
          "base_uri": "https://localhost:8080/"
        },
        "id": "j466JeJ-3FoG",
        "outputId": "e8dd82ae-5c37-4d7b-bff9-d228d712f80a"
      },
      "execution_count": 3,
      "outputs": [
        {
          "output_type": "stream",
          "name": "stdout",
          "text": [
            "             CRIM          ZN       INDUS        CHAS         NOX          RM  \\\n",
            "count  506.000000  506.000000  506.000000  506.000000  506.000000  506.000000   \n",
            "mean     3.613524   11.363636   11.136779    0.069170    0.554695    6.284634   \n",
            "std      8.601545   23.322453    6.860353    0.253994    0.115878    0.702617   \n",
            "min      0.006320    0.000000    0.460000    0.000000    0.385000    3.561000   \n",
            "25%      0.082045    0.000000    5.190000    0.000000    0.449000    5.885500   \n",
            "50%      0.256510    0.000000    9.690000    0.000000    0.538000    6.208500   \n",
            "75%      3.677083   12.500000   18.100000    0.000000    0.624000    6.623500   \n",
            "max     88.976200  100.000000   27.740000    1.000000    0.871000    8.780000   \n",
            "\n",
            "              AGE         DIS         RAD         TAX     PTRATIO           B  \\\n",
            "count  506.000000  506.000000  506.000000  506.000000  506.000000  506.000000   \n",
            "mean    68.574901    3.795043    9.549407  408.237154   18.455534  356.674032   \n",
            "std     28.148861    2.105710    8.707259  168.537116    2.164946   91.294864   \n",
            "min      2.900000    1.129600    1.000000  187.000000   12.600000    0.320000   \n",
            "25%     45.025000    2.100175    4.000000  279.000000   17.400000  375.377500   \n",
            "50%     77.500000    3.207450    5.000000  330.000000   19.050000  391.440000   \n",
            "75%     94.075000    5.188425   24.000000  666.000000   20.200000  396.225000   \n",
            "max    100.000000   12.126500   24.000000  711.000000   22.000000  396.900000   \n",
            "\n",
            "            LSTAT  \n",
            "count  506.000000  \n",
            "mean    12.653063  \n",
            "std      7.141062  \n",
            "min      1.730000  \n",
            "25%      6.950000  \n",
            "50%     11.360000  \n",
            "75%     16.955000  \n",
            "max     37.970000  \n"
          ]
        }
      ]
    },
    {
      "cell_type": "markdown",
      "source": [
        "Разделяем на обучающую и тестовую"
      ],
      "metadata": {
        "id": "GVO-Sh9di1LA"
      }
    },
    {
      "cell_type": "code",
      "source": [
        "from sklearn.model_selection import train_test_split\n",
        "\n",
        "X_train, X_test, y_train, y_test = train_test_split(data, target, test_size=0.2, random_state=0)\n",
        "X_train.shape, X_test.shape"
      ],
      "metadata": {
        "colab": {
          "base_uri": "https://localhost:8080/"
        },
        "id": "xAINPan-inHd",
        "outputId": "22d4f99f-4dc4-4ca1-cc79-4290289a50b4"
      },
      "execution_count": 4,
      "outputs": [
        {
          "output_type": "execute_result",
          "data": {
            "text/plain": [
              "((404, 13), (102, 13))"
            ]
          },
          "metadata": {},
          "execution_count": 4
        }
      ]
    },
    {
      "cell_type": "code",
      "source": [
        "y_train.shape, y_test.shape"
      ],
      "metadata": {
        "colab": {
          "base_uri": "https://localhost:8080/"
        },
        "id": "lUKkNqtDtMJs",
        "outputId": "a9f2487d-deea-4c36-aa96-88d6c42898b9"
      },
      "execution_count": 5,
      "outputs": [
        {
          "output_type": "execute_result",
          "data": {
            "text/plain": [
              "((404,), (102,))"
            ]
          },
          "metadata": {},
          "execution_count": 5
        }
      ]
    },
    {
      "cell_type": "markdown",
      "source": [
        "Нормализируем обучающие и тестовые данные (не ответы)"
      ],
      "metadata": {
        "id": "Vs5bHgjykuN_"
      }
    },
    {
      "cell_type": "code",
      "source": [
        "from sklearn.preprocessing import MinMaxScaler\n",
        "\n",
        "\n",
        "mms = MinMaxScaler()\n",
        "\n",
        "X_train_n = mms.fit_transform(X_train)\n",
        "X_test_n = mms.transform(X_test)"
      ],
      "metadata": {
        "id": "c4d9_B9hktiS"
      },
      "execution_count": 6,
      "outputs": []
    },
    {
      "cell_type": "code",
      "source": [
        "import pickle\n",
        "\n",
        "with open(\"mms.pkl\", \"wb\") as f:\n",
        "    pickle.dump(mms, f)"
      ],
      "metadata": {
        "id": "Jo1LcR7C0Ari"
      },
      "execution_count": 7,
      "outputs": []
    },
    {
      "cell_type": "markdown",
      "metadata": {
        "id": "815ut8JJTIM7"
      },
      "source": [
        "#### 1.2. Проектируем архитектуру для этой задачи"
      ]
    },
    {
      "cell_type": "code",
      "source": [
        "# Ваш код\n",
        "from tensorflow.keras.layers import Dense\n",
        "from tensorflow.keras.models import Sequential\n",
        "\n",
        "\n",
        "model = Sequential([\n",
        "    Dense(26, input_shape=(13,), activation='relu'),\n",
        "    Dense(1, activation='relu')\n",
        "])\n",
        "\n",
        "model.summary()"
      ],
      "metadata": {
        "id": "alrRyjbs1c8s",
        "colab": {
          "base_uri": "https://localhost:8080/",
          "height": 257
        },
        "outputId": "2c2ae093-1a92-49e9-a5a9-85618cf08d7b"
      },
      "execution_count": 8,
      "outputs": [
        {
          "output_type": "stream",
          "name": "stderr",
          "text": [
            "/usr/local/lib/python3.11/dist-packages/keras/src/layers/core/dense.py:87: UserWarning: Do not pass an `input_shape`/`input_dim` argument to a layer. When using Sequential models, prefer using an `Input(shape)` object as the first layer in the model instead.\n",
            "  super().__init__(activity_regularizer=activity_regularizer, **kwargs)\n"
          ]
        },
        {
          "output_type": "display_data",
          "data": {
            "text/plain": [
              "\u001b[1mModel: \"sequential\"\u001b[0m\n"
            ],
            "text/html": [
              "<pre style=\"white-space:pre;overflow-x:auto;line-height:normal;font-family:Menlo,'DejaVu Sans Mono',consolas,'Courier New',monospace\"><span style=\"font-weight: bold\">Model: \"sequential\"</span>\n",
              "</pre>\n"
            ]
          },
          "metadata": {}
        },
        {
          "output_type": "display_data",
          "data": {
            "text/plain": [
              "┏━━━━━━━━━━━━━━━━━━━━━━━━━━━━━━━━━━━━━━┳━━━━━━━━━━━━━━━━━━━━━━━━━━━━━┳━━━━━━━━━━━━━━━━━┓\n",
              "┃\u001b[1m \u001b[0m\u001b[1mLayer (type)                        \u001b[0m\u001b[1m \u001b[0m┃\u001b[1m \u001b[0m\u001b[1mOutput Shape               \u001b[0m\u001b[1m \u001b[0m┃\u001b[1m \u001b[0m\u001b[1m        Param #\u001b[0m\u001b[1m \u001b[0m┃\n",
              "┡━━━━━━━━━━━━━━━━━━━━━━━━━━━━━━━━━━━━━━╇━━━━━━━━━━━━━━━━━━━━━━━━━━━━━╇━━━━━━━━━━━━━━━━━┩\n",
              "│ dense (\u001b[38;5;33mDense\u001b[0m)                        │ (\u001b[38;5;45mNone\u001b[0m, \u001b[38;5;34m26\u001b[0m)                  │             \u001b[38;5;34m364\u001b[0m │\n",
              "├──────────────────────────────────────┼─────────────────────────────┼─────────────────┤\n",
              "│ dense_1 (\u001b[38;5;33mDense\u001b[0m)                      │ (\u001b[38;5;45mNone\u001b[0m, \u001b[38;5;34m1\u001b[0m)                   │              \u001b[38;5;34m27\u001b[0m │\n",
              "└──────────────────────────────────────┴─────────────────────────────┴─────────────────┘\n"
            ],
            "text/html": [
              "<pre style=\"white-space:pre;overflow-x:auto;line-height:normal;font-family:Menlo,'DejaVu Sans Mono',consolas,'Courier New',monospace\">┏━━━━━━━━━━━━━━━━━━━━━━━━━━━━━━━━━━━━━━┳━━━━━━━━━━━━━━━━━━━━━━━━━━━━━┳━━━━━━━━━━━━━━━━━┓\n",
              "┃<span style=\"font-weight: bold\"> Layer (type)                         </span>┃<span style=\"font-weight: bold\"> Output Shape                </span>┃<span style=\"font-weight: bold\">         Param # </span>┃\n",
              "┡━━━━━━━━━━━━━━━━━━━━━━━━━━━━━━━━━━━━━━╇━━━━━━━━━━━━━━━━━━━━━━━━━━━━━╇━━━━━━━━━━━━━━━━━┩\n",
              "│ dense (<span style=\"color: #0087ff; text-decoration-color: #0087ff\">Dense</span>)                        │ (<span style=\"color: #00d7ff; text-decoration-color: #00d7ff\">None</span>, <span style=\"color: #00af00; text-decoration-color: #00af00\">26</span>)                  │             <span style=\"color: #00af00; text-decoration-color: #00af00\">364</span> │\n",
              "├──────────────────────────────────────┼─────────────────────────────┼─────────────────┤\n",
              "│ dense_1 (<span style=\"color: #0087ff; text-decoration-color: #0087ff\">Dense</span>)                      │ (<span style=\"color: #00d7ff; text-decoration-color: #00d7ff\">None</span>, <span style=\"color: #00af00; text-decoration-color: #00af00\">1</span>)                   │              <span style=\"color: #00af00; text-decoration-color: #00af00\">27</span> │\n",
              "└──────────────────────────────────────┴─────────────────────────────┴─────────────────┘\n",
              "</pre>\n"
            ]
          },
          "metadata": {}
        },
        {
          "output_type": "display_data",
          "data": {
            "text/plain": [
              "\u001b[1m Total params: \u001b[0m\u001b[38;5;34m391\u001b[0m (1.53 KB)\n"
            ],
            "text/html": [
              "<pre style=\"white-space:pre;overflow-x:auto;line-height:normal;font-family:Menlo,'DejaVu Sans Mono',consolas,'Courier New',monospace\"><span style=\"font-weight: bold\"> Total params: </span><span style=\"color: #00af00; text-decoration-color: #00af00\">391</span> (1.53 KB)\n",
              "</pre>\n"
            ]
          },
          "metadata": {}
        },
        {
          "output_type": "display_data",
          "data": {
            "text/plain": [
              "\u001b[1m Trainable params: \u001b[0m\u001b[38;5;34m391\u001b[0m (1.53 KB)\n"
            ],
            "text/html": [
              "<pre style=\"white-space:pre;overflow-x:auto;line-height:normal;font-family:Menlo,'DejaVu Sans Mono',consolas,'Courier New',monospace\"><span style=\"font-weight: bold\"> Trainable params: </span><span style=\"color: #00af00; text-decoration-color: #00af00\">391</span> (1.53 KB)\n",
              "</pre>\n"
            ]
          },
          "metadata": {}
        },
        {
          "output_type": "display_data",
          "data": {
            "text/plain": [
              "\u001b[1m Non-trainable params: \u001b[0m\u001b[38;5;34m0\u001b[0m (0.00 B)\n"
            ],
            "text/html": [
              "<pre style=\"white-space:pre;overflow-x:auto;line-height:normal;font-family:Menlo,'DejaVu Sans Mono',consolas,'Courier New',monospace\"><span style=\"font-weight: bold\"> Non-trainable params: </span><span style=\"color: #00af00; text-decoration-color: #00af00\">0</span> (0.00 B)\n",
              "</pre>\n"
            ]
          },
          "metadata": {}
        }
      ]
    },
    {
      "cell_type": "markdown",
      "metadata": {
        "id": "F9E1W4yCT0YC"
      },
      "source": [
        "#### 1.3. Компилируем модель ИНС\n",
        "\n",
        "Подберите нужную функцию потерь и метрику."
      ]
    },
    {
      "cell_type": "code",
      "source": [
        "# Ваш код\n",
        "model.compile(optimizer='sgd', loss='mse', metrics=['mae'])"
      ],
      "metadata": {
        "id": "Fu8VHdqV1gqy"
      },
      "execution_count": 9,
      "outputs": []
    },
    {
      "cell_type": "markdown",
      "metadata": {
        "id": "ebac-dNAUBtX"
      },
      "source": [
        "#### 1.4. Обучаем модель ИНС"
      ]
    },
    {
      "cell_type": "code",
      "source": [
        "# Ваш код\n",
        "history = model.fit(X_train_n, y_train, epochs=20, validation_data=(X_test_n, y_test))"
      ],
      "metadata": {
        "id": "LcVz6t601hFI",
        "colab": {
          "base_uri": "https://localhost:8080/"
        },
        "outputId": "66c6869d-6fbd-4c29-f28e-63f95c28e6dc"
      },
      "execution_count": 10,
      "outputs": [
        {
          "output_type": "stream",
          "name": "stdout",
          "text": [
            "Epoch 1/20\n",
            "\u001b[1m13/13\u001b[0m \u001b[32m━━━━━━━━━━━━━━━━━━━━\u001b[0m\u001b[37m\u001b[0m \u001b[1m1s\u001b[0m 25ms/step - loss: 293.5248 - mae: 13.3910 - val_loss: 71.3992 - val_mae: 5.2506\n",
            "Epoch 2/20\n",
            "\u001b[1m13/13\u001b[0m \u001b[32m━━━━━━━━━━━━━━━━━━━━\u001b[0m\u001b[37m\u001b[0m \u001b[1m0s\u001b[0m 7ms/step - loss: 50.1934 - mae: 4.8681 - val_loss: 61.0903 - val_mae: 5.2248\n",
            "Epoch 3/20\n",
            "\u001b[1m13/13\u001b[0m \u001b[32m━━━━━━━━━━━━━━━━━━━━\u001b[0m\u001b[37m\u001b[0m \u001b[1m0s\u001b[0m 7ms/step - loss: 54.4885 - mae: 5.2699 - val_loss: 82.2559 - val_mae: 6.1870\n",
            "Epoch 4/20\n",
            "\u001b[1m13/13\u001b[0m \u001b[32m━━━━━━━━━━━━━━━━━━━━\u001b[0m\u001b[37m\u001b[0m \u001b[1m0s\u001b[0m 7ms/step - loss: 53.9326 - mae: 5.1826 - val_loss: 48.8313 - val_mae: 5.0847\n",
            "Epoch 5/20\n",
            "\u001b[1m13/13\u001b[0m \u001b[32m━━━━━━━━━━━━━━━━━━━━\u001b[0m\u001b[37m\u001b[0m \u001b[1m0s\u001b[0m 7ms/step - loss: 28.5937 - mae: 3.8391 - val_loss: 44.7272 - val_mae: 4.8810\n",
            "Epoch 6/20\n",
            "\u001b[1m13/13\u001b[0m \u001b[32m━━━━━━━━━━━━━━━━━━━━\u001b[0m\u001b[37m\u001b[0m \u001b[1m0s\u001b[0m 8ms/step - loss: 23.9731 - mae: 3.7931 - val_loss: 104.8979 - val_mae: 9.2947\n",
            "Epoch 7/20\n",
            "\u001b[1m13/13\u001b[0m \u001b[32m━━━━━━━━━━━━━━━━━━━━\u001b[0m\u001b[37m\u001b[0m \u001b[1m0s\u001b[0m 8ms/step - loss: 49.6320 - mae: 5.6849 - val_loss: 42.3792 - val_mae: 4.4310\n",
            "Epoch 8/20\n",
            "\u001b[1m13/13\u001b[0m \u001b[32m━━━━━━━━━━━━━━━━━━━━\u001b[0m\u001b[37m\u001b[0m \u001b[1m0s\u001b[0m 7ms/step - loss: 20.7533 - mae: 3.2058 - val_loss: 42.7532 - val_mae: 4.1824\n",
            "Epoch 9/20\n",
            "\u001b[1m13/13\u001b[0m \u001b[32m━━━━━━━━━━━━━━━━━━━━\u001b[0m\u001b[37m\u001b[0m \u001b[1m0s\u001b[0m 8ms/step - loss: 19.5303 - mae: 3.1754 - val_loss: 40.0126 - val_mae: 4.4360\n",
            "Epoch 10/20\n",
            "\u001b[1m13/13\u001b[0m \u001b[32m━━━━━━━━━━━━━━━━━━━━\u001b[0m\u001b[37m\u001b[0m \u001b[1m0s\u001b[0m 7ms/step - loss: 19.6195 - mae: 3.2664 - val_loss: 48.9585 - val_mae: 5.6505\n",
            "Epoch 11/20\n",
            "\u001b[1m13/13\u001b[0m \u001b[32m━━━━━━━━━━━━━━━━━━━━\u001b[0m\u001b[37m\u001b[0m \u001b[1m0s\u001b[0m 7ms/step - loss: 40.0923 - mae: 4.8840 - val_loss: 49.5409 - val_mae: 5.8596\n",
            "Epoch 12/20\n",
            "\u001b[1m13/13\u001b[0m \u001b[32m━━━━━━━━━━━━━━━━━━━━\u001b[0m\u001b[37m\u001b[0m \u001b[1m0s\u001b[0m 7ms/step - loss: 35.8270 - mae: 4.5416 - val_loss: 58.8238 - val_mae: 5.2847\n",
            "Epoch 13/20\n",
            "\u001b[1m13/13\u001b[0m \u001b[32m━━━━━━━━━━━━━━━━━━━━\u001b[0m\u001b[37m\u001b[0m \u001b[1m0s\u001b[0m 7ms/step - loss: 68.0355 - mae: 6.1523 - val_loss: 36.6340 - val_mae: 4.0726\n",
            "Epoch 14/20\n",
            "\u001b[1m13/13\u001b[0m \u001b[32m━━━━━━━━━━━━━━━━━━━━\u001b[0m\u001b[37m\u001b[0m \u001b[1m0s\u001b[0m 8ms/step - loss: 18.2834 - mae: 3.0376 - val_loss: 35.6895 - val_mae: 3.7006\n",
            "Epoch 15/20\n",
            "\u001b[1m13/13\u001b[0m \u001b[32m━━━━━━━━━━━━━━━━━━━━\u001b[0m\u001b[37m\u001b[0m \u001b[1m0s\u001b[0m 7ms/step - loss: 20.2115 - mae: 2.9786 - val_loss: 34.2725 - val_mae: 3.7943\n",
            "Epoch 16/20\n",
            "\u001b[1m13/13\u001b[0m \u001b[32m━━━━━━━━━━━━━━━━━━━━\u001b[0m\u001b[37m\u001b[0m \u001b[1m0s\u001b[0m 7ms/step - loss: 18.8199 - mae: 3.1096 - val_loss: 32.8732 - val_mae: 3.6765\n",
            "Epoch 17/20\n",
            "\u001b[1m13/13\u001b[0m \u001b[32m━━━━━━━━━━━━━━━━━━━━\u001b[0m\u001b[37m\u001b[0m \u001b[1m0s\u001b[0m 7ms/step - loss: 23.4531 - mae: 3.3231 - val_loss: 34.9038 - val_mae: 3.7730\n",
            "Epoch 18/20\n",
            "\u001b[1m13/13\u001b[0m \u001b[32m━━━━━━━━━━━━━━━━━━━━\u001b[0m\u001b[37m\u001b[0m \u001b[1m0s\u001b[0m 7ms/step - loss: 18.0947 - mae: 2.9950 - val_loss: 56.7578 - val_mae: 5.2765\n",
            "Epoch 19/20\n",
            "\u001b[1m13/13\u001b[0m \u001b[32m━━━━━━━━━━━━━━━━━━━━\u001b[0m\u001b[37m\u001b[0m \u001b[1m0s\u001b[0m 7ms/step - loss: 27.8388 - mae: 3.9379 - val_loss: 32.9205 - val_mae: 3.5884\n",
            "Epoch 20/20\n",
            "\u001b[1m13/13\u001b[0m \u001b[32m━━━━━━━━━━━━━━━━━━━━\u001b[0m\u001b[37m\u001b[0m \u001b[1m0s\u001b[0m 7ms/step - loss: 17.2214 - mae: 3.1423 - val_loss: 57.1058 - val_mae: 5.2940\n"
          ]
        }
      ]
    },
    {
      "cell_type": "markdown",
      "metadata": {
        "id": "mvlGXR3yVMYo"
      },
      "source": [
        "#### 1.6. Делаем предсказания на тестовых данных"
      ]
    },
    {
      "cell_type": "code",
      "source": [
        "# Ваш код\n",
        "preds = model.predict(X_test_n)"
      ],
      "metadata": {
        "id": "Rui6kjT01jEA",
        "colab": {
          "base_uri": "https://localhost:8080/"
        },
        "outputId": "b8877144-8ed6-4a78-fbb5-f9e14aae9e9c"
      },
      "execution_count": 11,
      "outputs": [
        {
          "output_type": "stream",
          "name": "stdout",
          "text": [
            "\u001b[1m4/4\u001b[0m \u001b[32m━━━━━━━━━━━━━━━━━━━━\u001b[0m\u001b[37m\u001b[0m \u001b[1m0s\u001b[0m 15ms/step\n"
          ]
        }
      ]
    },
    {
      "cell_type": "markdown",
      "metadata": {
        "id": "NLsmmLVkVhkL"
      },
      "source": [
        "#### 1.7. Вычисляем метрику качества на тестовых данных"
      ]
    },
    {
      "cell_type": "code",
      "source": [
        "# Ваш код\n",
        "from sklearn.metrics import mean_absolute_error\n",
        "\n",
        "mean_absolute_error(preds, y_test)"
      ],
      "metadata": {
        "id": "V8cpkQnr1jcS",
        "colab": {
          "base_uri": "https://localhost:8080/"
        },
        "outputId": "56986332-798b-43c7-9677-f3355e5b10eb"
      },
      "execution_count": 12,
      "outputs": [
        {
          "output_type": "execute_result",
          "data": {
            "text/plain": [
              "5.293958734998517"
            ]
          },
          "metadata": {},
          "execution_count": 12
        }
      ]
    },
    {
      "cell_type": "markdown",
      "metadata": {
        "id": "d4eyitaoKx_E"
      },
      "source": [
        "#### 1.8. Строим график обучения"
      ]
    },
    {
      "cell_type": "code",
      "source": [
        "# Ваш код\n",
        "import matplotlib.pyplot as plt\n",
        "\n",
        "plt.plot(history.history['loss'], label='Train loss')\n",
        "plt.plot(history.history['val_loss'], label='Val loss')\n",
        "plt.legend()\n",
        "plt.show()"
      ],
      "metadata": {
        "id": "tw-JEpqm1jyK",
        "colab": {
          "base_uri": "https://localhost:8080/",
          "height": 430
        },
        "outputId": "2b9980c8-098a-42de-e3f7-5996da23bbef"
      },
      "execution_count": 13,
      "outputs": [
        {
          "output_type": "display_data",
          "data": {
            "text/plain": [
              "<Figure size 640x480 with 1 Axes>"
            ],
            "image/png": "[encoded data removed]"
          },
          "metadata": {}
        }
      ]
    },
    {
      "cell_type": "markdown",
      "metadata": {
        "id": "XYMsbjaoMEqT"
      },
      "source": [
        "#### 1.9. Построение графического интерфейса в Gradio Проверка обученной модели пользовательскими данными"
      ]
    },
    {
      "cell_type": "code",
      "source": [
        "!pip install gradio"
      ],
      "metadata": {
        "colab": {
          "base_uri": "https://localhost:8080/"
        },
        "collapsed": true,
        "id": "IBL6eMCh1K-u",
        "outputId": "517dfa26-d546-49e6-d2b0-e824bae711db"
      },
      "execution_count": 14,
      "outputs": [
        {
          "output_type": "stream",
          "name": "stdout",
          "text": [
            "Collecting gradio\n",
            "  Downloading gradio-5.22.0-py3-none-any.whl.metadata (16 kB)\n",
            "Collecting aiofiles<24.0,>=22.0 (from gradio)\n",
            "  Downloading aiofiles-23.2.1-py3-none-any.whl.metadata (9.7 kB)\n",
            "Requirement already satisfied: anyio<5.0,>=3.0 in /usr/local/lib/python3.11/dist-packages (from gradio) (3.7.1)\n",
            "Collecting fastapi<1.0,>=0.115.2 (from gradio)\n",
            "  Downloading fastapi-0.115.11-py3-none-any.whl.metadata (27 kB)\n",
            "Collecting ffmpy (from gradio)\n",
            "  Downloading ffmpy-0.5.0-py3-none-any.whl.metadata (3.0 kB)\n",
            "Collecting gradio-client==1.8.0 (from gradio)\n",
            "  Downloading gradio_client-1.8.0-py3-none-any.whl.metadata (7.1 kB)\n",
            "Collecting groovy~=0.1 (from gradio)\n",
            "  Downloading groovy-0.1.2-py3-none-any.whl.metadata (6.1 kB)\n",
            "Requirement already satisfied: httpx>=0.24.1 in /usr/local/lib/python3.11/dist-packages (from gradio) (0.28.1)\n",
            "Requirement already satisfied: huggingface-hub>=0.28.1 in /usr/local/lib/python3.11/dist-packages (from gradio) (0.28.1)\n",
            "Requirement already satisfied: jinja2<4.0 in /usr/local/lib/python3.11/dist-packages (from gradio) (3.1.6)\n",
            "Requirement already satisfied: markupsafe<4.0,>=2.0 in /usr/local/lib/python3.11/dist-packages (from gradio) (3.0.2)\n",
            "Requirement already satisfied: numpy<3.0,>=1.0 in /usr/local/lib/python3.11/dist-packages (from gradio) (2.0.2)\n",
            "Requirement already satisfied: orjson~=3.0 in /usr/local/lib/python3.11/dist-packages (from gradio) (3.10.15)\n",
            "Requirement already satisfied: packaging in /usr/local/lib/python3.11/dist-packages (from gradio) (24.2)\n",
            "Requirement already satisfied: pandas<3.0,>=1.0 in /usr/local/lib/python3.11/dist-packages (from gradio) (2.2.2)\n",
            "Requirement already satisfied: pillow<12.0,>=8.0 in /usr/local/lib/python3.11/dist-packages (from gradio) (11.1.0)\n",
            "Requirement already satisfied: pydantic>=2.0 in /usr/local/lib/python3.11/dist-packages (from gradio) (2.10.6)\n",
            "Collecting pydub (from gradio)\n",
            "  Downloading pydub-0.25.1-py2.py3-none-any.whl.metadata (1.4 kB)\n",
            "Collecting python-multipart>=0.0.18 (from gradio)\n",
            "  Downloading python_multipart-0.0.20-py3-none-any.whl.metadata (1.8 kB)\n",
            "Requirement already satisfied: pyyaml<7.0,>=5.0 in /usr/local/lib/python3.11/dist-packages (from gradio) (6.0.2)\n",
            "Collecting ruff>=0.9.3 (from gradio)\n",
            "  Downloading ruff-0.11.0-py3-none-manylinux_2_17_x86_64.manylinux2014_x86_64.whl.metadata (25 kB)\n",
            "Collecting safehttpx<0.2.0,>=0.1.6 (from gradio)\n",
            "  Downloading safehttpx-0.1.6-py3-none-any.whl.metadata (4.2 kB)\n",
            "Collecting semantic-version~=2.0 (from gradio)\n",
            "  Downloading semantic_version-2.10.0-py2.py3-none-any.whl.metadata (9.7 kB)\n",
            "Collecting starlette<1.0,>=0.40.0 (from gradio)\n",
            "  Downloading starlette-0.46.1-py3-none-any.whl.metadata (6.2 kB)\n",
            "Collecting tomlkit<0.14.0,>=0.12.0 (from gradio)\n",
            "  Downloading tomlkit-0.13.2-py3-none-any.whl.metadata (2.7 kB)\n",
            "Requirement already satisfied: typer<1.0,>=0.12 in /usr/local/lib/python3.11/dist-packages (from gradio) (0.15.2)\n",
            "Requirement already satisfied: typing-extensions~=4.0 in /usr/local/lib/python3.11/dist-packages (from gradio) (4.12.2)\n",
            "Collecting uvicorn>=0.14.0 (from gradio)\n",
            "  Downloading uvicorn-0.34.0-py3-none-any.whl.metadata (6.5 kB)\n",
            "Requirement already satisfied: fsspec in /usr/local/lib/python3.11/dist-packages (from gradio-client==1.8.0->gradio) (2024.10.0)\n",
            "Requirement already satisfied: websockets<16.0,>=10.0 in /usr/local/lib/python3.11/dist-packages (from gradio-client==1.8.0->gradio) (14.2)\n",
            "Requirement already satisfied: idna>=2.8 in /usr/local/lib/python3.11/dist-packages (from anyio<5.0,>=3.0->gradio) (3.10)\n",
            "Requirement already satisfied: sniffio>=1.1 in /usr/local/lib/python3.11/dist-packages (from anyio<5.0,>=3.0->gradio) (1.3.1)\n",
            "Requirement already satisfied: certifi in /usr/local/lib/python3.11/dist-packages (from httpx>=0.24.1->gradio) (2025.1.31)\n",
            "Requirement already satisfied: httpcore==1.* in /usr/local/lib/python3.11/dist-packages (from httpx>=0.24.1->gradio) (1.0.7)\n",
            "Requirement already satisfied: h11<0.15,>=0.13 in /usr/local/lib/python3.11/dist-packages (from httpcore==1.*->httpx>=0.24.1->gradio) (0.14.0)\n",
            "Requirement already satisfied: filelock in /usr/local/lib/python3.11/dist-packages (from huggingface-hub>=0.28.1->gradio) (3.17.0)\n",
            "Requirement already satisfied: requests in /usr/local/lib/python3.11/dist-packages (from huggingface-hub>=0.28.1->gradio) (2.32.3)\n",
            "Requirement already satisfied: tqdm>=4.42.1 in /usr/local/lib/python3.11/dist-packages (from huggingface-hub>=0.28.1->gradio) (4.67.1)\n",
            "Requirement already satisfied: python-dateutil>=2.8.2 in /usr/local/lib/python3.11/dist-packages (from pandas<3.0,>=1.0->gradio) (2.8.2)\n",
            "Requirement already satisfied: pytz>=2020.1 in /usr/local/lib/python3.11/dist-packages (from pandas<3.0,>=1.0->gradio) (2025.1)\n",
            "Requirement already satisfied: tzdata>=2022.7 in /usr/local/lib/python3.11/dist-packages (from pandas<3.0,>=1.0->gradio) (2025.1)\n",
            "Requirement already satisfied: annotated-types>=0.6.0 in /usr/local/lib/python3.11/dist-packages (from pydantic>=2.0->gradio) (0.7.0)\n",
            "Requirement already satisfied: pydantic-core==2.27.2 in /usr/local/lib/python3.11/dist-packages (from pydantic>=2.0->gradio) (2.27.2)\n",
            "Requirement already satisfied: click>=8.0.0 in /usr/local/lib/python3.11/dist-packages (from typer<1.0,>=0.12->gradio) (8.1.8)\n",
            "Requirement already satisfied: shellingham>=1.3.0 in /usr/local/lib/python3.11/dist-packages (from typer<1.0,>=0.12->gradio) (1.5.4)\n",
            "Requirement already satisfied: rich>=10.11.0 in /usr/local/lib/python3.11/dist-packages (from typer<1.0,>=0.12->gradio) (13.9.4)\n",
            "Requirement already satisfied: six>=1.5 in /usr/local/lib/python3.11/dist-packages (from python-dateutil>=2.8.2->pandas<3.0,>=1.0->gradio) (1.17.0)\n",
            "Requirement already satisfied: markdown-it-py>=2.2.0 in /usr/local/lib/python3.11/dist-packages (from rich>=10.11.0->typer<1.0,>=0.12->gradio) (3.0.0)\n",
            "Requirement already satisfied: pygments<3.0.0,>=2.13.0 in /usr/local/lib/python3.11/dist-packages (from rich>=10.11.0->typer<1.0,>=0.12->gradio) (2.18.0)\n",
            "Requirement already satisfied: charset-normalizer<4,>=2 in /usr/local/lib/python3.11/dist-packages (from requests->huggingface-hub>=0.28.1->gradio) (3.4.1)\n",
            "Requirement already satisfied: urllib3<3,>=1.21.1 in /usr/local/lib/python3.11/dist-packages (from requests->huggingface-hub>=0.28.1->gradio) (2.3.0)\n",
            "Requirement already satisfied: mdurl~=0.1 in /usr/local/lib/python3.11/dist-packages (from markdown-it-py>=2.2.0->rich>=10.11.0->typer<1.0,>=0.12->gradio) (0.1.2)\n",
            "Downloading gradio-5.22.0-py3-none-any.whl (46.2 MB)\n",
            "\u001b[2K   \u001b[90m━━━━━━━━━━━━━━━━━━━━━━━━━━━━━━━━━━━━━━━━\u001b[0m \u001b[32m46.2/46.2 MB\u001b[0m \u001b[31m18.5 MB/s\u001b[0m eta \u001b[36m0:00:00\u001b[0m\n",
            "\u001b[?25hDownloading gradio_client-1.8.0-py3-none-any.whl (322 kB)\n",
            "\u001b[2K   \u001b[90m━━━━━━━━━━━━━━━━━━━━━━━━━━━━━━━━━━━━━━━━\u001b[0m \u001b[32m322.2/322.2 kB\u001b[0m \u001b[31m21.8 MB/s\u001b[0m eta \u001b[36m0:00:00\u001b[0m\n",
            "\u001b[?25hDownloading aiofiles-23.2.1-py3-none-any.whl (15 kB)\n",
            "Downloading fastapi-0.115.11-py3-none-any.whl (94 kB)\n",
            "\u001b[2K   \u001b[90m━━━━━━━━━━━━━━━━━━━━━━━━━━━━━━━━━━━━━━━━\u001b[0m \u001b[32m94.9/94.9 kB\u001b[0m \u001b[31m7.1 MB/s\u001b[0m eta \u001b[36m0:00:00\u001b[0m\n",
            "\u001b[?25hDownloading groovy-0.1.2-py3-none-any.whl (14 kB)\n",
            "Downloading python_multipart-0.0.20-py3-none-any.whl (24 kB)\n",
            "Downloading ruff-0.11.0-py3-none-manylinux_2_17_x86_64.manylinux2014_x86_64.whl (11.3 MB)\n",
            "\u001b[2K   \u001b[90m━━━━━━━━━━━━━━━━━━━━━━━━━━━━━━━━━━━━━━━━\u001b[0m \u001b[32m11.3/11.3 MB\u001b[0m \u001b[31m104.5 MB/s\u001b[0m eta \u001b[36m0:00:00\u001b[0m\n",
            "\u001b[?25hDownloading safehttpx-0.1.6-py3-none-any.whl (8.7 kB)\n",
            "Downloading semantic_version-2.10.0-py2.py3-none-any.whl (15 kB)\n",
            "Downloading starlette-0.46.1-py3-none-any.whl (71 kB)\n",
            "\u001b[2K   \u001b[90m━━━━━━━━━━━━━━━━━━━━━━━━━━━━━━━━━━━━━━━━\u001b[0m \u001b[32m72.0/72.0 kB\u001b[0m \u001b[31m4.9 MB/s\u001b[0m eta \u001b[36m0:00:00\u001b[0m\n",
            "\u001b[?25hDownloading tomlkit-0.13.2-py3-none-any.whl (37 kB)\n",
            "Downloading uvicorn-0.34.0-py3-none-any.whl (62 kB)\n",
            "\u001b[2K   \u001b[90m━━━━━━━━━━━━━━━━━━━━━━━━━━━━━━━━━━━━━━━━\u001b[0m \u001b[32m62.3/62.3 kB\u001b[0m \u001b[31m4.8 MB/s\u001b[0m eta \u001b[36m0:00:00\u001b[0m\n",
            "\u001b[?25hDownloading ffmpy-0.5.0-py3-none-any.whl (6.0 kB)\n",
            "Downloading pydub-0.25.1-py2.py3-none-any.whl (32 kB)\n",
            "Installing collected packages: pydub, uvicorn, tomlkit, semantic-version, ruff, python-multipart, groovy, ffmpy, aiofiles, starlette, safehttpx, gradio-client, fastapi, gradio\n",
            "Successfully installed aiofiles-23.2.1 fastapi-0.115.11 ffmpy-0.5.0 gradio-5.22.0 gradio-client-1.8.0 groovy-0.1.2 pydub-0.25.1 python-multipart-0.0.20 ruff-0.11.0 safehttpx-0.1.6 semantic-version-2.10.0 starlette-0.46.1 tomlkit-0.13.2 uvicorn-0.34.0\n"
          ]
        }
      ]
    },
    {
      "cell_type": "code",
      "source": [
        "import gradio as gr\n",
        "import numpy as np\n",
        "\n",
        "def predict_price(crim, zn, indus, chas, nox, rm, age, dis, rad, tax, ptratio, b, lstat):\n",
        "    price = (rm * 1000) - (lstat * 500) - (age * 10) + (chas * 5000)\n",
        "    return f\"{max(price, 0):.2f}\"\n",
        "\n",
        "interface = gr.Interface(\n",
        "    fn=predict_price,\n",
        "    inputs=[\n",
        "        gr.Slider(label=\"CRIM\", minimum=0.006, maximum=89.000, step=0.1, value=0.02985),\n",
        "        gr.Slider(label=\"ZN\", minimum=0.0, maximum=100.0, step=1, value=0.0),\n",
        "        gr.Slider(label=\"INDUS\", minimum=0.4, maximum=28.0, step=0.1, value=2.180),\n",
        "        gr.Slider(label=\"CHAS\", minimum=0.0, maximum=1.0, step=0.1, value=0),\n",
        "        gr.Slider(label=\"NOX\", minimum=0.3, maximum=0.9, step=0.01, value=0.4580),\n",
        "        gr.Slider(label=\"RM\", minimum=3.6, maximum=8.8, step=0.1, value=6.4300),\n",
        "        gr.Slider(label=\"AGE\", minimum=2.9, maximum=100.0, step=0.1, value=58.70),\n",
        "        gr.Slider(label=\"DIS\", minimum=1.0, maximum=12.2, step=0.1, value=6.062),\n",
        "        gr.Slider(label=\"RAD\", minimum=1, maximum=24, step=1, value=3),\n",
        "        gr.Slider(label=\"TAX\", minimum=180, maximum=720, step=1, value=222.0),\n",
        "        gr.Slider(label=\"PTRATIO\", minimum=2, maximum=22, step=0.1, value=18.70),\n",
        "        gr.Slider(label=\"B\", minimum=0.3, maximum=397.0, step=0.1, value=394.12),\n",
        "        gr.Slider(label=\"LSTAT\", minimum=1.7, maximum=38.0, step=0.1, value=5.21),\n",
        "    ],\n",
        "    outputs=gr.Text(label=\"Predicted Price ($)\"),\n",
        ")\n",
        "\n",
        "interface.launch(debug=False, share=True)"
      ],
      "metadata": {
        "id": "x-dyoItx2JN_",
        "colab": {
          "base_uri": "https://localhost:8080/",
          "height": 591
        },
        "outputId": "9d4d8cd9-37a7-4863-c7fd-bb6c57287a96"
      },
      "execution_count": 15,
      "outputs": [
        {
          "output_type": "stream",
          "name": "stdout",
          "text": [
            "Colab notebook detected. To show errors in colab notebook, set debug=True in launch()\n",
            "* Running on public URL: https://46a6d7f086b425d699.gradio.live\n",
            "\n",
            "This share link expires in 72 hours. For free permanent hosting and GPU upgrades, run `gradio deploy` from the terminal in the working directory to deploy to Hugging Face Spaces (https://huggingface.co/spaces)\n"
          ]
        },
        {
          "output_type": "display_data",
          "data": {
            "text/plain": [
              "<IPython.core.display.HTML object>"
            ],
            "text/html": [
              "<div><iframe src=\"https://46a6d7f086b425d699.gradio.live\" width=\"100%\" height=\"500\" allow=\"autoplay; camera; microphone; clipboard-read; clipboard-write;\" frameborder=\"0\" allowfullscreen></iframe></div>"
            ]
          },
          "metadata": {}
        },
        {
          "output_type": "execute_result",
          "data": {
            "text/plain": []
          },
          "metadata": {},
          "execution_count": 15
        }
      ]
    },
    {
      "cell_type": "markdown",
      "source": [
        "#### 2. Проверка обученной модели пользовательскими данными"
      ],
      "metadata": {
        "id": "8UQpi9te2D4J"
      }
    },
    {
      "cell_type": "code",
      "source": [
        "# Ваш код\n",
        "def preprocess_input(features, scale_model=\"mms.pkl\"):\n",
        "\n",
        "  \"\"\"\n",
        "  Функция преобразует входные данные в формат,\n",
        "  подходящий для модели машинного обучения.\n",
        "\n",
        "  Args:\n",
        "      features: Список или массив с входными признаками.\n",
        "      scale_model: Путь к файлу с сохраненной моделью масштабирования.\n",
        "\n",
        "  Returns:\n",
        "      Преобразованный массив признаков.\n",
        "  \"\"\"\n",
        "\n",
        "  try:\n",
        "    # Преобразование в NumPy массив\n",
        "    features = np.array(features)\n",
        "\n",
        "    # Проверка на пустой массив\n",
        "    if not features.size:\n",
        "      raise ValueError(\"Пустой массив признаков!\")\n",
        "\n",
        "    # Изменение размерности массива (8,) -> (1, 8)\n",
        "    features = features.reshape(1, -1)\n",
        "\n",
        "    # Загрузка модели масштабирования\n",
        "    with open(scale_model, \"rb\") as f:\n",
        "      scaler = pickle.load(f)\n",
        "\n",
        "    # Масштабирование признаков\n",
        "    features = scaler.transform(features)\n",
        "\n",
        "  except Exception as e:\n",
        "    raise ValueError(f\"Ошибка при предобработке: {e}\")\n",
        "\n",
        "  return features"
      ],
      "metadata": {
        "id": "9aohXWhb2Jjh"
      },
      "execution_count": 16,
      "outputs": []
    },
    {
      "cell_type": "code",
      "source": [
        "def predict_price(*features):\n",
        "\n",
        "  \"\"\"\n",
        "  Функция прогнозирует цену на основе предобработанных\n",
        "  входных признаков.\n",
        "\n",
        "  Args:\n",
        "      features: Список или массив с входными признаками.\n",
        "\n",
        "  Returns:\n",
        "      Прогнозируемая цена (в долларах).\n",
        "  \"\"\"\n",
        "\n",
        "  try:\n",
        "    # Предобработка входных признаков\n",
        "    features = preprocess_input(features)\n",
        "\n",
        "    # Прогнозирование цены\n",
        "    prediction = model.predict(features, verbose=0)\n",
        "\n",
        "    # Проверка на ошибки прогнозирования\n",
        "    if np.isnan(prediction).any():\n",
        "      raise ValueError(\"Ошибка при прогнозировании: NaN\")\n",
        "\n",
        "  except Exception as e:\n",
        "    raise ValueError(f\"Ошибка при прогнозировании: {e}\")\n",
        "\n",
        "  # Возвращение прогнозируемой цены\n",
        "  # (умножение на 1000 для отображения в тысячах долларов)\n",
        "  return f\"{prediction[0][0] * 1000}\""
      ],
      "metadata": {
        "id": "IqEqnG_h0LhM"
      },
      "execution_count": 17,
      "outputs": []
    },
    {
      "cell_type": "code",
      "source": [
        "predict_price([0.02985, 0.00, 2.180, 0, 0.4580,\n",
        "               6.4300, 58.70, 6.0622, 3, 222.0, 18.70, 394.12, 5.21]) # 28 700 $"
      ],
      "metadata": {
        "colab": {
          "base_uri": "https://localhost:8080/",
          "height": 35
        },
        "id": "m2Qlm4a-0PHy",
        "outputId": "df98bba8-a424-4828-d08c-74a659da0915"
      },
      "execution_count": 18,
      "outputs": [
        {
          "output_type": "execute_result",
          "data": {
            "text/plain": [
              "'21614.662109375'"
            ],
            "application/vnd.google.colaboratory.intrinsic+json": {
              "type": "string"
            }
          },
          "metadata": {},
          "execution_count": 18
        }
      ]
    },
    {
      "cell_type": "markdown",
      "source": [
        "## Задание №2.Обучение модели ИНС для решения задачи классификации\n",
        "\n"
      ],
      "metadata": {
        "id": "DQQMXC8garr3"
      }
    },
    {
      "cell_type": "markdown",
      "source": [
        "Порядок работы:"
      ],
      "metadata": {
        "id": "1OAwSdaG36Ip"
      }
    },
    {
      "cell_type": "markdown",
      "source": [
        "* 1. Собрать датасет из изображений, соответствующих не менее, чем 3 классам объектов (в\n",
        "примере с пары были кошки, собаки и панды).\n"
      ],
      "metadata": {
        "id": "q8COT3YubK-X"
      }
    },
    {
      "cell_type": "markdown",
      "source": [
        "- 2. Для каждого класса должно быть собрано не менее 1000 изображений. Количество\n",
        "изображений для каждого класса должно быть одинаковым.\n",
        "Готовые датасеты можно скачать отсюда: https://www.kaggle.com/\n"
      ],
      "metadata": {
        "id": "YstDH7J2bM5F"
      }
    },
    {
      "cell_type": "markdown",
      "source": [
        "- 3. Обучить модель глубокой нейронной сети для решения задачи классификации\n",
        "изображений, по выбранным Вами классам. (В качестве примера приведён код с пары)\n",
        "В конечном итоге Вы должны сохранить обученную модель для классификации\n",
        "изображений, соответствующих тем классам, которые Вы выбрали, а затем воспользоваться этой моделью для предсказания классов на пользовательских изображениях.\n",
        "\n"
      ],
      "metadata": {
        "id": "9aTvc3A4bN_h"
      }
    },
    {
      "cell_type": "markdown",
      "source": [
        "> При выполнении заданий пробуйте использовать разные функции потерь,\n",
        "методы оптимизации, функции активации и метрики ошибок."
      ],
      "metadata": {
        "id": "yKU34aHabUfp"
      }
    },
    {
      "cell_type": "markdown",
      "source": [
        "### 1. Устанавливаем зависимости:"
      ],
      "metadata": {
        "id": "l8zEG_g8O-Ge"
      }
    },
    {
      "cell_type": "code",
      "execution_count": 19,
      "metadata": {
        "id": "sh6kN7IMO8de"
      },
      "outputs": [],
      "source": [
        "# Импортируем LabelBinarizer для преобразования текстовых меток в векторы\n",
        "# (например, \"кошка\" -> [1, 0, 0], \"собака\" -> [0, 1, 0], \"панда\" -> [0, 0, 1])\n",
        "from sklearn.preprocessing import LabelBinarizer\n",
        "\n",
        "# Импортируем train_test_split для разделения данных на обучающую и тестовую выборки\n",
        "from sklearn.model_selection import train_test_split\n",
        "\n",
        "# Импортируем classification_report для оценки качества классификации\n",
        "from sklearn.metrics import classification_report\n",
        "\n",
        "# Импортируем Sequential для создания последовательной модели нейронной сети\n",
        "from keras.models import Sequential\n",
        "\n",
        "# Импортируем Dense для создания плотных слоев нейронной сети\n",
        "from keras.layers import Dense\n",
        "\n",
        "# Импортируем SGD и Adam для оптимизации обучения нейронной сети\n",
        "from keras.optimizers import SGD, Adam\n",
        "\n",
        "# Импортируем paths из imutils для удобной работы с путями к изображениям\n",
        "from imutils import paths\n",
        "\n",
        "# Импортируем pyplot из matplotlib для визуализации данных\n",
        "import matplotlib.pyplot as plt\n",
        "\n",
        "# Импортируем numpy для работы с массивами данных\n",
        "import numpy as np\n",
        "\n",
        "# Импортируем random для генерации случайных чисел\n",
        "import random\n",
        "\n",
        "# Импортируем pickle для сериализации и десериализации данных\n",
        "import pickle\n",
        "\n",
        "# Импортируем cv2 для работы с изображениями\n",
        "import cv2\n",
        "\n",
        "# Импортируем os для работы с файловой системой\n",
        "import os\n",
        "\n",
        "# Импортируем cv2_imshow из google.colab.patches для отображения изображений в Colab\n",
        "from google.colab.patches import cv2_imshow"
      ]
    },
    {
      "cell_type": "markdown",
      "source": [
        "### 2. Загружаем набор данных:"
      ],
      "metadata": {
        "id": "aJextk3pO8Ko"
      }
    },
    {
      "cell_type": "code",
      "source": [
        "from google.colab import drive\n",
        "drive.mount('/content/drive')"
      ],
      "metadata": {
        "colab": {
          "base_uri": "https://localhost:8080/"
        },
        "id": "th2eHEUBrHZ8",
        "outputId": "57950a6e-7b4a-43bf-dcbd-7b50883842f4"
      },
      "execution_count": 20,
      "outputs": [
        {
          "output_type": "stream",
          "name": "stdout",
          "text": [
            "Mounted at /content/drive\n"
          ]
        }
      ]
    },
    {
      "cell_type": "code",
      "source": [
        "%%capture\n",
        "!unzip animals.zip -d animals"
      ],
      "metadata": {
        "id": "YAnCizTkrKZa"
      },
      "execution_count": null,
      "outputs": []
    },
    {
      "cell_type": "code",
      "execution_count": 24,
      "metadata": {
        "id": "ZQOhPesK2-J8",
        "colab": {
          "base_uri": "https://localhost:8080/",
          "height": 103
        },
        "outputId": "d4b8d0e0-87cd-40db-cb9a-65b97cce731b"
      },
      "outputs": [
        {
          "output_type": "execute_result",
          "data": {
            "text/plain": [
              "array([[[250, 255, 254],\n",
              "        [250, 255, 254],\n",
              "        [253, 253, 253],\n",
              "        ...,\n",
              "        [251, 253, 253],\n",
              "        [252, 254, 255],\n",
              "        [252, 254, 255]],\n",
              "\n",
              "       [[250, 255, 254],\n",
              "        [252, 254, 254],\n",
              "        [253, 253, 253],\n",
              "        ...,\n",
              "        [254, 254, 254],\n",
              "        [254, 253, 255],\n",
              "        [254, 253, 255]],\n",
              "\n",
              "       [[253, 255, 255],\n",
              "        [252, 254, 254],\n",
              "        [254, 254, 254],\n",
              "        ...,\n",
              "        [255, 255, 255],\n",
              "        [255, 254, 254],\n",
              "        [255, 254, 254]],\n",
              "\n",
              "       ...,\n",
              "\n",
              "       [[ 98, 134, 120],\n",
              "        [ 93, 129, 115],\n",
              "        [ 95, 131, 117],\n",
              "        ...,\n",
              "        [110, 141, 142],\n",
              "        [116, 146, 147],\n",
              "        [105, 136, 137]],\n",
              "\n",
              "       [[ 97, 136, 120],\n",
              "        [ 78, 117, 102],\n",
              "        [ 87, 123, 109],\n",
              "        ...,\n",
              "        [111, 143, 138],\n",
              "        [102, 132, 127],\n",
              "        [114, 146, 141]],\n",
              "\n",
              "       [[ 82, 121, 105],\n",
              "        [ 82, 121, 105],\n",
              "        [ 71, 107,  95],\n",
              "        ...,\n",
              "        [102, 133, 124],\n",
              "        [109, 140, 131],\n",
              "        [ 86, 117, 108]]], dtype=uint8)"
            ],
            "text/html": [
              "<style>\n",
              "      .ndarray_repr .ndarray_raw_data {\n",
              "        display: none;\n",
              "      }\n",
              "      .ndarray_repr.show_array .ndarray_raw_data {\n",
              "        display: block;\n",
              "      }\n",
              "      .ndarray_repr.show_array .ndarray_image_preview {\n",
              "        display: none;\n",
              "      }\n",
              "      </style>\n",
              "      <div id=\"id-0232b8f7-0836-4c35-8778-01b66b811b74\" class=\"ndarray_repr\"><pre>ndarray (64, 64, 3) <button style=\"padding: 0 2px;\">show data</button></pre><img src=\"data:image/png;base64,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\" class=\"ndarray_image_preview\" /><pre class=\"ndarray_raw_data\">array([[[250, 255, 254],\n",
              "        [250, 255, 254],\n",
              "        [253, 253, 253],\n",
              "        ...,\n",
              "        [251, 253, 253],\n",
              "        [252, 254, 255],\n",
              "        [252, 254, 255]],\n",
              "\n",
              "       [[250, 255, 254],\n",
              "        [252, 254, 254],\n",
              "        [253, 253, 253],\n",
              "        ...,\n",
              "        [254, 254, 254],\n",
              "        [254, 253, 255],\n",
              "        [254, 253, 255]],\n",
              "\n",
              "       [[253, 255, 255],\n",
              "        [252, 254, 254],\n",
              "        [254, 254, 254],\n",
              "        ...,\n",
              "        [255, 255, 255],\n",
              "        [255, 254, 254],\n",
              "        [255, 254, 254]],\n",
              "\n",
              "       ...,\n",
              "\n",
              "       [[ 98, 134, 120],\n",
              "        [ 93, 129, 115],\n",
              "        [ 95, 131, 117],\n",
              "        ...,\n",
              "        [110, 141, 142],\n",
              "        [116, 146, 147],\n",
              "        [105, 136, 137]],\n",
              "\n",
              "       [[ 97, 136, 120],\n",
              "        [ 78, 117, 102],\n",
              "        [ 87, 123, 109],\n",
              "        ...,\n",
              "        [111, 143, 138],\n",
              "        [102, 132, 127],\n",
              "        [114, 146, 141]],\n",
              "\n",
              "       [[ 82, 121, 105],\n",
              "        [ 82, 121, 105],\n",
              "        [ 71, 107,  95],\n",
              "        ...,\n",
              "        [102, 133, 124],\n",
              "        [109, 140, 131],\n",
              "        [ 86, 117, 108]]], dtype=uint8)</pre></div><script>\n",
              "      (() => {\n",
              "      const titles = ['show data', 'hide data'];\n",
              "      let index = 0\n",
              "      document.querySelector('#id-0232b8f7-0836-4c35-8778-01b66b811b74 button').onclick = (e) => {\n",
              "        document.querySelector('#id-0232b8f7-0836-4c35-8778-01b66b811b74').classList.toggle('show_array');\n",
              "        index = (++index) % 2;\n",
              "        document.querySelector('#id-0232b8f7-0836-4c35-8778-01b66b811b74 button').textContent = titles[index];\n",
              "        e.preventDefault();\n",
              "        e.stopPropagation();\n",
              "      }\n",
              "      })();\n",
              "    </script>"
            ]
          },
          "metadata": {},
          "execution_count": 24
        }
      ],
      "source": [
        "# Ваш код\n",
        "cv2.imread('/content/drive/MyDrive/Test/training_set/ELEPHANT/059OTMB471ND.jpg')"
      ]
    },
    {
      "cell_type": "markdown",
      "source": [
        "### 3. Указываем путь к набору данных:"
      ],
      "metadata": {
        "id": "pX1km_kyV2Ka"
      }
    },
    {
      "cell_type": "code",
      "execution_count": 25,
      "metadata": {
        "id": "hAqtXKu62-bU"
      },
      "outputs": [],
      "source": [
        "# Ваш код\n",
        "imagesPath = sorted(list(paths.list_images('/content/drive/MyDrive/Test/training_set')))\n",
        "random.shuffle(imagesPath)"
      ]
    },
    {
      "cell_type": "markdown",
      "source": [
        "### 4. Загружаем набор данных и формируем общую выборку:"
      ],
      "metadata": {
        "id": "sAYZPzKSVobq"
      }
    },
    {
      "cell_type": "code",
      "execution_count": 26,
      "metadata": {
        "id": "1dqs5r-92-x7"
      },
      "outputs": [],
      "source": [
        "# Ваш код\n",
        "def load_images(imagePaths, compression_size = 32):\n",
        "  \"\"\"\n",
        "  Функция для загрузки изображений и преобразования их в векторы признаков.\n",
        "\n",
        "  Args:\n",
        "    imagePaths: список путей к изображениям.\n",
        "    compression_size: размер сжатия изображения\n",
        "\n",
        "  Returns:\n",
        "    data: список векторов признаков (сжатых изображений, преобразованных в векторы).\n",
        "    labels: список меток классов.\n",
        "  \"\"\"\n",
        "\n",
        "  data = []\n",
        "  labels = []\n",
        "\n",
        "  for imagePath in imagePaths:\n",
        "    # Загрузка изображения\n",
        "    image = cv2.imread(imagePath)\n",
        "\n",
        "    # Изменение разрешения изображения (по умолчанию 32х32х3 -> 3072,)\n",
        "    image = cv2.resize(image, (compression_size, compression_size)).flatten()\n",
        "\n",
        "    # Добавление изображения в список\n",
        "    data.append(image)\n",
        "\n",
        "    # Извлечение метки класса из пути к изображению\n",
        "    label = imagePath.split(os.path.sep)[-2]\n",
        "\n",
        "    # Добавление метки в список\n",
        "    labels.append(label)\n",
        "\n",
        "  return data, labels\n",
        "\n",
        "data, labels = load_images(imagesPath, 64)"
      ]
    },
    {
      "cell_type": "markdown",
      "source": [
        "#### 4.1. Нормализуем данные:"
      ],
      "metadata": {
        "id": "yeiILoUSXn4c"
      }
    },
    {
      "cell_type": "markdown",
      "source": [
        "Масштабируем интенсивности пикселей в диапазон [0, 1], а также преобразуем данные в массивы NumPy для повышения производительности\n"
      ],
      "metadata": {
        "id": "PceSnJBEZDPm"
      }
    },
    {
      "cell_type": "code",
      "execution_count": 27,
      "metadata": {
        "id": "wejqgr9U2_hf"
      },
      "outputs": [],
      "source": [
        "# Ваш код\n",
        "data = np.array(data, dtype=\"float\") / 255.0\n",
        "labels = np.array(labels)"
      ]
    },
    {
      "cell_type": "markdown",
      "source": [
        "#### 4.2. Формируем обучающую и валидационную выборки:"
      ],
      "metadata": {
        "id": "lREm4zIRaSsx"
      }
    },
    {
      "cell_type": "markdown",
      "source": [
        "Разделяем данные на обучающую и валидационную выборки, используя 75% данных для обучения и оставшиеся 25% для валидации"
      ],
      "metadata": {
        "id": "lwTSSQkPa9oI"
      }
    },
    {
      "cell_type": "code",
      "execution_count": 28,
      "metadata": {
        "id": "R23UTovQ3A7R"
      },
      "outputs": [],
      "source": [
        "# Ваш код\n",
        "(X_train, X_val, Y_train, Y_val) = train_test_split(data, labels, test_size=0.25, random_state=42)"
      ]
    },
    {
      "cell_type": "markdown",
      "source": [
        "Преобразование в OneHot Encoding"
      ],
      "metadata": {
        "id": "-JBzf-jYvp0t"
      }
    },
    {
      "cell_type": "code",
      "source": [
        "lb = LabelBinarizer()\n",
        "Y_train = lb.fit_transform(Y_train)\n",
        "Y_val = lb.transform(Y_val)"
      ],
      "metadata": {
        "id": "2ArxwvL7vpac"
      },
      "execution_count": 29,
      "outputs": []
    },
    {
      "cell_type": "code",
      "source": [
        "Y_train, Y_val"
      ],
      "metadata": {
        "colab": {
          "base_uri": "https://localhost:8080/"
        },
        "id": "AD418FDOvx5_",
        "outputId": "bcb5e0c7-47aa-40ef-fa7f-5cbe46abc235"
      },
      "execution_count": 30,
      "outputs": [
        {
          "output_type": "execute_result",
          "data": {
            "text/plain": [
              "(array([[0, 1, 0],\n",
              "        [1, 0, 0],\n",
              "        [0, 0, 1],\n",
              "        ...,\n",
              "        [0, 1, 0],\n",
              "        [1, 0, 0],\n",
              "        [0, 1, 0]]),\n",
              " array([[0, 0, 1],\n",
              "        [0, 0, 1],\n",
              "        [1, 0, 0],\n",
              "        ...,\n",
              "        [0, 1, 0],\n",
              "        [0, 1, 0],\n",
              "        [0, 0, 1]]))"
            ]
          },
          "metadata": {},
          "execution_count": 30
        }
      ]
    },
    {
      "cell_type": "markdown",
      "source": [
        "### 5. Создание модели:"
      ],
      "metadata": {
        "id": "Sz33nCuvc3Pk"
      }
    },
    {
      "cell_type": "markdown",
      "source": [
        "#### 5.1. Определим архитектуру модели с помощью Keras:"
      ],
      "metadata": {
        "id": "r2mcOGxEc-uB"
      }
    },
    {
      "cell_type": "code",
      "execution_count": 31,
      "metadata": {
        "id": "nj_bAWxv3B0B",
        "colab": {
          "base_uri": "https://localhost:8080/"
        },
        "outputId": "70cd50d7-a812-41a0-d6c3-5073d2919e66"
      },
      "outputs": [
        {
          "output_type": "stream",
          "name": "stderr",
          "text": [
            "/usr/local/lib/python3.11/dist-packages/keras/src/layers/core/dense.py:87: UserWarning: Do not pass an `input_shape`/`input_dim` argument to a layer. When using Sequential models, prefer using an `Input(shape)` object as the first layer in the model instead.\n",
            "  super().__init__(activity_regularizer=activity_regularizer, **kwargs)\n"
          ]
        }
      ],
      "source": [
        "# Ваш код\n",
        "model = Sequential()\n",
        "model.add(Dense(1024, input_shape=(12288,), activation='relu'))\n",
        "model.add(Dense(512, activation=\"relu\"))\n",
        "model.add(Dense(256, activation=\"relu\"))\n",
        "model.add(Dense(len(lb.classes_), activation='softmax'))"
      ]
    },
    {
      "cell_type": "code",
      "source": [
        "model.summary()"
      ],
      "metadata": {
        "colab": {
          "base_uri": "https://localhost:8080/",
          "height": 269
        },
        "id": "3Jl-3m424SVX",
        "outputId": "ba608eb0-7163-43f0-baae-73913a6d04f3"
      },
      "execution_count": null,
      "outputs": [
        {
          "output_type": "display_data",
          "data": {
            "text/plain": [
              "\u001b[1mModel: \"sequential_1\"\u001b[0m\n"
            ],
            "text/html": [
              "<pre style=\"white-space:pre;overflow-x:auto;line-height:normal;font-family:Menlo,'DejaVu Sans Mono',consolas,'Courier New',monospace\"><span style=\"font-weight: bold\">Model: \"sequential_1\"</span>\n",
              "</pre>\n"
            ]
          },
          "metadata": {}
        },
        {
          "output_type": "display_data",
          "data": {
            "text/plain": [
              "┏━━━━━━━━━━━━━━━━━━━━━━━━━━━━━━━━━━━━━━┳━━━━━━━━━━━━━━━━━━━━━━━━━━━━━┳━━━━━━━━━━━━━━━━━┓\n",
              "┃\u001b[1m \u001b[0m\u001b[1mLayer (type)                        \u001b[0m\u001b[1m \u001b[0m┃\u001b[1m \u001b[0m\u001b[1mOutput Shape               \u001b[0m\u001b[1m \u001b[0m┃\u001b[1m \u001b[0m\u001b[1m        Param #\u001b[0m\u001b[1m \u001b[0m┃\n",
              "┡━━━━━━━━━━━━━━━━━━━━━━━━━━━━━━━━━━━━━━╇━━━━━━━━━━━━━━━━━━━━━━━━━━━━━╇━━━━━━━━━━━━━━━━━┩\n",
              "│ dense_2 (\u001b[38;5;33mDense\u001b[0m)                      │ (\u001b[38;5;45mNone\u001b[0m, \u001b[38;5;34m1024\u001b[0m)                │      \u001b[38;5;34m12,583,936\u001b[0m │\n",
              "├──────────────────────────────────────┼─────────────────────────────┼─────────────────┤\n",
              "│ dense_3 (\u001b[38;5;33mDense\u001b[0m)                      │ (\u001b[38;5;45mNone\u001b[0m, \u001b[38;5;34m512\u001b[0m)                 │         \u001b[38;5;34m524,800\u001b[0m │\n",
              "├──────────────────────────────────────┼─────────────────────────────┼─────────────────┤\n",
              "│ dense_4 (\u001b[38;5;33mDense\u001b[0m)                      │ (\u001b[38;5;45mNone\u001b[0m, \u001b[38;5;34m256\u001b[0m)                 │         \u001b[38;5;34m131,328\u001b[0m │\n",
              "├──────────────────────────────────────┼─────────────────────────────┼─────────────────┤\n",
              "│ dense_5 (\u001b[38;5;33mDense\u001b[0m)                      │ (\u001b[38;5;45mNone\u001b[0m, \u001b[38;5;34m3\u001b[0m)                   │             \u001b[38;5;34m771\u001b[0m │\n",
              "└──────────────────────────────────────┴─────────────────────────────┴─────────────────┘\n"
            ],
            "text/html": [
              "<pre style=\"white-space:pre;overflow-x:auto;line-height:normal;font-family:Menlo,'DejaVu Sans Mono',consolas,'Courier New',monospace\">┏━━━━━━━━━━━━━━━━━━━━━━━━━━━━━━━━━━━━━━┳━━━━━━━━━━━━━━━━━━━━━━━━━━━━━┳━━━━━━━━━━━━━━━━━┓\n",
              "┃<span style=\"font-weight: bold\"> Layer (type)                         </span>┃<span style=\"font-weight: bold\"> Output Shape                </span>┃<span style=\"font-weight: bold\">         Param # </span>┃\n",
              "┡━━━━━━━━━━━━━━━━━━━━━━━━━━━━━━━━━━━━━━╇━━━━━━━━━━━━━━━━━━━━━━━━━━━━━╇━━━━━━━━━━━━━━━━━┩\n",
              "│ dense_2 (<span style=\"color: #0087ff; text-decoration-color: #0087ff\">Dense</span>)                      │ (<span style=\"color: #00d7ff; text-decoration-color: #00d7ff\">None</span>, <span style=\"color: #00af00; text-decoration-color: #00af00\">1024</span>)                │      <span style=\"color: #00af00; text-decoration-color: #00af00\">12,583,936</span> │\n",
              "├──────────────────────────────────────┼─────────────────────────────┼─────────────────┤\n",
              "│ dense_3 (<span style=\"color: #0087ff; text-decoration-color: #0087ff\">Dense</span>)                      │ (<span style=\"color: #00d7ff; text-decoration-color: #00d7ff\">None</span>, <span style=\"color: #00af00; text-decoration-color: #00af00\">512</span>)                 │         <span style=\"color: #00af00; text-decoration-color: #00af00\">524,800</span> │\n",
              "├──────────────────────────────────────┼─────────────────────────────┼─────────────────┤\n",
              "│ dense_4 (<span style=\"color: #0087ff; text-decoration-color: #0087ff\">Dense</span>)                      │ (<span style=\"color: #00d7ff; text-decoration-color: #00d7ff\">None</span>, <span style=\"color: #00af00; text-decoration-color: #00af00\">256</span>)                 │         <span style=\"color: #00af00; text-decoration-color: #00af00\">131,328</span> │\n",
              "├──────────────────────────────────────┼─────────────────────────────┼─────────────────┤\n",
              "│ dense_5 (<span style=\"color: #0087ff; text-decoration-color: #0087ff\">Dense</span>)                      │ (<span style=\"color: #00d7ff; text-decoration-color: #00d7ff\">None</span>, <span style=\"color: #00af00; text-decoration-color: #00af00\">3</span>)                   │             <span style=\"color: #00af00; text-decoration-color: #00af00\">771</span> │\n",
              "└──────────────────────────────────────┴─────────────────────────────┴─────────────────┘\n",
              "</pre>\n"
            ]
          },
          "metadata": {}
        },
        {
          "output_type": "display_data",
          "data": {
            "text/plain": [
              "\u001b[1m Total params: \u001b[0m\u001b[38;5;34m13,240,835\u001b[0m (50.51 MB)\n"
            ],
            "text/html": [
              "<pre style=\"white-space:pre;overflow-x:auto;line-height:normal;font-family:Menlo,'DejaVu Sans Mono',consolas,'Courier New',monospace\"><span style=\"font-weight: bold\"> Total params: </span><span style=\"color: #00af00; text-decoration-color: #00af00\">13,240,835</span> (50.51 MB)\n",
              "</pre>\n"
            ]
          },
          "metadata": {}
        },
        {
          "output_type": "display_data",
          "data": {
            "text/plain": [
              "\u001b[1m Trainable params: \u001b[0m\u001b[38;5;34m13,240,835\u001b[0m (50.51 MB)\n"
            ],
            "text/html": [
              "<pre style=\"white-space:pre;overflow-x:auto;line-height:normal;font-family:Menlo,'DejaVu Sans Mono',consolas,'Courier New',monospace\"><span style=\"font-weight: bold\"> Trainable params: </span><span style=\"color: #00af00; text-decoration-color: #00af00\">13,240,835</span> (50.51 MB)\n",
              "</pre>\n"
            ]
          },
          "metadata": {}
        },
        {
          "output_type": "display_data",
          "data": {
            "text/plain": [
              "\u001b[1m Non-trainable params: \u001b[0m\u001b[38;5;34m0\u001b[0m (0.00 B)\n"
            ],
            "text/html": [
              "<pre style=\"white-space:pre;overflow-x:auto;line-height:normal;font-family:Menlo,'DejaVu Sans Mono',consolas,'Courier New',monospace\"><span style=\"font-weight: bold\"> Non-trainable params: </span><span style=\"color: #00af00; text-decoration-color: #00af00\">0</span> (0.00 B)\n",
              "</pre>\n"
            ]
          },
          "metadata": {}
        }
      ]
    },
    {
      "cell_type": "markdown",
      "source": [
        "#### 5.2. Установим значение параметров скорости обучения и общего числа эпох\n"
      ],
      "metadata": {
        "id": "HHFTdcCkg1Wr"
      }
    },
    {
      "cell_type": "code",
      "execution_count": 32,
      "metadata": {
        "id": "pzlpLmGm3CMU"
      },
      "outputs": [],
      "source": [
        "# Ваш код\n",
        "INIT_LR = 0.01\n",
        "EPOCHS = 150"
      ]
    },
    {
      "cell_type": "markdown",
      "source": [
        "#### 5.3. Компилируем модель:"
      ],
      "metadata": {
        "id": "YaDdd2wphXLv"
      }
    },
    {
      "cell_type": "code",
      "execution_count": 33,
      "metadata": {
        "id": "3mxDQXSc3Cc5"
      },
      "outputs": [],
      "source": [
        "# Ваш код\n",
        "opt = Adam(learning_rate=INIT_LR)\n",
        "\n",
        "model.compile(loss=\"categorical_crossentropy\", optimizer=opt, metrics=[\"accuracy\"])"
      ]
    },
    {
      "cell_type": "markdown",
      "source": [
        "### 6. Обучение модели искусственной нейронной сети:"
      ],
      "metadata": {
        "id": "EaJdxfw4hwjN"
      }
    },
    {
      "cell_type": "markdown",
      "source": [
        "#### 6.1. Добавим колбэки для сохранения лучшей модели по валидационной точности и остановки обучения, в случае, если модель перестала обучаться:"
      ],
      "metadata": {
        "id": "KAzlK96zi0dy"
      }
    },
    {
      "cell_type": "code",
      "execution_count": 34,
      "metadata": {
        "id": "2d6HT9jU3C3E"
      },
      "outputs": [],
      "source": [
        "# Ваш код\n",
        "from keras.callbacks import EarlyStopping, ModelCheckpoint\n",
        "\n",
        "early_stopping = EarlyStopping(patience=10) # Остановка обучения, если валидационная точность не улучшается в течение 5 эпох\n",
        "\n",
        "checkpoint = ModelCheckpoint(filepath=\"best_model.h5\", monitor=\"val_accuracy\", save_best_only=True, verbose=0) # Сохранение модели только при улучшении валидационной точности"
      ]
    },
    {
      "cell_type": "markdown",
      "source": [
        "#### 6.2. Запустим процесс обучения модели:"
      ],
      "metadata": {
        "id": "IgakM035jDPi"
      }
    },
    {
      "cell_type": "code",
      "execution_count": 35,
      "metadata": {
        "id": "YNloZiKH3DMV",
        "colab": {
          "base_uri": "https://localhost:8080/"
        },
        "outputId": "3f67849e-4450-41d0-a8af-90ab369f4b39"
      },
      "outputs": [
        {
          "output_type": "stream",
          "name": "stdout",
          "text": [
            "Epoch 1/150\n",
            "\u001b[1m81/81\u001b[0m \u001b[32m━━━━━━━━━━━━━━━━━━━━\u001b[0m\u001b[37m\u001b[0m \u001b[1m0s\u001b[0m 353ms/step - accuracy: 0.3643 - loss: 114.7643"
          ]
        },
        {
          "output_type": "stream",
          "name": "stderr",
          "text": [
            "WARNING:absl:You are saving your model as an HDF5 file via `model.save()` or `keras.saving.save_model(model)`. This file format is considered legacy. We recommend using instead the native Keras format, e.g. `model.save('my_model.keras')` or `keras.saving.save_model(model, 'my_model.keras')`. \n"
          ]
        },
        {
          "output_type": "stream",
          "name": "stdout",
          "text": [
            "\b\b\b\b\b\b\b\b\b\b\b\b\b\b\b\b\b\b\b\b\b\b\b\b\b\b\b\b\b\b\b\b\b\b\b\b\b\b\b\b\b\b\b\b\b\b\b\b\b\b\b\b\b\b\b\b\b\b\b\b\b\b\b\b\b\b\b\b\b\b\b\b\b\b\b\b\r\u001b[1m81/81\u001b[0m \u001b[32m━━━━━━━━━━━━━━━━━━━━\u001b[0m\u001b[37m\u001b[0m \u001b[1m33s\u001b[0m 386ms/step - accuracy: 0.3645 - loss: 113.7587 - val_accuracy: 0.4734 - val_loss: 0.9988\n",
            "Epoch 2/150\n",
            "\u001b[1m81/81\u001b[0m \u001b[32m━━━━━━━━━━━━━━━━━━━━\u001b[0m\u001b[37m\u001b[0m \u001b[1m39s\u001b[0m 363ms/step - accuracy: 0.4652 - loss: 1.0040 - val_accuracy: 0.4656 - val_loss: 0.9950\n",
            "Epoch 3/150\n",
            "\u001b[1m81/81\u001b[0m \u001b[32m━━━━━━━━━━━━━━━━━━━━\u001b[0m\u001b[37m\u001b[0m \u001b[1m0s\u001b[0m 357ms/step - accuracy: 0.4650 - loss: 0.9925"
          ]
        },
        {
          "output_type": "stream",
          "name": "stderr",
          "text": [
            "WARNING:absl:You are saving your model as an HDF5 file via `model.save()` or `keras.saving.save_model(model)`. This file format is considered legacy. We recommend using instead the native Keras format, e.g. `model.save('my_model.keras')` or `keras.saving.save_model(model, 'my_model.keras')`. \n"
          ]
        },
        {
          "output_type": "stream",
          "name": "stdout",
          "text": [
            "\b\b\b\b\b\b\b\b\b\b\b\b\b\b\b\b\b\b\b\b\b\b\b\b\b\b\b\b\b\b\b\b\b\b\b\b\b\b\b\b\b\b\b\b\b\b\b\b\b\b\b\b\b\b\b\b\b\b\b\b\b\b\b\b\b\b\b\b\b\b\b\b\b\b\r\u001b[1m81/81\u001b[0m \u001b[32m━━━━━━━━━━━━━━━━━━━━\u001b[0m\u001b[37m\u001b[0m \u001b[1m43s\u001b[0m 396ms/step - accuracy: 0.4651 - loss: 0.9924 - val_accuracy: 0.5024 - val_loss: 0.9612\n",
            "Epoch 4/150\n",
            "\u001b[1m81/81\u001b[0m \u001b[32m━━━━━━━━━━━━━━━━━━━━\u001b[0m\u001b[37m\u001b[0m \u001b[1m39s\u001b[0m 375ms/step - accuracy: 0.4997 - loss: 0.9600 - val_accuracy: 0.4953 - val_loss: 0.9577\n",
            "Epoch 5/150\n",
            "\u001b[1m81/81\u001b[0m \u001b[32m━━━━━━━━━━━━━━━━━━━━\u001b[0m\u001b[37m\u001b[0m \u001b[1m0s\u001b[0m 340ms/step - accuracy: 0.5077 - loss: 0.9626"
          ]
        },
        {
          "output_type": "stream",
          "name": "stderr",
          "text": [
            "WARNING:absl:You are saving your model as an HDF5 file via `model.save()` or `keras.saving.save_model(model)`. This file format is considered legacy. We recommend using instead the native Keras format, e.g. `model.save('my_model.keras')` or `keras.saving.save_model(model, 'my_model.keras')`. \n"
          ]
        },
        {
          "output_type": "stream",
          "name": "stdout",
          "text": [
            "\b\b\b\b\b\b\b\b\b\b\b\b\b\b\b\b\b\b\b\b\b\b\b\b\b\b\b\b\b\b\b\b\b\b\b\b\b\b\b\b\b\b\b\b\b\b\b\b\b\b\b\b\b\b\b\b\b\b\b\b\b\b\b\b\b\b\b\b\b\b\b\b\b\b\r\u001b[1m81/81\u001b[0m \u001b[32m━━━━━━━━━━━━━━━━━━━━\u001b[0m\u001b[37m\u001b[0m \u001b[1m31s\u001b[0m 378ms/step - accuracy: 0.5076 - loss: 0.9626 - val_accuracy: 0.5225 - val_loss: 0.9378\n",
            "Epoch 6/150\n",
            "\u001b[1m81/81\u001b[0m \u001b[32m━━━━━━━━━━━━━━━━━━━━\u001b[0m\u001b[37m\u001b[0m \u001b[1m40s\u001b[0m 359ms/step - accuracy: 0.4973 - loss: 0.9382 - val_accuracy: 0.5050 - val_loss: 0.9441\n",
            "Epoch 7/150\n",
            "\u001b[1m81/81\u001b[0m \u001b[32m━━━━━━━━━━━━━━━━━━━━\u001b[0m\u001b[37m\u001b[0m \u001b[1m32s\u001b[0m 391ms/step - accuracy: 0.5175 - loss: 0.9346 - val_accuracy: 0.4909 - val_loss: 0.9677\n",
            "Epoch 8/150\n",
            "\u001b[1m81/81\u001b[0m \u001b[32m━━━━━━━━━━━━━━━━━━━━\u001b[0m\u001b[37m\u001b[0m \u001b[1m0s\u001b[0m 342ms/step - accuracy: 0.4980 - loss: 0.9554"
          ]
        },
        {
          "output_type": "stream",
          "name": "stderr",
          "text": [
            "WARNING:absl:You are saving your model as an HDF5 file via `model.save()` or `keras.saving.save_model(model)`. This file format is considered legacy. We recommend using instead the native Keras format, e.g. `model.save('my_model.keras')` or `keras.saving.save_model(model, 'my_model.keras')`. \n"
          ]
        },
        {
          "output_type": "stream",
          "name": "stdout",
          "text": [
            "\b\b\b\b\b\b\b\b\b\b\b\b\b\b\b\b\b\b\b\b\b\b\b\b\b\b\b\b\b\b\b\b\b\b\b\b\b\b\b\b\b\b\b\b\b\b\b\b\b\b\b\b\b\b\b\b\b\b\b\b\b\b\b\b\b\b\b\b\b\b\b\b\b\b\r\u001b[1m81/81\u001b[0m \u001b[32m━━━━━━━━━━━━━━━━━━━━\u001b[0m\u001b[37m\u001b[0m \u001b[1m39s\u001b[0m 366ms/step - accuracy: 0.4982 - loss: 0.9552 - val_accuracy: 0.5326 - val_loss: 0.9258\n",
            "Epoch 9/150\n",
            "\u001b[1m81/81\u001b[0m \u001b[32m━━━━━━━━━━━━━━━━━━━━\u001b[0m\u001b[37m\u001b[0m \u001b[1m42s\u001b[0m 377ms/step - accuracy: 0.5321 - loss: 0.9085 - val_accuracy: 0.4764 - val_loss: 0.9880\n",
            "Epoch 10/150\n",
            "\u001b[1m81/81\u001b[0m \u001b[32m━━━━━━━━━━━━━━━━━━━━\u001b[0m\u001b[37m\u001b[0m \u001b[1m39s\u001b[0m 357ms/step - accuracy: 0.5385 - loss: 0.9070 - val_accuracy: 0.5043 - val_loss: 0.9272\n",
            "Epoch 11/150\n",
            "\u001b[1m81/81\u001b[0m \u001b[32m━━━━━━━━━━━━━━━━━━━━\u001b[0m\u001b[37m\u001b[0m \u001b[1m41s\u001b[0m 363ms/step - accuracy: 0.5263 - loss: 0.9109 - val_accuracy: 0.4667 - val_loss: 1.0018\n",
            "Epoch 12/150\n",
            "\u001b[1m81/81\u001b[0m \u001b[32m━━━━━━━━━━━━━━━━━━━━\u001b[0m\u001b[37m\u001b[0m \u001b[1m29s\u001b[0m 357ms/step - accuracy: 0.5159 - loss: 0.9353 - val_accuracy: 0.4648 - val_loss: 0.9736\n",
            "Epoch 13/150\n",
            "\u001b[1m81/81\u001b[0m \u001b[32m━━━━━━━━━━━━━━━━━━━━\u001b[0m\u001b[37m\u001b[0m \u001b[1m44s\u001b[0m 393ms/step - accuracy: 0.5251 - loss: 0.9211 - val_accuracy: 0.5106 - val_loss: 0.9414\n",
            "Epoch 14/150\n",
            "\u001b[1m81/81\u001b[0m \u001b[32m━━━━━━━━━━━━━━━━━━━━\u001b[0m\u001b[37m\u001b[0m \u001b[1m40s\u001b[0m 383ms/step - accuracy: 0.5158 - loss: 0.9282 - val_accuracy: 0.4972 - val_loss: 0.9363\n",
            "Epoch 15/150\n",
            "\u001b[1m81/81\u001b[0m \u001b[32m━━━━━━━━━━━━━━━━━━━━\u001b[0m\u001b[37m\u001b[0m \u001b[1m40s\u001b[0m 376ms/step - accuracy: 0.5293 - loss: 0.9082 - val_accuracy: 0.5114 - val_loss: 0.9284\n",
            "Epoch 16/150\n",
            "\u001b[1m81/81\u001b[0m \u001b[32m━━━━━━━━━━━━━━━━━━━━\u001b[0m\u001b[37m\u001b[0m \u001b[1m51s\u001b[0m 500ms/step - accuracy: 0.5398 - loss: 0.9008 - val_accuracy: 0.4998 - val_loss: 0.9465\n",
            "Epoch 17/150\n",
            "\u001b[1m81/81\u001b[0m \u001b[32m━━━━━━━━━━━━━━━━━━━━\u001b[0m\u001b[37m\u001b[0m \u001b[1m31s\u001b[0m 384ms/step - accuracy: 0.5072 - loss: 0.9360 - val_accuracy: 0.4470 - val_loss: 1.0634\n",
            "Epoch 18/150\n",
            "\u001b[1m81/81\u001b[0m \u001b[32m━━━━━━━━━━━━━━━━━━━━\u001b[0m\u001b[37m\u001b[0m \u001b[1m31s\u001b[0m 380ms/step - accuracy: 0.5034 - loss: 0.9506 - val_accuracy: 0.5218 - val_loss: 0.9193\n",
            "Epoch 19/150\n",
            "\u001b[1m81/81\u001b[0m \u001b[32m━━━━━━━━━━━━━━━━━━━━\u001b[0m\u001b[37m\u001b[0m \u001b[1m40s\u001b[0m 370ms/step - accuracy: 0.5295 - loss: 0.8960 - val_accuracy: 0.5180 - val_loss: 0.9237\n",
            "Epoch 20/150\n",
            "\u001b[1m81/81\u001b[0m \u001b[32m━━━━━━━━━━━━━━━━━━━━\u001b[0m\u001b[37m\u001b[0m \u001b[1m42s\u001b[0m 383ms/step - accuracy: 0.5402 - loss: 0.8923 - val_accuracy: 0.4968 - val_loss: 0.9584\n",
            "Epoch 21/150\n",
            "\u001b[1m81/81\u001b[0m \u001b[32m━━━━━━━━━━━━━━━━━━━━\u001b[0m\u001b[37m\u001b[0m \u001b[1m34s\u001b[0m 421ms/step - accuracy: 0.5295 - loss: 0.9110 - val_accuracy: 0.5162 - val_loss: 0.9212\n",
            "Epoch 22/150\n",
            "\u001b[1m81/81\u001b[0m \u001b[32m━━━━━━━━━━━━━━━━━━━━\u001b[0m\u001b[37m\u001b[0m \u001b[1m38s\u001b[0m 379ms/step - accuracy: 0.5324 - loss: 0.8993 - val_accuracy: 0.5180 - val_loss: 0.9331\n",
            "Epoch 23/150\n",
            "\u001b[1m81/81\u001b[0m \u001b[32m━━━━━━━━━━━━━━━━━━━━\u001b[0m\u001b[37m\u001b[0m \u001b[1m40s\u001b[0m 371ms/step - accuracy: 0.5393 - loss: 0.8858 - val_accuracy: 0.4596 - val_loss: 1.0224\n",
            "Epoch 24/150\n",
            "\u001b[1m81/81\u001b[0m \u001b[32m━━━━━━━━━━━━━━━━━━━━\u001b[0m\u001b[37m\u001b[0m \u001b[1m40s\u001b[0m 362ms/step - accuracy: 0.5252 - loss: 0.9092 - val_accuracy: 0.5028 - val_loss: 0.9577\n",
            "Epoch 25/150\n",
            "\u001b[1m81/81\u001b[0m \u001b[32m━━━━━━━━━━━━━━━━━━━━\u001b[0m\u001b[37m\u001b[0m \u001b[1m40s\u001b[0m 350ms/step - accuracy: 0.5430 - loss: 0.8828 - val_accuracy: 0.5117 - val_loss: 0.9253\n",
            "Epoch 26/150\n",
            "\u001b[1m81/81\u001b[0m \u001b[32m━━━━━━━━━━━━━━━━━━━━\u001b[0m\u001b[37m\u001b[0m \u001b[1m31s\u001b[0m 380ms/step - accuracy: 0.5438 - loss: 0.8943 - val_accuracy: 0.5162 - val_loss: 0.9271\n",
            "Epoch 27/150\n",
            "\u001b[1m81/81\u001b[0m \u001b[32m━━━━━━━━━━━━━━━━━━━━\u001b[0m\u001b[37m\u001b[0m \u001b[1m37s\u001b[0m 330ms/step - accuracy: 0.5542 - loss: 0.8776 - val_accuracy: 0.5102 - val_loss: 0.9601\n",
            "Epoch 28/150\n",
            "\u001b[1m81/81\u001b[0m \u001b[32m━━━━━━━━━━━━━━━━━━━━\u001b[0m\u001b[37m\u001b[0m \u001b[1m29s\u001b[0m 359ms/step - accuracy: 0.5453 - loss: 0.8834 - val_accuracy: 0.5061 - val_loss: 0.9296\n"
          ]
        }
      ],
      "source": [
        "# Ваш код\n",
        "H = model.fit(X_train, Y_train, validation_data=(X_val, Y_val), epochs=EPOCHS, batch_size=100, callbacks=[early_stopping, checkpoint])"
      ]
    },
    {
      "cell_type": "markdown",
      "source": [
        "#### 6.3. Загружаем лучшую модель:"
      ],
      "metadata": {
        "id": "-dESH383noKz"
      }
    },
    {
      "cell_type": "code",
      "execution_count": 36,
      "metadata": {
        "id": "_ZOMBkJk3Dgk",
        "colab": {
          "base_uri": "https://localhost:8080/"
        },
        "outputId": "d5ca3daa-71f9-4617-fb4d-075f313ee03b"
      },
      "outputs": [
        {
          "output_type": "stream",
          "name": "stderr",
          "text": [
            "WARNING:absl:Compiled the loaded model, but the compiled metrics have yet to be built. `model.compile_metrics` will be empty until you train or evaluate the model.\n"
          ]
        }
      ],
      "source": [
        "# Ваш код\n",
        "from keras.models import load_model\n",
        "\n",
        "model = load_model(\"/content/best_model.h5\")"
      ]
    },
    {
      "cell_type": "markdown",
      "source": [
        "### 7. Оценка точности:"
      ],
      "metadata": {
        "id": "CLv-TknOoQ8l"
      }
    },
    {
      "cell_type": "markdown",
      "source": [
        "#### 7.1. Выведем отчет классификации"
      ],
      "metadata": {
        "id": "J16c8i49o2Kq"
      }
    },
    {
      "cell_type": "code",
      "execution_count": 37,
      "metadata": {
        "id": "cqmQz4mO3D5s",
        "colab": {
          "base_uri": "https://localhost:8080/"
        },
        "outputId": "447162d1-86d5-44c7-e191-19e80457b1f6"
      },
      "outputs": [
        {
          "output_type": "stream",
          "name": "stdout",
          "text": [
            "\u001b[1m84/84\u001b[0m \u001b[32m━━━━━━━━━━━━━━━━━━━━\u001b[0m\u001b[37m\u001b[0m \u001b[1m2s\u001b[0m 26ms/step\n",
            "              precision    recall  f1-score   support\n",
            "\n",
            "    ELEPHANT       0.62      0.60      0.61       695\n",
            "        cats       0.53      0.61      0.57       989\n",
            "        dogs       0.47      0.40      0.43      1003\n",
            "\n",
            "    accuracy                           0.53      2687\n",
            "   macro avg       0.54      0.54      0.54      2687\n",
            "weighted avg       0.53      0.53      0.53      2687\n",
            "\n"
          ]
        }
      ],
      "source": [
        "# Ваш код\n",
        "predictions = model.predict(X_val, batch_size=32)\n",
        "print(classification_report(Y_val.argmax(axis=1), predictions.argmax(axis=1), target_names=lb.classes_))"
      ]
    },
    {
      "cell_type": "markdown",
      "source": [
        "#### 7.2. Выведем матрицу ошибок"
      ],
      "metadata": {
        "id": "YwbFnynjpKYS"
      }
    },
    {
      "cell_type": "code",
      "execution_count": 38,
      "metadata": {
        "id": "77_vkdSk3EOd",
        "colab": {
          "base_uri": "https://localhost:8080/",
          "height": 448
        },
        "outputId": "8ca21447-c23d-4095-f0b0-6f68fe16e27f"
      },
      "outputs": [
        {
          "output_type": "stream",
          "name": "stdout",
          "text": [
            "\u001b[1m84/84\u001b[0m \u001b[32m━━━━━━━━━━━━━━━━━━━━\u001b[0m\u001b[37m\u001b[0m \u001b[1m2s\u001b[0m 26ms/step\n"
          ]
        },
        {
          "output_type": "display_data",
          "data": {
            "text/plain": [
              "<Figure size 640x480 with 2 Axes>"
            ],
            "image/png": "[encoded data removed]"
          },
          "metadata": {}
        }
      ],
      "source": [
        "# Ваш код\n",
        "from sklearn.metrics import confusion_matrix\n",
        "import seaborn as sns\n",
        "\n",
        "# Получим прогнозы по валидационным даннным\n",
        "Y_pred = model.predict(X_val, batch_size=32)\n",
        "\n",
        "# Преобразуем вероятности в метки классов\n",
        "Y_pred = Y_pred.argmax(axis=1)\n",
        "Y_val = Y_val.argmax(axis=1)\n",
        "\n",
        "# Вычисляем матрицу ошибок\n",
        "conf_mat = confusion_matrix(Y_val, Y_pred)\n",
        "\n",
        "# Визуализируем матрицу ошибок\n",
        "sns.heatmap(conf_mat, annot=True, fmt=\"d\", cmap=\"YlGnBu\")\n",
        "plt.show()"
      ]
    },
    {
      "cell_type": "markdown",
      "source": [
        "#### 7.3. Отобразим график обучения"
      ],
      "metadata": {
        "id": "oqoaYCciugwi"
      }
    },
    {
      "cell_type": "code",
      "execution_count": 40,
      "metadata": {
        "id": "ALa4XomM3EmL",
        "colab": {
          "base_uri": "https://localhost:8080/",
          "height": 477
        },
        "outputId": "4e5c1fe8-17bb-4e5f-da2a-97f862ca4ff0"
      },
      "outputs": [
        {
          "output_type": "display_data",
          "data": {
            "text/plain": [
              "<Figure size 640x480 with 1 Axes>"
            ],
            "image/png": "[encoded data removed]"
          },
          "metadata": {}
        }
      ],
      "source": [
        "# Ваш код\n",
        "# строим графики потерь и точности\n",
        "N = np.arange(0, 28)\n",
        "plt.style.use(\"ggplot\")\n",
        "plt.figure()\n",
        "plt.plot(N, H.history[\"loss\"], label=\"train_loss\")\n",
        "plt.plot(N, H.history[\"val_loss\"], label=\"val_loss\")\n",
        "plt.plot(N, H.history[\"accuracy\"], label=\"train_acc\")\n",
        "plt.plot(N, H.history[\"val_accuracy\"], label=\"val_acc\")\n",
        "plt.title(\"Training Loss and Accuracy (Simple NN)\")\n",
        "plt.xlabel(\"Epoch #\")\n",
        "plt.ylabel(\"Loss/Accuracy\")\n",
        "plt.legend()\n",
        "plt.savefig('plot.png')"
      ]
    },
    {
      "cell_type": "markdown",
      "source": [
        "### 8. Сохранение модели и меток классов:"
      ],
      "metadata": {
        "id": "RZfpw-xQu3Q8"
      }
    },
    {
      "cell_type": "code",
      "execution_count": 41,
      "metadata": {
        "id": "mGlt9K8N3E7D"
      },
      "outputs": [],
      "source": [
        "# Ваш код\n",
        "def save_model_and_labels(model, lb, model_path = \"model.h5\", labels_path = \"label_bin\"):\n",
        "    \"\"\"\n",
        "    Сохраняет модель машинного обучения и метки классов в бинарном формате на диск.\n",
        "\n",
        "    Args:\n",
        "        model: Модель машинного обучения.\n",
        "        lb: Метки классов.\n",
        "        model_path: Путь к файлу модели.\n",
        "        labels_path: Путь к файлу меток.\n",
        "\n",
        "    Returns:\n",
        "        None.\n",
        "    \"\"\"\n",
        "\n",
        "    # Сохранение модели\n",
        "    model.save(model_path, save_format=\"h5\")\n",
        "\n",
        "    # Сохранение меток\n",
        "    with open(labels_path, \"wb\") as f:\n",
        "        f.write(pickle.dumps(lb))"
      ]
    },
    {
      "cell_type": "code",
      "source": [
        "model_path = \"model.h5\"\n",
        "labels_path = \"label_bin\"\n",
        "\n",
        "save_model_and_labels(model, lb, model_path, labels_path)"
      ],
      "metadata": {
        "colab": {
          "base_uri": "https://localhost:8080/"
        },
        "id": "Y0BX0WolFASS",
        "outputId": "b56ebcea-7230-4887-db41-a66e2d09ca0c"
      },
      "execution_count": 42,
      "outputs": [
        {
          "output_type": "stream",
          "name": "stderr",
          "text": [
            "WARNING:absl:The `save_format` argument is deprecated in Keras 3. We recommend removing this argument as it can be inferred from the file path. Received: save_format=h5\n",
            "WARNING:absl:You are saving your model as an HDF5 file via `model.save()` or `keras.saving.save_model(model)`. This file format is considered legacy. We recommend using instead the native Keras format, e.g. `model.save('my_model.keras')` or `keras.saving.save_model(model, 'my_model.keras')`. \n"
          ]
        }
      ]
    },
    {
      "cell_type": "markdown",
      "metadata": {
        "id": "YjyCuhw1aeti"
      },
      "source": [
        "### 9. Проверка обученной модели пользовательскими данными:"
      ]
    },
    {
      "cell_type": "markdown",
      "source": [
        "#### 9.1. Импортируем необходимые библиотеки"
      ],
      "metadata": {
        "id": "yfUIW800wuyu"
      }
    },
    {
      "cell_type": "code",
      "execution_count": 43,
      "metadata": {
        "id": "wk1qihbS3FR1"
      },
      "outputs": [],
      "source": [
        "# Ваш код\n",
        "from keras.models import load_model\n",
        "import gradio as gr  # Библиотека для создания веб-интерфейсов\n",
        "import pickle\n",
        "import cv2"
      ]
    },
    {
      "cell_type": "markdown",
      "source": [
        "#### 9.2. Реализуем функцию для предобработки входных данных в той же последовательности, что и при формировании обучающей выборки:"
      ],
      "metadata": {
        "id": "PM2dadCBwzES"
      }
    },
    {
      "cell_type": "code",
      "execution_count": 44,
      "metadata": {
        "id": "P4KLc85A3FkU"
      },
      "outputs": [],
      "source": [
        "# Ваш код\n",
        "# Функция для предобработки изображения\n",
        "def preprocess_image(img, compression_size = 64):\n",
        "\n",
        "    \"\"\"\n",
        "    Функция для изменения размера, \"выравнивания\" и масштабирования изображения.\n",
        "\n",
        "    Args:\n",
        "    img: Изображение.\n",
        "\n",
        "    Returns:\n",
        "    Предобработанное изображение.\n",
        "    \"\"\"\n",
        "\n",
        "    image = img.copy()  # Создаем копию изображения\n",
        "    # Изменяем размер изображения до compression_size x compression_size пикселей\n",
        "    image = cv2.resize(image, (compression_size, compression_size))\n",
        "    # Преобразуем изображение в одномерный массив (вектор)\n",
        "    image = image.flatten()\n",
        "    # Масштабируем значения пикселей к диапазону [0, 1]\n",
        "    image = image.astype(\"float\") / 255.0\n",
        "    # Преобразуем массив в формат, совместимый с нашей моделью Keras\n",
        "    image = image.reshape((1, image.shape[0]))\n",
        "\n",
        "    return image"
      ]
    },
    {
      "cell_type": "markdown",
      "source": [
        "#### 9.3. Определим функцию для осуществления прогноза по загруженной модели:"
      ],
      "metadata": {
        "id": "UXPI1dAIxvPz"
      }
    },
    {
      "cell_type": "code",
      "execution_count": 45,
      "metadata": {
        "id": "LO4Ty_t0anmv"
      },
      "outputs": [],
      "source": [
        "# Ваш код\n",
        "def predict_image(img, preprocess_func = preprocess_image, model_path = \"model.h5\", label_path = \"label_bin\"):\n",
        "\n",
        "    \"\"\"\n",
        "    Функция для выполнения предсказания класса, возвращает\n",
        "    словарь с вероятностями для каждого класса.\n",
        "\n",
        "    Args:\n",
        "    img: Изображение.\n",
        "    preprocess_funk: Функция для предобработки изображения.\n",
        "    model_path: Путь к файлу модели.\n",
        "    label_path: Путь к файлу с метками.\n",
        "\n",
        "    Returns:\n",
        "    Словарь с метками и вероятностями для каждого класса.\n",
        "    \"\"\"\n",
        "\n",
        "    # Загружаем модель и метки\n",
        "    model = load_model(model_path)  # Загрузка модели Keras\n",
        "    lb = pickle.loads(open(label_path, \"rb\").read())  # Загрузка словаря с метками\n",
        "\n",
        "    # Делаем предсказание на изображении\n",
        "    image = preprocess_func(img.copy())  # Предобработка изображения\n",
        "    preds = model.predict(image).flatten()  # Выполнение предсказания\n",
        "\n",
        "    # Возвращаем словарь с метками и вероятностями для каждого класса\n",
        "    confidences = {lb.classes_[i]: float(preds[i]) for i in range(len(preds))}\n",
        "\n",
        "    return confidences"
      ]
    },
    {
      "cell_type": "markdown",
      "source": [
        "### 10. Визуализируем интерфейс и произведем классификацию:"
      ],
      "metadata": {
        "id": "acXaOZ_z3dDq"
      }
    },
    {
      "cell_type": "code",
      "execution_count": 46,
      "metadata": {
        "id": "5wW8xYEB3dDr",
        "colab": {
          "base_uri": "https://localhost:8080/",
          "height": 591
        },
        "outputId": "3ad78c06-bb0b-46bd-a179-a8b6440afdda"
      },
      "outputs": [
        {
          "output_type": "stream",
          "name": "stdout",
          "text": [
            "Colab notebook detected. To show errors in colab notebook, set debug=True in launch()\n",
            "* Running on public URL: https://2ce2c04a6b341fa9f9.gradio.live\n",
            "\n",
            "This share link expires in 72 hours. For free permanent hosting and GPU upgrades, run `gradio deploy` from the terminal in the working directory to deploy to Hugging Face Spaces (https://huggingface.co/spaces)\n"
          ]
        },
        {
          "output_type": "display_data",
          "data": {
            "text/plain": [
              "<IPython.core.display.HTML object>"
            ],
            "text/html": [
              "<div><iframe src=\"https://2ce2c04a6b341fa9f9.gradio.live\" width=\"100%\" height=\"500\" allow=\"autoplay; camera; microphone; clipboard-read; clipboard-write;\" frameborder=\"0\" allowfullscreen></iframe></div>"
            ]
          },
          "metadata": {}
        },
        {
          "output_type": "execute_result",
          "data": {
            "text/plain": []
          },
          "metadata": {},
          "execution_count": 46
        }
      ],
      "source": [
        "# Ваш код\n",
        "# Создаем интерфейс Gradio\n",
        "interface = gr.Interface(\n",
        "    fn=predict_image,  # Функция, которая будет вызываться при загрузке изображения\n",
        "    inputs=gr.Image(label=\"Загрузите изображение\"),  # Входные данные: изображение\n",
        "    outputs= gr.Label(num_top_classes=len(lb.classes_)), # Выходные данные: топ-N классов с наибольшей вероятностью\n",
        "    examples=[\"/content/drive/MyDrive/Test/training_set/ELEPHANT/0024d1579c2c4b4395e53a39f70d49f7_18.jpg\",\n",
        "              \"/content/drive/MyDrive/Test/training_set/cats/cat.10.jpg\",\n",
        "              \"/content/animals/horse/OIP-0k_R3Nyg6o3p42oKJ_Y0sQAAAA.jpeg\"])\n",
        "\n",
        "# Запускаем интерфейс\n",
        "interface.launch(share=True)"
      ]
    }
  ]
}