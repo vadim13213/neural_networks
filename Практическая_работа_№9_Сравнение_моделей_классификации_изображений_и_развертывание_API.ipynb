{
  "nbformat": 4,
  "nbformat_minor": 0,
  "metadata": {
    "colab": {
      "provenance": [],
      "collapsed_sections": [
        "nre77K68oL27",
        "q7L5Qb4yoQoJ"
      ],
      "include_colab_link": true
    },
    "kernelspec": {
      "name": "python3",
      "display_name": "Python 3"
    },
    "language_info": {
      "name": "python"
    }
  },
  "cells": [
    {
      "cell_type": "markdown",
      "metadata": {
        "id": "view-in-github",
        "colab_type": "text"
      },
      "source": [
        "<a href=\"https://colab.research.google.com/github/vadim13213/neural_networks/blob/main/%D0%9F%D1%80%D0%B0%D0%BA%D1%82%D0%B8%D1%87%D0%B5%D1%81%D0%BA%D0%B0%D1%8F_%D1%80%D0%B0%D0%B1%D0%BE%D1%82%D0%B0_%E2%84%969_%D0%A1%D1%80%D0%B0%D0%B2%D0%BD%D0%B5%D0%BD%D0%B8%D0%B5_%D0%BC%D0%BE%D0%B4%D0%B5%D0%BB%D0%B5%D0%B9_%D0%BA%D0%BB%D0%B0%D1%81%D1%81%D0%B8%D1%84%D0%B8%D0%BA%D0%B0%D1%86%D0%B8%D0%B8_%D0%B8%D0%B7%D0%BE%D0%B1%D1%80%D0%B0%D0%B6%D0%B5%D0%BD%D0%B8%D0%B9_%D0%B8_%D1%80%D0%B0%D0%B7%D0%B2%D0%B5%D1%80%D1%82%D1%8B%D0%B2%D0%B0%D0%BD%D0%B8%D0%B5_API.ipynb\" target=\"_parent\"><img src=\"https://colab.research.google.com/assets/colab-badge.svg\" alt=\"Open In Colab\"/></a>"
      ]
    },
    {
      "cell_type": "markdown",
      "source": [
        "# **Практическая работа №9. Сравнение моделей классификации изображений и развертывание API**\n"
      ],
      "metadata": {
        "id": "4abC1NsIoKev"
      }
    },
    {
      "cell_type": "markdown",
      "source": [
        "## **Цель работы**\n"
      ],
      "metadata": {
        "id": "nre77K68oL27"
      }
    },
    {
      "cell_type": "markdown",
      "source": [
        "Провести сравнительный анализ ранее обученных моделей классификации изображений (работы 2-5), выбрать лучшую по метрикам качества, развернуть ее в виде API и создать пользовательский интерфейс с помощью Streamlit."
      ],
      "metadata": {
        "id": "eyITwc5MoOSr"
      }
    },
    {
      "cell_type": "markdown",
      "source": [
        "## **Раздел 1. Подготовка и анализ моделей**\n"
      ],
      "metadata": {
        "id": "q7L5Qb4yoQoJ"
      }
    },
    {
      "cell_type": "markdown",
      "source": [
        "1. Загрузить выбранный датасет для классификации изображений\n",
        "2. Загрузить ранее обученные модели (из практических работ 2-5)\n",
        "3. Сравнить модели по метрикам качества:\n",
        "   - Точность (accuracy)\n",
        "   - Полнота (recall)\n",
        "   - Precision\n",
        "   - F1-мера\n",
        "   - Время инференса\n",
        "4. Создать сводный DataFrame с результатами всех моделей\n",
        "5. Визуализировать результаты сравнения с помощью графиков\n",
        "6. Построить матрицы ошибок для каждой модели\n",
        "7. Выбрать лучшую модель по F1-мере\n",
        "8. Сохранить лучшую модель"
      ],
      "metadata": {
        "id": "Olo7unRboSrl"
      }
    },
    {
      "cell_type": "markdown",
      "source": [
        "### Загрузка и подготовка датасета"
      ],
      "metadata": {
        "id": "JwuVfZY71aIN"
      }
    },
    {
      "cell_type": "code",
      "source": [
        "from sklearn.preprocessing import LabelBinarizer\n",
        "from sklearn.model_selection import train_test_split\n",
        "from sklearn.metrics import classification_report\n",
        "from google.colab.patches import cv2_imshow\n",
        "from keras.models import load_model\n",
        "from imutils import paths\n",
        "import numpy as np\n",
        "import random\n",
        "import pickle\n",
        "import cv2\n",
        "import os"
      ],
      "metadata": {
        "id": "JhxHtIa_zALV"
      },
      "execution_count": null,
      "outputs": []
    },
    {
      "cell_type": "code",
      "source": [
        "from google.colab import drive\n",
        "drive.mount('/content/drive')"
      ],
      "metadata": {
        "colab": {
          "base_uri": "https://localhost:8080/"
        },
        "id": "7qwZr4NJzAo0",
        "outputId": "5430c04b-287a-401e-d3c8-0d72355cb7de"
      },
      "execution_count": null,
      "outputs": [
        {
          "output_type": "stream",
          "name": "stdout",
          "text": [
            "Mounted at /content/drive\n"
          ]
        }
      ]
    },
    {
      "cell_type": "code",
      "source": [
        "%%capture\n",
        "!unzip /content/drive/MyDrive/datasets/archive.zip -d animals"
      ],
      "metadata": {
        "id": "VF__GzqDzGZE"
      },
      "execution_count": 14,
      "outputs": []
    },
    {
      "cell_type": "code",
      "source": [
        "imagesPath = sorted(list(paths.list_images('/content/animals/')))\n",
        "random.shuffle(imagesPath)"
      ],
      "metadata": {
        "id": "i1Er7Lb2zLQm"
      },
      "execution_count": 15,
      "outputs": []
    },
    {
      "cell_type": "markdown",
      "source": [
        "Загрузка изображений в формате (64, 64, 3)"
      ],
      "metadata": {
        "id": "LQknJXXd_6FC"
      }
    },
    {
      "cell_type": "code",
      "source": [
        "def load_images(imagePaths, compression_size = 32):\n",
        "  \"\"\"\n",
        "  Функция для загрузки изображений и преобразования их к нужной размерности.\n",
        "\n",
        "  Args:\n",
        "    imagePaths: список путей к изображениям.\n",
        "    compression_size: размер сжатия изображения\n",
        "\n",
        "  Returns:\n",
        "    data: список векторов признаков (сжатых изображений).\n",
        "    labels: список меток классов.\n",
        "  \"\"\"\n",
        "\n",
        "  data = []\n",
        "  labels = []\n",
        "\n",
        "  for imagePath in imagePaths:\n",
        "    # Загрузка изображения\n",
        "    image = cv2.imread(imagePath)\n",
        "\n",
        "    # Изменение разрешения изображения (по умолчанию 32х32х3 -> 3072,)\n",
        "    image = cv2.resize(image, (compression_size, compression_size))\n",
        "\n",
        "    # Добавление изображения в список\n",
        "    data.append(image)\n",
        "\n",
        "    # Извлечение метки класса из пути к изображению\n",
        "    label = imagePath.split(os.path.sep)[-2]\n",
        "\n",
        "    # Добавление метки в список\n",
        "    labels.append(label)\n",
        "\n",
        "  return data, labels\n",
        "\n",
        "data, labels = load_images(imagesPath, 64)"
      ],
      "metadata": {
        "id": "m52ghipBzQ1H"
      },
      "execution_count": 16,
      "outputs": []
    },
    {
      "cell_type": "code",
      "source": [
        "data = np.array(data, dtype=\"float\") / 255.0\n",
        "labels = np.array(labels)\n",
        "\n",
        "print(data.shape)\n",
        "\n",
        "(X_train, X_test, Y_train, Y_test) = train_test_split(data, labels, test_size=0.2, random_state=42)\n",
        "\n",
        "lb = LabelBinarizer()\n",
        "Y_train = lb.fit_transform(Y_train)\n",
        "Y_test = lb.transform(Y_test)\n",
        "\n",
        "print(X_train.shape)\n",
        "print(X_test.shape)"
      ],
      "metadata": {
        "colab": {
          "base_uri": "https://localhost:8080/"
        },
        "id": "6n4ZgboW0kmp",
        "outputId": "11135be9-6cbd-4b9f-bc0f-074619fc5aa1"
      },
      "execution_count": 17,
      "outputs": [
        {
          "output_type": "stream",
          "name": "stdout",
          "text": [
            "(10794, 64, 64, 3)\n",
            "(8635, 64, 64, 3)\n",
            "(2159, 64, 64, 3)\n"
          ]
        }
      ]
    },
    {
      "cell_type": "markdown",
      "source": [
        "Загрузка изображений в формате (64, 64, 3) -> (12288)"
      ],
      "metadata": {
        "id": "XtclWdgQAG_a"
      }
    },
    {
      "cell_type": "code",
      "source": [
        "def load_flat_images(imagePaths, compression_size = 32):\n",
        "  \"\"\"\n",
        "  Функция для загрузки изображений и преобразования их в векторы признаков.\n",
        "\n",
        "  Args:\n",
        "    imagePaths: список путей к изображениям.\n",
        "    compression_size: размер сжатия изображения\n",
        "\n",
        "  Returns:\n",
        "    data: список векторов признаков (сжатых изображений, преобразованных в векторы).\n",
        "    labels: список меток классов.\n",
        "  \"\"\"\n",
        "\n",
        "  data = []\n",
        "  labels = []\n",
        "\n",
        "  for imagePath in imagePaths:\n",
        "    # Загрузка изображения\n",
        "    image = cv2.imread(imagePath)\n",
        "\n",
        "    # Изменение разрешения изображения (по умолчанию 32х32х3 -> 3072,)\n",
        "    image = cv2.resize(image, (compression_size, compression_size)).flatten()\n",
        "\n",
        "    # Добавление изображения в список\n",
        "    data.append(image)\n",
        "\n",
        "    # Извлечение метки класса из пути к изображению\n",
        "    label = imagePath.split(os.path.sep)[-2]\n",
        "\n",
        "    # Добавление метки в список\n",
        "    labels.append(label)\n",
        "\n",
        "  return data, labels\n",
        "\n",
        "flat_data, flat_labels = load_flat_images(imagesPath, 64)"
      ],
      "metadata": {
        "id": "Pbwm03WTARWb"
      },
      "execution_count": 18,
      "outputs": []
    },
    {
      "cell_type": "code",
      "source": [
        "flat_data = np.array(flat_data, dtype=\"float\") / 255.0\n",
        "flat_labels = np.array(flat_labels)\n",
        "\n",
        "print(flat_data.shape)\n",
        "\n",
        "(X_train_flat, X_test_flat, Y_train_flat, Y_test_flat) = train_test_split(flat_data, flat_labels, test_size=0.2, random_state=42)\n",
        "\n",
        "flat_lb = LabelBinarizer()\n",
        "Y_train_flat = lb.fit_transform(Y_train)\n",
        "Y_test_flat = lb.transform(Y_test)\n",
        "\n",
        "print(X_train_flat.shape)\n",
        "print(X_test_flat.shape)"
      ],
      "metadata": {
        "colab": {
          "base_uri": "https://localhost:8080/"
        },
        "id": "us83mh50Act9",
        "outputId": "70b57246-b621-42ce-e236-486ed2d84f5c"
      },
      "execution_count": 19,
      "outputs": [
        {
          "output_type": "stream",
          "name": "stdout",
          "text": [
            "(10794, 12288)\n",
            "(8635, 12288)\n",
            "(2159, 12288)\n"
          ]
        }
      ]
    },
    {
      "cell_type": "markdown",
      "source": [
        "### Получение метрик для моделей"
      ],
      "metadata": {
        "id": "3a7KhmzS3CT9"
      }
    },
    {
      "cell_type": "code",
      "source": [
        "# Словарь с моделями\n",
        "models = {\n",
        "    #\"simple_dnn(work_№2)\": load_model('/content/best_model.h5'),\n",
        "    \"simple_cnn(work_№3)\": load_model('/content/best_model_my.keras'),\n",
        "    \"deep_cnn(work_№3)\": load_model('/content/best_model_resnet_like.keras'),\n",
        "    \"residual_cnn(work_№4)\": load_model('/content/best_model_new.keras'),\n",
        "    #\"tf_resnet50v2(work_№5)\": load_model('/content/resnet50v2_best.keras') #модель не удалось найти, но ее результаты все равно не очень хорошие\n",
        "}"
      ],
      "metadata": {
        "id": "mT_f3-z44clf"
      },
      "execution_count": 23,
      "outputs": []
    },
    {
      "cell_type": "code",
      "source": [
        "from sklearn.metrics import accuracy_score, recall_score, precision_score, f1_score, confusion_matrix\n",
        "\n",
        "results = {}\n",
        "\n",
        "for name, model in models.items():\n",
        "    print(f\"Получаем метрики для модели {name}\")\n",
        "\n",
        "    if name == \"simple_dnn(work_№2)\":\n",
        "        # Оценка модели на тестовом наборе\n",
        "        test_loss, test_acc = model.evaluate(X_test_flat, Y_test_flat, verbose=0)\n",
        "\n",
        "        # Получение предсказаний\n",
        "        y_pred_proba = model.predict(X_test_flat)\n",
        "        y_pred = np.argmax(y_pred_proba, axis=1)\n",
        "        y_test = np.argmax(Y_test_flat, axis=1)\n",
        "\n",
        "    else:\n",
        "        # Оценка модели на тестовом наборе\n",
        "        test_loss, test_acc = model.evaluate(X_test, Y_test, verbose=0)\n",
        "\n",
        "        # Получение предсказаний\n",
        "        y_pred_proba = model.predict(X_test)\n",
        "        y_pred = np.argmax(y_pred_proba, axis=1)\n",
        "        y_test = np.argmax(Y_test, axis=1)\n",
        "\n",
        "    # Вычисление метрик\n",
        "    accuracy = accuracy_score(y_test, y_pred)\n",
        "    recall = recall_score(y_test, y_pred, average='weighted')\n",
        "    precision = precision_score(y_test, y_pred, average='weighted')\n",
        "    f1 = f1_score(y_test, y_pred, average='weighted')\n",
        "    cm = confusion_matrix(y_test, y_pred)\n",
        "\n",
        "    results[name] = {\n",
        "        'accuracy': accuracy,\n",
        "        'recall': recall,\n",
        "        'precision': precision,\n",
        "        'f1': f1,\n",
        "        'confusion_matrix': cm,\n",
        "        'test_loss': test_loss,\n",
        "        'test_acc': test_acc\n",
        "    }\n",
        "\n",
        "    print(f\"Точность на тестовых данных: {test_acc:.4f}\\n\")\n",
        "    print()"
      ],
      "metadata": {
        "colab": {
          "base_uri": "https://localhost:8080/"
        },
        "id": "kMaDbEfw0lLi",
        "outputId": "6d0d0a99-2eb1-4bc8-ebab-4910e897bf2b"
      },
      "execution_count": 24,
      "outputs": [
        {
          "output_type": "stream",
          "name": "stdout",
          "text": [
            "Получаем метрики для модели simple_cnn(work_№3)\n",
            "\u001b[1m68/68\u001b[0m \u001b[32m━━━━━━━━━━━━━━━━━━━━\u001b[0m\u001b[37m\u001b[0m \u001b[1m4s\u001b[0m 57ms/step\n",
            "Точность на тестовых данных: 0.2710\n",
            "\n",
            "\n",
            "Получаем метрики для модели deep_cnn(work_№3)\n",
            "\u001b[1m68/68\u001b[0m \u001b[32m━━━━━━━━━━━━━━━━━━━━\u001b[0m\u001b[37m\u001b[0m \u001b[1m17s\u001b[0m 243ms/step\n",
            "Точность на тестовых данных: 0.2441\n",
            "\n",
            "\n",
            "Получаем метрики для модели residual_cnn(work_№4)\n",
            "\u001b[1m68/68\u001b[0m \u001b[32m━━━━━━━━━━━━━━━━━━━━\u001b[0m\u001b[37m\u001b[0m \u001b[1m28s\u001b[0m 401ms/step\n",
            "Точность на тестовых данных: 0.2534\n",
            "\n",
            "\n"
          ]
        }
      ]
    },
    {
      "cell_type": "markdown",
      "source": [
        "### Визуализация метрик (сводная таблица с метриками + графики)"
      ],
      "metadata": {
        "id": "u-2v2E0X3E77"
      }
    },
    {
      "cell_type": "code",
      "source": [
        "import matplotlib.pyplot as plt\n",
        "import seaborn as sns\n",
        "import pandas as pd\n",
        "\n",
        "# Создание датафрейма с результатами\n",
        "results_df = pd.DataFrame({\n",
        "    model_name: {\n",
        "        'Точность': metrics['accuracy'],\n",
        "        'Полнота': metrics['recall'],\n",
        "        'Точность (Precision)': metrics['precision'],\n",
        "        'F1-мера': metrics['f1'],\n",
        "    }\n",
        "    for model_name, metrics in results.items()\n",
        "})\n",
        "\n",
        "# Транспонирование для удобного отображения\n",
        "results_df = results_df.T\n",
        "\n",
        "# Сортировка по F1-мере\n",
        "results_df_sorted = results_df.sort_values('F1-мера', ascending=False)\n",
        "\n",
        "# Вывод результатов\n",
        "print(\"Результаты по всем моделям:\")\n",
        "display(results_df_sorted.style.format(\"{:.4f}\"))\n",
        "print()\n",
        "\n",
        "# Визуализация метрик\n",
        "plt.figure(figsize=(14, 6))\n",
        "metrics_to_plot = ['Точность', 'Полнота', 'Точность (Precision)', 'F1-мера']\n",
        "\n",
        "for i, metric in enumerate(metrics_to_plot):\n",
        "    plt.subplot(2, 4, i+1)\n",
        "    plt.bar(results_df.index, results_df[metric])\n",
        "    plt.title(metric)\n",
        "    plt.xticks(rotation=70)\n",
        "    #plt.ylim([0.9, 1.0])  # Настройка для лучшей визуализации различий\n",
        "\n",
        "    # Добавление значений к барам\n",
        "    for j, v in enumerate(results_df[metric]):\n",
        "        plt.text(j, v + 0.005, f\"{v:.4f}\", ha='center')\n",
        "\n",
        "plt.tight_layout()\n",
        "plt.show()\n",
        "\n",
        "print()\n",
        "# Визуализация матриц ошибок\n",
        "plt.figure(figsize=(16, 4))\n",
        "for i, (name, metrics) in enumerate(results.items()):\n",
        "    plt.subplot(1, 4, i+1)\n",
        "    cm = metrics['confusion_matrix']\n",
        "    sns.heatmap(cm, annot=True, fmt='d', cmap='Blues')\n",
        "    plt.title(f'Матрица ошибок для {name}')\n",
        "    plt.ylabel('Истинные метки')\n",
        "    plt.xlabel('Предсказанные метки')\n",
        "\n",
        "plt.tight_layout()\n",
        "plt.show()\n",
        "\n",
        "# Выбор лучшей модели по F1-мере\n",
        "best_model_name = results_df_sorted.index[0]\n",
        "best_model = models[best_model_name]\n",
        "\n",
        "print(f\"\\nЛучшая модель по F1-мере: {best_model_name}\")"
      ],
      "metadata": {
        "colab": {
          "base_uri": "https://localhost:8080/",
          "height": 1000
        },
        "id": "KjEvxEQO77GR",
        "outputId": "525a3876-2241-4279-feaa-17f275fca5fd"
      },
      "execution_count": 25,
      "outputs": [
        {
          "output_type": "stream",
          "name": "stdout",
          "text": [
            "Результаты по всем моделям:\n"
          ]
        },
        {
          "output_type": "display_data",
          "data": {
            "text/plain": [
              "<pandas.io.formats.style.Styler at 0x7de84d9c1450>"
            ],
            "text/html": [
              "<style type=\"text/css\">\n",
              "</style>\n",
              "<table id=\"T_9ca34\" class=\"dataframe\">\n",
              "  <thead>\n",
              "    <tr>\n",
              "      <th class=\"blank level0\" >&nbsp;</th>\n",
              "      <th id=\"T_9ca34_level0_col0\" class=\"col_heading level0 col0\" >Точность</th>\n",
              "      <th id=\"T_9ca34_level0_col1\" class=\"col_heading level0 col1\" >Полнота</th>\n",
              "      <th id=\"T_9ca34_level0_col2\" class=\"col_heading level0 col2\" >Точность (Precision)</th>\n",
              "      <th id=\"T_9ca34_level0_col3\" class=\"col_heading level0 col3\" >F1-мера</th>\n",
              "    </tr>\n",
              "  </thead>\n",
              "  <tbody>\n",
              "    <tr>\n",
              "      <th id=\"T_9ca34_level0_row0\" class=\"row_heading level0 row0\" >simple_cnn(work_№3)</th>\n",
              "      <td id=\"T_9ca34_row0_col0\" class=\"data row0 col0\" >0.2710</td>\n",
              "      <td id=\"T_9ca34_row0_col1\" class=\"data row0 col1\" >0.2710</td>\n",
              "      <td id=\"T_9ca34_row0_col2\" class=\"data row0 col2\" >0.3595</td>\n",
              "      <td id=\"T_9ca34_row0_col3\" class=\"data row0 col3\" >0.2866</td>\n",
              "    </tr>\n",
              "    <tr>\n",
              "      <th id=\"T_9ca34_level0_row1\" class=\"row_heading level0 row1\" >residual_cnn(work_№4)</th>\n",
              "      <td id=\"T_9ca34_row1_col0\" class=\"data row1 col0\" >0.2534</td>\n",
              "      <td id=\"T_9ca34_row1_col1\" class=\"data row1 col1\" >0.2534</td>\n",
              "      <td id=\"T_9ca34_row1_col2\" class=\"data row1 col2\" >0.3283</td>\n",
              "      <td id=\"T_9ca34_row1_col3\" class=\"data row1 col3\" >0.2754</td>\n",
              "    </tr>\n",
              "    <tr>\n",
              "      <th id=\"T_9ca34_level0_row2\" class=\"row_heading level0 row2\" >deep_cnn(work_№3)</th>\n",
              "      <td id=\"T_9ca34_row2_col0\" class=\"data row2 col0\" >0.2441</td>\n",
              "      <td id=\"T_9ca34_row2_col1\" class=\"data row2 col1\" >0.2441</td>\n",
              "      <td id=\"T_9ca34_row2_col2\" class=\"data row2 col2\" >0.3336</td>\n",
              "      <td id=\"T_9ca34_row2_col3\" class=\"data row2 col3\" >0.2609</td>\n",
              "    </tr>\n",
              "  </tbody>\n",
              "</table>\n"
            ]
          },
          "metadata": {}
        },
        {
          "output_type": "stream",
          "name": "stdout",
          "text": [
            "\n"
          ]
        },
        {
          "output_type": "display_data",
          "data": {
            "text/plain": [
              "<Figure size 1400x600 with 4 Axes>"
            ],
            "image/png": "[encoded data removed]"
          },
          "metadata": {}
        },
        {
          "output_type": "stream",
          "name": "stdout",
          "text": [
            "\n"
          ]
        },
        {
          "output_type": "display_data",
          "data": {
            "text/plain": [
              "<Figure size 1600x400 with 6 Axes>"
            ],
            "image/png": "[encoded data removed]"
          },
          "metadata": {}
        },
        {
          "output_type": "stream",
          "name": "stdout",
          "text": [
            "\n",
            "Лучшая модель по F1-мере: simple_cnn(work_№3)\n"
          ]
        }
      ]
    },
    {
      "cell_type": "code",
      "source": [
        "import joblib\n",
        "\n",
        "joblib.dump(lb, \"label_binarizer.pkl\")"
      ],
      "metadata": {
        "colab": {
          "base_uri": "https://localhost:8080/"
        },
        "id": "fR2NF7w0adqq",
        "outputId": "85e21fc8-dca7-45c3-fc72-6228f2d9637a"
      },
      "execution_count": 29,
      "outputs": [
        {
          "output_type": "execute_result",
          "data": {
            "text/plain": [
              "['label_binarizer.pkl']"
            ]
          },
          "metadata": {},
          "execution_count": 29
        }
      ]
    },
    {
      "cell_type": "code",
      "source": [
        "# Сохранение лучшей модели\n",
        "best_model_name = results_df_sorted.index[0]\n",
        "best_model = models[best_model_name]\n",
        "best_model.save('/content/best_model_for_api.keras')  # или .keras"
      ],
      "metadata": {
        "id": "IhTGEbUK0t_4"
      },
      "execution_count": 28,
      "outputs": []
    },
    {
      "cell_type": "markdown",
      "source": [
        "## **Раздел 2. Развертывание API**\n"
      ],
      "metadata": {
        "id": "iyx_RWv4oVBo"
      }
    },
    {
      "cell_type": "markdown",
      "source": [
        "1. Создать FastAPI приложение для обработки запросов с изображениями\n",
        "2. Реализовать предобработку загружаемых изображений\n",
        "3. Реализовать эндпоинт для классификации изображений\n",
        "4. Добавить возврат предсказанного класса и вероятностей по всем классам\n",
        "5. Создать файл requirements.txt с необходимыми зависимостями\n",
        "6. Развернуть API на сервере с доступом из глобальной сети"
      ],
      "metadata": {
        "id": "5YhO25q3oXPL"
      }
    },
    {
      "cell_type": "markdown",
      "source": [
        "preprocess.py"
      ],
      "metadata": {
        "id": "hhiRlOmaayBp"
      }
    },
    {
      "cell_type": "code",
      "source": [
        "import cv2\n",
        "import numpy as np\n",
        "from io import BytesIO\n",
        "from PIL import Image\n",
        "\n",
        "def preprocess_image(file, compression_size=64):\n",
        "    \"\"\"\n",
        "    Предобработка загружаемого изображения:\n",
        "    - читаем байты\n",
        "    - преобразуем в массив\n",
        "    - изменяем размер\n",
        "    - нормализуем\n",
        "\n",
        "    Returns:\n",
        "        image (np.array): подготовленное изображение для подачи в модель\n",
        "    \"\"\"\n",
        "    image = Image.open(BytesIO(file)).convert(\"RGB\")\n",
        "    image = image.resize((compression_size, compression_size))\n",
        "    image = np.array(image).astype(\"float32\") / 255.0\n",
        "    image = np.expand_dims(image, axis=0)  # добавляем размерность для batch\n",
        "    return image"
      ],
      "metadata": {
        "id": "5MH7DmPiyxog"
      },
      "execution_count": null,
      "outputs": []
    },
    {
      "cell_type": "markdown",
      "source": [
        "main.py"
      ],
      "metadata": {
        "id": "kwXLCZNAa2tY"
      }
    },
    {
      "cell_type": "code",
      "source": [
        "from fastapi import FastAPI, File, UploadFile\n",
        "from fastapi.responses import JSONResponse\n",
        "import numpy as np\n",
        "import joblib\n",
        "from tensorflow.keras.models import load_model\n",
        "from PIL import Image\n",
        "import io\n",
        "\n",
        "def preprocess_image(image_bytes):\n",
        "    image = Image.open(io.BytesIO(image_bytes))\n",
        "    image = image.convert(\"RGB\")\n",
        "    image = image.resize((224, 224))\n",
        "    image_array = np.array(image) / 255.0\n",
        "    image_array = np.expand_dims(image_array, axis=0)\n",
        "    return image_array\n",
        "\n",
        "app = FastAPI()\n",
        "\n",
        "# Загрузка модели и label binarizer\n",
        "model = load_model('/content/best_model_for_api.h5')\n",
        "label_binarizer = joblib.load(\"label_binarizer.pkl\")\n",
        "\n",
        "@app.post(\"/predict/\")\n",
        "async def predict(file: UploadFile = File(...)):\n",
        "    try:\n",
        "        image_bytes = await file.read()\n",
        "        image = preprocess_image(image_bytes)\n",
        "\n",
        "        # Предсказание\n",
        "        probs = model.predict(image)[0]  # Вероятности\n",
        "        predicted_index = np.argmax(probs)\n",
        "        predicted_label = label_binarizer.classes_[predicted_index]\n",
        "\n",
        "        return JSONResponse({\n",
        "            \"predicted_class\": str(predicted_label),\n",
        "            \"probabilities\": {\n",
        "                str(label): float(prob)\n",
        "                for label, prob in zip(label_binarizer.classes_, probs)\n",
        "            }\n",
        "        })\n",
        "\n",
        "    except Exception as e:\n",
        "        return JSONResponse(status_code=500, content={\"error\": str(e)})"
      ],
      "metadata": {
        "id": "l9WNzgOa5EJB"
      },
      "execution_count": null,
      "outputs": []
    },
    {
      "cell_type": "markdown",
      "source": [
        "requirements.txt"
      ],
      "metadata": {
        "id": "KyKnNvREbPPl"
      }
    },
    {
      "cell_type": "markdown",
      "source": [
        "```\n",
        "fastapi\n",
        "uvicorn\n",
        "numpy\n",
        "opencv-python-headless\n",
        "pillow\n",
        "scikit-learn\n",
        "joblib\n",
        "tensorflow\n",
        "streamlit\n",
        "streamlit-drawable-canvas\n",
        "requests\n",
        "matplotlib\n",
        "```"
      ],
      "metadata": {
        "id": "0lId2Bi_bWA_"
      }
    },
    {
      "cell_type": "markdown",
      "source": [
        "## **Раздел 3. Создание интерфейса на Streamlit**\n"
      ],
      "metadata": {
        "id": "8W-8zoQIoa2v"
      }
    },
    {
      "cell_type": "markdown",
      "source": [
        "\n",
        "1. Разработать Streamlit-приложение со следующими функциями:\n",
        "   - Возможность загрузки изображения пользователем\n",
        "   - Возможность рисования изображения на холсте\n",
        "   - Предобработка изображения перед отправкой на API\n",
        "   - Отображение результатов классификации\n",
        "   - Визуализация распределения вероятностей по классам\n",
        "2. Развернуть Streamlit-приложение на платформе Streamlit Cloud"
      ],
      "metadata": {
        "id": "jneLuiFQoeEA"
      }
    },
    {
      "cell_type": "markdown",
      "source": [
        "app.py"
      ],
      "metadata": {
        "id": "kQylzd3Ycv4a"
      }
    },
    {
      "cell_type": "code",
      "source": [
        "import streamlit as st\n",
        "import numpy as np\n",
        "from PIL import Image\n",
        "import requests\n",
        "from io import BytesIO\n",
        "import matplotlib.pyplot as plt\n",
        "from streamlit_drawable_canvas import st_canvas\n",
        "\n",
        "# URL до API\n",
        "API_URL = \"https://1122-35-201-175-160.ngrok-free.app/predict/\"\n",
        "\n",
        "# Имена классов\n",
        "CLASS_NAMES = {\n",
        "    \"0\": \"cane\",\n",
        "    \"1\": \"cavallo\",\n",
        "    \"2\": \"elefante\",\n",
        "    \"3\": \"scoiattolo\"\n",
        "}\n",
        "\n",
        "st.title(\"🐔🐄🐎🐑 Классификация изображений животных\")\n",
        "\n",
        "tab = st.radio(\"Выберите режим\", [\"📷 Загрузить изображение\", \"✏️ Нарисовать изображение\"])\n",
        "\n",
        "image = None\n",
        "\n",
        "if tab == \"📷 Загрузить изображение\":\n",
        "    uploaded_file = st.file_uploader(\"Загрузите изображение\", type=[\"jpg\", \"jpeg\", \"png\"])\n",
        "    if uploaded_file:\n",
        "        image = Image.open(uploaded_file).convert(\"RGB\")\n",
        "\n",
        "elif tab == \"✏️ Нарисовать изображение\":\n",
        "    st.write(\"Нарисуйте животное белым цветом на черном фоне:\")\n",
        "    canvas_result = st_canvas(\n",
        "        fill_color=\"black\",\n",
        "        stroke_width=10,\n",
        "        stroke_color=\"white\",\n",
        "        background_color=\"black\",\n",
        "        width=256,\n",
        "        height=256,\n",
        "        drawing_mode=\"freedraw\",\n",
        "        key=\"canvas_draw\",\n",
        "        update_streamlit=True\n",
        "    )\n",
        "\n",
        "    if canvas_result.image_data is not None:\n",
        "        image = Image.fromarray((canvas_result.image_data).astype(\"uint8\")).convert(\"RGB\")\n",
        "\n",
        "# Отображение изображения\n",
        "if image:\n",
        "    st.image(image, caption=\"Входное изображение\", use_container_width=True)\n",
        "\n",
        "    if st.button(\"Классифицировать\"):\n",
        "        # Предобработка изображения\n",
        "        img_resized = image.resize((64, 64))\n",
        "        buffered = BytesIO()\n",
        "        img_resized.save(buffered, format=\"PNG\")\n",
        "        img_bytes = buffered.getvalue()\n",
        "\n",
        "        # Отправка на API\n",
        "        files = {\"file\": (\"image.png\", img_bytes, \"image/png\")}\n",
        "        response = requests.post(API_URL, files=files)\n",
        "\n",
        "        if response.status_code == 200:\n",
        "            result = response.json()\n",
        "\n",
        "            # Предсказанный класс\n",
        "            class_id = result.get(\"predicted_class\", \"unknown\")\n",
        "            class_name = CLASS_NAMES.get(class_id, f\"Unknown class: {class_id}\")\n",
        "\n",
        "            st.subheader(\"✅ Предсказанный класс:\")\n",
        "            st.write(class_name)\n",
        "\n",
        "            # Вероятности\n",
        "            raw_probs = result.get(\"probabilities\", {})\n",
        "            readable_probs = {CLASS_NAMES.get(k, k): v for k, v in raw_probs.items()}\n",
        "\n",
        "            st.subheader(\"📊 Распределение вероятностей:\")\n",
        "            fig, ax = plt.subplots()\n",
        "            ax.bar(readable_probs.keys(), readable_probs.values(), color=\"skyblue\")\n",
        "            ax.set_ylabel(\"Вероятность\")\n",
        "            ax.set_ylim([0, 1])\n",
        "            st.pyplot(fig)\n",
        "        else:\n",
        "            st.error(\"Ошибка при обращении к API:\")\n",
        "            st.text(response.text)"
      ],
      "metadata": {
        "id": "Vw6utKdY5B1Y"
      },
      "execution_count": null,
      "outputs": []
    },
    {
      "cell_type": "markdown",
      "source": [
        "## **Раздел 4. Документация и публикация проекта**\n"
      ],
      "metadata": {
        "id": "c9tXMK2_ofJ4"
      }
    },
    {
      "cell_type": "markdown",
      "source": [
        "1. Создать GitHub-репозиторий со структурой:\n",
        "   - Модели (сохраненная лучшая модель)\n",
        "   - API (код и зависимости)\n",
        "   - Интерфейс (код Streamlit-приложения)\n",
        "   - Документация (README.md)\n",
        "   - Требования (requirements.txt)\n",
        "2. Добавить в README.md:\n",
        "   - Описание проекта и используемого датасета\n",
        "   - Описание сравниваемых моделей\n",
        "   - Таблицу с результатами сравнения моделей\n",
        "   - Визуализации результатов\n",
        "   - Инструкции по локальному развертыванию\n",
        "   - Ссылки на развернутый API и Streamlit-приложение\n",
        "   - Примеры использования API\n",
        "3. Предоставить ссылки на:\n",
        "   - GitHub-репозиторий\n",
        "   - Публичный API для отправки POST-запросов\n",
        "   - Streamlit-интерфейс для взаимодействия с моделью"
      ],
      "metadata": {
        "id": "iclgpHyyofMe"
      }
    },
    {
      "cell_type": "markdown",
      "source": [
        "### ВАШИ ССЫЛКИ"
      ],
      "metadata": {
        "id": "T6604RKJy4i7"
      }
    },
    {
      "cell_type": "markdown",
      "source": [
        "- **GitHub-репозиторий:** https://github.com/vadim13213/cane-cavallo-elefante-scoiattolo-classification\n",
        "\n",
        "- **Публичный API для отправки POST-запросов:** https://cane-cavallo-elefante-scoiattolo.onrender.com/\n",
        "\n",
        "- **Streamlit-интерфейс для взаимодействия с моделью:** https://cane-cavallo-elefante-scoiattolo-q9vw.onrender.com\n"
      ],
      "metadata": {
        "id": "rFpSywu22ofL"
      }
    }
  ]
}
