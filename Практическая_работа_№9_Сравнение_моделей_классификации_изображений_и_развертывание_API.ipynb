{
  "nbformat": 4,
  "nbformat_minor": 0,
  "metadata": {
    "colab": {
      "provenance": [],
      "collapsed_sections": [
        "nre77K68oL27",
        "q7L5Qb4yoQoJ"
      ],
      "include_colab_link": true
    },
    "kernelspec": {
      "name": "python3",
      "display_name": "Python 3"
    },
    "language_info": {
      "name": "python"
    }
  },
  "cells": [
    {
      "cell_type": "markdown",
      "metadata": {
        "id": "view-in-github",
        "colab_type": "text"
      },
      "source": [
        "<a href=\"https://colab.research.google.com/github/vadim13213/neural_networks/blob/main/%D0%9F%D1%80%D0%B0%D0%BA%D1%82%D0%B8%D1%87%D0%B5%D1%81%D0%BA%D0%B0%D1%8F_%D1%80%D0%B0%D0%B1%D0%BE%D1%82%D0%B0_%E2%84%969_%D0%A1%D1%80%D0%B0%D0%B2%D0%BD%D0%B5%D0%BD%D0%B8%D0%B5_%D0%BC%D0%BE%D0%B4%D0%B5%D0%BB%D0%B5%D0%B9_%D0%BA%D0%BB%D0%B0%D1%81%D1%81%D0%B8%D1%84%D0%B8%D0%BA%D0%B0%D1%86%D0%B8%D0%B8_%D0%B8%D0%B7%D0%BE%D0%B1%D1%80%D0%B0%D0%B6%D0%B5%D0%BD%D0%B8%D0%B9_%D0%B8_%D1%80%D0%B0%D0%B7%D0%B2%D0%B5%D1%80%D1%82%D1%8B%D0%B2%D0%B0%D0%BD%D0%B8%D0%B5_API.ipynb\" target=\"_parent\"><img src=\"https://colab.research.google.com/assets/colab-badge.svg\" alt=\"Open In Colab\"/></a>"
      ]
    },
    {
      "cell_type": "markdown",
      "source": [
        "# **Практическая работа №9. Сравнение моделей классификации изображений и развертывание API**\n"
      ],
      "metadata": {
        "id": "4abC1NsIoKev"
      }
    },
    {
      "cell_type": "markdown",
      "source": [
        "## **Цель работы**\n"
      ],
      "metadata": {
        "id": "nre77K68oL27"
      }
    },
    {
      "cell_type": "markdown",
      "source": [
        "Провести сравнительный анализ ранее обученных моделей классификации изображений (работы 2-5), выбрать лучшую по метрикам качества, развернуть ее в виде API и создать пользовательский интерфейс с помощью Streamlit."
      ],
      "metadata": {
        "id": "eyITwc5MoOSr"
      }
    },
    {
      "cell_type": "markdown",
      "source": [
        "## **Раздел 1. Подготовка и анализ моделей**\n"
      ],
      "metadata": {
        "id": "q7L5Qb4yoQoJ"
      }
    },
    {
      "cell_type": "markdown",
      "source": [
        "1. Загрузить выбранный датасет для классификации изображений\n",
        "2. Загрузить ранее обученные модели (из практических работ 2-5)\n",
        "3. Сравнить модели по метрикам качества:\n",
        "   - Точность (accuracy)\n",
        "   - Полнота (recall)\n",
        "   - Precision\n",
        "   - F1-мера\n",
        "   - Время инференса\n",
        "4. Создать сводный DataFrame с результатами всех моделей\n",
        "5. Визуализировать результаты сравнения с помощью графиков\n",
        "6. Построить матрицы ошибок для каждой модели\n",
        "7. Выбрать лучшую модель по F1-мере\n",
        "8. Сохранить лучшую модель"
      ],
      "metadata": {
        "id": "Olo7unRboSrl"
      }
    },
    {
      "cell_type": "markdown",
      "source": [
        "### Загрузка и подготовка датасета"
      ],
      "metadata": {
        "id": "JwuVfZY71aIN"
      }
    },
    {
      "cell_type": "code",
      "source": [
        "from sklearn.preprocessing import LabelBinarizer\n",
        "from sklearn.model_selection import train_test_split\n",
        "from sklearn.metrics import classification_report\n",
        "from google.colab.patches import cv2_imshow\n",
        "from keras.models import load_model\n",
        "from imutils import paths\n",
        "import numpy as np\n",
        "import random\n",
        "import pickle\n",
        "import cv2\n",
        "import os"
      ],
      "metadata": {
        "id": "JhxHtIa_zALV"
      },
      "execution_count": 1,
      "outputs": []
    },
    {
      "cell_type": "code",
      "source": [
        "from google.colab import drive\n",
        "drive.mount('/content/drive')"
      ],
      "metadata": {
        "colab": {
          "base_uri": "https://localhost:8080/"
        },
        "id": "7qwZr4NJzAo0",
        "outputId": "5430c04b-287a-401e-d3c8-0d72355cb7de"
      },
      "execution_count": 2,
      "outputs": [
        {
          "output_type": "stream",
          "name": "stdout",
          "text": [
            "Mounted at /content/drive\n"
          ]
        }
      ]
    },
    {
      "cell_type": "code",
      "source": [
        "%%capture\n",
        "!unzip /content/drive/MyDrive/datasets/animals.zip -d animals"
      ],
      "metadata": {
        "id": "VF__GzqDzGZE"
      },
      "execution_count": 3,
      "outputs": []
    },
    {
      "cell_type": "code",
      "source": [
        "imagesPath = sorted(list(paths.list_images('/content/animals/')))\n",
        "random.shuffle(imagesPath)"
      ],
      "metadata": {
        "id": "i1Er7Lb2zLQm"
      },
      "execution_count": 4,
      "outputs": []
    },
    {
      "cell_type": "markdown",
      "source": [
        "Загрузка изображений в формате (64, 64, 3)"
      ],
      "metadata": {
        "id": "LQknJXXd_6FC"
      }
    },
    {
      "cell_type": "code",
      "source": [
        "def load_images(imagePaths, compression_size = 32):\n",
        "  \"\"\"\n",
        "  Функция для загрузки изображений и преобразования их к нужной размерности.\n",
        "\n",
        "  Args:\n",
        "    imagePaths: список путей к изображениям.\n",
        "    compression_size: размер сжатия изображения\n",
        "\n",
        "  Returns:\n",
        "    data: список векторов признаков (сжатых изображений).\n",
        "    labels: список меток классов.\n",
        "  \"\"\"\n",
        "\n",
        "  data = []\n",
        "  labels = []\n",
        "\n",
        "  for imagePath in imagePaths:\n",
        "    # Загрузка изображения\n",
        "    image = cv2.imread(imagePath)\n",
        "\n",
        "    # Изменение разрешения изображения (по умолчанию 32х32х3 -> 3072,)\n",
        "    image = cv2.resize(image, (compression_size, compression_size))\n",
        "\n",
        "    # Добавление изображения в список\n",
        "    data.append(image)\n",
        "\n",
        "    # Извлечение метки класса из пути к изображению\n",
        "    label = imagePath.split(os.path.sep)[-2]\n",
        "\n",
        "    # Добавление метки в список\n",
        "    labels.append(label)\n",
        "\n",
        "  return data, labels\n",
        "\n",
        "data, labels = load_images(imagesPath, 64)"
      ],
      "metadata": {
        "id": "m52ghipBzQ1H"
      },
      "execution_count": 5,
      "outputs": []
    },
    {
      "cell_type": "code",
      "source": [
        "data = np.array(data, dtype=\"float\") / 255.0\n",
        "labels = np.array(labels)\n",
        "\n",
        "print(data.shape)\n",
        "\n",
        "(X_train, X_test, Y_train, Y_test) = train_test_split(data, labels, test_size=0.2, random_state=42)\n",
        "\n",
        "lb = LabelBinarizer()\n",
        "Y_train = lb.fit_transform(Y_train)\n",
        "Y_test = lb.transform(Y_test)\n",
        "\n",
        "print(X_train.shape)\n",
        "print(X_test.shape)"
      ],
      "metadata": {
        "colab": {
          "base_uri": "https://localhost:8080/"
        },
        "id": "6n4ZgboW0kmp",
        "outputId": "d482aa32-a898-4baf-fbff-447d73cfc019"
      },
      "execution_count": 6,
      "outputs": [
        {
          "output_type": "stream",
          "name": "stdout",
          "text": [
            "(10794, 64, 64, 3)\n",
            "(8635, 64, 64, 3)\n",
            "(2159, 64, 64, 3)\n"
          ]
        }
      ]
    },
    {
      "cell_type": "markdown",
      "source": [
        "Загрузка изображений в формате (64, 64, 3) -> (12288)"
      ],
      "metadata": {
        "id": "XtclWdgQAG_a"
      }
    },
    {
      "cell_type": "code",
      "source": [
        "def load_flat_images(imagePaths, compression_size = 32):\n",
        "  \"\"\"\n",
        "  Функция для загрузки изображений и преобразования их в векторы признаков.\n",
        "\n",
        "  Args:\n",
        "    imagePaths: список путей к изображениям.\n",
        "    compression_size: размер сжатия изображения\n",
        "\n",
        "  Returns:\n",
        "    data: список векторов признаков (сжатых изображений, преобразованных в векторы).\n",
        "    labels: список меток классов.\n",
        "  \"\"\"\n",
        "\n",
        "  data = []\n",
        "  labels = []\n",
        "\n",
        "  for imagePath in imagePaths:\n",
        "    # Загрузка изображения\n",
        "    image = cv2.imread(imagePath)\n",
        "\n",
        "    # Изменение разрешения изображения (по умолчанию 32х32х3 -> 3072,)\n",
        "    image = cv2.resize(image, (compression_size, compression_size)).flatten()\n",
        "\n",
        "    # Добавление изображения в список\n",
        "    data.append(image)\n",
        "\n",
        "    # Извлечение метки класса из пути к изображению\n",
        "    label = imagePath.split(os.path.sep)[-2]\n",
        "\n",
        "    # Добавление метки в список\n",
        "    labels.append(label)\n",
        "\n",
        "  return data, labels\n",
        "\n",
        "flat_data, flat_labels = load_flat_images(imagesPath, 64)"
      ],
      "metadata": {
        "id": "Pbwm03WTARWb"
      },
      "execution_count": 7,
      "outputs": []
    },
    {
      "cell_type": "code",
      "source": [
        "flat_data = np.array(flat_data, dtype=\"float\") / 255.0\n",
        "flat_labels = np.array(flat_labels)\n",
        "\n",
        "print(flat_data.shape)\n",
        "\n",
        "(X_train_flat, X_test_flat, Y_train_flat, Y_test_flat) = train_test_split(flat_data, flat_labels, test_size=0.2, random_state=42)\n",
        "\n",
        "flat_lb = LabelBinarizer()\n",
        "Y_train_flat = lb.fit_transform(Y_train)\n",
        "Y_test_flat = lb.transform(Y_test)\n",
        "\n",
        "print(X_train_flat.shape)\n",
        "print(X_test_flat.shape)"
      ],
      "metadata": {
        "colab": {
          "base_uri": "https://localhost:8080/"
        },
        "id": "us83mh50Act9",
        "outputId": "93b1b643-304d-4ff1-8e4f-c974d973968e"
      },
      "execution_count": 8,
      "outputs": [
        {
          "output_type": "stream",
          "name": "stdout",
          "text": [
            "(10794, 12288)\n",
            "(8635, 12288)\n",
            "(2159, 12288)\n"
          ]
        }
      ]
    },
    {
      "cell_type": "markdown",
      "source": [
        "### Получение метрик для моделей"
      ],
      "metadata": {
        "id": "3a7KhmzS3CT9"
      }
    },
    {
      "cell_type": "code",
      "source": [
        "# Словарь с моделями\n",
        "models = {\n",
        "    \"simple_dnn(work_№2)\": load_model('/content/best_model.h5'),\n",
        "    \"simple_cnn(work_№3)\": load_model('/content/best_model_my.keras'),\n",
        "    \"deep_cnn(work_№3)\": load_model('/content/best_model_resnet_like.keras'),\n",
        "    \"residual_cnn(work_№4)\": load_model('/content/best_model_new.keras'),\n",
        "    #\"tf_resnet50v2(work_№5)\": load_model('/content/resnet50v2_best.keras') #модель не удалось найти, но ее результаты все равно не очень хорошие\n",
        "}"
      ],
      "metadata": {
        "colab": {
          "base_uri": "https://localhost:8080/"
        },
        "id": "mT_f3-z44clf",
        "outputId": "c76db2ed-034f-4c81-826f-f430f9aff783"
      },
      "execution_count": 10,
      "outputs": [
        {
          "output_type": "stream",
          "name": "stderr",
          "text": [
            "WARNING:absl:Compiled the loaded model, but the compiled metrics have yet to be built. `model.compile_metrics` will be empty until you train or evaluate the model.\n"
          ]
        }
      ]
    },
    {
      "cell_type": "code",
      "source": [
        "from sklearn.metrics import accuracy_score, recall_score, precision_score, f1_score, confusion_matrix\n",
        "\n",
        "results = {}\n",
        "\n",
        "for name, model in models.items():\n",
        "    print(f\"Получаем метрики для модели {name}\")\n",
        "\n",
        "    if name == \"simple_dnn(work_№2)\":\n",
        "        # Оценка модели на тестовом наборе\n",
        "        test_loss, test_acc = model.evaluate(X_test_flat, Y_test_flat, verbose=0)\n",
        "\n",
        "        # Получение предсказаний\n",
        "        y_pred_proba = model.predict(X_test_flat)\n",
        "        y_pred = np.argmax(y_pred_proba, axis=1)\n",
        "        y_test = np.argmax(Y_test_flat, axis=1)\n",
        "\n",
        "    else:\n",
        "        # Оценка модели на тестовом наборе\n",
        "        test_loss, test_acc = model.evaluate(X_test, Y_test, verbose=0)\n",
        "\n",
        "        # Получение предсказаний\n",
        "        y_pred_proba = model.predict(X_test)\n",
        "        y_pred = np.argmax(y_pred_proba, axis=1)\n",
        "        y_test = np.argmax(Y_test, axis=1)\n",
        "\n",
        "    # Вычисление метрик\n",
        "    accuracy = accuracy_score(y_test, y_pred)\n",
        "    recall = recall_score(y_test, y_pred, average='weighted')\n",
        "    precision = precision_score(y_test, y_pred, average='weighted')\n",
        "    f1 = f1_score(y_test, y_pred, average='weighted')\n",
        "    cm = confusion_matrix(y_test, y_pred)\n",
        "\n",
        "    results[name] = {\n",
        "        'accuracy': accuracy,\n",
        "        'recall': recall,\n",
        "        'precision': precision,\n",
        "        'f1': f1,\n",
        "        'confusion_matrix': cm,\n",
        "        'test_loss': test_loss,\n",
        "        'test_acc': test_acc\n",
        "    }\n",
        "\n",
        "    print(f\"Точность на тестовых данных: {test_acc:.4f}\\n\")\n",
        "    print()"
      ],
      "metadata": {
        "colab": {
          "base_uri": "https://localhost:8080/"
        },
        "id": "kMaDbEfw0lLi",
        "outputId": "32e5c7e4-92a6-4275-c97d-afc08446e777"
      },
      "execution_count": 11,
      "outputs": [
        {
          "output_type": "stream",
          "name": "stdout",
          "text": [
            "Получаем метрики для модели simple_dnn(work_№2)\n",
            "\u001b[1m68/68\u001b[0m \u001b[32m━━━━━━━━━━━━━━━━━━━━\u001b[0m\u001b[37m\u001b[0m \u001b[1m2s\u001b[0m 31ms/step\n",
            "Точность на тестовых данных: 0.3566\n",
            "\n",
            "\n",
            "Получаем метрики для модели simple_cnn(work_№3)\n",
            "\u001b[1m68/68\u001b[0m \u001b[32m━━━━━━━━━━━━━━━━━━━━\u001b[0m\u001b[37m\u001b[0m \u001b[1m4s\u001b[0m 60ms/step\n",
            "Точность на тестовых данных: 0.2723\n",
            "\n",
            "\n",
            "Получаем метрики для модели deep_cnn(work_№3)\n",
            "\u001b[1m68/68\u001b[0m \u001b[32m━━━━━━━━━━━━━━━━━━━━\u001b[0m\u001b[37m\u001b[0m \u001b[1m16s\u001b[0m 235ms/step\n",
            "Точность на тестовых данных: 0.2413\n",
            "\n",
            "\n",
            "Получаем метрики для модели residual_cnn(work_№4)\n",
            "\u001b[1m68/68\u001b[0m \u001b[32m━━━━━━━━━━━━━━━━━━━━\u001b[0m\u001b[37m\u001b[0m \u001b[1m28s\u001b[0m 409ms/step\n",
            "Точность на тестовых данных: 0.2492\n",
            "\n",
            "\n"
          ]
        }
      ]
    },
    {
      "cell_type": "markdown",
      "source": [
        "### Визуализация метрик (сводная таблица с метриками + графики)"
      ],
      "metadata": {
        "id": "u-2v2E0X3E77"
      }
    },
    {
      "cell_type": "code",
      "source": [
        "import matplotlib.pyplot as plt\n",
        "import seaborn as sns\n",
        "import pandas as pd\n",
        "\n",
        "# Создание датафрейма с результатами\n",
        "results_df = pd.DataFrame({\n",
        "    model_name: {\n",
        "        'Точность': metrics['accuracy'],\n",
        "        'Полнота': metrics['recall'],\n",
        "        'Точность (Precision)': metrics['precision'],\n",
        "        'F1-мера': metrics['f1'],\n",
        "    }\n",
        "    for model_name, metrics in results.items()\n",
        "})\n",
        "\n",
        "# Транспонирование для удобного отображения\n",
        "results_df = results_df.T\n",
        "\n",
        "# Сортировка по F1-мере\n",
        "results_df_sorted = results_df.sort_values('F1-мера', ascending=False)\n",
        "\n",
        "# Вывод результатов\n",
        "print(\"Результаты по всем моделям:\")\n",
        "display(results_df_sorted.style.format(\"{:.4f}\"))\n",
        "print()\n",
        "\n",
        "# Визуализация метрик\n",
        "plt.figure(figsize=(14, 6))\n",
        "metrics_to_plot = ['Точность', 'Полнота', 'Точность (Precision)', 'F1-мера']\n",
        "\n",
        "for i, metric in enumerate(metrics_to_plot):\n",
        "    plt.subplot(2, 4, i+1)\n",
        "    plt.bar(results_df.index, results_df[metric])\n",
        "    plt.title(metric)\n",
        "    plt.xticks(rotation=70)\n",
        "    #plt.ylim([0.9, 1.0])  # Настройка для лучшей визуализации различий\n",
        "\n",
        "    # Добавление значений к барам\n",
        "    for j, v in enumerate(results_df[metric]):\n",
        "        plt.text(j, v + 0.005, f\"{v:.4f}\", ha='center')\n",
        "\n",
        "plt.tight_layout()\n",
        "plt.show()\n",
        "\n",
        "print()\n",
        "# Визуализация матриц ошибок\n",
        "plt.figure(figsize=(16, 4))\n",
        "for i, (name, metrics) in enumerate(results.items()):\n",
        "    plt.subplot(1, 4, i+1)\n",
        "    cm = metrics['confusion_matrix']\n",
        "    sns.heatmap(cm, annot=True, fmt='d', cmap='Blues')\n",
        "    plt.title(f'Матрица ошибок для {name}')\n",
        "    plt.ylabel('Истинные метки')\n",
        "    plt.xlabel('Предсказанные метки')\n",
        "\n",
        "plt.tight_layout()\n",
        "plt.show()\n",
        "\n",
        "# Выбор лучшей модели по F1-мере\n",
        "best_model_name = results_df_sorted.index[0]\n",
        "best_model = models[best_model_name]\n",
        "\n",
        "print(f\"\\nЛучшая модель по F1-мере: {best_model_name}\")"
      ],
      "metadata": {
        "colab": {
          "base_uri": "https://localhost:8080/",
          "height": 1000
        },
        "id": "KjEvxEQO77GR",
        "outputId": "d1832d39-72dc-484b-f52c-29301348c361"
      },
      "execution_count": 12,
      "outputs": [
        {
          "output_type": "stream",
          "name": "stdout",
          "text": [
            "Результаты по всем моделям:\n"
          ]
        },
        {
          "output_type": "display_data",
          "data": {
            "text/plain": [
              "<pandas.io.formats.style.Styler at 0x7832b40c7e50>"
            ],
            "text/html": [
              "<style type=\"text/css\">\n",
              "</style>\n",
              "<table id=\"T_03eef\" class=\"dataframe\">\n",
              "  <thead>\n",
              "    <tr>\n",
              "      <th class=\"blank level0\" >&nbsp;</th>\n",
              "      <th id=\"T_03eef_level0_col0\" class=\"col_heading level0 col0\" >Точность</th>\n",
              "      <th id=\"T_03eef_level0_col1\" class=\"col_heading level0 col1\" >Полнота</th>\n",
              "      <th id=\"T_03eef_level0_col2\" class=\"col_heading level0 col2\" >Точность (Precision)</th>\n",
              "      <th id=\"T_03eef_level0_col3\" class=\"col_heading level0 col3\" >F1-мера</th>\n",
              "    </tr>\n",
              "  </thead>\n",
              "  <tbody>\n",
              "    <tr>\n",
              "      <th id=\"T_03eef_level0_row0\" class=\"row_heading level0 row0\" >simple_dnn(work_№2)</th>\n",
              "      <td id=\"T_03eef_row0_col0\" class=\"data row0 col0\" >0.3566</td>\n",
              "      <td id=\"T_03eef_row0_col1\" class=\"data row0 col1\" >0.3566</td>\n",
              "      <td id=\"T_03eef_row0_col2\" class=\"data row0 col2\" >0.3863</td>\n",
              "      <td id=\"T_03eef_row0_col3\" class=\"data row0 col3\" >0.3557</td>\n",
              "    </tr>\n",
              "    <tr>\n",
              "      <th id=\"T_03eef_level0_row1\" class=\"row_heading level0 row1\" >simple_cnn(work_№3)</th>\n",
              "      <td id=\"T_03eef_row1_col0\" class=\"data row1 col0\" >0.2723</td>\n",
              "      <td id=\"T_03eef_row1_col1\" class=\"data row1 col1\" >0.2723</td>\n",
              "      <td id=\"T_03eef_row1_col2\" class=\"data row1 col2\" >0.3474</td>\n",
              "      <td id=\"T_03eef_row1_col3\" class=\"data row1 col3\" >0.2849</td>\n",
              "    </tr>\n",
              "    <tr>\n",
              "      <th id=\"T_03eef_level0_row2\" class=\"row_heading level0 row2\" >residual_cnn(work_№4)</th>\n",
              "      <td id=\"T_03eef_row2_col0\" class=\"data row2 col0\" >0.2492</td>\n",
              "      <td id=\"T_03eef_row2_col1\" class=\"data row2 col1\" >0.2492</td>\n",
              "      <td id=\"T_03eef_row2_col2\" class=\"data row2 col2\" >0.3120</td>\n",
              "      <td id=\"T_03eef_row2_col3\" class=\"data row2 col3\" >0.2670</td>\n",
              "    </tr>\n",
              "    <tr>\n",
              "      <th id=\"T_03eef_level0_row3\" class=\"row_heading level0 row3\" >deep_cnn(work_№3)</th>\n",
              "      <td id=\"T_03eef_row3_col0\" class=\"data row3 col0\" >0.2413</td>\n",
              "      <td id=\"T_03eef_row3_col1\" class=\"data row3 col1\" >0.2413</td>\n",
              "      <td id=\"T_03eef_row3_col2\" class=\"data row3 col2\" >0.3294</td>\n",
              "      <td id=\"T_03eef_row3_col3\" class=\"data row3 col3\" >0.2616</td>\n",
              "    </tr>\n",
              "  </tbody>\n",
              "</table>\n"
            ]
          },
          "metadata": {}
        },
        {
          "output_type": "stream",
          "name": "stdout",
          "text": [
            "\n"
          ]
        },
        {
          "output_type": "display_data",
          "data": {
            "text/plain": [
              "<Figure size 1400x600 with 4 Axes>"
            ],
            "image/png": "[encoded data removed]"
          },
          "metadata": {}
        },
        {
          "output_type": "stream",
          "name": "stdout",
          "text": [
            "\n"
          ]
        },
        {
          "output_type": "display_data",
          "data": {
            "text/plain": [
              "<Figure size 1600x400 with 8 Axes>"
            ],
            "image/png": "[encoded data removed]"
          },
          "metadata": {}
        },
        {
          "output_type": "stream",
          "name": "stdout",
          "text": [
            "\n",
            "Лучшая модель по F1-мере: simple_dnn(work_№2)\n"
          ]
        }
      ]
    },
    {
      "cell_type": "code",
      "source": [
        "import joblib\n",
        "\n",
        "joblib.dump(lb, \"label_binarizer.pkl\")"
      ],
      "metadata": {
        "colab": {
          "base_uri": "https://localhost:8080/"
        },
        "id": "fR2NF7w0adqq",
        "outputId": "b4c359d7-7876-424a-d01f-9f07e96b1a59"
      },
      "execution_count": 13,
      "outputs": [
        {
          "output_type": "execute_result",
          "data": {
            "text/plain": [
              "['label_binarizer.pkl']"
            ]
          },
          "metadata": {},
          "execution_count": 13
        }
      ]
    },
    {
      "cell_type": "code",
      "source": [
        "# Сохранение лучшей модели\n",
        "best_model_name = results_df_sorted.index[0]\n",
        "best_model = models[best_model_name]\n",
        "best_model.save('/content/best_model_for_api.h5')  # или .keras"
      ],
      "metadata": {
        "colab": {
          "base_uri": "https://localhost:8080/"
        },
        "id": "IhTGEbUK0t_4",
        "outputId": "81b97d2a-05cd-47a1-a97d-9211e1a0eacc"
      },
      "execution_count": 18,
      "outputs": [
        {
          "output_type": "stream",
          "name": "stderr",
          "text": [
            "WARNING:absl:You are saving your model as an HDF5 file via `model.save()` or `keras.saving.save_model(model)`. This file format is considered legacy. We recommend using instead the native Keras format, e.g. `model.save('my_model.keras')` or `keras.saving.save_model(model, 'my_model.keras')`. \n"
          ]
        }
      ]
    },
    {
      "cell_type": "markdown",
      "source": [
        "## **Раздел 2. Развертывание API**\n"
      ],
      "metadata": {
        "id": "iyx_RWv4oVBo"
      }
    },
    {
      "cell_type": "markdown",
      "source": [
        "1. Создать FastAPI приложение для обработки запросов с изображениями\n",
        "2. Реализовать предобработку загружаемых изображений\n",
        "3. Реализовать эндпоинт для классификации изображений\n",
        "4. Добавить возврат предсказанного класса и вероятностей по всем классам\n",
        "5. Создать файл requirements.txt с необходимыми зависимостями\n",
        "6. Развернуть API на сервере с доступом из глобальной сети"
      ],
      "metadata": {
        "id": "5YhO25q3oXPL"
      }
    },
    {
      "cell_type": "markdown",
      "source": [
        "preprocess.py"
      ],
      "metadata": {
        "id": "hhiRlOmaayBp"
      }
    },
    {
      "cell_type": "code",
      "source": [
        "import cv2\n",
        "import numpy as np\n",
        "from io import BytesIO\n",
        "from PIL import Image\n",
        "\n",
        "def preprocess_image(file, compression_size=64):\n",
        "    \"\"\"\n",
        "    Предобработка загружаемого изображения:\n",
        "    - читаем байты\n",
        "    - преобразуем в массив\n",
        "    - изменяем размер\n",
        "    - нормализуем\n",
        "\n",
        "    Returns:\n",
        "        image (np.array): подготовленное изображение для подачи в модель\n",
        "    \"\"\"\n",
        "    image = Image.open(BytesIO(file)).convert(\"RGB\")\n",
        "    image = image.resize((compression_size, compression_size))\n",
        "    image = np.array(image).astype(\"float32\") / 255.0\n",
        "    image = np.expand_dims(image, axis=0)  # добавляем размерность для batch\n",
        "    return image"
      ],
      "metadata": {
        "id": "5MH7DmPiyxog"
      },
      "execution_count": 43,
      "outputs": []
    },
    {
      "cell_type": "markdown",
      "source": [
        "main.py"
      ],
      "metadata": {
        "id": "kwXLCZNAa2tY"
      }
    },
    {
      "cell_type": "code",
      "source": [
        "!pip install fastapi uvicorn nest-asyncio pyngrok\n"
      ],
      "metadata": {
        "colab": {
          "base_uri": "https://localhost:8080/"
        },
        "id": "J0j1R_1azl-Q",
        "outputId": "63a53e56-53c4-4027-ce61-3e48b8096561"
      },
      "execution_count": 36,
      "outputs": [
        {
          "output_type": "stream",
          "name": "stdout",
          "text": [
            "Requirement already satisfied: fastapi in /usr/local/lib/python3.11/dist-packages (0.115.12)\n",
            "Requirement already satisfied: uvicorn in /usr/local/lib/python3.11/dist-packages (0.34.2)\n",
            "Requirement already satisfied: nest-asyncio in /usr/local/lib/python3.11/dist-packages (1.6.0)\n",
            "Requirement already satisfied: pyngrok in /usr/local/lib/python3.11/dist-packages (7.2.5)\n",
            "Requirement already satisfied: starlette<0.47.0,>=0.40.0 in /usr/local/lib/python3.11/dist-packages (from fastapi) (0.46.2)\n",
            "Requirement already satisfied: pydantic!=1.8,!=1.8.1,!=2.0.0,!=2.0.1,!=2.1.0,<3.0.0,>=1.7.4 in /usr/local/lib/python3.11/dist-packages (from fastapi) (2.11.3)\n",
            "Requirement already satisfied: typing-extensions>=4.8.0 in /usr/local/lib/python3.11/dist-packages (from fastapi) (4.13.2)\n",
            "Requirement already satisfied: click>=7.0 in /usr/local/lib/python3.11/dist-packages (from uvicorn) (8.1.8)\n",
            "Requirement already satisfied: h11>=0.8 in /usr/local/lib/python3.11/dist-packages (from uvicorn) (0.14.0)\n",
            "Requirement already satisfied: PyYAML>=5.1 in /usr/local/lib/python3.11/dist-packages (from pyngrok) (6.0.2)\n",
            "Requirement already satisfied: annotated-types>=0.6.0 in /usr/local/lib/python3.11/dist-packages (from pydantic!=1.8,!=1.8.1,!=2.0.0,!=2.0.1,!=2.1.0,<3.0.0,>=1.7.4->fastapi) (0.7.0)\n",
            "Requirement already satisfied: pydantic-core==2.33.1 in /usr/local/lib/python3.11/dist-packages (from pydantic!=1.8,!=1.8.1,!=2.0.0,!=2.0.1,!=2.1.0,<3.0.0,>=1.7.4->fastapi) (2.33.1)\n",
            "Requirement already satisfied: typing-inspection>=0.4.0 in /usr/local/lib/python3.11/dist-packages (from pydantic!=1.8,!=1.8.1,!=2.0.0,!=2.0.1,!=2.1.0,<3.0.0,>=1.7.4->fastapi) (0.4.0)\n",
            "Requirement already satisfied: anyio<5,>=3.6.2 in /usr/local/lib/python3.11/dist-packages (from starlette<0.47.0,>=0.40.0->fastapi) (4.9.0)\n",
            "Requirement already satisfied: idna>=2.8 in /usr/local/lib/python3.11/dist-packages (from anyio<5,>=3.6.2->starlette<0.47.0,>=0.40.0->fastapi) (3.10)\n",
            "Requirement already satisfied: sniffio>=1.1 in /usr/local/lib/python3.11/dist-packages (from anyio<5,>=3.6.2->starlette<0.47.0,>=0.40.0->fastapi) (1.3.1)\n"
          ]
        }
      ]
    },
    {
      "cell_type": "code",
      "source": [
        "!pip install pyngrok\n"
      ],
      "metadata": {
        "id": "trtC2cHZHwle",
        "outputId": "789d0b18-25aa-4c9d-b181-e8a7818fc18d",
        "colab": {
          "base_uri": "https://localhost:8080/"
        }
      },
      "execution_count": 39,
      "outputs": [
        {
          "output_type": "stream",
          "name": "stdout",
          "text": [
            "Requirement already satisfied: pyngrok in /usr/local/lib/python3.11/dist-packages (7.2.5)\n",
            "Requirement already satisfied: PyYAML>=5.1 in /usr/local/lib/python3.11/dist-packages (from pyngrok) (6.0.2)\n"
          ]
        }
      ]
    },
    {
      "cell_type": "code",
      "source": [
        "from fastapi import FastAPI, File, UploadFile\n",
        "from fastapi.responses import JSONResponse\n",
        "import numpy as np\n",
        "import joblib\n",
        "from tensorflow.keras.models import load_model\n",
        "from PIL import Image\n",
        "import io\n",
        "\n",
        "def preprocess_image(image_bytes):\n",
        "    image = Image.open(io.BytesIO(image_bytes))\n",
        "    image = image.convert(\"RGB\")\n",
        "    image = image.resize((224, 224))\n",
        "    image_array = np.array(image) / 255.0\n",
        "    image_array = np.expand_dims(image_array, axis=0)\n",
        "    return image_array\n",
        "\n",
        "app = FastAPI()\n",
        "\n",
        "# Загрузка модели и label binarizer\n",
        "model = load_model('/content/best_model_for_api.h5')\n",
        "label_binarizer = joblib.load(\"label_binarizer.pkl\")\n",
        "\n",
        "@app.post(\"/predict/\")\n",
        "async def predict(file: UploadFile = File(...)):\n",
        "    try:\n",
        "        image_bytes = await file.read()\n",
        "        image = preprocess_image(image_bytes)\n",
        "\n",
        "        # Предсказание\n",
        "        probs = model.predict(image)[0]  # Вероятности\n",
        "        predicted_index = np.argmax(probs)\n",
        "        predicted_label = label_binarizer.classes_[predicted_index]\n",
        "\n",
        "        return JSONResponse({\n",
        "            \"predicted_class\": str(predicted_label),\n",
        "            \"probabilities\": {\n",
        "                str(label): float(prob)\n",
        "                for label, prob in zip(label_binarizer.classes_, probs)\n",
        "            }\n",
        "        })\n",
        "\n",
        "    except Exception as e:\n",
        "        return JSONResponse(status_code=500, content={\"error\": str(e)})"
      ],
      "metadata": {
        "id": "Sam17fnta6Lj",
        "colab": {
          "base_uri": "https://localhost:8080/"
        },
        "outputId": "3248b324-f308-4669-fda5-0343f837ac0b"
      },
      "execution_count": 45,
      "outputs": [
        {
          "output_type": "stream",
          "name": "stderr",
          "text": [
            "WARNING:absl:Compiled the loaded model, but the compiled metrics have yet to be built. `model.compile_metrics` will be empty until you train or evaluate the model.\n"
          ]
        }
      ]
    },
    {
      "cell_type": "markdown",
      "source": [
        "requirements.txt"
      ],
      "metadata": {
        "id": "KyKnNvREbPPl"
      }
    },
    {
      "cell_type": "markdown",
      "source": [
        "```\n",
        "fastapi\n",
        "uvicorn\n",
        "numpy\n",
        "opencv-python-headless\n",
        "pillow\n",
        "scikit-learn\n",
        "joblib\n",
        "tensorflow\n",
        "streamlit\n",
        "streamlit-drawable-canvas\n",
        "requests\n",
        "matplotlib\n",
        "```"
      ],
      "metadata": {
        "id": "0lId2Bi_bWA_"
      }
    },
    {
      "cell_type": "markdown",
      "source": [
        "## **Раздел 3. Создание интерфейса на Streamlit**\n"
      ],
      "metadata": {
        "id": "8W-8zoQIoa2v"
      }
    },
    {
      "cell_type": "markdown",
      "source": [
        "\n",
        "1. Разработать Streamlit-приложение со следующими функциями:\n",
        "   - Возможность загрузки изображения пользователем\n",
        "   - Возможность рисования изображения на холсте\n",
        "   - Предобработка изображения перед отправкой на API\n",
        "   - Отображение результатов классификации\n",
        "   - Визуализация распределения вероятностей по классам\n",
        "2. Развернуть Streamlit-приложение на платформе Streamlit Cloud"
      ],
      "metadata": {
        "id": "jneLuiFQoeEA"
      }
    },
    {
      "cell_type": "markdown",
      "source": [
        "app.py"
      ],
      "metadata": {
        "id": "kQylzd3Ycv4a"
      }
    },
    {
      "cell_type": "code",
      "source": [
        "!pip install streamlit"
      ],
      "metadata": {
        "colab": {
          "base_uri": "https://localhost:8080/"
        },
        "id": "gAu4ZvoM7tbK",
        "outputId": "cf64face-2f72-4f1f-bc46-c9afe8ee6a90"
      },
      "execution_count": 20,
      "outputs": [
        {
          "output_type": "stream",
          "name": "stdout",
          "text": [
            "Collecting streamlit\n",
            "  Downloading streamlit-1.44.1-py3-none-any.whl.metadata (8.9 kB)\n",
            "Requirement already satisfied: altair<6,>=4.0 in /usr/local/lib/python3.11/dist-packages (from streamlit) (5.5.0)\n",
            "Requirement already satisfied: blinker<2,>=1.0.0 in /usr/local/lib/python3.11/dist-packages (from streamlit) (1.9.0)\n",
            "Requirement already satisfied: cachetools<6,>=4.0 in /usr/local/lib/python3.11/dist-packages (from streamlit) (5.5.2)\n",
            "Requirement already satisfied: click<9,>=7.0 in /usr/local/lib/python3.11/dist-packages (from streamlit) (8.1.8)\n",
            "Requirement already satisfied: numpy<3,>=1.23 in /usr/local/lib/python3.11/dist-packages (from streamlit) (2.0.2)\n",
            "Requirement already satisfied: packaging<25,>=20 in /usr/local/lib/python3.11/dist-packages (from streamlit) (24.2)\n",
            "Requirement already satisfied: pandas<3,>=1.4.0 in /usr/local/lib/python3.11/dist-packages (from streamlit) (2.2.2)\n",
            "Requirement already satisfied: pillow<12,>=7.1.0 in /usr/local/lib/python3.11/dist-packages (from streamlit) (11.1.0)\n",
            "Requirement already satisfied: protobuf<6,>=3.20 in /usr/local/lib/python3.11/dist-packages (from streamlit) (5.29.4)\n",
            "Requirement already satisfied: pyarrow>=7.0 in /usr/local/lib/python3.11/dist-packages (from streamlit) (18.1.0)\n",
            "Requirement already satisfied: requests<3,>=2.27 in /usr/local/lib/python3.11/dist-packages (from streamlit) (2.32.3)\n",
            "Requirement already satisfied: tenacity<10,>=8.1.0 in /usr/local/lib/python3.11/dist-packages (from streamlit) (9.1.2)\n",
            "Requirement already satisfied: toml<2,>=0.10.1 in /usr/local/lib/python3.11/dist-packages (from streamlit) (0.10.2)\n",
            "Requirement already satisfied: typing-extensions<5,>=4.4.0 in /usr/local/lib/python3.11/dist-packages (from streamlit) (4.13.2)\n",
            "Collecting watchdog<7,>=2.1.5 (from streamlit)\n",
            "  Downloading watchdog-6.0.0-py3-none-manylinux2014_x86_64.whl.metadata (44 kB)\n",
            "\u001b[2K     \u001b[90m━━━━━━━━━━━━━━━━━━━━━━━━━━━━━━━━━━━━━━━━\u001b[0m \u001b[32m44.3/44.3 kB\u001b[0m \u001b[31m2.9 MB/s\u001b[0m eta \u001b[36m0:00:00\u001b[0m\n",
            "\u001b[?25hRequirement already satisfied: gitpython!=3.1.19,<4,>=3.0.7 in /usr/local/lib/python3.11/dist-packages (from streamlit) (3.1.44)\n",
            "Collecting pydeck<1,>=0.8.0b4 (from streamlit)\n",
            "  Downloading pydeck-0.9.1-py2.py3-none-any.whl.metadata (4.1 kB)\n",
            "Requirement already satisfied: tornado<7,>=6.0.3 in /usr/local/lib/python3.11/dist-packages (from streamlit) (6.4.2)\n",
            "Requirement already satisfied: jinja2 in /usr/local/lib/python3.11/dist-packages (from altair<6,>=4.0->streamlit) (3.1.6)\n",
            "Requirement already satisfied: jsonschema>=3.0 in /usr/local/lib/python3.11/dist-packages (from altair<6,>=4.0->streamlit) (4.23.0)\n",
            "Requirement already satisfied: narwhals>=1.14.2 in /usr/local/lib/python3.11/dist-packages (from altair<6,>=4.0->streamlit) (1.35.0)\n",
            "Requirement already satisfied: gitdb<5,>=4.0.1 in /usr/local/lib/python3.11/dist-packages (from gitpython!=3.1.19,<4,>=3.0.7->streamlit) (4.0.12)\n",
            "Requirement already satisfied: python-dateutil>=2.8.2 in /usr/local/lib/python3.11/dist-packages (from pandas<3,>=1.4.0->streamlit) (2.8.2)\n",
            "Requirement already satisfied: pytz>=2020.1 in /usr/local/lib/python3.11/dist-packages (from pandas<3,>=1.4.0->streamlit) (2025.2)\n",
            "Requirement already satisfied: tzdata>=2022.7 in /usr/local/lib/python3.11/dist-packages (from pandas<3,>=1.4.0->streamlit) (2025.2)\n",
            "Requirement already satisfied: charset-normalizer<4,>=2 in /usr/local/lib/python3.11/dist-packages (from requests<3,>=2.27->streamlit) (3.4.1)\n",
            "Requirement already satisfied: idna<4,>=2.5 in /usr/local/lib/python3.11/dist-packages (from requests<3,>=2.27->streamlit) (3.10)\n",
            "Requirement already satisfied: urllib3<3,>=1.21.1 in /usr/local/lib/python3.11/dist-packages (from requests<3,>=2.27->streamlit) (2.3.0)\n",
            "Requirement already satisfied: certifi>=2017.4.17 in /usr/local/lib/python3.11/dist-packages (from requests<3,>=2.27->streamlit) (2025.1.31)\n",
            "Requirement already satisfied: smmap<6,>=3.0.1 in /usr/local/lib/python3.11/dist-packages (from gitdb<5,>=4.0.1->gitpython!=3.1.19,<4,>=3.0.7->streamlit) (5.0.2)\n",
            "Requirement already satisfied: MarkupSafe>=2.0 in /usr/local/lib/python3.11/dist-packages (from jinja2->altair<6,>=4.0->streamlit) (3.0.2)\n",
            "Requirement already satisfied: attrs>=22.2.0 in /usr/local/lib/python3.11/dist-packages (from jsonschema>=3.0->altair<6,>=4.0->streamlit) (25.3.0)\n",
            "Requirement already satisfied: jsonschema-specifications>=2023.03.6 in /usr/local/lib/python3.11/dist-packages (from jsonschema>=3.0->altair<6,>=4.0->streamlit) (2024.10.1)\n",
            "Requirement already satisfied: referencing>=0.28.4 in /usr/local/lib/python3.11/dist-packages (from jsonschema>=3.0->altair<6,>=4.0->streamlit) (0.36.2)\n",
            "Requirement already satisfied: rpds-py>=0.7.1 in /usr/local/lib/python3.11/dist-packages (from jsonschema>=3.0->altair<6,>=4.0->streamlit) (0.24.0)\n",
            "Requirement already satisfied: six>=1.5 in /usr/local/lib/python3.11/dist-packages (from python-dateutil>=2.8.2->pandas<3,>=1.4.0->streamlit) (1.17.0)\n",
            "Downloading streamlit-1.44.1-py3-none-any.whl (9.8 MB)\n",
            "\u001b[2K   \u001b[90m━━━━━━━━━━━━━━━━━━━━━━━━━━━━━━━━━━━━━━━━\u001b[0m \u001b[32m9.8/9.8 MB\u001b[0m \u001b[31m57.7 MB/s\u001b[0m eta \u001b[36m0:00:00\u001b[0m\n",
            "\u001b[?25hDownloading pydeck-0.9.1-py2.py3-none-any.whl (6.9 MB)\n",
            "\u001b[2K   \u001b[90m━━━━━━━━━━━━━━━━━━━━━━━━━━━━━━━━━━━━━━━━\u001b[0m \u001b[32m6.9/6.9 MB\u001b[0m \u001b[31m67.2 MB/s\u001b[0m eta \u001b[36m0:00:00\u001b[0m\n",
            "\u001b[?25hDownloading watchdog-6.0.0-py3-none-manylinux2014_x86_64.whl (79 kB)\n",
            "\u001b[2K   \u001b[90m━━━━━━━━━━━━━━━━━━━━━━━━━━━━━━━━━━━━━━━━\u001b[0m \u001b[32m79.1/79.1 kB\u001b[0m \u001b[31m4.0 MB/s\u001b[0m eta \u001b[36m0:00:00\u001b[0m\n",
            "\u001b[?25hInstalling collected packages: watchdog, pydeck, streamlit\n",
            "Successfully installed pydeck-0.9.1 streamlit-1.44.1 watchdog-6.0.0\n"
          ]
        }
      ]
    },
    {
      "cell_type": "code",
      "source": [
        "!pip install streamlit-drawable-canvas\n"
      ],
      "metadata": {
        "id": "5jfW6GlqQpkg",
        "outputId": "b37afc3e-2c46-4fac-e5a7-a96098d85de7",
        "colab": {
          "base_uri": "https://localhost:8080/"
        }
      },
      "execution_count": 47,
      "outputs": [
        {
          "output_type": "stream",
          "name": "stdout",
          "text": [
            "Collecting streamlit-drawable-canvas\n",
            "  Downloading streamlit_drawable_canvas-0.9.3-py3-none-any.whl.metadata (8.8 kB)\n",
            "Requirement already satisfied: Pillow in /usr/local/lib/python3.11/dist-packages (from streamlit-drawable-canvas) (11.1.0)\n",
            "Requirement already satisfied: numpy in /usr/local/lib/python3.11/dist-packages (from streamlit-drawable-canvas) (2.0.2)\n",
            "Requirement already satisfied: streamlit>=0.63 in /usr/local/lib/python3.11/dist-packages (from streamlit-drawable-canvas) (1.44.1)\n",
            "Requirement already satisfied: altair<6,>=4.0 in /usr/local/lib/python3.11/dist-packages (from streamlit>=0.63->streamlit-drawable-canvas) (5.5.0)\n",
            "Requirement already satisfied: blinker<2,>=1.0.0 in /usr/local/lib/python3.11/dist-packages (from streamlit>=0.63->streamlit-drawable-canvas) (1.9.0)\n",
            "Requirement already satisfied: cachetools<6,>=4.0 in /usr/local/lib/python3.11/dist-packages (from streamlit>=0.63->streamlit-drawable-canvas) (5.5.2)\n",
            "Requirement already satisfied: click<9,>=7.0 in /usr/local/lib/python3.11/dist-packages (from streamlit>=0.63->streamlit-drawable-canvas) (8.1.8)\n",
            "Requirement already satisfied: packaging<25,>=20 in /usr/local/lib/python3.11/dist-packages (from streamlit>=0.63->streamlit-drawable-canvas) (24.2)\n",
            "Requirement already satisfied: pandas<3,>=1.4.0 in /usr/local/lib/python3.11/dist-packages (from streamlit>=0.63->streamlit-drawable-canvas) (2.2.2)\n",
            "Requirement already satisfied: protobuf<6,>=3.20 in /usr/local/lib/python3.11/dist-packages (from streamlit>=0.63->streamlit-drawable-canvas) (5.29.4)\n",
            "Requirement already satisfied: pyarrow>=7.0 in /usr/local/lib/python3.11/dist-packages (from streamlit>=0.63->streamlit-drawable-canvas) (18.1.0)\n",
            "Requirement already satisfied: requests<3,>=2.27 in /usr/local/lib/python3.11/dist-packages (from streamlit>=0.63->streamlit-drawable-canvas) (2.32.3)\n",
            "Requirement already satisfied: tenacity<10,>=8.1.0 in /usr/local/lib/python3.11/dist-packages (from streamlit>=0.63->streamlit-drawable-canvas) (9.1.2)\n",
            "Requirement already satisfied: toml<2,>=0.10.1 in /usr/local/lib/python3.11/dist-packages (from streamlit>=0.63->streamlit-drawable-canvas) (0.10.2)\n",
            "Requirement already satisfied: typing-extensions<5,>=4.4.0 in /usr/local/lib/python3.11/dist-packages (from streamlit>=0.63->streamlit-drawable-canvas) (4.13.2)\n",
            "Requirement already satisfied: watchdog<7,>=2.1.5 in /usr/local/lib/python3.11/dist-packages (from streamlit>=0.63->streamlit-drawable-canvas) (6.0.0)\n",
            "Requirement already satisfied: gitpython!=3.1.19,<4,>=3.0.7 in /usr/local/lib/python3.11/dist-packages (from streamlit>=0.63->streamlit-drawable-canvas) (3.1.44)\n",
            "Requirement already satisfied: pydeck<1,>=0.8.0b4 in /usr/local/lib/python3.11/dist-packages (from streamlit>=0.63->streamlit-drawable-canvas) (0.9.1)\n",
            "Requirement already satisfied: tornado<7,>=6.0.3 in /usr/local/lib/python3.11/dist-packages (from streamlit>=0.63->streamlit-drawable-canvas) (6.4.2)\n",
            "Requirement already satisfied: jinja2 in /usr/local/lib/python3.11/dist-packages (from altair<6,>=4.0->streamlit>=0.63->streamlit-drawable-canvas) (3.1.6)\n",
            "Requirement already satisfied: jsonschema>=3.0 in /usr/local/lib/python3.11/dist-packages (from altair<6,>=4.0->streamlit>=0.63->streamlit-drawable-canvas) (4.23.0)\n",
            "Requirement already satisfied: narwhals>=1.14.2 in /usr/local/lib/python3.11/dist-packages (from altair<6,>=4.0->streamlit>=0.63->streamlit-drawable-canvas) (1.35.0)\n",
            "Requirement already satisfied: gitdb<5,>=4.0.1 in /usr/local/lib/python3.11/dist-packages (from gitpython!=3.1.19,<4,>=3.0.7->streamlit>=0.63->streamlit-drawable-canvas) (4.0.12)\n",
            "Requirement already satisfied: python-dateutil>=2.8.2 in /usr/local/lib/python3.11/dist-packages (from pandas<3,>=1.4.0->streamlit>=0.63->streamlit-drawable-canvas) (2.8.2)\n",
            "Requirement already satisfied: pytz>=2020.1 in /usr/local/lib/python3.11/dist-packages (from pandas<3,>=1.4.0->streamlit>=0.63->streamlit-drawable-canvas) (2025.2)\n",
            "Requirement already satisfied: tzdata>=2022.7 in /usr/local/lib/python3.11/dist-packages (from pandas<3,>=1.4.0->streamlit>=0.63->streamlit-drawable-canvas) (2025.2)\n",
            "Requirement already satisfied: charset-normalizer<4,>=2 in /usr/local/lib/python3.11/dist-packages (from requests<3,>=2.27->streamlit>=0.63->streamlit-drawable-canvas) (3.4.1)\n",
            "Requirement already satisfied: idna<4,>=2.5 in /usr/local/lib/python3.11/dist-packages (from requests<3,>=2.27->streamlit>=0.63->streamlit-drawable-canvas) (3.10)\n",
            "Requirement already satisfied: urllib3<3,>=1.21.1 in /usr/local/lib/python3.11/dist-packages (from requests<3,>=2.27->streamlit>=0.63->streamlit-drawable-canvas) (2.3.0)\n",
            "Requirement already satisfied: certifi>=2017.4.17 in /usr/local/lib/python3.11/dist-packages (from requests<3,>=2.27->streamlit>=0.63->streamlit-drawable-canvas) (2025.1.31)\n",
            "Requirement already satisfied: smmap<6,>=3.0.1 in /usr/local/lib/python3.11/dist-packages (from gitdb<5,>=4.0.1->gitpython!=3.1.19,<4,>=3.0.7->streamlit>=0.63->streamlit-drawable-canvas) (5.0.2)\n",
            "Requirement already satisfied: MarkupSafe>=2.0 in /usr/local/lib/python3.11/dist-packages (from jinja2->altair<6,>=4.0->streamlit>=0.63->streamlit-drawable-canvas) (3.0.2)\n",
            "Requirement already satisfied: attrs>=22.2.0 in /usr/local/lib/python3.11/dist-packages (from jsonschema>=3.0->altair<6,>=4.0->streamlit>=0.63->streamlit-drawable-canvas) (25.3.0)\n",
            "Requirement already satisfied: jsonschema-specifications>=2023.03.6 in /usr/local/lib/python3.11/dist-packages (from jsonschema>=3.0->altair<6,>=4.0->streamlit>=0.63->streamlit-drawable-canvas) (2024.10.1)\n",
            "Requirement already satisfied: referencing>=0.28.4 in /usr/local/lib/python3.11/dist-packages (from jsonschema>=3.0->altair<6,>=4.0->streamlit>=0.63->streamlit-drawable-canvas) (0.36.2)\n",
            "Requirement already satisfied: rpds-py>=0.7.1 in /usr/local/lib/python3.11/dist-packages (from jsonschema>=3.0->altair<6,>=4.0->streamlit>=0.63->streamlit-drawable-canvas) (0.24.0)\n",
            "Requirement already satisfied: six>=1.5 in /usr/local/lib/python3.11/dist-packages (from python-dateutil>=2.8.2->pandas<3,>=1.4.0->streamlit>=0.63->streamlit-drawable-canvas) (1.17.0)\n",
            "Downloading streamlit_drawable_canvas-0.9.3-py3-none-any.whl (1.2 MB)\n",
            "\u001b[2K   \u001b[90m━━━━━━━━━━━━━━━━━━━━━━━━━━━━━━━━━━━━━━━━\u001b[0m \u001b[32m1.2/1.2 MB\u001b[0m \u001b[31m3.7 MB/s\u001b[0m eta \u001b[36m0:00:00\u001b[0m\n",
            "\u001b[?25hInstalling collected packages: streamlit-drawable-canvas\n",
            "Successfully installed streamlit-drawable-canvas-0.9.3\n"
          ]
        }
      ]
    },
    {
      "cell_type": "code",
      "source": [
        "import streamlit as st\n",
        "import numpy as np\n",
        "from PIL import Image\n",
        "import requests\n",
        "from io import BytesIO\n",
        "import matplotlib.pyplot as plt\n",
        "from streamlit_drawable_canvas import st_canvas\n",
        "\n",
        "# URL до API\n",
        "API_URL = \"https://1122-35-201-175-160.ngrok-free.app/predict/\"\n",
        "\n",
        "# Имена классов\n",
        "CLASS_NAMES = {\n",
        "    \"0\": \"cane\",\n",
        "    \"1\": \"cavallo\",\n",
        "    \"2\": \"elefante\",\n",
        "    \"3\": \"scoiattolo\"\n",
        "}\n",
        "\n",
        "st.title(\"🐔🐄🐎🐑 Классификация изображений животных\")\n",
        "\n",
        "tab = st.radio(\"Выберите режим\", [\"📷 Загрузить изображение\", \"✏️ Нарисовать изображение\"])\n",
        "\n",
        "image = None\n",
        "\n",
        "if tab == \"📷 Загрузить изображение\":\n",
        "    uploaded_file = st.file_uploader(\"Загрузите изображение\", type=[\"jpg\", \"jpeg\", \"png\"])\n",
        "    if uploaded_file:\n",
        "        image = Image.open(uploaded_file).convert(\"RGB\")\n",
        "\n",
        "elif tab == \"✏️ Нарисовать изображение\":\n",
        "    st.write(\"Нарисуйте животное белым цветом на черном фоне:\")\n",
        "    canvas_result = st_canvas(\n",
        "        fill_color=\"black\",\n",
        "        stroke_width=10,\n",
        "        stroke_color=\"white\",\n",
        "        background_color=\"black\",\n",
        "        width=256,\n",
        "        height=256,\n",
        "        drawing_mode=\"freedraw\",\n",
        "        key=\"canvas_draw\",\n",
        "        update_streamlit=True\n",
        "    )\n",
        "\n",
        "    if canvas_result.image_data is not None:\n",
        "        image = Image.fromarray((canvas_result.image_data).astype(\"uint8\")).convert(\"RGB\")\n",
        "\n",
        "# Отображение изображения\n",
        "if image:\n",
        "    st.image(image, caption=\"Входное изображение\", use_container_width=True)\n",
        "\n",
        "    if st.button(\"Классифицировать\"):\n",
        "        # Предобработка изображения\n",
        "        img_resized = image.resize((64, 64))\n",
        "        buffered = BytesIO()\n",
        "        img_resized.save(buffered, format=\"PNG\")\n",
        "        img_bytes = buffered.getvalue()\n",
        "\n",
        "        # Отправка на API\n",
        "        files = {\"file\": (\"image.png\", img_bytes, \"image/png\")}\n",
        "        response = requests.post(API_URL, files=files)\n",
        "\n",
        "        if response.status_code == 200:\n",
        "            result = response.json()\n",
        "\n",
        "            # Предсказанный класс\n",
        "            class_id = result.get(\"predicted_class\", \"unknown\")\n",
        "            class_name = CLASS_NAMES.get(class_id, f\"Unknown class: {class_id}\")\n",
        "\n",
        "            st.subheader(\"✅ Предсказанный класс:\")\n",
        "            st.write(class_name)\n",
        "\n",
        "            # Вероятности\n",
        "            raw_probs = result.get(\"probabilities\", {})\n",
        "            readable_probs = {CLASS_NAMES.get(k, k): v for k, v in raw_probs.items()}\n",
        "\n",
        "            st.subheader(\"📊 Распределение вероятностей:\")\n",
        "            fig, ax = plt.subplots()\n",
        "            ax.bar(readable_probs.keys(), readable_probs.values(), color=\"skyblue\")\n",
        "            ax.set_ylabel(\"Вероятность\")\n",
        "            ax.set_ylim([0, 1])\n",
        "            st.pyplot(fig)\n",
        "        else:\n",
        "            st.error(\"Ошибка при обращении к API:\")\n",
        "            st.text(response.text)"
      ],
      "metadata": {
        "id": "1RX-QpnnyykA",
        "colab": {
          "base_uri": "https://localhost:8080/"
        },
        "outputId": "5853634c-aad2-4afe-d2e6-f41154c68ef9"
      },
      "execution_count": 48,
      "outputs": [
        {
          "output_type": "stream",
          "name": "stderr",
          "text": [
            "2025-04-27 17:19:23.496 WARNING streamlit.runtime.scriptrunner_utils.script_run_context: Thread 'MainThread': missing ScriptRunContext! This warning can be ignored when running in bare mode.\n",
            "2025-04-27 17:19:23.501 WARNING streamlit.runtime.scriptrunner_utils.script_run_context: Thread 'MainThread': missing ScriptRunContext! This warning can be ignored when running in bare mode.\n",
            "2025-04-27 17:19:23.626 \n",
            "  \u001b[33m\u001b[1mWarning:\u001b[0m to view this Streamlit app on a browser, run it with the following\n",
            "  command:\n",
            "\n",
            "    streamlit run /usr/local/lib/python3.11/dist-packages/colab_kernel_launcher.py [ARGUMENTS]\n",
            "2025-04-27 17:19:23.627 Thread 'MainThread': missing ScriptRunContext! This warning can be ignored when running in bare mode.\n",
            "2025-04-27 17:19:23.629 Thread 'MainThread': missing ScriptRunContext! This warning can be ignored when running in bare mode.\n",
            "2025-04-27 17:19:23.631 Thread 'MainThread': missing ScriptRunContext! This warning can be ignored when running in bare mode.\n",
            "2025-04-27 17:19:23.633 Thread 'MainThread': missing ScriptRunContext! This warning can be ignored when running in bare mode.\n",
            "2025-04-27 17:19:23.634 Thread 'MainThread': missing ScriptRunContext! This warning can be ignored when running in bare mode.\n",
            "2025-04-27 17:19:23.635 Session state does not function when running a script without `streamlit run`\n",
            "2025-04-27 17:19:23.637 Thread 'MainThread': missing ScriptRunContext! This warning can be ignored when running in bare mode.\n",
            "2025-04-27 17:19:23.638 Thread 'MainThread': missing ScriptRunContext! This warning can be ignored when running in bare mode.\n",
            "2025-04-27 17:19:23.639 Thread 'MainThread': missing ScriptRunContext! This warning can be ignored when running in bare mode.\n",
            "2025-04-27 17:19:23.640 Thread 'MainThread': missing ScriptRunContext! This warning can be ignored when running in bare mode.\n",
            "2025-04-27 17:19:23.641 Thread 'MainThread': missing ScriptRunContext! This warning can be ignored when running in bare mode.\n",
            "2025-04-27 17:19:23.642 Thread 'MainThread': missing ScriptRunContext! This warning can be ignored when running in bare mode.\n",
            "2025-04-27 17:19:23.643 Thread 'MainThread': missing ScriptRunContext! This warning can be ignored when running in bare mode.\n"
          ]
        }
      ]
    },
    {
      "cell_type": "code",
      "source": [
        "!pkill streamlit\n",
        "!pkill ngrok\n"
      ],
      "metadata": {
        "id": "MqOKJ4-XVgfh"
      },
      "execution_count": 74,
      "outputs": []
    },
    {
      "cell_type": "code",
      "source": [
        "!nohup streamlit run app.py --server.port 8501 > /dev/null 2>&1 &\n"
      ],
      "metadata": {
        "id": "QF6Qv4LzRQDQ"
      },
      "execution_count": 62,
      "outputs": []
    },
    {
      "cell_type": "code",
      "source": [
        "!pip install pyngrok\n"
      ],
      "metadata": {
        "id": "LrAi80URR63h",
        "outputId": "ef6c5576-5c78-4849-e527-06b593fd5c8e",
        "colab": {
          "base_uri": "https://localhost:8080/"
        }
      },
      "execution_count": 54,
      "outputs": [
        {
          "output_type": "stream",
          "name": "stdout",
          "text": [
            "Requirement already satisfied: pyngrok in /usr/local/lib/python3.11/dist-packages (7.2.5)\n",
            "Requirement already satisfied: PyYAML>=5.1 in /usr/local/lib/python3.11/dist-packages (from pyngrok) (6.0.2)\n"
          ]
        }
      ]
    },
    {
      "cell_type": "code",
      "source": [
        "!streamlit run app.py &>/content/logs.txt &\n"
      ],
      "metadata": {
        "id": "HGzVfxzSY5Wq"
      },
      "execution_count": 72,
      "outputs": []
    },
    {
      "cell_type": "code",
      "source": [
        "from pyngrok import ngrok\n",
        "\n",
        "# Убиваем старые туннели\n",
        "ngrok.kill()\n",
        "\n",
        "# Открываем новый туннель к порту 8501\n",
        "public_url = ngrok.connect(8501)\n",
        "print(public_url)\n"
      ],
      "metadata": {
        "id": "1xQAJcvuY5Np",
        "outputId": "d99e973e-ffa2-40f2-eced-818a4a2de9d3",
        "colab": {
          "base_uri": "https://localhost:8080/"
        }
      },
      "execution_count": 73,
      "outputs": [
        {
          "output_type": "stream",
          "name": "stdout",
          "text": [
            "NgrokTunnel: \"https://4320-35-201-175-160.ngrok-free.app\" -> \"http://localhost:8501\"\n"
          ]
        }
      ]
    },
    {
      "cell_type": "code",
      "source": [
        "with open(\"app.py\", \"w\") as f:\n",
        "    f.write(\"\"\"\n",
        "    [import streamlit as st\n",
        "import numpy as np\n",
        "from PIL import Image\n",
        "import requests\n",
        "from io import BytesIO\n",
        "import matplotlib.pyplot as plt\n",
        "from streamlit_drawable_canvas import st_canvas\n",
        "\n",
        "# URL до API\n",
        "API_URL = \"https://1122-35-201-175-160.ngrok-free.app/predict/\"\n",
        "\n",
        "# Имена классов\n",
        "CLASS_NAMES = {\n",
        "    \"0\": \"cane\",\n",
        "    \"1\": \"cavallo\",\n",
        "    \"2\": \"elefante\",\n",
        "    \"3\": \"scoiattolo\"\n",
        "}\n",
        "\n",
        "st.title(\"🐔🐄🐎🐑 Классификация изображений животных\")\n",
        "\n",
        "tab = st.radio(\"Выберите режим\", [\"📷 Загрузить изображение\", \"✏️ Нарисовать изображение\"])\n",
        "\n",
        "image = None\n",
        "\n",
        "if tab == \"📷 Загрузить изображение\":\n",
        "    uploaded_file = st.file_uploader(\"Загрузите изображение\", type=[\"jpg\", \"jpeg\", \"png\"])\n",
        "    if uploaded_file:\n",
        "        image = Image.open(uploaded_file).convert(\"RGB\")\n",
        "\n",
        "elif tab == \"✏️ Нарисовать изображение\":\n",
        "    st.write(\"Нарисуйте животное белым цветом на черном фоне:\")\n",
        "    canvas_result = st_canvas(\n",
        "        fill_color=\"black\",\n",
        "        stroke_width=10,\n",
        "        stroke_color=\"white\",\n",
        "        background_color=\"black\",\n",
        "        width=256,\n",
        "        height=256,\n",
        "        drawing_mode=\"freedraw\",\n",
        "        key=\"canvas_draw\",\n",
        "        update_streamlit=True\n",
        "    )\n",
        "\n",
        "    if canvas_result.image_data is not None:\n",
        "        image = Image.fromarray((canvas_result.image_data).astype(\"uint8\")).convert(\"RGB\")\n",
        "\n",
        "# Отображение изображения\n",
        "if image:\n",
        "    st.image(image, caption=\"Входное изображение\", use_container_width=True)\n",
        "\n",
        "    if st.button(\"Классифицировать\"):\n",
        "        # Предобработка изображения\n",
        "        img_resized = image.resize((64, 64))\n",
        "        buffered = BytesIO()\n",
        "        img_resized.save(buffered, format=\"PNG\")\n",
        "        img_bytes = buffered.getvalue()\n",
        "\n",
        "        # Отправка на API\n",
        "        files = {\"file\": (\"image.png\", img_bytes, \"image/png\")}\n",
        "        response = requests.post(API_URL, files=files)\n",
        "\n",
        "        if response.status_code == 200:\n",
        "            result = response.json()\n",
        "\n",
        "            # Предсказанный класс\n",
        "            class_id = result.get(\"predicted_class\", \"unknown\")\n",
        "            class_name = CLASS_NAMES.get(class_id, f\"Unknown class: {class_id}\")\n",
        "\n",
        "            st.subheader(\"✅ Предсказанный класс:\")\n",
        "            st.write(class_name)\n",
        "\n",
        "            # Вероятности\n",
        "            raw_probs = result.get(\"probabilities\", {})\n",
        "            readable_probs = {CLASS_NAMES.get(k, k): v for k, v in raw_probs.items()}\n",
        "\n",
        "            st.subheader(\"📊 Распределение вероятностей:\")\n",
        "            fig, ax = plt.subplots()\n",
        "            ax.bar(readable_probs.keys(), readable_probs.values(), color=\"skyblue\")\n",
        "            ax.set_ylabel(\"Вероятность\")\n",
        "            ax.set_ylim([0, 1])\n",
        "            st.pyplot(fig)\n",
        "        else:\n",
        "            st.error(\"Ошибка при обращении к API:\")\n",
        "            st.text(response.text)]\n",
        "    \"\"\")\n"
      ],
      "metadata": {
        "id": "xl0aKvZHQ6cA"
      },
      "execution_count": 50,
      "outputs": []
    },
    {
      "cell_type": "code",
      "source": [
        "!pip install fastapi uvicorn nest_asyncio pyngrok python-multipart\n"
      ],
      "metadata": {
        "colab": {
          "base_uri": "https://localhost:8080/"
        },
        "id": "U6bt3D9SA1BO",
        "outputId": "e8f8f09c-4ceb-4e3e-e260-f046cfe6cbe7"
      },
      "execution_count": 24,
      "outputs": [
        {
          "output_type": "stream",
          "name": "stdout",
          "text": [
            "Requirement already satisfied: fastapi in /usr/local/lib/python3.11/dist-packages (0.115.12)\n",
            "Requirement already satisfied: uvicorn in /usr/local/lib/python3.11/dist-packages (0.34.2)\n",
            "Requirement already satisfied: nest_asyncio in /usr/local/lib/python3.11/dist-packages (1.6.0)\n",
            "Collecting pyngrok\n",
            "  Downloading pyngrok-7.2.5-py3-none-any.whl.metadata (8.9 kB)\n",
            "Requirement already satisfied: python-multipart in /usr/local/lib/python3.11/dist-packages (0.0.20)\n",
            "Requirement already satisfied: starlette<0.47.0,>=0.40.0 in /usr/local/lib/python3.11/dist-packages (from fastapi) (0.46.2)\n",
            "Requirement already satisfied: pydantic!=1.8,!=1.8.1,!=2.0.0,!=2.0.1,!=2.1.0,<3.0.0,>=1.7.4 in /usr/local/lib/python3.11/dist-packages (from fastapi) (2.11.3)\n",
            "Requirement already satisfied: typing-extensions>=4.8.0 in /usr/local/lib/python3.11/dist-packages (from fastapi) (4.13.2)\n",
            "Requirement already satisfied: click>=7.0 in /usr/local/lib/python3.11/dist-packages (from uvicorn) (8.1.8)\n",
            "Requirement already satisfied: h11>=0.8 in /usr/local/lib/python3.11/dist-packages (from uvicorn) (0.14.0)\n",
            "Requirement already satisfied: PyYAML>=5.1 in /usr/local/lib/python3.11/dist-packages (from pyngrok) (6.0.2)\n",
            "Requirement already satisfied: annotated-types>=0.6.0 in /usr/local/lib/python3.11/dist-packages (from pydantic!=1.8,!=1.8.1,!=2.0.0,!=2.0.1,!=2.1.0,<3.0.0,>=1.7.4->fastapi) (0.7.0)\n",
            "Requirement already satisfied: pydantic-core==2.33.1 in /usr/local/lib/python3.11/dist-packages (from pydantic!=1.8,!=1.8.1,!=2.0.0,!=2.0.1,!=2.1.0,<3.0.0,>=1.7.4->fastapi) (2.33.1)\n",
            "Requirement already satisfied: typing-inspection>=0.4.0 in /usr/local/lib/python3.11/dist-packages (from pydantic!=1.8,!=1.8.1,!=2.0.0,!=2.0.1,!=2.1.0,<3.0.0,>=1.7.4->fastapi) (0.4.0)\n",
            "Requirement already satisfied: anyio<5,>=3.6.2 in /usr/local/lib/python3.11/dist-packages (from starlette<0.47.0,>=0.40.0->fastapi) (4.9.0)\n",
            "Requirement already satisfied: idna>=2.8 in /usr/local/lib/python3.11/dist-packages (from anyio<5,>=3.6.2->starlette<0.47.0,>=0.40.0->fastapi) (3.10)\n",
            "Requirement already satisfied: sniffio>=1.1 in /usr/local/lib/python3.11/dist-packages (from anyio<5,>=3.6.2->starlette<0.47.0,>=0.40.0->fastapi) (1.3.1)\n",
            "Downloading pyngrok-7.2.5-py3-none-any.whl (23 kB)\n",
            "Installing collected packages: pyngrok\n",
            "Successfully installed pyngrok-7.2.5\n"
          ]
        }
      ]
    },
    {
      "cell_type": "markdown",
      "source": [
        "## **Раздел 4. Документация и публикация проекта**\n"
      ],
      "metadata": {
        "id": "c9tXMK2_ofJ4"
      }
    },
    {
      "cell_type": "markdown",
      "source": [
        "1. Создать GitHub-репозиторий со структурой:\n",
        "   - Модели (сохраненная лучшая модель)\n",
        "   - API (код и зависимости)\n",
        "   - Интерфейс (код Streamlit-приложения)\n",
        "   - Документация (README.md)\n",
        "   - Требования (requirements.txt)\n",
        "2. Добавить в README.md:\n",
        "   - Описание проекта и используемого датасета\n",
        "   - Описание сравниваемых моделей\n",
        "   - Таблицу с результатами сравнения моделей\n",
        "   - Визуализации результатов\n",
        "   - Инструкции по локальному развертыванию\n",
        "   - Ссылки на развернутый API и Streamlit-приложение\n",
        "   - Примеры использования API\n",
        "3. Предоставить ссылки на:\n",
        "   - GitHub-репозиторий\n",
        "   - Публичный API для отправки POST-запросов\n",
        "   - Streamlit-интерфейс для взаимодействия с моделью"
      ],
      "metadata": {
        "id": "iclgpHyyofMe"
      }
    },
    {
      "cell_type": "markdown",
      "source": [
        "### ВАШИ ССЫЛКИ"
      ],
      "metadata": {
        "id": "T6604RKJy4i7"
      }
    },
    {
      "cell_type": "markdown",
      "source": [
        "- **GitHub-репозиторий:** https://github.com/Poziloi/chicken_cow_horse_sheep-classification\n",
        "\n",
        "- **Публичный API для отправки POST-запросов:** https://chicken-cow-horse-sheep-classification.onrender.com\n",
        "\n",
        "- **Streamlit-интерфейс для взаимодействия с моделью:** https://chicken-cow-horse-sheep-classification.streamlit.app/\n"
      ],
      "metadata": {
        "id": "rFpSywu22ofL"
      }
    }
  ]
}