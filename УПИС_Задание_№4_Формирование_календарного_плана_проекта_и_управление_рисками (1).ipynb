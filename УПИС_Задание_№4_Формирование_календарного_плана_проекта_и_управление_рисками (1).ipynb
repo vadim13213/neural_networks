{
  "nbformat": 4,
  "nbformat_minor": 0,
  "metadata": {
    "colab": {
      "provenance": [],
      "collapsed_sections": [
        "u3Fg6UFGL-Zz"
      ]
    },
    "kernelspec": {
      "name": "python3",
      "display_name": "Python 3"
    },
    "language_info": {
      "name": "python"
    }
  },
  "cells": [
    {
      "cell_type": "markdown",
      "source": [
        "# **Задание №4: Формирование календарного плана проекта и управление рисками**\n",
        "\n"
      ],
      "metadata": {
        "id": "Eq_cFeZD_w37"
      }
    },
    {
      "cell_type": "markdown",
      "source": [
        "## **Введение**\n"
      ],
      "metadata": {
        "id": "gbY4KFSlGmRX"
      }
    },
    {
      "cell_type": "markdown",
      "source": [
        "После концептуального проектирования и построения UML-диаграмм Вы получили чёткое представление о структуре и функциональности системы. Теперь важно перейти к планированию её реализации с применением инструментов проектного управления."
      ],
      "metadata": {
        "id": "CIuoy1-3GnTg"
      }
    },
    {
      "cell_type": "markdown",
      "source": [
        "## **Формулировка задания**\n"
      ],
      "metadata": {
        "id": "Rd1jrVGgJ2F-"
      }
    },
    {
      "cell_type": "markdown",
      "source": [
        "В рамках данного задания Вам необходимо разработать систему управления для вашего дипломного проекта, включающую планирование, анализ рисков и определение ключевых контрольных точек. Данная работа поможет вам структурировать процесс выполнения дипломного проекта и обеспечить его успешную реализацию в установленные сроки.\n"
      ],
      "metadata": {
        "id": "F3t89jKnJ6BS"
      }
    },
    {
      "cell_type": "markdown",
      "source": [
        "### **Необходимо выполнить:**\n"
      ],
      "metadata": {
        "id": "BQob8vqVJ7Kc"
      }
    },
    {
      "cell_type": "markdown",
      "source": [
        "\n",
        "\n",
        "\n",
        "1. **Разработать календарный план проекта в формате диаграммы Ганта**:\n",
        "   - Определите все основные этапы и задачи вашего дипломного проекта\n",
        "   - Установите реалистичные сроки выполнения каждой задачи\n",
        "   - Отобразите зависимости между задачами\n",
        "\n",
        "2. **Выполнить анализ и разработать систему управления рисками проекта**:\n",
        "   - Идентифицируйте не менее 3-5 потенциальных рисков, специфичных для вашего проекта\n",
        "   - Оцените вероятность возникновения и степень влияния каждого риска\n",
        "   - Разработайте конкретные стратегии реагирования на каждый риск\n",
        "   - Представьте результаты в виде структурированной таблицы\n",
        "\n",
        "3. **Определить ключевые контрольные точки проекта**:\n",
        "   - Выделите 3-5 важнейших контрольных точек процесса разработки\n",
        "   - Для каждой контрольной точки сформулируйте чёткие, измеримые критерии достижения\n",
        "   - Установите конкретные даты для контрольных точек\n",
        "   - Укажите ответственных (если проект групповой) и необходимые ресурсы\n",
        "\n",
        "4. **Подготовить пояснительную записку**:\n",
        "   - Обоснуйте выбранную структуру работ календарного плана\n",
        "   - Поясните методологию анализа рисков и принципы определения контрольных точек\n",
        "   - Опишите взаимосвязь между всеми компонентами системы"
      ],
      "metadata": {
        "id": "xoncRuiQJTNl"
      }
    },
    {
      "cell_type": "markdown",
      "source": [
        "## **Краткая теория и практическое руководство по выполнению задания**\n"
      ],
      "metadata": {
        "id": "Q5H7RlKdGzqP"
      }
    },
    {
      "cell_type": "markdown",
      "source": [
        "### **1. Разработка календарного плана проекта (диаграмма Ганта)**\n"
      ],
      "metadata": {
        "id": "TGnNxH6xHDYM"
      }
    },
    {
      "cell_type": "markdown",
      "source": [
        "#### **Источники:**\n",
        "\n",
        "1. **Грей К.Ф., Ларсон Э.У.** \"Управление проектами: Практическое руководство\" / Пер. с англ. - М.: Дело и Сервис, 2017.\n",
        "\n",
        "2. **Туккель И.Л., Сурина А.В., Культин Н.Б.** \"Управление инновационными проектами\" - СПб.: БХВ-Петербург, 2017.\n",
        "\n",
        "3. **Ильина О.Н.** \"Методология управления проектами: становление, современное состояние и развитие\" - М.: ИНФРА-М, 2019.\n",
        "\n"
      ],
      "metadata": {
        "id": "5KvKYKuuKD2t"
      }
    },
    {
      "cell_type": "markdown",
      "source": [
        "#### **Теоретическая часть:**\n"
      ],
      "metadata": {
        "id": "GL4v0fOCHSE4"
      }
    },
    {
      "cell_type": "markdown",
      "source": [
        "**Диаграмма Ганта** — это инструмент планирования, разработанный Генри Гантом в 1910-х годах. Она представляет собой горизонтальную линейную диаграмму, на которой задачи проекта представлены протяженными во времени отрезками с датами начала и окончания. Диаграмма Ганта позволяет:\n",
        "- Визуально представить последовательность и продолжительность задач проекта\n",
        "- Определить зависимости между задачами\n",
        "- Отслеживать выполнение работ относительно плана\n",
        "- Выявить критический путь проекта — последовательность задач, определяющую минимальную продолжительность проекта"
      ],
      "metadata": {
        "id": "tpGKrvLXHS8u"
      }
    },
    {
      "cell_type": "markdown",
      "source": [
        "#### **Руководство по составлению:**\n"
      ],
      "metadata": {
        "id": "H7kLVsMYHU6F"
      }
    },
    {
      "cell_type": "markdown",
      "source": [
        "\n",
        "\n",
        "\n",
        "1. **Декомпозиция работ**:\n",
        "   - Разделите проект на основные этапы (анализ, проектирование, разработка, тестирование, документирование)\n",
        "   - Разбейте каждый этап на конкретные задачи\n",
        "   - Стремитесь к тому, чтобы длительность отдельных задач не превышала 2 недели\n",
        "\n",
        "2. **Определение длительности**:\n",
        "   - Для каждой задачи оцените время выполнения в днях\n",
        "   - Учитывайте сложность задачи и свой опыт\n",
        "   - При отсутствии опыта используйте формулу PERT: (Оптимистичная + 4×Вероятная + Пессимистичная оценка) / 6\n",
        "\n",
        "3. **Установление зависимостей**:\n",
        "   - Определите, какие задачи должны быть выполнены до начала других\n",
        "   - Выделите типы зависимостей:\n",
        "     * Finish-to-Start (FS): задача B начинается после завершения задачи A\n",
        "     * Start-to-Start (SS): задачи начинаются одновременно\n",
        "     * Finish-to-Finish (FF): задачи заканчиваются одновременно\n",
        "     * Start-to-Finish (SF): начало задачи A определяет окончание задачи B\n",
        "\n",
        "4. **Построение диаграммы**\n",
        "\n",
        "\n",
        "5. **Определение критического пути**:\n",
        "   - Выявите последовательность задач, изменение длительности которых повлияет на общую продолжительность проекта\n",
        "   - Отметьте эти задачи как критические\n",
        "   - Уделите им особое внимание при выполнении проекта"
      ],
      "metadata": {
        "id": "7LsZLwrsHJzZ"
      }
    },
    {
      "cell_type": "markdown",
      "source": [
        "### **2. Анализ и управление рисками проекта**\n"
      ],
      "metadata": {
        "id": "62EskUlIHWd7"
      }
    },
    {
      "cell_type": "markdown",
      "source": [
        "\n",
        "#### **Источники:**\n",
        "\n",
        "1. **Грачева М.В., Секерин А.Б.** \"Риск-менеджмент инвестиционного проекта\" - М.: ЮНИТИ-ДАНА, 2017. - 544 с.\n",
        "\n",
        "2. **Руководство к Своду знаний по управлению проектами (Руководство PMBOK®)**. Шестое издание. Русскоязычная версия - Project Management Institute, Inc., 2019.\n",
        "\n",
        "3. **Попов Ю.И., Яковенко О.В.** \"Управление проектами: Учебное пособие\" - М.: ИНФРА-М, 2018. - 208 с.\n",
        "\n"
      ],
      "metadata": {
        "id": "6duYi-18KaYy"
      }
    },
    {
      "cell_type": "markdown",
      "source": [
        "#### **Теоретическая часть:**\n"
      ],
      "metadata": {
        "id": "83fVlSVuHaF5"
      }
    },
    {
      "cell_type": "markdown",
      "source": [
        "**Риск проекта** — это неопределенное событие или условие, наступление которого может оказать положительное или отрицательное влияние на цели проекта. Управление рисками включает:\n",
        "- Идентификацию рисков — выявление потенциальных угроз проекту\n",
        "- Анализ рисков — оценку вероятности и влияния\n",
        "- Планирование реагирования — разработку стратегий управления рисками\n",
        "- Мониторинг рисков — отслеживание статуса и эффективности мер\n",
        "\n",
        "Стратегии реагирования на негативные риски:\n",
        "- **Избежание** — изменение плана проекта для исключения риска\n",
        "- **Передача** — перенос последствий риска на третью сторону\n",
        "- **Снижение** — уменьшение вероятности или влияния риска\n",
        "- **Принятие** — признание риска без принятия предупредительных мер"
      ],
      "metadata": {
        "id": "l83OnmbRHZBS"
      }
    },
    {
      "cell_type": "markdown",
      "source": [
        "#### **Руководство по составлению таблицы рисков:**\n"
      ],
      "metadata": {
        "id": "BoluHBssHfs4"
      }
    },
    {
      "cell_type": "markdown",
      "source": [
        "\n",
        "1. **Идентификация рисков**:\n",
        "   - Проведите мозговой штурм, определяя, что может пойти не так\n",
        "   - Для IT-проектов типичны риски: технические, управленческие, организационные\n",
        "   - Для ML-проектов: недостаточность данных, проблемы с точностью модели, высокие требования к вычислительным ресурсам\n",
        "   - Для мобильных приложений: проблемы совместимости, интеграция с аппаратными функциями\n",
        "\n",
        "2. **Анализ рисков**:\n",
        "   - Для каждого риска определите вероятность (низкая, средняя, высокая)\n",
        "   - Оцените потенциальное влияние (низкое, среднее, высокое)\n",
        "   - Рассчитайте рейтинг риска (комбинация вероятности и влияния)\n",
        "   \n",
        "| Вероятность \\ Влияние | Низкое | Среднее | Высокое |\n",
        "|----------------------|--------|---------|---------|\n",
        "| Низкая               | Низкий | Низкий  | Средний |\n",
        "| Средняя              | Низкий | Средний | Высокий |\n",
        "| Высокая              | Средний| Высокий | Критический |\n",
        "\n",
        "3. **Разработка стратегий реагирования**:\n",
        "   - Для каждого риска выберите подходящую стратегию\n",
        "   - Разработайте конкретные действия для реализации стратегии\n",
        "   - Приоритизируйте риски с высоким и критическим рейтингом\n",
        "\n",
        "4. **Составление таблицы рисков**:\n",
        "   - Создайте таблицу со следующими колонками:\n",
        "     * ID риска (R1, R2, ...)\n",
        "     * Описание риска\n",
        "     * Вероятность\n",
        "     * Влияние\n",
        "     * Рейтинг\n",
        "     * Стратегия реагирования\n",
        "     * Конкретные превентивные меры"
      ],
      "metadata": {
        "id": "ZXa58SALHda3"
      }
    },
    {
      "cell_type": "markdown",
      "source": [
        "### **3. Определение контрольных точек проекта**\n"
      ],
      "metadata": {
        "id": "TRxqEfp7H38p"
      }
    },
    {
      "cell_type": "markdown",
      "source": [
        "### **Источники:**\n"
      ],
      "metadata": {
        "id": "hHgMTo9mK7D8"
      }
    },
    {
      "cell_type": "markdown",
      "source": [
        "\n",
        "\n",
        "1. **Ильин В.В.** \"Проектный менеджмент: Практическое пособие\" - М.: Альпина Паблишер, 2016. - 266 с.\n",
        "\n",
        "2. **Павлов А.Н.** \"Управление проектами на основе стандарта PMI PMBOK\" - М.: Лаборатория знаний, 2020. - 270 с.\n",
        "\n",
        "3. **Фунтов В.Н.** \"Основы управления проектами в компании\" - СПб.: Питер, 2018. - 464 с.\n"
      ],
      "metadata": {
        "id": "7gImeXLEKo4T"
      }
    },
    {
      "cell_type": "markdown",
      "source": [
        "#### **Теоретическая часть:**\n"
      ],
      "metadata": {
        "id": "uVncW-SaH5fI"
      }
    },
    {
      "cell_type": "markdown",
      "source": [
        "**Контрольные точки (вехи, milestones)** — это ключевые события проекта, обозначающие завершение важных этапов. В отличие от задач, вехи не имеют продолжительности — это моменты времени. Вехи позволяют:\n",
        "- Отслеживать прогресс проекта\n",
        "- Информировать заинтересованные стороны о достижениях\n",
        "- Создавать возможность для оценки промежуточных результатов\n",
        "- Принимать решения о продолжении или корректировке проекта"
      ],
      "metadata": {
        "id": "rTgFxLacH6p-"
      }
    },
    {
      "cell_type": "markdown",
      "source": [
        "#### **Руководство по определению контрольных точек:**\n"
      ],
      "metadata": {
        "id": "ysuDqtJ9H7Mh"
      }
    },
    {
      "cell_type": "markdown",
      "source": [
        "\n",
        "\n",
        "\n",
        "\n",
        "1. **Выбор ключевых моментов**:\n",
        "   - Определите 5-7 значимых событий проекта\n",
        "   - Равномерно распределите вехи по всему периоду проекта\n",
        "   - Привяжите вехи к завершению основных этапов или получению важных результатов\n",
        "   - Типичные вехи:\n",
        "     * Утверждение технического задания\n",
        "     * Завершение проектирования\n",
        "     * Готовность прототипа\n",
        "     * Завершение основной разработки\n",
        "     * Завершение тестирования\n",
        "     * Сдача проекта\n",
        "\n",
        "2. **Формулировка критериев достижения**:\n",
        "   - Для каждой вехи определите 3-5 конкретных, **измеримых критериев**\n",
        "   - Используйте принцип SMART: конкретные, измеримые, достижимые, релевантные, ограниченные по времени\n",
        "   - Избегайте субъективных критериев типа \"хорошее качество\"\n",
        "   - Пример:\n",
        "     ```\n",
        "     \"Модель обучена с точностью не менее 85% на тестовой выборке\"\n",
        "     вместо\n",
        "     \"Модель хорошо обучена\"\n",
        "     ```\n",
        "\n",
        "3. **Составление таблицы контрольных точек**:\n",
        "   - Создайте таблицу со следующими колонками:\n",
        "     * Номер вехи\n",
        "     * Название вехи\n",
        "     * Плановая дата\n",
        "     * Критерии достижения (маркированный список)\n",
        "\n",
        "4. **Согласование с диаграммой Ганта**:\n",
        "   - Вехи должны соответствовать датам из календарного плана\n",
        "   - Отобразите вехи на диаграмме Ганта как события с нулевой продолжительностью\n",
        "   - Проверьте, что критерии достижения вех соответствуют результатам задач в календарном плане"
      ],
      "metadata": {
        "id": "WqWNDvotH2cC"
      }
    },
    {
      "cell_type": "markdown",
      "source": [
        "## **Требования к выполнению задания:**\n",
        "\n"
      ],
      "metadata": {
        "id": "i7UwjrS1LAXd"
      }
    },
    {
      "cell_type": "markdown",
      "source": [
        "1. Все компоненты задания должны соответствовать теме вашего дипломного проекта\n",
        "2. Календарный план должен быть реалистичным и выполнимым в рамках дипломного проектирования\n",
        "3. Риски должны быть специфичными для вашего проекта, а не общими для любых IT-проектов\n",
        "4. Контрольные точки должны иметь четкие, измеримые критерии достижения\n",
        "5. Все элементы должны быть логически связаны между собой"
      ],
      "metadata": {
        "id": "phKsb5m8LCkQ"
      }
    },
    {
      "cell_type": "markdown",
      "source": [
        "## **Что должно получиться в итоге:**\n"
      ],
      "metadata": {
        "id": "l2YsWbgrLD5J"
      }
    },
    {
      "cell_type": "markdown",
      "source": [
        "\n",
        "\n",
        "\n",
        "\n",
        "\n",
        "1. Диаграмма Ганта\n",
        "2. Таблица рисков проекта\n",
        "3. Таблица контрольных точек\n",
        "4. Пояснительная записка с обоснованием принятых решений"
      ],
      "metadata": {
        "id": "LcKCPtXUDFo_"
      }
    },
    {
      "cell_type": "markdown",
      "source": [
        "# **Пример выполненного задания №4: Формирование календарного плана проекта и управление рисками**\n",
        "\n"
      ],
      "metadata": {
        "id": "Jzi1h8qGL3Kz"
      }
    },
    {
      "cell_type": "markdown",
      "source": [
        "## **Тема дипломного проекта: \"Разработка мобильного приложения классификации болезней кожи по фото\"**\n",
        "\n"
      ],
      "metadata": {
        "id": "ScTc5b2CL5PM"
      }
    },
    {
      "cell_type": "markdown",
      "source": [
        "### **1. Календарный план проекта (диаграмма Ганта)**\n",
        "\n"
      ],
      "metadata": {
        "id": "URFg1CaFL7kS"
      }
    },
    {
      "cell_type": "markdown",
      "source": [
        "#### **Функция Python для построения диаграммы Ганта:**"
      ],
      "metadata": {
        "id": "u3Fg6UFGL-Zz"
      }
    },
    {
      "cell_type": "code",
      "source": [
        "def create_gantt_chart(tasks, title=\"Диаграмма Ганта\", save_path=\"gantt_chart.png\", figsize=(16, 8)):\n",
        "    \"\"\"\n",
        "    Создает и сохраняет диаграмму Ганта в виде таблицы на основе предоставленных данных о задачах.\n",
        "\n",
        "    Параметры:\n",
        "    ----------\n",
        "    tasks : list of dict\n",
        "        Список словарей, каждый из которых содержит информацию о задаче в формате:\n",
        "        {\"Task\": \"Название задачи\", \"Start\": \"YYYY-MM-DD\", \"End\": \"YYYY-MM-DD\", \"Group\": \"Группа задачи\"}\n",
        "    title : str, optional\n",
        "        Заголовок диаграммы\n",
        "    save_path : str, optional\n",
        "        Путь для сохранения изображения\n",
        "    figsize : tuple, optional\n",
        "        Размер изображения (ширина, высота) в дюймах\n",
        "\n",
        "    Возвращает:\n",
        "    -----------\n",
        "    None (сохраняет изображение и отображает его)\n",
        "    \"\"\"\n",
        "    import pandas as pd\n",
        "    import numpy as np\n",
        "    import matplotlib.pyplot as plt\n",
        "    import seaborn as sns\n",
        "    from datetime import datetime, timedelta\n",
        "\n",
        "    # Создание DataFrame и преобразование дат\n",
        "    df = pd.DataFrame(tasks)\n",
        "    df['Start'] = pd.to_datetime(df['Start'])\n",
        "    df['End'] = pd.to_datetime(df['End'])\n",
        "\n",
        "    # Определение временного диапазона проекта\n",
        "    project_start = df['Start'].min().date()\n",
        "    project_end = df['End'].max().date()\n",
        "    project_duration = (project_end - project_start).days + 1\n",
        "\n",
        "    # Создание всех дат проекта\n",
        "    all_dates = [project_start + timedelta(days=i) for i in range(project_duration)]\n",
        "    date_labels = [date.strftime('%d-%m') for date in all_dates]\n",
        "\n",
        "    # Создание длинного формата данных для heatmap\n",
        "    gantt_data = []\n",
        "    for i, task in enumerate(df.itertuples()):\n",
        "        task_start = task.Start.date()\n",
        "        task_end = task.End.date()\n",
        "        for date in all_dates:\n",
        "            is_active = 1 if task_start <= date <= task_end else 0\n",
        "            gantt_data.append({\n",
        "                'Task': task.Task,\n",
        "                'Date': date.strftime('%Y-%m-%d'),\n",
        "                'Active': is_active,\n",
        "                'Group': task.Group\n",
        "            })\n",
        "\n",
        "    # Преобразование в DataFrame\n",
        "    gantt_df = pd.DataFrame(gantt_data)\n",
        "\n",
        "    # Преобразование в матричный формат для heatmap\n",
        "    gantt_matrix = gantt_df.pivot(index='Task', columns='Date', values='Active')\n",
        "\n",
        "    # Получение уникальных групп задач\n",
        "    groups = df['Group'].unique()\n",
        "\n",
        "    # Создание цветовой схемы для групп\n",
        "    group_values = {group: i+1 for i, group in enumerate(groups)}\n",
        "\n",
        "    # Создание матрицы с группами\n",
        "    group_matrix = np.zeros_like(gantt_matrix.values)\n",
        "    for i, task in enumerate(gantt_matrix.index):\n",
        "        group = df[df['Task'] == task]['Group'].values[0]\n",
        "        group_value = group_values[group]\n",
        "        active_indices = np.where(gantt_matrix.iloc[i, :] == 1)\n",
        "        group_matrix[i, active_indices] = group_value\n",
        "\n",
        "    # Настройка цветовой схемы - исправлено для устранения deprecation warning\n",
        "    num_colors = len(group_values) + 1\n",
        "    cmap = plt.colormaps['Paired']  # Используем plt.colormaps вместо plt.cm.get_cmap\n",
        "    colors = [cmap(i/(num_colors-1)) for i in range(num_colors)]\n",
        "    custom_cmap = plt.matplotlib.colors.ListedColormap(['white'] + colors[1:])\n",
        "\n",
        "    # Создание фигуры с дополнительным пространством для легенды\n",
        "    fig, ax = plt.subplots(figsize=figsize)\n",
        "\n",
        "    # Создание heatmap с seaborn\n",
        "    ax = sns.heatmap(group_matrix, cmap=custom_cmap, cbar=False,\n",
        "                    linewidths=.5, linecolor='gray',\n",
        "                    xticklabels=date_labels, yticklabels=gantt_matrix.index, ax=ax)\n",
        "\n",
        "    # Настройка осей\n",
        "    ax.set_title(title, fontsize=14)\n",
        "    ax.set_xlabel('Дата', fontsize=12)\n",
        "    ax.set_ylabel('Задача', fontsize=12)\n",
        "\n",
        "    # Настройка частоты меток по оси X (каждые 7 дней)\n",
        "    tick_positions = np.arange(0, project_duration, 7)\n",
        "    ax.set_xticks(tick_positions)\n",
        "    ax.set_xticklabels([all_dates[pos].strftime('%d-%m-%Y') for pos in tick_positions], rotation=45)\n",
        "\n",
        "    # Добавление сетки для недель\n",
        "    for week_pos in tick_positions:\n",
        "        plt.axvline(x=week_pos, color='gray', linestyle='-', linewidth=0.5, alpha=0.5)\n",
        "\n",
        "    # Добавление легенды вне области графика\n",
        "    legend_elements = [plt.Rectangle((0, 0), 1, 1, facecolor=colors[group_values[group]],\n",
        "                                    edgecolor='gray', label=group)\n",
        "                      for group in group_values.keys()]\n",
        "\n",
        "    # Размещаем легенду вне области графика (справа от диаграммы)\n",
        "    ax.legend(handles=legend_elements, loc='center left', bbox_to_anchor=(1.02, 0.5),\n",
        "             fontsize=10, frameon=True, fancybox=True, shadow=True)\n",
        "\n",
        "    # Оптимизация размещения\n",
        "    plt.tight_layout()\n",
        "\n",
        "    # Сохранение с высоким разрешением\n",
        "    plt.savefig(save_path, dpi=300, bbox_inches='tight')\n",
        "    plt.show()"
      ],
      "metadata": {
        "id": "y-Zodo4UL_u1"
      },
      "execution_count": null,
      "outputs": []
    },
    {
      "cell_type": "markdown",
      "source": [
        "#### **Пример диаграммы Гантта:**"
      ],
      "metadata": {
        "id": "A9KyEQAbMJIJ"
      }
    },
    {
      "cell_type": "markdown",
      "source": [
        "При выполнении данного кода будет создана диаграмма Ганта, отображающая все задачи проекта с цветовым кодированием по группам задач и указанием дат начала и окончания.\n"
      ],
      "metadata": {
        "id": "YEGTt9bmMYVY"
      }
    },
    {
      "cell_type": "code",
      "source": [
        "# Cписок задач по одной-две ключевые из каждой группы\n",
        "sample_tasks = [\n",
        "    {\"Task\": \"Анализ требований\", \"Start\": \"2025-02-01\", \"End\": \"2025-02-07\", \"Group\": \"Анализ и планирование\"},\n",
        "    {\"Task\": \"Формирование ТЗ\", \"Start\": \"2025-02-08\", \"End\": \"2025-02-15\", \"Group\": \"Анализ и планирование\"},\n",
        "\n",
        "    {\"Task\": \"Проектирование БД\", \"Start\": \"2025-02-16\", \"End\": \"2025-02-22\", \"Group\": \"Проектирование\"},\n",
        "    {\"Task\": \"Проектирование ML-модели\", \"Start\": \"2025-02-23\", \"End\": \"2025-03-05\", \"Group\": \"Проектирование\"},\n",
        "\n",
        "    {\"Task\": \"Сбор и подготовка данных\", \"Start\": \"2025-03-06\", \"End\": \"2025-03-15\", \"Group\": \"Разработка\"},\n",
        "    {\"Task\": \"Обучение ML-модели\", \"Start\": \"2025-03-16\", \"End\": \"2025-03-25\", \"Group\": \"Разработка\"},\n",
        "    {\"Task\": \"Разработка приложения\", \"Start\": \"2025-03-16\", \"End\": \"2025-03-28\", \"Group\": \"Разработка\"},\n",
        "\n",
        "    {\"Task\": \"Тестирование\", \"Start\": \"2025-03-29\", \"End\": \"2025-04-05\", \"Group\": \"Тестирование\"},\n",
        "\n",
        "    {\"Task\": \"Документирование\", \"Start\": \"2025-04-06\", \"End\": \"2025-04-15\", \"Group\": \"Документирование\"}\n",
        "]\n",
        "\n",
        "# Вызов функции для создания диаграммы Ганта\n",
        "create_gantt_chart(\n",
        "    tasks=sample_tasks,\n",
        "    title=\"Диаграмма Ганта для проекта классификации болезней кожи\",\n",
        "    save_path=\"gantt_chart_example.png\",\n",
        "    figsize=(14, 6)\n",
        ")"
      ],
      "metadata": {
        "colab": {
          "base_uri": "https://localhost:8080/",
          "height": 607
        },
        "id": "qN7j9cRbMFZt",
        "outputId": "b7cbc79e-ae20-4578-93b5-d13a9d298173"
      },
      "execution_count": null,
      "outputs": [
        {
          "output_type": "display_data",
          "data": {
            "text/plain": [
              "<Figure size 1400x600 with 1 Axes>"
            ],
            "image/png": "[encoded data removed]"
          },
          "metadata": {}
        }
      ]
    },
    {
      "cell_type": "markdown",
      "source": [
        "#### **Задачи проекта:**"
      ],
      "metadata": {
        "id": "_2lZMLqbMedr"
      }
    },
    {
      "cell_type": "markdown",
      "source": [
        "\n",
        "\n",
        "| ID | Задача | Длительность (дни) | Предшественники | Начало | Окончание |\n",
        "|----|--------|-------------------|----------------|--------|-----------|\n",
        "| 1 | **Анализ и планирование** | **15** | | **01.02.2025** | **15.02.2025** |\n",
        "| 1.1 | Анализ требований | 5 | - | 01.02.2025 | 05.02.2025 |\n",
        "| 1.2 | Изучение предметной области (дерматология) | 5 | - | 01.02.2025 | 05.02.2025 |\n",
        "| 1.3 | Формирование технического задания | 5 | 1.1, 1.2 | 06.02.2025 | 10.02.2025 |\n",
        "| 1.4 | Планирование архитектуры | 5 | 1.3 | 11.02.2025 | 15.02.2025 |\n",
        "| 2 | **Проектирование системы** | **20** | | **16.02.2025** | **07.03.2025** |\n",
        "| 2.1 | Проектирование базы данных | 7 | 1.4 | 16.02.2025 | 22.02.2025 |\n",
        "| 2.2 | Проектирование UI/UX мобильного приложения | 7 | 1.4 | 16.02.2025 | 22.02.2025 |\n",
        "| 2.3 | Проектирование архитектуры ML-модели | 7 | 2.1 | 23.02.2025 | 01.03.2025 |\n",
        "| 2.4 | Проектирование серверного API | 6 | 2.3 | 02.03.2025 | 07.03.2025 |\n",
        "| 3 | **Разработка** | **30** | | **08.03.2025** | **06.04.2025** |\n",
        "| 3.1 | Настройка базы данных | 7 | 2.1 | 08.03.2025 | 14.03.2025 |\n",
        "| 3.2 | Сбор и подготовка данных для ML-модели | 14 | 2.3 | 08.03.2025 | 21.03.2025 |\n",
        "| 3.3 | Обучение и оптимизация ML-модели | 11 | 3.2 | 22.03.2025 | 01.04.2025 |\n",
        "| 3.4 | Разработка серверной части | 14 | 3.1 | 15.03.2025 | 28.03.2025 |\n",
        "| 3.5 | Разработка мобильного приложения | 14 | 2.2 | 15.03.2025 | 28.03.2025 |\n",
        "| 3.6 | Интеграция ML-модели в приложение | 3 | 3.3, 3.4, 3.5 | 02.04.2025 | 04.04.2025 |\n",
        "| 3.7 | Настройка окружения | 2 | 3.6 | 05.04.2025 | 06.04.2025 |\n",
        "| 4 | **Тестирование** | **14** | | **07.04.2025** | **20.04.2025** |\n",
        "| 4.1 | Модульное тестирование | 5 | 3.7 | 07.04.2025 | 11.04.2025 |\n",
        "| 4.2 | Интеграционное тестирование | 5 | 4.1 | 12.04.2025 | 16.04.2025 |\n",
        "| 4.3 | Тестирование точности классификации | 2 | 4.2 | 17.04.2025 | 18.04.2025 |\n",
        "| 4.4 | Исправление ошибок | 4 | 4.3 | 17.04.2025 | 20.04.2025 |\n",
        "| 5 | **Документирование** | **10** | | **21.04.2025** | **30.04.2025** |\n",
        "| 5.1 | Разработка руководства пользователя | 5 | 4.4 | 21.04.2025 | 25.04.2025 |\n",
        "| 5.2 | Разработка технической документации | 7 | 4.4 | 21.04.2025 | 27.04.2025 |\n",
        "| 5.3 | Подготовка презентационных материалов | 3 | 5.1, 5.2 | 28.04.2025 | 30.04.2025 |\n",
        "\n"
      ],
      "metadata": {
        "id": "Oaz03KEnMb8n"
      }
    },
    {
      "cell_type": "markdown",
      "source": [
        "**Критический путь*:** 1.1 → 1.3 → 1.4 → 2.1 → 2.3 → 2.4 → 3.2 → 3.3 → 3.6 → 3.7 → 4.1 → 4.2 → 4.3 → 4.4 → 5.1/5.2 → 5.3"
      ],
      "metadata": {
        "id": "7Be3Fl6ZMhkH"
      }
    },
    {
      "cell_type": "markdown",
      "source": [
        "**\\*Критический путь** — это последовательность взаимосвязанных задач, которые определяют минимальную продолжительность проекта. Это самая длинная цепочка задач от начала до конца проекта, и любая задержка любой задачи в этой цепочке приведет к задержке всего проекта.\n",
        "\n",
        "В данном случае критический путь включает следующие задачи:\n",
        "1.1 (Анализ требований) → 1.3 (Формирование технического задания) → 1.4 (Планирование архитектуры) → 2.1 (Проектирование базы данных) → 2.3 (Проектирование архитектуры ML-модели) → 2.4 (Проектирование серверного API) → 3.2 (Сбор и подготовка данных) → 3.3 (Обучение модели) → 3.6 (Интеграция) → 3.7 (Настройка окружения) → 4.1 (Модульное тестирование) → 4.2 (Интеграционное тестирование) → 4.3 (Тестирование точности) → 4.4 (Исправление ошибок) → 5.1/5.2 (Документация) → 5.3 (Презентационные материалы)\n",
        "\n",
        "**Важность критического пути:**\n",
        "- Показывает задачи, за которыми нужно следить особенно внимательно\n",
        "- Определяет общую продолжительность проекта\n",
        "- Задачи вне критического пути имеют временной резерв (могут задерживаться без влияния на срок завершения проекта)\n",
        "\n",
        "Если любая задача в этой цепочке займет больше времени, чем запланировано, то конечная дата проекта (30.04.2025) будет отложена."
      ],
      "metadata": {
        "id": "ODzRDDyxom6O"
      }
    },
    {
      "cell_type": "markdown",
      "source": [
        "### **2. Анализ и управление рисками проекта**\n",
        "\n"
      ],
      "metadata": {
        "id": "5O6qWxD7MjRN"
      }
    },
    {
      "cell_type": "markdown",
      "source": [
        "#### **Таблица анализа рисков:**"
      ],
      "metadata": {
        "id": "neK3iV50MlmU"
      }
    },
    {
      "cell_type": "markdown",
      "source": [
        "| ID | Риск | Вероятность | Влияние | Рейтинг | Стратегия реагирования | Превентивные меры |\n",
        "|----|------|-------------|---------|---------|------------------------|-------------------|\n",
        "| R1 | Недостаточное качество или объем данных для обучения ML-модели | Высокая | Высокое | Критический | Снижение | • Ранний аудит доступных наборов данных<br>• Использование техник аугментации данных<br>• Рассмотрение возможности использования предобученных моделей |\n",
        "| R2 | Низкая точность классификации болезней кожи | Высокая | Высокое | Критический | Снижение | • Консультации с дерматологами<br>• Использование проверенных алгоритмов и архитектур<br>• Итеративное улучшение модели |\n",
        "| R3 | Высокие требования к вычислительным ресурсам мобильного устройства | Средняя | Высокое | Высокий | Снижение | • Оптимизация модели для мобильных устройств<br>• Возможность обработки фото на сервере<br>• Тестирование на различных устройствах |\n",
        "| R4 | Проблемы совместимости с различными версиями ОС | Средняя | Среднее | Средний | Снижение | • Определение минимальных требований к ОС<br>• Тестирование на различных версиях ОС<br>• Использование кроссплатформенных фреймворков |\n",
        "| R5 | Сложности с интеграцией камеры и обработкой фото | Средняя | Высокое | Высокий | Снижение | • Раннее тестирование API камеры<br>• Подготовка запасных вариантов интеграции<br>• Тестирование на разных устройствах |\n",
        "| R6 | Проблемы с приватностью и обработкой медицинских данных | Средняя | Высокое | Высокий | Избежание | • Локальная обработка данных когда возможно<br>• Реализация шифрования при передаче данных<br>• Анонимизация данных пользователей |\n",
        "| R7 | Ошибки в классификации, ведущие к неверной медицинской информации | Высокая | Высокое | Критический | Снижение | • Четкое указание ограничений приложения<br>• Проверка результатов дерматологами<br>• Отказ от диагностики в пользу предварительной классификации |\n",
        "| R8 | Технические проблемы с серверной инфраструктурой | Низкая | Высокое | Средний | Снижение | • Тестирование производительности сервера<br>• Разработка механизмов кэширования<br>• Планирование масштабирования |\n",
        "| R9 | Задержки в разработке из-за сложности ML-модели | Высокая | Среднее | Высокий | Снижение | • Детальное планирование этапов обучения модели<br>• Резервирование дополнительного времени<br>• Определение MVP-функциональности |\n",
        "| R10 | Негативные отзывы пользователей из-за неудобного интерфейса | Средняя | Среднее | Средний | Снижение | • Прототипирование и тестирование UI/UX<br>• Получение обратной связи от потенциальных пользователей<br>• Адаптивный дизайн для различных устройств |"
      ],
      "metadata": {
        "id": "xqW_yOlVMqVL"
      }
    },
    {
      "cell_type": "markdown",
      "source": [
        "### **3. Контрольные точки проекта**\n"
      ],
      "metadata": {
        "id": "I4K34pcaMugv"
      }
    },
    {
      "cell_type": "markdown",
      "source": [
        "\n",
        "\n",
        "\n",
        "| № | Веха | Дата | Критерии достижения |\n",
        "|---|------|------|---------------------|\n",
        "| 1 | Утверждение технического задания | 10.02.2025 | • Документ ТЗ согласован с руководителем<br>• Определен полный перечень функциональных требований<br>• Сформулированы нефункциональные требования<br>• Определены границы проекта и дисклеймеры |\n",
        "| 2 | Завершение проектирования | 07.03.2025 | • Разработана и утверждена архитектура приложения<br>• Спроектирована структура ML-модели<br>• Созданы прототипы ключевых экранов интерфейса<br>• Определена структура API взаимодействия |\n",
        "| 3 | Подготовка и обучение ML-модели | 01.04.2025 | • Собран и подготовлен датасет<br>• Обучена модель с точностью не менее 85%<br>• Оптимизирована модель для использования на мобильных устройствах<br>• Документированы параметры и метрики модели |\n",
        "| 4 | Разработка мобильного приложения | 28.03.2025 | • Реализованы все экраны пользовательского интерфейса<br>• Внедрены механизмы работы с камерой и галереей<br>• Реализована базовая логика приложения<br>• Обеспечена адаптивность интерфейса |\n",
        "| 5 | Интеграция системы | 06.04.2025 | • ML-модель интегрирована в мобильное приложение<br>• Настроено взаимодействие с серверной частью<br>• Система разворачивается и запускается без ошибок<br>• Выполнено тестирование на различных устройствах |\n",
        "| 6 | Завершение тестирования | 20.04.2025 | • Пройдены все модульные и интеграционные тесты<br>• Проведено тестирование точности классификации на контрольной выборке<br>• Исправлены выявленные ошибки<br>• Выполнено тестирование на реальных пользователях |\n",
        "| 7 | Готовность презентационных материалов | 30.04.2025 | • Подготовлено руководство пользователя с указанием ограничений<br>• Создана техническая документация<br>• Разработана презентация проекта<br>• Подготовлена демо-версия приложения |"
      ],
      "metadata": {
        "id": "4HUKTTjZMsgh"
      }
    },
    {
      "cell_type": "markdown",
      "source": [
        "### **4. Пояснительная записка**\n",
        "\n"
      ],
      "metadata": {
        "id": "e5LSF7aNMxmk"
      }
    },
    {
      "cell_type": "markdown",
      "source": [
        "#### **Обоснование принятых решений**"
      ],
      "metadata": {
        "id": "Zh6oMS5YM0Ma"
      }
    },
    {
      "cell_type": "markdown",
      "source": [
        "\n",
        "\n",
        "\n",
        "\n",
        "\n",
        "\n",
        "\n",
        "\n",
        "\n",
        "В представленном календарном плане я разделил разработку мобильного приложения для классификации болезней кожи на пять основных этапов: анализ и планирование, проектирование, разработка, тестирование и документирование. Такая структура обеспечивает последовательное создание всех компонентов системы с акцентом на особенности ML-проектов.\n",
        "\n",
        "Отличительной особенностью данного проекта является наличие двух параллельных треков разработки: создание ML-модели для классификации болезней кожи и разработка мобильного приложения. Эти процессы частично выполняются параллельно, что оптимизирует общую длительность проекта, но при этом требует тщательной координации на этапе интеграции.\n",
        "\n",
        "При анализе рисков особое внимание уделено аспектам, специфичным для проектов с использованием машинного обучения в медицинской сфере: качество данных, точность классификации, обработка медицинских изображений и этические вопросы. Учитывая потенциальное использование приложения в контексте здоровья, я выделил риски, связанные с точностью классификации и медицинскими последствиями, как критические.\n",
        "\n",
        "Важным аспектом планирования является выделение достаточного времени на сбор и подготовку данных (14 дней) и обучение ML-модели (11 дней), так как эти этапы часто становятся узким местом в проектах машинного обучения. Тестирование точности классификации выделено в отдельную задачу с необходимостью привлечения специалистов-дерматологов для оценки результатов.\n",
        "\n",
        "Контрольные точки проекта отражают ключевые моменты каждого этапа с акцентом на качество ML-модели и интеграцию всех компонентов системы. Особая веха выделена для подготовки и обучения ML-модели, что подчеркивает важность этого компонента для успеха всего проекта.\n",
        "\n",
        "В целом, разработанный план учитывает специфику проектов машинного обучения и мобильной разработки, предусматривает адекватные меры реагирования на потенциальные риски и обеспечивает последовательное движение к созданию функционального и полезного приложения для классификации болезней кожи."
      ],
      "metadata": {
        "id": "vhJFPXtVLeEZ"
      }
    },
    {
      "cell_type": "code",
      "source": [
        "import pandas as pd\n",
        "import plotly.express as px\n",
        "\n",
        "# Таблица задач\n",
        "data = {\n",
        "    \"ID\": [1, 1.1, 1.2, 1.3, 1.4, 2, 2.1, 2.2, 2.3, 2.4, 3, 3.1, 3.2, 3.3, 3.4, 4, 4.1, 4.2],\n",
        "    \"Задача\": [\n",
        "        \"Анализ и планирование\", \"Изучение предметной области\", \"Анализ требований\",\n",
        "        \"Формирование технического задания\", \"Планирование архитектуры\",\n",
        "        \"Проектирование системы\", \"Проектирование структуры БД\",\n",
        "        \"Проектирование UI/UX приложения\", \"Проектирование архитектуры системы\",\n",
        "        \"Проектирование взаимодействия с Arduino\",\n",
        "        \"Разработка системы\", \"Настройка базы данных\",\n",
        "        \"Разработка мобильного приложения\", \"Разработка взаимодействия с Arduino\",\n",
        "        \"Тестирование и отладка\", \"Внедрение и завершение проекта\",\n",
        "        \"Подготовка отчётной документации\", \"Защита дипломного проекта\"\n",
        "    ],\n",
        "    \"Начало\": [\n",
        "        \"2025-03-15\", \"2025-03-15\", \"2025-03-15\", \"2025-03-21\", \"2025-03-26\",\n",
        "        \"2025-03-31\", \"2025-03-31\", \"2025-03-31\", \"2025-04-06\", \"2025-04-11\",\n",
        "        \"2025-04-16\", \"2025-04-16\", \"2025-04-20\", \"2025-04-24\", \"2025-04-29\",\n",
        "        \"2025-05-13\", \"2025-05-13\", \"2025-05-20\"\n",
        "    ],\n",
        "    \"Окончание\": [\n",
        "        \"2025-03-30\", \"2025-03-20\", \"2025-03-20\", \"2025-03-25\", \"2025-03-30\",\n",
        "        \"2025-04-15\", \"2025-04-05\", \"2025-04-05\", \"2025-04-10\", \"2025-04-15\",\n",
        "        \"2025-05-12\", \"2025-04-19\", \"2025-04-23\", \"2025-04-28\", \"2025-05-12\",\n",
        "        \"2025-05-31\", \"2025-05-19\", \"2025-05-31\"\n",
        "    ]\n",
        "}\n",
        "\n",
        "df = pd.DataFrame(data)\n",
        "\n",
        "fig = px.timeline(\n",
        "    df,\n",
        "    x_start=\"Начало\",\n",
        "    x_end=\"Окончание\",\n",
        "    y=\"Задача\",\n",
        "    color=\"ID\",\n",
        "    title=\"Диаграмма Ганта для проекта автоматизированной микрофермы\"\n",
        ")\n",
        "\n",
        "fig.update_yaxes(autorange=\"reversed\")  # чтобы задачи шли сверху вниз\n",
        "fig.show()\n"
      ],
      "metadata": {
        "colab": {
          "base_uri": "https://localhost:8080/",
          "height": 542
        },
        "id": "dG900qgZShTu",
        "outputId": "fb0035f8-58e9-437c-a472-4611b8682c18"
      },
      "execution_count": 4,
      "outputs": [
        {
          "output_type": "display_data",
          "data": {
            "text/html": [
              "<html>\n",
              "<head><meta charset=\"utf-8\" /></head>\n",
              "<body>\n",
              "    <div>            <script src=\"https://cdnjs.cloudflare.com/ajax/libs/mathjax/2.7.5/MathJax.js?config=TeX-AMS-MML_SVG\"></script><script type=\"text/javascript\">if (window.MathJax && window.MathJax.Hub && window.MathJax.Hub.Config) {window.MathJax.Hub.Config({SVG: {font: \"STIX-Web\"}});}</script>                <script type=\"text/javascript\">window.PlotlyConfig = {MathJaxConfig: 'local'};</script>\n",
              "        <script charset=\"utf-8\" src=\"https://cdn.plot.ly/plotly-2.35.2.min.js\"></script>                <div id=\"b2c9df9a-98fd-42ea-bb3e-f19e4dba7fcc\" class=\"plotly-graph-div\" style=\"height:525px; width:100%;\"></div>            <script type=\"text/javascript\">                                    window.PLOTLYENV=window.PLOTLYENV || {};                                    if (document.getElementById(\"b2c9df9a-98fd-42ea-bb3e-f19e4dba7fcc\")) {                    Plotly.newPlot(                        \"b2c9df9a-98fd-42ea-bb3e-f19e4dba7fcc\",                        [{\"alignmentgroup\":\"True\",\"base\":[\"2025-03-15\",\"2025-03-15\",\"2025-03-15\",\"2025-03-21\",\"2025-03-26\",\"2025-03-31\",\"2025-03-31\",\"2025-03-31\",\"2025-04-06\",\"2025-04-11\",\"2025-04-16\",\"2025-04-16\",\"2025-04-20\",\"2025-04-24\",\"2025-04-29\",\"2025-05-13\",\"2025-05-13\",\"2025-05-20\"],\"hovertemplate\":\"Начало=%{base}\\u003cbr\\u003eОкончание=%{x}\\u003cbr\\u003eЗадача=%{y}\\u003cbr\\u003eID=%{marker.color}\\u003cextra\\u003e\\u003c\\u002fextra\\u003e\",\"legendgroup\":\"\",\"marker\":{\"color\":[1.0,1.1,1.2,1.3,1.4,2.0,2.1,2.2,2.3,2.4,3.0,3.1,3.2,3.3,3.4,4.0,4.1,4.2],\"coloraxis\":\"coloraxis\",\"pattern\":{\"shape\":\"\"}},\"name\":\"\",\"offsetgroup\":\"\",\"orientation\":\"h\",\"showlegend\":false,\"textposition\":\"auto\",\"x\":[1296000000.0,432000000.0,432000000.0,345600000.0,345600000.0,1296000000.0,432000000.0,432000000.0,345600000.0,345600000.0,2246400000.0,259200000.0,259200000.0,345600000.0,1123200000.0,1555200000.0,518400000.0,950400000.0],\"xaxis\":\"x\",\"y\":[\"Анализ и планирование\",\"Изучение предметной области\",\"Анализ требований\",\"Формирование технического задания\",\"Планирование архитектуры\",\"Проектирование системы\",\"Проектирование структуры БД\",\"Проектирование UI\\u002fUX приложения\",\"Проектирование архитектуры системы\",\"Проектирование взаимодействия с Arduino\",\"Разработка системы\",\"Настройка базы данных\",\"Разработка мобильного приложения\",\"Разработка взаимодействия с Arduino\",\"Тестирование и отладка\",\"Внедрение и завершение проекта\",\"Подготовка отчётной документации\",\"Защита дипломного проекта\"],\"yaxis\":\"y\",\"type\":\"bar\"}],                        {\"template\":{\"data\":{\"histogram2dcontour\":[{\"type\":\"histogram2dcontour\",\"colorbar\":{\"outlinewidth\":0,\"ticks\":\"\"},\"colorscale\":[[0.0,\"#0d0887\"],[0.1111111111111111,\"#46039f\"],[0.2222222222222222,\"#7201a8\"],[0.3333333333333333,\"#9c179e\"],[0.4444444444444444,\"#bd3786\"],[0.5555555555555556,\"#d8576b\"],[0.6666666666666666,\"#ed7953\"],[0.7777777777777778,\"#fb9f3a\"],[0.8888888888888888,\"#fdca26\"],[1.0,\"#f0f921\"]]}],\"choropleth\":[{\"type\":\"choropleth\",\"colorbar\":{\"outlinewidth\":0,\"ticks\":\"\"}}],\"histogram2d\":[{\"type\":\"histogram2d\",\"colorbar\":{\"outlinewidth\":0,\"ticks\":\"\"},\"colorscale\":[[0.0,\"#0d0887\"],[0.1111111111111111,\"#46039f\"],[0.2222222222222222,\"#7201a8\"],[0.3333333333333333,\"#9c179e\"],[0.4444444444444444,\"#bd3786\"],[0.5555555555555556,\"#d8576b\"],[0.6666666666666666,\"#ed7953\"],[0.7777777777777778,\"#fb9f3a\"],[0.8888888888888888,\"#fdca26\"],[1.0,\"#f0f921\"]]}],\"heatmap\":[{\"type\":\"heatmap\",\"colorbar\":{\"outlinewidth\":0,\"ticks\":\"\"},\"colorscale\":[[0.0,\"#0d0887\"],[0.1111111111111111,\"#46039f\"],[0.2222222222222222,\"#7201a8\"],[0.3333333333333333,\"#9c179e\"],[0.4444444444444444,\"#bd3786\"],[0.5555555555555556,\"#d8576b\"],[0.6666666666666666,\"#ed7953\"],[0.7777777777777778,\"#fb9f3a\"],[0.8888888888888888,\"#fdca26\"],[1.0,\"#f0f921\"]]}],\"heatmapgl\":[{\"type\":\"heatmapgl\",\"colorbar\":{\"outlinewidth\":0,\"ticks\":\"\"},\"colorscale\":[[0.0,\"#0d0887\"],[0.1111111111111111,\"#46039f\"],[0.2222222222222222,\"#7201a8\"],[0.3333333333333333,\"#9c179e\"],[0.4444444444444444,\"#bd3786\"],[0.5555555555555556,\"#d8576b\"],[0.6666666666666666,\"#ed7953\"],[0.7777777777777778,\"#fb9f3a\"],[0.8888888888888888,\"#fdca26\"],[1.0,\"#f0f921\"]]}],\"contourcarpet\":[{\"type\":\"contourcarpet\",\"colorbar\":{\"outlinewidth\":0,\"ticks\":\"\"}}],\"contour\":[{\"type\":\"contour\",\"colorbar\":{\"outlinewidth\":0,\"ticks\":\"\"},\"colorscale\":[[0.0,\"#0d0887\"],[0.1111111111111111,\"#46039f\"],[0.2222222222222222,\"#7201a8\"],[0.3333333333333333,\"#9c179e\"],[0.4444444444444444,\"#bd3786\"],[0.5555555555555556,\"#d8576b\"],[0.6666666666666666,\"#ed7953\"],[0.7777777777777778,\"#fb9f3a\"],[0.8888888888888888,\"#fdca26\"],[1.0,\"#f0f921\"]]}],\"surface\":[{\"type\":\"surface\",\"colorbar\":{\"outlinewidth\":0,\"ticks\":\"\"},\"colorscale\":[[0.0,\"#0d0887\"],[0.1111111111111111,\"#46039f\"],[0.2222222222222222,\"#7201a8\"],[0.3333333333333333,\"#9c179e\"],[0.4444444444444444,\"#bd3786\"],[0.5555555555555556,\"#d8576b\"],[0.6666666666666666,\"#ed7953\"],[0.7777777777777778,\"#fb9f3a\"],[0.8888888888888888,\"#fdca26\"],[1.0,\"#f0f921\"]]}],\"mesh3d\":[{\"type\":\"mesh3d\",\"colorbar\":{\"outlinewidth\":0,\"ticks\":\"\"}}],\"scatter\":[{\"fillpattern\":{\"fillmode\":\"overlay\",\"size\":10,\"solidity\":0.2},\"type\":\"scatter\"}],\"parcoords\":[{\"type\":\"parcoords\",\"line\":{\"colorbar\":{\"outlinewidth\":0,\"ticks\":\"\"}}}],\"scatterpolargl\":[{\"type\":\"scatterpolargl\",\"marker\":{\"colorbar\":{\"outlinewidth\":0,\"ticks\":\"\"}}}],\"bar\":[{\"error_x\":{\"color\":\"#2a3f5f\"},\"error_y\":{\"color\":\"#2a3f5f\"},\"marker\":{\"line\":{\"color\":\"#E5ECF6\",\"width\":0.5},\"pattern\":{\"fillmode\":\"overlay\",\"size\":10,\"solidity\":0.2}},\"type\":\"bar\"}],\"scattergeo\":[{\"type\":\"scattergeo\",\"marker\":{\"colorbar\":{\"outlinewidth\":0,\"ticks\":\"\"}}}],\"scatterpolar\":[{\"type\":\"scatterpolar\",\"marker\":{\"colorbar\":{\"outlinewidth\":0,\"ticks\":\"\"}}}],\"histogram\":[{\"marker\":{\"pattern\":{\"fillmode\":\"overlay\",\"size\":10,\"solidity\":0.2}},\"type\":\"histogram\"}],\"scattergl\":[{\"type\":\"scattergl\",\"marker\":{\"colorbar\":{\"outlinewidth\":0,\"ticks\":\"\"}}}],\"scatter3d\":[{\"type\":\"scatter3d\",\"line\":{\"colorbar\":{\"outlinewidth\":0,\"ticks\":\"\"}},\"marker\":{\"colorbar\":{\"outlinewidth\":0,\"ticks\":\"\"}}}],\"scattermapbox\":[{\"type\":\"scattermapbox\",\"marker\":{\"colorbar\":{\"outlinewidth\":0,\"ticks\":\"\"}}}],\"scatterternary\":[{\"type\":\"scatterternary\",\"marker\":{\"colorbar\":{\"outlinewidth\":0,\"ticks\":\"\"}}}],\"scattercarpet\":[{\"type\":\"scattercarpet\",\"marker\":{\"colorbar\":{\"outlinewidth\":0,\"ticks\":\"\"}}}],\"carpet\":[{\"aaxis\":{\"endlinecolor\":\"#2a3f5f\",\"gridcolor\":\"white\",\"linecolor\":\"white\",\"minorgridcolor\":\"white\",\"startlinecolor\":\"#2a3f5f\"},\"baxis\":{\"endlinecolor\":\"#2a3f5f\",\"gridcolor\":\"white\",\"linecolor\":\"white\",\"minorgridcolor\":\"white\",\"startlinecolor\":\"#2a3f5f\"},\"type\":\"carpet\"}],\"table\":[{\"cells\":{\"fill\":{\"color\":\"#EBF0F8\"},\"line\":{\"color\":\"white\"}},\"header\":{\"fill\":{\"color\":\"#C8D4E3\"},\"line\":{\"color\":\"white\"}},\"type\":\"table\"}],\"barpolar\":[{\"marker\":{\"line\":{\"color\":\"#E5ECF6\",\"width\":0.5},\"pattern\":{\"fillmode\":\"overlay\",\"size\":10,\"solidity\":0.2}},\"type\":\"barpolar\"}],\"pie\":[{\"automargin\":true,\"type\":\"pie\"}]},\"layout\":{\"autotypenumbers\":\"strict\",\"colorway\":[\"#636efa\",\"#EF553B\",\"#00cc96\",\"#ab63fa\",\"#FFA15A\",\"#19d3f3\",\"#FF6692\",\"#B6E880\",\"#FF97FF\",\"#FECB52\"],\"font\":{\"color\":\"#2a3f5f\"},\"hovermode\":\"closest\",\"hoverlabel\":{\"align\":\"left\"},\"paper_bgcolor\":\"white\",\"plot_bgcolor\":\"#E5ECF6\",\"polar\":{\"bgcolor\":\"#E5ECF6\",\"angularaxis\":{\"gridcolor\":\"white\",\"linecolor\":\"white\",\"ticks\":\"\"},\"radialaxis\":{\"gridcolor\":\"white\",\"linecolor\":\"white\",\"ticks\":\"\"}},\"ternary\":{\"bgcolor\":\"#E5ECF6\",\"aaxis\":{\"gridcolor\":\"white\",\"linecolor\":\"white\",\"ticks\":\"\"},\"baxis\":{\"gridcolor\":\"white\",\"linecolor\":\"white\",\"ticks\":\"\"},\"caxis\":{\"gridcolor\":\"white\",\"linecolor\":\"white\",\"ticks\":\"\"}},\"coloraxis\":{\"colorbar\":{\"outlinewidth\":0,\"ticks\":\"\"}},\"colorscale\":{\"sequential\":[[0.0,\"#0d0887\"],[0.1111111111111111,\"#46039f\"],[0.2222222222222222,\"#7201a8\"],[0.3333333333333333,\"#9c179e\"],[0.4444444444444444,\"#bd3786\"],[0.5555555555555556,\"#d8576b\"],[0.6666666666666666,\"#ed7953\"],[0.7777777777777778,\"#fb9f3a\"],[0.8888888888888888,\"#fdca26\"],[1.0,\"#f0f921\"]],\"sequentialminus\":[[0.0,\"#0d0887\"],[0.1111111111111111,\"#46039f\"],[0.2222222222222222,\"#7201a8\"],[0.3333333333333333,\"#9c179e\"],[0.4444444444444444,\"#bd3786\"],[0.5555555555555556,\"#d8576b\"],[0.6666666666666666,\"#ed7953\"],[0.7777777777777778,\"#fb9f3a\"],[0.8888888888888888,\"#fdca26\"],[1.0,\"#f0f921\"]],\"diverging\":[[0,\"#8e0152\"],[0.1,\"#c51b7d\"],[0.2,\"#de77ae\"],[0.3,\"#f1b6da\"],[0.4,\"#fde0ef\"],[0.5,\"#f7f7f7\"],[0.6,\"#e6f5d0\"],[0.7,\"#b8e186\"],[0.8,\"#7fbc41\"],[0.9,\"#4d9221\"],[1,\"#276419\"]]},\"xaxis\":{\"gridcolor\":\"white\",\"linecolor\":\"white\",\"ticks\":\"\",\"title\":{\"standoff\":15},\"zerolinecolor\":\"white\",\"automargin\":true,\"zerolinewidth\":2},\"yaxis\":{\"gridcolor\":\"white\",\"linecolor\":\"white\",\"ticks\":\"\",\"title\":{\"standoff\":15},\"zerolinecolor\":\"white\",\"automargin\":true,\"zerolinewidth\":2},\"scene\":{\"xaxis\":{\"backgroundcolor\":\"#E5ECF6\",\"gridcolor\":\"white\",\"linecolor\":\"white\",\"showbackground\":true,\"ticks\":\"\",\"zerolinecolor\":\"white\",\"gridwidth\":2},\"yaxis\":{\"backgroundcolor\":\"#E5ECF6\",\"gridcolor\":\"white\",\"linecolor\":\"white\",\"showbackground\":true,\"ticks\":\"\",\"zerolinecolor\":\"white\",\"gridwidth\":2},\"zaxis\":{\"backgroundcolor\":\"#E5ECF6\",\"gridcolor\":\"white\",\"linecolor\":\"white\",\"showbackground\":true,\"ticks\":\"\",\"zerolinecolor\":\"white\",\"gridwidth\":2}},\"shapedefaults\":{\"line\":{\"color\":\"#2a3f5f\"}},\"annotationdefaults\":{\"arrowcolor\":\"#2a3f5f\",\"arrowhead\":0,\"arrowwidth\":1},\"geo\":{\"bgcolor\":\"white\",\"landcolor\":\"#E5ECF6\",\"subunitcolor\":\"white\",\"showland\":true,\"showlakes\":true,\"lakecolor\":\"white\"},\"title\":{\"x\":0.05},\"mapbox\":{\"style\":\"light\"}}},\"xaxis\":{\"anchor\":\"y\",\"domain\":[0.0,1.0],\"type\":\"date\"},\"yaxis\":{\"anchor\":\"x\",\"domain\":[0.0,1.0],\"title\":{\"text\":\"Задача\"},\"autorange\":\"reversed\"},\"coloraxis\":{\"colorbar\":{\"title\":{\"text\":\"ID\"}},\"colorscale\":[[0.0,\"#0d0887\"],[0.1111111111111111,\"#46039f\"],[0.2222222222222222,\"#7201a8\"],[0.3333333333333333,\"#9c179e\"],[0.4444444444444444,\"#bd3786\"],[0.5555555555555556,\"#d8576b\"],[0.6666666666666666,\"#ed7953\"],[0.7777777777777778,\"#fb9f3a\"],[0.8888888888888888,\"#fdca26\"],[1.0,\"#f0f921\"]]},\"legend\":{\"tracegroupgap\":0},\"title\":{\"text\":\"Диаграмма Ганта для проекта автоматизированной микрофермы\"},\"barmode\":\"overlay\"},                        {\"responsive\": true}                    ).then(function(){\n",
              "                            \n",
              "var gd = document.getElementById('b2c9df9a-98fd-42ea-bb3e-f19e4dba7fcc');\n",
              "var x = new MutationObserver(function (mutations, observer) {{\n",
              "        var display = window.getComputedStyle(gd).display;\n",
              "        if (!display || display === 'none') {{\n",
              "            console.log([gd, 'removed!']);\n",
              "            Plotly.purge(gd);\n",
              "            observer.disconnect();\n",
              "        }}\n",
              "}});\n",
              "\n",
              "// Listen for the removal of the full notebook cells\n",
              "var notebookContainer = gd.closest('#notebook-container');\n",
              "if (notebookContainer) {{\n",
              "    x.observe(notebookContainer, {childList: true});\n",
              "}}\n",
              "\n",
              "// Listen for the clearing of the current output cell\n",
              "var outputEl = gd.closest('.output');\n",
              "if (outputEl) {{\n",
              "    x.observe(outputEl, {childList: true});\n",
              "}}\n",
              "\n",
              "                        })                };                            </script>        </div>\n",
              "</body>\n",
              "</html>"
            ]
          },
          "metadata": {}
        }
      ]
    },
    {
      "cell_type": "markdown",
      "source": [
        "\n",
        "\n",
        "| ID | Задача | Длительность (дни) | Предшественники | Начало | Окончание |\n",
        "|----|--------|-------------------|----------------|--------|-----------|\n",
        "| 1 | **Анализ и планирование** | **15** | | **15.03.2025** | **29.03.2025** |\n",
        "| 1.1 | Анализ требований | 5 | - | 15.03.2025 | 19.03.2025 |\n",
        "| 1.2 | Изучение предметной области (микрофермы) | 5 | - | 15.03.2025 | 19.03.2025 |\n",
        "| 1.3 | Формирование технического задания | 5 | 1.1, 1.2 | 20.03.2025 | 24.03.2025 |\n",
        "| 1.4 | Планирование архитектуры системы | 5 | 1.3 | 25.03.2025 | 29.03.2025 |\n",
        "| 2 | **Проектирование системы** | **15** | | **30.03.2025** | **14.04.2025** |\n",
        "| 2.1 | Проектирование базы данных | 5 | 1.4 | 30.03.2025 | 03.04.2025 |\n",
        "| 2.2 | Проектирование интерфейса мобильного приложения | 5 | 1.4 | 30.03.2025 | 03.04.2025 |\n",
        "| 2.3 | Проектирование логики взаимодействия с Arduino | 5 | 2.1 | 05.04.2025 | 01.03.2025 |\n",
        "| 2.4 | \tПроектирование системы уведомлений | 5 | 2.3 | 10.04.2025 | 14.04.2025 |\n",
        "| 3 | **Разработка** | **30** | | **15.04.2025** | **14.05.2025** |\n",
        "| 3.1 | Настройка и создание базы данных | 5 | 2.1 | 15.04.2025 | 19.04.2025 |\n",
        "| 3.2 | Разработка взаимодействия с Arduino | 5 | 2.3 | 20.04.2025 | 24.04.2025 |\n",
        "| 3.3 | Разработка мобильного приложения | 10 | 3.2 | 25.04.2025 | 04.05.2025 |\n",
        "| 3.4 | Интеграция и тестирование | 10 | 3.1, 3.2, 3.3 | 05.05.2025 | 14.05.2025 |\n",
        "| 4 | **Заключительный этап** | **17** | | **15.05.2025** | **31.05.2025** |\n",
        "| 4.1 | Подготовка презентации и документации | 5 | 3.4 | 15.05.2025 | 19.05.2025 |\n",
        "| 4.2 | Оформление дипломной работы | 12 | 4.1 | 20.05.2025 | 31.05.2025 |\n",
        "\n"
      ],
      "metadata": {
        "id": "qJytRMTJTuvB"
      }
    },
    {
      "cell_type": "markdown",
      "source": [
        "**Критический путь:** 1.1 → 1.2 → 1.3 → 1.4 → 2.1 → 2.2 → 2.3 → 2.4 → 3.1 → 3.2 → 3.3 → 3.4 → 4.1 → 4.2\n"
      ],
      "metadata": {
        "id": "lT1Agbl6ntq8"
      }
    },
    {
      "cell_type": "markdown",
      "source": [
        "ТАБЛИЦА РИСКОВ"
      ],
      "metadata": {
        "id": "dFsPOkrBpWfv"
      }
    },
    {
      "cell_type": "markdown",
      "source": [
        "| ID | Риск | Вероятность | Влияние | Рейтинг | Стратегия реагирования | Превентивные меры |\n",
        "|----|------|-------------|---------|---------|------------------------|-------------------|\n",
        "| R1 | Проблемы с настройкой Wi-Fi модуля Arduino | Средняя | Высокое | Критический | Снижение | • Изучение документации<br>• Предварительное тестирование модуля<br>• Подготовка альтернативного варианта подключения |\n",
        "| R2 | Недостаток времени на реализацию отдельных модулей | Средняя | Высокое | Критический | Снижение | • Приоритизация задач<br>• Гибкое планирование<br>• Использование MVP-подхода |\n",
        "| R3 | Ошибки в передаче данных между Arduino и приложением | Средняя | Среднее | Высокий | Снижение | • Модульное тестирование<br>• Логирование данных<br>• Проверка на стабильность соединения |\n",
        "| R4 | Проблемы с отображением данных в приложении | Низкая | Среднее | Средний | Снижение | • Использование готовых UI-компонентов<br>• Проверка корректности отображения данных<br>• Тестирование интерфейса |\n",
        "| R5 | Потеря данных при отключении питания | Низкая | Среднее | Средний | Избежание | • Реализация автосохранения данных<br>• Использование энергонезависимой памяти на Arduino |\n",
        "| R6 | Сложности при защите диплома (неработающая часть проекта) | Средняя | Высокое | Высокий | Снижение | • Подготовка демонстрационного видео<br>• Наличие резервного варианта презентации<br>• Тестирование проекта перед защитой |\n"
      ],
      "metadata": {
        "id": "3uRuEW3MoMfn"
      }
    },
    {
      "cell_type": "markdown",
      "source": [
        "| № | Контрольная точка | Критерии готовности | Дата |\n",
        "|---|------------------|---------------------|------|\n",
        "| 1 | Утверждение темы и целей проекта | Описание темы и целей проекта согласовано с научным руководителем | 15 марта 2025 |\n",
        "| 2 | Разработка архитектуры системы | Подготовлена схема архитектуры, определены основные модули и их взаимодействие | 25 марта 2025 |\n",
        "| 3 | Реализация взаимодействия Arduino и приложения | Настроена передача данных с датчиков в приложение, данные корректно отображаются | 10 апреля 2025 |\n",
        "| 4 | Реализация пользовательского интерфейса приложения | Готов основной UI, реализован базовый функционал приложения | 20 апреля 2025 |\n",
        "| 5 | Проведение тестирования системы | Проведено тестирование всех модулей, исправлены критические ошибки | 10 мая 2025 |\n",
        "| 6 | Подготовка демонстрации проекта | Подготовлено видео демонстрации работы системы, оформлена презентация | 20 мая 2025 |\n",
        "| 7 | Завершение работы над проектом | Полностью готовый и протестированный проект, оформлена пояснительная записка | 25 мая 2025 |\n"
      ],
      "metadata": {
        "id": "dLRh_ittqSgH"
      }
    },
    {
      "cell_type": "markdown",
      "source": [
        "Пояснительная записка\n",
        "В ходе выполнения задания был разработан календарный план проекта на тему «Разработка мобильного приложения для мониторинга и управления параметрами микрофермы».\n",
        "\n",
        "Целью проекта является создание системы, которая позволит пользователю осуществлять мониторинг показателей микрофермы (таких как температура, влажность, уровень освещения) и дистанционно управлять её параметрами через мобильное приложение. Передача данных будет осуществляться с использованием Wi-Fi, что позволяет повысить удобство и стабильность соединения по сравнению с другими способами передачи данных, например, Bluetooth.\n",
        "\n",
        "В процессе построения календарного плана были определены основные этапы проекта, их длительность, а также логические зависимости между задачами. Все работы были сгруппированы по основным этапам жизненного цикла проекта: анализ и планирование, проектирование системы, разработка и тестирование, внедрение и завершение проекта.\n",
        "\n",
        "Календарный план проекта был визуализирован с помощью диаграммы Ганта, что позволило наглядно отобразить продолжительность и взаимосвязь всех задач проекта. Началом проекта выбрана дата 15 марта 2025 года, а завершение работ запланировано на конец мая 2025 года.\n",
        "\n",
        "Также в рамках работы был проведён анализ рисков проекта. Были выявлены возможные угрозы, такие как технические ошибки при разработке, недостаточная стабильность передачи данных, проблемы при интеграции системы или некорректная работа сенсоров. Для каждого риска была определена вероятность возникновения, влияние на проект и меры по их минимизации.\n",
        "\n",
        "Для эффективного контроля за ходом реализации проекта были определены ключевые контрольные точки: завершение этапа анализа и планирования, завершение проектирования системы, окончание этапа разработки и тестирования, а также внедрение и финальная проверка работоспособности приложения.\n",
        "\n",
        "Разработанный календарный план и проведённый анализ рисков позволяют более эффективно организовать процесс реализации проекта и минимизировать возможные угрозы."
      ],
      "metadata": {
        "id": "Ooxw1bB2vZhl"
      }
    }
  ]
}